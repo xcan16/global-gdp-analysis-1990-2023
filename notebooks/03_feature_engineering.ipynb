{
 "cells": [
  {
   "cell_type": "markdown",
   "id": "5378293e",
   "metadata": {},
   "source": [
    "# 🔧 Feature Engineering: GDP Per Capita Analysis (1990-2023)\n",
    "\n",
    "**Author**: Portfolio Project for Global Analysis  \n",
    "**Dataset**: World Bank GDP Per Capita Data (1990-2023)  \n",
    "**Objective**: Create advanced features for economic analysis including growth rates, volatility measures, and economic cycle indicators\n",
    "\n",
    "---\n",
    "\n",
    "## 📋 Feature Engineering Plan\n",
    "\n",
    "1. **Growth Rate Analysis** - YoY, compound annual growth rates\n",
    "2. **Moving Averages & Trends** - 3, 5, 10-year moving averages\n",
    "3. **Volatility Measures** - Standard deviation, coefficient of variation\n",
    "4. **Economic Cycles** - Recession detection, recovery periods\n",
    "5. **Relative Performance** - Country vs world average\n",
    "6. **Advanced Metrics** - GDP momentum, acceleration indicators"
   ]
  },
  {
   "cell_type": "code",
   "execution_count": 20,
   "id": "d0aff76d",
   "metadata": {},
   "outputs": [
    {
     "name": "stdout",
     "output_type": "stream",
     "text": [
      "✅ Libraries imported successfully!\n",
      "📊 Pandas version: 2.3.2\n",
      "🔢 NumPy version: 2.3.3\n"
     ]
    }
   ],
   "source": [
    "# Import Required Libraries\n",
    "import pandas as pd\n",
    "import numpy as np\n",
    "import matplotlib.pyplot as plt\n",
    "import seaborn as sns\n",
    "import plotly.express as px\n",
    "import plotly.graph_objects as go\n",
    "from plotly.subplots import make_subplots\n",
    "import warnings\n",
    "warnings.filterwarnings('ignore')\n",
    "\n",
    "# Set style for visualizations\n",
    "plt.style.use('seaborn-v0_8')\n",
    "sns.set_palette(\"husl\")\n",
    "\n",
    "# Display settings\n",
    "pd.set_option('display.max_columns', None)\n",
    "pd.set_option('display.max_rows', 100)\n",
    "\n",
    "print(\"✅ Libraries imported successfully!\")\n",
    "print(f\"📊 Pandas version: {pd.__version__}\")\n",
    "print(f\"🔢 NumPy version: {np.__version__}\")"
   ]
  },
  {
   "cell_type": "markdown",
   "id": "67d86e3c",
   "metadata": {},
   "source": [
    "## 📁 Data Loading and Preparation"
   ]
  },
  {
   "cell_type": "code",
   "execution_count": 21,
   "id": "1f918e6d",
   "metadata": {},
   "outputs": [
    {
     "name": "stdout",
     "output_type": "stream",
     "text": [
      "📈 Dataset shape: (7063, 5)\n",
      "📅 Year range: 1990 - 2023\n",
      "🌍 Number of countries: 213\n",
      "🌎 Countries with continent mapping: 6160\n"
     ]
    }
   ],
   "source": [
    "# Load the dataset\n",
    "df = pd.read_csv('../data/gdp-per-capita-worldbank.csv')\n",
    "\n",
    "# Add continent mapping\n",
    "import sys\n",
    "sys.path.append('../src')\n",
    "from utils import get_continent_mapping\n",
    "\n",
    "continent_mapping = get_continent_mapping()\n",
    "df['Continent'] = df['Entity'].map(continent_mapping)\n",
    "\n",
    "# Basic info\n",
    "gdp_column = 'GDP per capita, PPP (constant 2021 international $)'\n",
    "print(f\"📈 Dataset shape: {df.shape}\")\n",
    "print(f\"📅 Year range: {df['Year'].min()} - {df['Year'].max()}\")\n",
    "print(f\"🌍 Number of countries: {df['Entity'].nunique()}\")\n",
    "print(f\"🌎 Countries with continent mapping: {df['Continent'].notna().sum()}\")"
   ]
  },
  {
   "cell_type": "code",
   "execution_count": 22,
   "id": "73df5bc2",
   "metadata": {},
   "outputs": [
    {
     "name": "stdout",
     "output_type": "stream",
     "text": [
      "🔍 Column names:\n",
      "['Entity', 'Code', 'Year', 'GDP per capita, PPP (constant 2021 international $)', 'Continent']\n",
      "\n",
      "💰 GDP column being used: 'GDP per capita, PPP (constant 2021 international $)'\n"
     ]
    }
   ],
   "source": [
    "# Check the exact column names\n",
    "print(\"🔍 Column names:\")\n",
    "print(df.columns.tolist())\n",
    "print(f\"\\n💰 GDP column being used: '{gdp_column}'\")"
   ]
  },
  {
   "cell_type": "markdown",
   "id": "f21c314f",
   "metadata": {},
   "source": [
    "## 🚀 Feature Engineering Implementation\n",
    "\n",
    "### 1. Growth Rate Features"
   ]
  },
  {
   "cell_type": "code",
   "execution_count": 23,
   "id": "796ea7b4",
   "metadata": {},
   "outputs": [
    {
     "name": "stdout",
     "output_type": "stream",
     "text": [
      "✅ Growth rate features calculated!\n",
      "📊 New features added: yoy_growth, growth_3y, growth_5y, growth_10y, cagr_5y\n",
      "📈 Sample data shape: (7063, 10)\n",
      "\n",
      "📋 Sample growth features for United States (last 10 years):\n",
      "      Year  GDP per capita, PPP (constant 2021 international $)  yoy_growth  \\\n",
      "6760  2014                                           63191.25          1.77   \n",
      "6761  2015                                           64575.41          2.19   \n",
      "6762  2016                                           65275.57          1.08   \n",
      "6763  2017                                           66458.02          1.81   \n",
      "6764  2018                                           68070.21          2.43   \n",
      "6765  2019                                           69511.77          2.12   \n",
      "6766  2020                                           67352.39         -3.11   \n",
      "6767  2021                                           71318.30          5.89   \n",
      "6768  2022                                           72841.92          2.14   \n",
      "6769  2023                                           74577.51          2.38   \n",
      "\n",
      "      growth_5y  cagr_5y  \n",
      "6760       7.62     1.48  \n",
      "6761       7.99     1.55  \n",
      "6762       8.26     1.60  \n",
      "6763       8.55     1.65  \n",
      "6764       9.63     1.86  \n",
      "6765      10.00     1.92  \n",
      "6766       4.30     0.85  \n",
      "6767       9.26     1.79  \n",
      "6768       9.61     1.85  \n",
      "6769       9.56     1.84  \n"
     ]
    }
   ],
   "source": [
    "def calculate_growth_features(df, entity_col='Entity', year_col='Year', value_col=None):\n",
    "    \"\"\"\n",
    "    Calculate various growth rate features for time series data\n",
    "    \"\"\"\n",
    "    if value_col is None:\n",
    "        value_col = gdp_column\n",
    "    \n",
    "    df_features = df.copy()\n",
    "    df_features = df_features.sort_values([entity_col, year_col])\n",
    "    \n",
    "    # Year-over-Year Growth Rate\n",
    "    df_features['yoy_growth'] = df_features.groupby(entity_col)[value_col].pct_change() * 100\n",
    "    \n",
    "    # 3-Year Growth Rate\n",
    "    df_features['growth_3y'] = df_features.groupby(entity_col)[value_col].pct_change(periods=3) * 100\n",
    "    \n",
    "    # 5-Year Growth Rate\n",
    "    df_features['growth_5y'] = df_features.groupby(entity_col)[value_col].pct_change(periods=5) * 100\n",
    "    \n",
    "    # 10-Year Growth Rate\n",
    "    df_features['growth_10y'] = df_features.groupby(entity_col)[value_col].pct_change(periods=10) * 100\n",
    "    \n",
    "    # Simplified CAGR calculation\n",
    "    def calculate_cagr_simple(group, periods=5):\n",
    "        cagr_values = []\n",
    "        for i in range(len(group)):\n",
    "            if i < periods:\n",
    "                cagr_values.append(np.nan)\n",
    "            else:\n",
    "                start_value = group.iloc[i - periods]\n",
    "                end_value = group.iloc[i]\n",
    "                if start_value > 0 and end_value > 0:\n",
    "                    cagr = ((end_value / start_value) ** (1/periods) - 1) * 100\n",
    "                    cagr_values.append(cagr)\n",
    "                else:\n",
    "                    cagr_values.append(np.nan)\n",
    "        return cagr_values\n",
    "    \n",
    "    # Apply CAGR calculation by group\n",
    "    cagr_results = []\n",
    "    for entity in df_features[entity_col].unique():\n",
    "        entity_data = df_features[df_features[entity_col] == entity].copy()\n",
    "        entity_data = entity_data.sort_values(year_col)\n",
    "        cagr_vals = calculate_cagr_simple(entity_data[value_col], periods=5)\n",
    "        \n",
    "        for idx, val in zip(entity_data.index, cagr_vals):\n",
    "            cagr_results.append({'index': idx, 'cagr_5y': val})\n",
    "    \n",
    "    # Create CAGR dataframe and merge\n",
    "    cagr_df = pd.DataFrame(cagr_results).set_index('index')\n",
    "    df_features['cagr_5y'] = cagr_df['cagr_5y']\n",
    "    \n",
    "    return df_features\n",
    "\n",
    "# Apply growth feature calculation\n",
    "df_with_growth = calculate_growth_features(df)\n",
    "\n",
    "print(\"✅ Growth rate features calculated!\")\n",
    "print(f\"📊 New features added: yoy_growth, growth_3y, growth_5y, growth_10y, cagr_5y\")\n",
    "print(f\"📈 Sample data shape: {df_with_growth.shape}\")\n",
    "\n",
    "# Display sample\n",
    "sample_country = 'United States'\n",
    "sample_data = df_with_growth[df_with_growth['Entity'] == sample_country].tail(10)\n",
    "print(f\"\\n📋 Sample growth features for {sample_country} (last 10 years):\")\n",
    "display_cols = ['Year', gdp_column, 'yoy_growth', 'growth_5y', 'cagr_5y']\n",
    "print(sample_data[display_cols].round(2))"
   ]
  },
  {
   "cell_type": "markdown",
   "id": "d12bce49",
   "metadata": {},
   "source": [
    "### 2. Moving Averages and Trend Features"
   ]
  },
  {
   "cell_type": "code",
   "execution_count": 24,
   "id": "b61157e0",
   "metadata": {},
   "outputs": [
    {
     "name": "stdout",
     "output_type": "stream",
     "text": [
      "✅ Trend features calculated!\n",
      "📊 New features: ma_3y, ma_5y, ma_10y, trend_vs_ma3, trend_vs_ma5, trend_vs_ma10, ma5_slope\n"
     ]
    },
    {
     "data": {
      "application/vnd.plotly.v1+json": {
       "config": {
        "plotlyServerURL": "https://plot.ly"
       },
       "data": [
        {
         "line": {
          "color": "#2E86AB",
          "width": 3
         },
         "mode": "lines+markers",
         "name": "GDP Per Capita",
         "type": "scatter",
         "x": {
          "bdata": "0AfRB9IH0wfUB9UH1gfXB9gH2QfaB9sH3AfdB94H3wfgB+EH4gfjB+QH5QfmB+cH",
          "dtype": "i2"
         },
         "y": {
          "bdata": "ppvEIEiR6EAUrkfhdu3oQLpJDAIz1OhATDeJQQSv6EBvEoPA2vnoQHWTGAQmNulA3SQGgZE26kBaZDvfvwHrQD0K16P4TetAKVyPwh3b6UAxCKwcKvjqQKRwPQqngexAMzMzM4OW7ECamZmZwZ7sQClcj8KRHu1A8tJNYnRY7UAGgZVDD8ftQJHtfD/leO5A3SQGgVG47kBmZmZmHvTuQPp+arxoqe1A3SQGgcG87kBI4XoUPu/uQK5H4XpEC+9A",
          "dtype": "f8"
         }
        },
        {
         "line": {
          "color": "#A23B72",
          "dash": "dash",
          "width": 2
         },
         "mode": "lines",
         "name": "5-Year Moving Average",
         "type": "scatter",
         "x": {
          "bdata": "0AfRB9IH0wfUB9UH1gfXB9gH2QfaB9sH3AfdB94H3wfgB+EH4gfjB+QH5QfmB+cH",
          "dtype": "i2"
         },
         "y": {
          "bdata": "IUHxY0x850DOO07RLfXnQP2H9NtLVehAnYAmwoaV6EA9LNSa9svoQMxdS8jv7OhAW0I+6MEu6UCuR+F6RJ7pQKs+V1t1JOpAnYAmwoJR6kD2l92Tg6vqQB2n6EjuIOtASp2AJuJx60D2udqKPbXrQCrtDb5UXOxAG3xhMv3V7EAwTKYKEhftQHZxGw2Md+1AHVpkOw/j7UCQwvUo+EDuQF1LyAcpUe5AVp+rrUyC7kBGA3gL+JnuQKNwPQqPqu5A",
          "dtype": "f8"
         }
        },
        {
         "line": {
          "color": "#F18F01",
          "dash": "dot",
          "width": 2
         },
         "mode": "lines",
         "name": "10-Year Moving Average",
         "type": "scatter",
         "x": {
          "bdata": "0AfRB9IH0wfUB9UH1gfXB9gH2QfaB9sH3AfdB94H3wfgB+EH4gfjB+QH5QfmB+cH",
          "dtype": "i2"
         },
         "y": {
          "bdata": "iGNd3AK85kBnRGlvxA3nQLmNBvAWVudAcPCFydSj50Dbiv1loeznQHZPHhaeNOhAFD/G3PeR6EDW52oryPnoQKXfvg7+XOlAbVZ9rryO6UDiehSuOczpQL10kxjYJ+pAe/KwUBOI6kBQ/Bhz2ezqQOM2GsDrVutACoofY8DA60CmeccpABzsQGAHzhm3dOxACIofYybM7EDd14Fzpk7tQL3jFB2Tk+1AwvUoXK/M7UBeukkMwgjuQGLl0CLPRu5A",
          "dtype": "f8"
         }
        }
       ],
       "layout": {
        "height": 500,
        "hovermode": "x unified",
        "template": {
         "data": {
          "bar": [
           {
            "error_x": {
             "color": "#2a3f5f"
            },
            "error_y": {
             "color": "#2a3f5f"
            },
            "marker": {
             "line": {
              "color": "#E5ECF6",
              "width": 0.5
             },
             "pattern": {
              "fillmode": "overlay",
              "size": 10,
              "solidity": 0.2
             }
            },
            "type": "bar"
           }
          ],
          "barpolar": [
           {
            "marker": {
             "line": {
              "color": "#E5ECF6",
              "width": 0.5
             },
             "pattern": {
              "fillmode": "overlay",
              "size": 10,
              "solidity": 0.2
             }
            },
            "type": "barpolar"
           }
          ],
          "carpet": [
           {
            "aaxis": {
             "endlinecolor": "#2a3f5f",
             "gridcolor": "white",
             "linecolor": "white",
             "minorgridcolor": "white",
             "startlinecolor": "#2a3f5f"
            },
            "baxis": {
             "endlinecolor": "#2a3f5f",
             "gridcolor": "white",
             "linecolor": "white",
             "minorgridcolor": "white",
             "startlinecolor": "#2a3f5f"
            },
            "type": "carpet"
           }
          ],
          "choropleth": [
           {
            "colorbar": {
             "outlinewidth": 0,
             "ticks": ""
            },
            "type": "choropleth"
           }
          ],
          "contour": [
           {
            "colorbar": {
             "outlinewidth": 0,
             "ticks": ""
            },
            "colorscale": [
             [
              0,
              "#0d0887"
             ],
             [
              0.1111111111111111,
              "#46039f"
             ],
             [
              0.2222222222222222,
              "#7201a8"
             ],
             [
              0.3333333333333333,
              "#9c179e"
             ],
             [
              0.4444444444444444,
              "#bd3786"
             ],
             [
              0.5555555555555556,
              "#d8576b"
             ],
             [
              0.6666666666666666,
              "#ed7953"
             ],
             [
              0.7777777777777778,
              "#fb9f3a"
             ],
             [
              0.8888888888888888,
              "#fdca26"
             ],
             [
              1,
              "#f0f921"
             ]
            ],
            "type": "contour"
           }
          ],
          "contourcarpet": [
           {
            "colorbar": {
             "outlinewidth": 0,
             "ticks": ""
            },
            "type": "contourcarpet"
           }
          ],
          "heatmap": [
           {
            "colorbar": {
             "outlinewidth": 0,
             "ticks": ""
            },
            "colorscale": [
             [
              0,
              "#0d0887"
             ],
             [
              0.1111111111111111,
              "#46039f"
             ],
             [
              0.2222222222222222,
              "#7201a8"
             ],
             [
              0.3333333333333333,
              "#9c179e"
             ],
             [
              0.4444444444444444,
              "#bd3786"
             ],
             [
              0.5555555555555556,
              "#d8576b"
             ],
             [
              0.6666666666666666,
              "#ed7953"
             ],
             [
              0.7777777777777778,
              "#fb9f3a"
             ],
             [
              0.8888888888888888,
              "#fdca26"
             ],
             [
              1,
              "#f0f921"
             ]
            ],
            "type": "heatmap"
           }
          ],
          "histogram": [
           {
            "marker": {
             "pattern": {
              "fillmode": "overlay",
              "size": 10,
              "solidity": 0.2
             }
            },
            "type": "histogram"
           }
          ],
          "histogram2d": [
           {
            "colorbar": {
             "outlinewidth": 0,
             "ticks": ""
            },
            "colorscale": [
             [
              0,
              "#0d0887"
             ],
             [
              0.1111111111111111,
              "#46039f"
             ],
             [
              0.2222222222222222,
              "#7201a8"
             ],
             [
              0.3333333333333333,
              "#9c179e"
             ],
             [
              0.4444444444444444,
              "#bd3786"
             ],
             [
              0.5555555555555556,
              "#d8576b"
             ],
             [
              0.6666666666666666,
              "#ed7953"
             ],
             [
              0.7777777777777778,
              "#fb9f3a"
             ],
             [
              0.8888888888888888,
              "#fdca26"
             ],
             [
              1,
              "#f0f921"
             ]
            ],
            "type": "histogram2d"
           }
          ],
          "histogram2dcontour": [
           {
            "colorbar": {
             "outlinewidth": 0,
             "ticks": ""
            },
            "colorscale": [
             [
              0,
              "#0d0887"
             ],
             [
              0.1111111111111111,
              "#46039f"
             ],
             [
              0.2222222222222222,
              "#7201a8"
             ],
             [
              0.3333333333333333,
              "#9c179e"
             ],
             [
              0.4444444444444444,
              "#bd3786"
             ],
             [
              0.5555555555555556,
              "#d8576b"
             ],
             [
              0.6666666666666666,
              "#ed7953"
             ],
             [
              0.7777777777777778,
              "#fb9f3a"
             ],
             [
              0.8888888888888888,
              "#fdca26"
             ],
             [
              1,
              "#f0f921"
             ]
            ],
            "type": "histogram2dcontour"
           }
          ],
          "mesh3d": [
           {
            "colorbar": {
             "outlinewidth": 0,
             "ticks": ""
            },
            "type": "mesh3d"
           }
          ],
          "parcoords": [
           {
            "line": {
             "colorbar": {
              "outlinewidth": 0,
              "ticks": ""
             }
            },
            "type": "parcoords"
           }
          ],
          "pie": [
           {
            "automargin": true,
            "type": "pie"
           }
          ],
          "scatter": [
           {
            "fillpattern": {
             "fillmode": "overlay",
             "size": 10,
             "solidity": 0.2
            },
            "type": "scatter"
           }
          ],
          "scatter3d": [
           {
            "line": {
             "colorbar": {
              "outlinewidth": 0,
              "ticks": ""
             }
            },
            "marker": {
             "colorbar": {
              "outlinewidth": 0,
              "ticks": ""
             }
            },
            "type": "scatter3d"
           }
          ],
          "scattercarpet": [
           {
            "marker": {
             "colorbar": {
              "outlinewidth": 0,
              "ticks": ""
             }
            },
            "type": "scattercarpet"
           }
          ],
          "scattergeo": [
           {
            "marker": {
             "colorbar": {
              "outlinewidth": 0,
              "ticks": ""
             }
            },
            "type": "scattergeo"
           }
          ],
          "scattergl": [
           {
            "marker": {
             "colorbar": {
              "outlinewidth": 0,
              "ticks": ""
             }
            },
            "type": "scattergl"
           }
          ],
          "scattermap": [
           {
            "marker": {
             "colorbar": {
              "outlinewidth": 0,
              "ticks": ""
             }
            },
            "type": "scattermap"
           }
          ],
          "scattermapbox": [
           {
            "marker": {
             "colorbar": {
              "outlinewidth": 0,
              "ticks": ""
             }
            },
            "type": "scattermapbox"
           }
          ],
          "scatterpolar": [
           {
            "marker": {
             "colorbar": {
              "outlinewidth": 0,
              "ticks": ""
             }
            },
            "type": "scatterpolar"
           }
          ],
          "scatterpolargl": [
           {
            "marker": {
             "colorbar": {
              "outlinewidth": 0,
              "ticks": ""
             }
            },
            "type": "scatterpolargl"
           }
          ],
          "scatterternary": [
           {
            "marker": {
             "colorbar": {
              "outlinewidth": 0,
              "ticks": ""
             }
            },
            "type": "scatterternary"
           }
          ],
          "surface": [
           {
            "colorbar": {
             "outlinewidth": 0,
             "ticks": ""
            },
            "colorscale": [
             [
              0,
              "#0d0887"
             ],
             [
              0.1111111111111111,
              "#46039f"
             ],
             [
              0.2222222222222222,
              "#7201a8"
             ],
             [
              0.3333333333333333,
              "#9c179e"
             ],
             [
              0.4444444444444444,
              "#bd3786"
             ],
             [
              0.5555555555555556,
              "#d8576b"
             ],
             [
              0.6666666666666666,
              "#ed7953"
             ],
             [
              0.7777777777777778,
              "#fb9f3a"
             ],
             [
              0.8888888888888888,
              "#fdca26"
             ],
             [
              1,
              "#f0f921"
             ]
            ],
            "type": "surface"
           }
          ],
          "table": [
           {
            "cells": {
             "fill": {
              "color": "#EBF0F8"
             },
             "line": {
              "color": "white"
             }
            },
            "header": {
             "fill": {
              "color": "#C8D4E3"
             },
             "line": {
              "color": "white"
             }
            },
            "type": "table"
           }
          ]
         },
         "layout": {
          "annotationdefaults": {
           "arrowcolor": "#2a3f5f",
           "arrowhead": 0,
           "arrowwidth": 1
          },
          "autotypenumbers": "strict",
          "coloraxis": {
           "colorbar": {
            "outlinewidth": 0,
            "ticks": ""
           }
          },
          "colorscale": {
           "diverging": [
            [
             0,
             "#8e0152"
            ],
            [
             0.1,
             "#c51b7d"
            ],
            [
             0.2,
             "#de77ae"
            ],
            [
             0.3,
             "#f1b6da"
            ],
            [
             0.4,
             "#fde0ef"
            ],
            [
             0.5,
             "#f7f7f7"
            ],
            [
             0.6,
             "#e6f5d0"
            ],
            [
             0.7,
             "#b8e186"
            ],
            [
             0.8,
             "#7fbc41"
            ],
            [
             0.9,
             "#4d9221"
            ],
            [
             1,
             "#276419"
            ]
           ],
           "sequential": [
            [
             0,
             "#0d0887"
            ],
            [
             0.1111111111111111,
             "#46039f"
            ],
            [
             0.2222222222222222,
             "#7201a8"
            ],
            [
             0.3333333333333333,
             "#9c179e"
            ],
            [
             0.4444444444444444,
             "#bd3786"
            ],
            [
             0.5555555555555556,
             "#d8576b"
            ],
            [
             0.6666666666666666,
             "#ed7953"
            ],
            [
             0.7777777777777778,
             "#fb9f3a"
            ],
            [
             0.8888888888888888,
             "#fdca26"
            ],
            [
             1,
             "#f0f921"
            ]
           ],
           "sequentialminus": [
            [
             0,
             "#0d0887"
            ],
            [
             0.1111111111111111,
             "#46039f"
            ],
            [
             0.2222222222222222,
             "#7201a8"
            ],
            [
             0.3333333333333333,
             "#9c179e"
            ],
            [
             0.4444444444444444,
             "#bd3786"
            ],
            [
             0.5555555555555556,
             "#d8576b"
            ],
            [
             0.6666666666666666,
             "#ed7953"
            ],
            [
             0.7777777777777778,
             "#fb9f3a"
            ],
            [
             0.8888888888888888,
             "#fdca26"
            ],
            [
             1,
             "#f0f921"
            ]
           ]
          },
          "colorway": [
           "#636efa",
           "#EF553B",
           "#00cc96",
           "#ab63fa",
           "#FFA15A",
           "#19d3f3",
           "#FF6692",
           "#B6E880",
           "#FF97FF",
           "#FECB52"
          ],
          "font": {
           "color": "#2a3f5f"
          },
          "geo": {
           "bgcolor": "white",
           "lakecolor": "white",
           "landcolor": "#E5ECF6",
           "showlakes": true,
           "showland": true,
           "subunitcolor": "white"
          },
          "hoverlabel": {
           "align": "left"
          },
          "hovermode": "closest",
          "mapbox": {
           "style": "light"
          },
          "paper_bgcolor": "white",
          "plot_bgcolor": "#E5ECF6",
          "polar": {
           "angularaxis": {
            "gridcolor": "white",
            "linecolor": "white",
            "ticks": ""
           },
           "bgcolor": "#E5ECF6",
           "radialaxis": {
            "gridcolor": "white",
            "linecolor": "white",
            "ticks": ""
           }
          },
          "scene": {
           "xaxis": {
            "backgroundcolor": "#E5ECF6",
            "gridcolor": "white",
            "gridwidth": 2,
            "linecolor": "white",
            "showbackground": true,
            "ticks": "",
            "zerolinecolor": "white"
           },
           "yaxis": {
            "backgroundcolor": "#E5ECF6",
            "gridcolor": "white",
            "gridwidth": 2,
            "linecolor": "white",
            "showbackground": true,
            "ticks": "",
            "zerolinecolor": "white"
           },
           "zaxis": {
            "backgroundcolor": "#E5ECF6",
            "gridcolor": "white",
            "gridwidth": 2,
            "linecolor": "white",
            "showbackground": true,
            "ticks": "",
            "zerolinecolor": "white"
           }
          },
          "shapedefaults": {
           "line": {
            "color": "#2a3f5f"
           }
          },
          "ternary": {
           "aaxis": {
            "gridcolor": "white",
            "linecolor": "white",
            "ticks": ""
           },
           "baxis": {
            "gridcolor": "white",
            "linecolor": "white",
            "ticks": ""
           },
           "bgcolor": "#E5ECF6",
           "caxis": {
            "gridcolor": "white",
            "linecolor": "white",
            "ticks": ""
           }
          },
          "title": {
           "x": 0.05
          },
          "xaxis": {
           "automargin": true,
           "gridcolor": "white",
           "linecolor": "white",
           "ticks": "",
           "title": {
            "standoff": 15
           },
           "zerolinecolor": "white",
           "zerolinewidth": 2
          },
          "yaxis": {
           "automargin": true,
           "gridcolor": "white",
           "linecolor": "white",
           "ticks": "",
           "title": {
            "standoff": 15
           },
           "zerolinecolor": "white",
           "zerolinewidth": 2
          }
         }
        },
        "title": {
         "text": "GDP Per Capita Trends - Germany (2000-2023)"
        },
        "xaxis": {
         "title": {
          "text": "Year"
         }
        },
        "yaxis": {
         "title": {
          "text": "GDP Per Capita (USD)"
         }
        }
       }
      }
     },
     "metadata": {},
     "output_type": "display_data"
    }
   ],
   "source": [
    "def calculate_trend_features(df, entity_col='Entity', year_col='Year', value_col=None):\n",
    "    \"\"\"\n",
    "    Calculate moving averages and trend indicators\n",
    "    \"\"\"\n",
    "    if value_col is None:\n",
    "        value_col = gdp_column\n",
    "    \n",
    "    df_trend = df.copy()\n",
    "    df_trend = df_trend.sort_values([entity_col, year_col])\n",
    "    \n",
    "    # Moving Averages\n",
    "    df_trend['ma_3y'] = df_trend.groupby(entity_col)[value_col].rolling(window=3, min_periods=1).mean().reset_index(0, drop=True)\n",
    "    df_trend['ma_5y'] = df_trend.groupby(entity_col)[value_col].rolling(window=5, min_periods=1).mean().reset_index(0, drop=True)\n",
    "    df_trend['ma_10y'] = df_trend.groupby(entity_col)[value_col].rolling(window=10, min_periods=1).mean().reset_index(0, drop=True)\n",
    "    \n",
    "    # Trend indicators (current value vs moving average)\n",
    "    df_trend['trend_vs_ma3'] = ((df_trend[value_col] - df_trend['ma_3y']) / df_trend['ma_3y']) * 100\n",
    "    df_trend['trend_vs_ma5'] = ((df_trend[value_col] - df_trend['ma_5y']) / df_trend['ma_5y']) * 100\n",
    "    df_trend['trend_vs_ma10'] = ((df_trend[value_col] - df_trend['ma_10y']) / df_trend['ma_10y']) * 100\n",
    "    \n",
    "    # Simple slope calculation (simplified to avoid complex index issues)\n",
    "    def calculate_simple_slope(group):\n",
    "        slopes = []\n",
    "        for i in range(len(group)):\n",
    "            if i < 2:  # Need at least 3 points for slope\n",
    "                slopes.append(np.nan)\n",
    "            else:\n",
    "                # Calculate slope using last 3 points\n",
    "                y_vals = group.iloc[i-2:i+1].values\n",
    "                x_vals = np.array([0, 1, 2])\n",
    "                if not np.isnan(y_vals).any():\n",
    "                    slope = np.polyfit(x_vals, y_vals, 1)[0]\n",
    "                    slopes.append(slope)\n",
    "                else:\n",
    "                    slopes.append(np.nan)\n",
    "        return slopes\n",
    "    \n",
    "    # Apply slope calculation to each entity\n",
    "    slope_results = []\n",
    "    for entity in df_trend[entity_col].unique():\n",
    "        entity_data = df_trend[df_trend[entity_col] == entity].copy()\n",
    "        entity_data = entity_data.sort_values(year_col)\n",
    "        slopes = calculate_simple_slope(entity_data['ma_5y'])\n",
    "        \n",
    "        for idx, slope in zip(entity_data.index, slopes):\n",
    "            slope_results.append({'index': idx, 'ma5_slope': slope})\n",
    "    \n",
    "    # Create slope dataframe and merge\n",
    "    slope_df = pd.DataFrame(slope_results).set_index('index')\n",
    "    df_trend['ma5_slope'] = slope_df['ma5_slope']\n",
    "    \n",
    "    return df_trend\n",
    "\n",
    "# Apply trend feature calculation\n",
    "df_with_trends = calculate_trend_features(df_with_growth)\n",
    "\n",
    "print(\"✅ Trend features calculated!\")\n",
    "print(f\"📊 New features: ma_3y, ma_5y, ma_10y, trend_vs_ma3, trend_vs_ma5, trend_vs_ma10, ma5_slope\")\n",
    "\n",
    "# Sample visualization\n",
    "sample_country = 'Germany'\n",
    "sample_data = df_with_trends[(df_with_trends['Entity'] == sample_country) & (df_with_trends['Year'] >= 2000)]\n",
    "\n",
    "fig = go.Figure()\n",
    "\n",
    "# Original GDP\n",
    "fig.add_trace(go.Scatter(\n",
    "    x=sample_data['Year'],\n",
    "    y=sample_data[gdp_column],\n",
    "    mode='lines+markers',\n",
    "    name='GDP Per Capita',\n",
    "    line=dict(color='#2E86AB', width=3)\n",
    "))\n",
    "\n",
    "# Moving averages\n",
    "fig.add_trace(go.Scatter(\n",
    "    x=sample_data['Year'],\n",
    "    y=sample_data['ma_5y'],\n",
    "    mode='lines',\n",
    "    name='5-Year Moving Average',\n",
    "    line=dict(color='#A23B72', width=2, dash='dash')\n",
    "))\n",
    "\n",
    "fig.add_trace(go.Scatter(\n",
    "    x=sample_data['Year'],\n",
    "    y=sample_data['ma_10y'],\n",
    "    mode='lines',\n",
    "    name='10-Year Moving Average',\n",
    "    line=dict(color='#F18F01', width=2, dash='dot')\n",
    "))\n",
    "\n",
    "fig.update_layout(\n",
    "    title=f'GDP Per Capita Trends - {sample_country} (2000-2023)',\n",
    "    xaxis_title='Year',\n",
    "    yaxis_title='GDP Per Capita (USD)',\n",
    "    height=500,\n",
    "    hovermode='x unified'\n",
    ")\n",
    "\n",
    "fig.show()"
   ]
  },
  {
   "cell_type": "markdown",
   "id": "7487511a",
   "metadata": {},
   "source": [
    "### 3. Volatility and Risk Features"
   ]
  },
  {
   "cell_type": "code",
   "execution_count": 25,
   "id": "6a8f7ec2",
   "metadata": {},
   "outputs": [
    {
     "name": "stdout",
     "output_type": "stream",
     "text": [
      "✅ Volatility features calculated!\n",
      "📊 New features: volatility_5y, cv_growth_5y, gdp_volatility_5y, risk_adjusted_performance, max_drawdown_5y\n",
      "\n",
      "📊 Volatility Analysis for Major Economies (2023):\n",
      "              Entity  volatility_5y  cv_growth_5y  risk_adjusted_performance  \\\n",
      "1298           China           2.49         51.30                       1.95   \n",
      "3149           Japan           2.72        548.01                       0.18   \n",
      "2369         Germany           2.80       1158.94                       0.09   \n",
      "6769   United States           3.21        170.59                       0.59   \n",
      "1110          Canada           4.05       3122.79                      -0.03   \n",
      "2233          France           5.20        789.76                       0.13   \n",
      "3081           Italy           6.60        399.00                       0.25   \n",
      "6735  United Kingdom           7.10       1564.47                       0.06   \n",
      "\n",
      "      max_drawdown_5y  \n",
      "1298           -16.59  \n",
      "3149            -6.32  \n",
      "2369            -4.45  \n",
      "6769            -9.69  \n",
      "1110            -6.33  \n",
      "2233            -8.71  \n",
      "3081           -13.55  \n",
      "6735           -11.22  \n"
     ]
    }
   ],
   "source": [
    "def calculate_volatility_features(df, entity_col='Entity', year_col='Year', value_col=None, window=5):\n",
    "    \"\"\"\n",
    "    Calculate volatility and risk measures\n",
    "    \"\"\"\n",
    "    if value_col is None:\n",
    "        value_col = gdp_column\n",
    "    \n",
    "    df_vol = df.copy()\n",
    "    df_vol = df_vol.sort_values([entity_col, year_col])\n",
    "    \n",
    "    # Rolling standard deviation of growth rates\n",
    "    df_vol['volatility_5y'] = df_vol.groupby(entity_col)['yoy_growth'].rolling(window=window, min_periods=2).std().reset_index(0, drop=True)\n",
    "    \n",
    "    # Coefficient of variation (CV) - volatility relative to mean\n",
    "    def calculate_cv(group, window=5):\n",
    "        rolling_mean = group.rolling(window=window, min_periods=2).mean()\n",
    "        rolling_std = group.rolling(window=window, min_periods=2).std()\n",
    "        cv = (rolling_std / rolling_mean.abs()) * 100\n",
    "        return cv\n",
    "    \n",
    "    df_vol['cv_growth_5y'] = df_vol.groupby(entity_col)['yoy_growth'].apply(calculate_cv).reset_index(0, drop=True)\n",
    "    \n",
    "    # GDP level volatility (coefficient of variation of GDP levels)\n",
    "    df_vol['gdp_volatility_5y'] = df_vol.groupby(entity_col)[value_col].rolling(window=window, min_periods=2).std().reset_index(0, drop=True)\n",
    "    \n",
    "    # Risk-adjusted performance (average growth / volatility)\n",
    "    avg_growth_5y = df_vol.groupby(entity_col)['yoy_growth'].rolling(window=window, min_periods=2).mean().reset_index(0, drop=True)\n",
    "    df_vol['risk_adjusted_performance'] = avg_growth_5y / (df_vol['volatility_5y'] + 0.001)  # Add small constant to avoid division by zero\n",
    "    \n",
    "    # Maximum drawdown calculation (simplified)\n",
    "    def calculate_simple_drawdown(group, window=5):\n",
    "        drawdowns = []\n",
    "        for i in range(len(group)):\n",
    "            if i < window - 1:\n",
    "                drawdowns.append(np.nan)\n",
    "            else:\n",
    "                window_data = group.iloc[i-window+1:i+1]\n",
    "                peak = window_data.max()\n",
    "                trough = window_data.min()\n",
    "                if peak > 0:\n",
    "                    drawdown = ((trough - peak) / peak) * 100\n",
    "                    drawdowns.append(drawdown)\n",
    "                else:\n",
    "                    drawdowns.append(np.nan)\n",
    "        return drawdowns\n",
    "    \n",
    "    # Apply drawdown calculation to each entity\n",
    "    drawdown_results = []\n",
    "    for entity in df_vol[entity_col].unique():\n",
    "        entity_data = df_vol[df_vol[entity_col] == entity].copy()\n",
    "        entity_data = entity_data.sort_values(year_col)\n",
    "        drawdowns = calculate_simple_drawdown(entity_data[value_col], window)\n",
    "        \n",
    "        for idx, drawdown in zip(entity_data.index, drawdowns):\n",
    "            drawdown_results.append({'index': idx, 'max_drawdown_5y': drawdown})\n",
    "    \n",
    "    # Create drawdown dataframe and merge\n",
    "    drawdown_df = pd.DataFrame(drawdown_results).set_index('index')\n",
    "    df_vol['max_drawdown_5y'] = drawdown_df['max_drawdown_5y']\n",
    "    \n",
    "    return df_vol\n",
    "\n",
    "# Apply volatility feature calculation\n",
    "df_with_volatility = calculate_volatility_features(df_with_trends)\n",
    "\n",
    "print(\"✅ Volatility features calculated!\")\n",
    "print(f\"📊 New features: volatility_5y, cv_growth_5y, gdp_volatility_5y, risk_adjusted_performance, max_drawdown_5y\")\n",
    "\n",
    "# Volatility analysis for major economies\n",
    "major_economies = ['United States', 'China', 'Japan', 'Germany', 'United Kingdom', 'France', 'Italy', 'Canada']\n",
    "latest_year = df_with_volatility['Year'].max()\n",
    "volatility_analysis = df_with_volatility[\n",
    "    (df_with_volatility['Entity'].isin(major_economies)) & \n",
    "    (df_with_volatility['Year'] == latest_year)\n",
    "][['Entity', 'volatility_5y', 'cv_growth_5y', 'risk_adjusted_performance', 'max_drawdown_5y']]\n",
    "\n",
    "volatility_analysis = volatility_analysis.dropna().round(2)\n",
    "volatility_analysis = volatility_analysis.sort_values('volatility_5y')\n",
    "\n",
    "print(f\"\\n📊 Volatility Analysis for Major Economies ({latest_year}):\")\n",
    "print(volatility_analysis)"
   ]
  },
  {
   "cell_type": "markdown",
   "id": "69090260",
   "metadata": {},
   "source": [
    "### 4. Economic Cycle and Crisis Detection Features"
   ]
  },
  {
   "cell_type": "code",
   "execution_count": 27,
   "id": "7b0ddd01",
   "metadata": {},
   "outputs": [
    {
     "name": "stdout",
     "output_type": "stream",
     "text": [
      "✅ Economic cycle features calculated!\n",
      "📊 New features: in_recession, in_recovery, economic_phase, crisis_year, years_since_recession\n",
      "\n",
      "📈 Economic Phase Distribution:\n",
      "  stable: 3,604 observations (51.0%)\n",
      "  growth: 2,241 observations (31.7%)\n",
      "  recovery: 597 observations (8.5%)\n",
      "  recession: 325 observations (4.6%)\n",
      "  crisis: 296 observations (4.2%)\n",
      "\n",
      "🔍 Recent Economic Cycles (2020-2023):\n",
      "\n",
      "United States:\n",
      "  2020: -3.1% (stable) \n",
      "  2021: +5.9% (recovery) \n",
      "  2022: +2.1% (stable) \n",
      "  2023: +2.4% (stable) \n",
      "\n",
      "China:\n",
      "  2020: +2.0% (stable) \n",
      "  2021: +8.4% (growth) \n",
      "  2022: +3.0% (stable) \n",
      "  2023: +5.4% (growth) \n",
      "\n",
      "Germany:\n",
      "  2020: -4.2% (stable) \n",
      "  2021: +3.6% (recovery) \n",
      "  2022: +0.6% (stable) \n",
      "  2023: +0.4% (stable) \n",
      "\n",
      "Japan:\n",
      "  2020: -3.9% (stable) \n",
      "  2021: +3.0% (recovery) \n",
      "  2022: +1.4% (stable) \n",
      "  2023: +2.2% (stable) \n",
      "\n",
      "United Kingdom:\n",
      "  2020: -10.6% (crisis) ⚠️ CRISIS\n",
      "  2021: +8.7% (recovery) \n",
      "  2022: +3.7% (growth) \n",
      "  2023: -0.5% (stable) \n",
      "\n",
      "✅ Cycle analysis completed! Dataset shape: (7063, 27)\n"
     ]
    }
   ],
   "source": [
    "def calculate_cycle_features(df, entity_col='Entity', year_col='Year', value_col=None):\n",
    "    \"\"\"\n",
    "    Calculate economic cycle and crisis detection features\n",
    "    \"\"\"\n",
    "    if value_col is None:\n",
    "        value_col = gdp_column\n",
    "    \n",
    "    df_cycle = df.copy()\n",
    "    df_cycle = df_cycle.sort_values([entity_col, year_col]).reset_index(drop=True)\n",
    "    \n",
    "    # Initialize cycle features\n",
    "    df_cycle['in_recession'] = False\n",
    "    df_cycle['in_recovery'] = False\n",
    "    df_cycle['economic_phase'] = 'stable'\n",
    "    df_cycle['crisis_year'] = False\n",
    "    df_cycle['years_since_recession'] = 0\n",
    "    \n",
    "    # Process each country separately\n",
    "    for country in df_cycle[entity_col].unique():\n",
    "        country_mask = df_cycle[entity_col] == country\n",
    "        country_data = df_cycle[country_mask].copy()\n",
    "        \n",
    "        if len(country_data) > 1:\n",
    "            # Recession detection (2 consecutive negative growth years)\n",
    "            recession_flags = []\n",
    "            recovery_flags = []\n",
    "            phase_flags = []\n",
    "            crisis_flags = []\n",
    "            years_since_rec = []\n",
    "            \n",
    "            last_recession_year = -999  # Track when last recession ended\n",
    "            \n",
    "            for i in range(len(country_data)):\n",
    "                # Default values\n",
    "                is_recession = False\n",
    "                is_recovery = False\n",
    "                phase = 'stable'\n",
    "                is_crisis = False\n",
    "                years_since = max(0, country_data.iloc[i][year_col] - last_recession_year) if last_recession_year > -999 else 0\n",
    "                \n",
    "                if i > 0:  # Need at least 2 years for recession detection\n",
    "                    current_growth = country_data.iloc[i]['yoy_growth']\n",
    "                    prev_growth = country_data.iloc[i-1]['yoy_growth']\n",
    "                    \n",
    "                    # Recession: current AND previous year both negative\n",
    "                    if current_growth < -2 and prev_growth < -2:  # Use -2% threshold\n",
    "                        is_recession = True\n",
    "                        phase = 'recession'\n",
    "                        last_recession_year = country_data.iloc[i][year_col]\n",
    "                        years_since = 0\n",
    "                    \n",
    "                    # Recovery: positive growth after negative\n",
    "                    elif current_growth > 2 and prev_growth < 0:  # Use 2% threshold\n",
    "                        is_recovery = True\n",
    "                        phase = 'recovery'\n",
    "                    \n",
    "                    # Crisis: very sharp decline (>5%)\n",
    "                    elif current_growth < -5:\n",
    "                        is_crisis = True\n",
    "                        phase = 'crisis'\n",
    "                    \n",
    "                    # Growth phase: strong positive growth (>3%)\n",
    "                    elif current_growth > 3:\n",
    "                        phase = 'growth'\n",
    "                \n",
    "                recession_flags.append(is_recession)\n",
    "                recovery_flags.append(is_recovery)\n",
    "                phase_flags.append(phase)\n",
    "                crisis_flags.append(is_crisis)\n",
    "                years_since_rec.append(years_since)\n",
    "            \n",
    "            # Update the main dataframe\n",
    "            df_cycle.loc[country_mask, 'in_recession'] = recession_flags\n",
    "            df_cycle.loc[country_mask, 'in_recovery'] = recovery_flags\n",
    "            df_cycle.loc[country_mask, 'economic_phase'] = phase_flags\n",
    "            df_cycle.loc[country_mask, 'crisis_year'] = crisis_flags\n",
    "            df_cycle.loc[country_mask, 'years_since_recession'] = years_since_rec\n",
    "    \n",
    "    return df_cycle\n",
    "\n",
    "# Apply cycle feature calculation\n",
    "df_with_cycles = calculate_cycle_features(df_with_volatility)\n",
    "\n",
    "print(\"✅ Economic cycle features calculated!\")\n",
    "print(f\"📊 New features: in_recession, in_recovery, economic_phase, crisis_year, years_since_recession\")\n",
    "\n",
    "# Show cycle statistics\n",
    "cycle_stats = df_with_cycles['economic_phase'].value_counts()\n",
    "print(f\"\\n📈 Economic Phase Distribution:\")\n",
    "for phase, count in cycle_stats.items():\n",
    "    percentage = (count / len(df_with_cycles)) * 100\n",
    "    print(f\"  {phase}: {count:,} observations ({percentage:.1f}%)\")\n",
    "\n",
    "# Show recent cycles for sample countries\n",
    "major_economies = ['United States', 'China', 'Germany', 'Japan', 'United Kingdom']\n",
    "print(f\"\\n🔍 Recent Economic Cycles (2020-2023):\")\n",
    "recent_cycles = df_with_cycles[\n",
    "    (df_with_cycles['Entity'].isin(major_economies)) & \n",
    "    (df_with_cycles['Year'] >= 2020)\n",
    "][['Entity', 'Year', 'yoy_growth', 'economic_phase', 'in_recession', 'crisis_year']]\n",
    "\n",
    "for country in major_economies:\n",
    "    country_recent = recent_cycles[recent_cycles['Entity'] == country]\n",
    "    if not country_recent.empty:\n",
    "        print(f\"\\n{country}:\")\n",
    "        for _, row in country_recent.iterrows():\n",
    "            status = []\n",
    "            if row['in_recession']: status.append(\"📉 RECESSION\")\n",
    "            if row['crisis_year']: status.append(\"⚠️ CRISIS\")\n",
    "            status_str = \" | \".join(status) if status else \"\"\n",
    "            print(f\"  {row['Year']}: {row['yoy_growth']:+.1f}% ({row['economic_phase']}) {status_str}\")\n",
    "\n",
    "print(f\"\\n✅ Cycle analysis completed! Dataset shape: {df_with_cycles.shape}\")"
   ]
  },
  {
   "cell_type": "markdown",
   "id": "d5b2e836",
   "metadata": {},
   "source": [
    "### 5. Relative Performance Features"
   ]
  },
  {
   "cell_type": "code",
   "execution_count": 28,
   "id": "f8292b5a",
   "metadata": {},
   "outputs": [
    {
     "name": "stdout",
     "output_type": "stream",
     "text": [
      "✅ Relative performance features calculated!\n",
      "📊 New features: world_avg_gdp, continent_avg_gdp, gdp_vs_world, gdp_vs_continent, growth_vs_world, world_percentile, continent_percentile, income_classification\n",
      "\n",
      "📈 Final Dataset Summary:\n",
      "📊 Total rows: 7,063\n",
      "📋 Total features: 36\n",
      "🌍 Countries: 213\n",
      "📅 Years: 1990 - 2023\n",
      "\n",
      "🔧 Engineered Features (28 total):\n",
      " 1. yoy_growth\n",
      " 2. growth_3y\n",
      " 3. growth_5y\n",
      " 4. growth_10y\n",
      " 5. cagr_5y\n",
      " 6. ma_3y\n",
      " 7. ma_5y\n",
      " 8. ma_10y\n",
      " 9. trend_vs_ma3\n",
      "10. trend_vs_ma5\n",
      "11. trend_vs_ma10\n",
      "12. ma5_slope\n",
      "13. volatility_5y\n",
      "14. cv_growth_5y\n",
      "15. gdp_volatility_5y\n",
      "16. risk_adjusted_performance\n",
      "17. max_drawdown_5y\n",
      "18. in_recession\n",
      "19. in_recovery\n",
      "20. economic_phase\n",
      "21. crisis_year\n",
      "22. years_since_recession\n",
      "23. gdp_vs_world\n",
      "24. gdp_vs_continent\n",
      "25. growth_vs_world\n",
      "26. world_percentile\n",
      "27. continent_percentile\n",
      "28. income_classification\n"
     ]
    }
   ],
   "source": [
    "def calculate_relative_features(df, entity_col='Entity', year_col='Year', value_col=None):\n",
    "    \"\"\"\n",
    "    Calculate relative performance features vs world and continent averages\n",
    "    \"\"\"\n",
    "    if value_col is None:\n",
    "        value_col = gdp_column\n",
    "    \n",
    "    df_rel = df.copy()\n",
    "    \n",
    "    # World average by year\n",
    "    world_avg = df_rel.groupby(year_col)[value_col].mean().to_dict()\n",
    "    df_rel['world_avg_gdp'] = df_rel[year_col].map(world_avg)\n",
    "    \n",
    "    # Continent average by year\n",
    "    continent_avg = df_rel.groupby([year_col, 'Continent'])[value_col].mean().reset_index()\n",
    "    continent_avg_dict = {}\n",
    "    for _, row in continent_avg.iterrows():\n",
    "        key = (row[year_col], row['Continent'])\n",
    "        continent_avg_dict[key] = row[value_col]\n",
    "    \n",
    "    df_rel['continent_avg_gdp'] = df_rel.apply(\n",
    "        lambda row: continent_avg_dict.get((row[year_col], row['Continent']), np.nan), axis=1\n",
    "    )\n",
    "    \n",
    "    # Relative performance vs world\n",
    "    df_rel['gdp_vs_world'] = ((df_rel[value_col] - df_rel['world_avg_gdp']) / df_rel['world_avg_gdp']) * 100\n",
    "    \n",
    "    # Relative performance vs continent\n",
    "    df_rel['gdp_vs_continent'] = ((df_rel[value_col] - df_rel['continent_avg_gdp']) / df_rel['continent_avg_gdp']) * 100\n",
    "    \n",
    "    # World growth rate\n",
    "    world_growth = df_rel.groupby(year_col)['yoy_growth'].mean().to_dict()\n",
    "    df_rel['world_avg_growth'] = df_rel[year_col].map(world_growth)\n",
    "    \n",
    "    # Relative growth performance\n",
    "    df_rel['growth_vs_world'] = df_rel['yoy_growth'] - df_rel['world_avg_growth']\n",
    "    \n",
    "    # GDP per capita percentile rank within world\n",
    "    def calculate_percentile_rank(group):\n",
    "        return group.rank(pct=True) * 100\n",
    "    \n",
    "    df_rel['world_percentile'] = df_rel.groupby(year_col)[value_col].apply(calculate_percentile_rank).reset_index(0, drop=True)\n",
    "    \n",
    "    # Continent percentile rank\n",
    "    df_rel['continent_percentile'] = df_rel.groupby([year_col, 'Continent'])[value_col].apply(calculate_percentile_rank).reset_index([0,1], drop=True)\n",
    "    \n",
    "    # Income classification based on World Bank thresholds (2023)\n",
    "    def classify_income_level(gdp):\n",
    "        if pd.isna(gdp):\n",
    "            return 'Unknown'\n",
    "        elif gdp >= 50000:\n",
    "            return 'Very High Income'\n",
    "        elif gdp >= 25000:\n",
    "            return 'High Income'\n",
    "        elif gdp >= 10000:\n",
    "            return 'Upper Middle Income'\n",
    "        elif gdp >= 3000:\n",
    "            return 'Lower Middle Income'\n",
    "        else:\n",
    "            return 'Low Income'\n",
    "    \n",
    "    df_rel['income_classification'] = df_rel[value_col].apply(classify_income_level)\n",
    "    \n",
    "    return df_rel\n",
    "\n",
    "# Apply relative performance calculation\n",
    "df_final = calculate_relative_features(df_with_cycles)\n",
    "\n",
    "print(\"✅ Relative performance features calculated!\")\n",
    "print(f\"📊 New features: world_avg_gdp, continent_avg_gdp, gdp_vs_world, gdp_vs_continent, growth_vs_world, world_percentile, continent_percentile, income_classification\")\n",
    "\n",
    "# Final dataset summary\n",
    "print(f\"\\n📈 Final Dataset Summary:\")\n",
    "print(f\"📊 Total rows: {len(df_final):,}\")\n",
    "print(f\"📋 Total features: {len(df_final.columns)}\")\n",
    "print(f\"🌍 Countries: {df_final['Entity'].nunique()}\")\n",
    "print(f\"📅 Years: {df_final['Year'].min()} - {df_final['Year'].max()}\")\n",
    "\n",
    "# Feature list\n",
    "all_features = [\n",
    "    'yoy_growth', 'growth_3y', 'growth_5y', 'growth_10y', 'cagr_5y',\n",
    "    'ma_3y', 'ma_5y', 'ma_10y', 'trend_vs_ma3', 'trend_vs_ma5', 'trend_vs_ma10', 'ma5_slope',\n",
    "    'volatility_5y', 'cv_growth_5y', 'gdp_volatility_5y', 'risk_adjusted_performance', 'max_drawdown_5y',\n",
    "    'in_recession', 'in_recovery', 'economic_phase', 'crisis_year', 'years_since_recession',\n",
    "    'gdp_vs_world', 'gdp_vs_continent', 'growth_vs_world', 'world_percentile', 'continent_percentile', 'income_classification'\n",
    "]\n",
    "\n",
    "print(f\"\\n🔧 Engineered Features ({len(all_features)} total):\")\n",
    "for i, feature in enumerate(all_features, 1):\n",
    "    print(f\"{i:2}. {feature}\")"
   ]
  },
  {
   "cell_type": "markdown",
   "id": "a16325dc",
   "metadata": {},
   "source": [
    "## 📊 Feature Engineering Validation and Insights"
   ]
  },
  {
   "cell_type": "code",
   "execution_count": 29,
   "id": "bb7b9b84",
   "metadata": {},
   "outputs": [
    {
     "data": {
      "application/vnd.plotly.v1+json": {
       "config": {
        "plotlyServerURL": "https://plot.ly"
       },
       "data": [
        {
         "marker": {
          "color": "lightblue"
         },
         "name": "Growth Rate Distribution",
         "nbinsx": 20,
         "opacity": 0.7,
         "type": "histogram",
         "x": {
          "bdata": "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",
          "dtype": "f8"
         },
         "xaxis": "x",
         "yaxis": "y"
        },
        {
         "marker": {
          "color": {
           "bdata": "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",
           "dtype": "f8"
          },
          "colorbar": {
           "title": {
            "text": "World Percentile"
           }
          },
          "colorscale": [
           [
            0,
            "#440154"
           ],
           [
            0.1111111111111111,
            "#482878"
           ],
           [
            0.2222222222222222,
            "#3e4989"
           ],
           [
            0.3333333333333333,
            "#31688e"
           ],
           [
            0.4444444444444444,
            "#26828e"
           ],
           [
            0.5555555555555556,
            "#1f9e89"
           ],
           [
            0.6666666666666666,
            "#35b779"
           ],
           [
            0.7777777777777778,
            "#6ece58"
           ],
           [
            0.8888888888888888,
            "#b5de2b"
           ],
           [
            1,
            "#fde725"
           ]
          ],
          "showscale": true,
          "size": 8
         },
         "mode": "markers",
         "name": "Countries",
         "text": [
          "Afghanistan",
          "Albania",
          "Algeria",
          "Andorra",
          "Angola",
          "Antigua and Barbuda",
          "Argentina",
          "Armenia",
          "Aruba",
          "Australia",
          "Austria",
          "Azerbaijan",
          "Bahamas",
          "Bahrain",
          "Bangladesh",
          "Barbados",
          "Belarus",
          "Belgium",
          "Belize",
          "Benin",
          "Bermuda",
          "Bolivia",
          "Bosnia and Herzegovina",
          "Botswana",
          "Brazil",
          "Brunei",
          "Bulgaria",
          "Burkina Faso",
          "Burundi",
          "Cambodia",
          "Cameroon",
          "Canada",
          "Cape Verde",
          "Cayman Islands",
          "Central African Republic",
          "Chad",
          "Chile",
          "China",
          "Colombia",
          "Comoros",
          "Congo",
          "Costa Rica",
          "Cote d'Ivoire",
          "Croatia",
          "Curacao",
          "Cyprus",
          "Czechia",
          "Democratic Republic of Congo",
          "Denmark",
          "Djibouti",
          "Dominica",
          "Dominican Republic",
          "East Asia and Pacific (WB)",
          "East Timor",
          "Ecuador",
          "Egypt",
          "El Salvador",
          "Equatorial Guinea",
          "Estonia",
          "Eswatini",
          "Ethiopia",
          "Europe and Central Asia (WB)",
          "European Union (27)",
          "Faeroe Islands",
          "Fiji",
          "Finland",
          "France",
          "Gabon",
          "Gambia",
          "Georgia",
          "Germany",
          "Ghana",
          "Greece",
          "Grenada",
          "Guatemala",
          "Guinea",
          "Guinea-Bissau",
          "Guyana",
          "Haiti",
          "High-income countries",
          "Honduras",
          "Hong Kong",
          "Hungary",
          "Iceland",
          "India",
          "Indonesia",
          "Iran",
          "Iraq",
          "Ireland",
          "Israel",
          "Italy",
          "Jamaica",
          "Japan",
          "Jordan",
          "Kazakhstan",
          "Kenya",
          "Kiribati",
          "Kosovo",
          "Kuwait",
          "Kyrgyzstan",
          "Laos",
          "Latin America and Caribbean (WB)",
          "Latvia",
          "Lesotho",
          "Liberia",
          "Libya",
          "Lithuania",
          "Low-income countries",
          "Lower-middle-income countries",
          "Luxembourg",
          "Macao",
          "Madagascar",
          "Malawi",
          "Malaysia",
          "Maldives",
          "Mali",
          "Malta",
          "Marshall Islands",
          "Mauritania",
          "Mauritius",
          "Mexico",
          "Micronesia (country)",
          "Middle East and North Africa (WB)",
          "Middle-income countries",
          "Moldova",
          "Mongolia",
          "Montenegro",
          "Morocco",
          "Mozambique",
          "Myanmar",
          "Namibia",
          "Nauru",
          "Nepal",
          "Netherlands",
          "New Zealand",
          "Nicaragua",
          "Niger",
          "Nigeria",
          "North America (WB)",
          "North Macedonia",
          "Norway",
          "Oman",
          "Pakistan",
          "Palau",
          "Palestine",
          "Panama",
          "Papua New Guinea",
          "Paraguay",
          "Peru",
          "Philippines",
          "Poland",
          "Portugal",
          "Puerto Rico",
          "Qatar",
          "Romania",
          "Russia",
          "Rwanda",
          "Saint Kitts and Nevis",
          "Saint Lucia",
          "Saint Vincent and the Grenadines",
          "Samoa",
          "Sao Tome and Principe",
          "Saudi Arabia",
          "Senegal",
          "Serbia",
          "Seychelles",
          "Sierra Leone",
          "Singapore",
          "Sint Maarten (Dutch part)",
          "Slovakia",
          "Slovenia",
          "Solomon Islands",
          "Somalia",
          "South Africa",
          "South Asia (WB)",
          "South Korea",
          "Spain",
          "Sri Lanka",
          "Sub-Saharan Africa (WB)",
          "Sudan",
          "Suriname",
          "Sweden",
          "Switzerland",
          "Tajikistan",
          "Tanzania",
          "Thailand",
          "Togo",
          "Trinidad and Tobago",
          "Tunisia",
          "Turkey",
          "Turkmenistan",
          "Turks and Caicos Islands",
          "Tuvalu",
          "Uganda",
          "Ukraine",
          "United Arab Emirates",
          "United Kingdom",
          "United States",
          "Upper-middle-income countries",
          "Uruguay",
          "Uzbekistan",
          "Vanuatu",
          "Vietnam",
          "World",
          "Zambia",
          "Zimbabwe"
         ],
         "type": "scatter",
         "x": {
          "bdata": "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",
          "dtype": "f8"
         },
         "xaxis": "x2",
         "y": {
          "bdata": "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",
          "dtype": "f8"
         },
         "yaxis": "y2"
        },
        {
         "mode": "lines",
         "name": "crisis",
         "stackgroup": "one",
         "type": "scatter",
         "x": {
          "bdata": "xgfHB8gHyQfKB8sHzAfNB84HzwfQB9EH0gfTB9QH1QfWB9cH2AfZB9oH2wfcB90H3gffB+AH4QfiB+MH5AflB+YH5wc=",
          "dtype": "i2"
         },
         "xaxis": "x3",
         "y": {
          "bdata": "AAAAAAAAAAAAAAAAAAAzQAAAAAAAABRAAAAAAAAA+D+9DEYBh+YTQN+IApNOzQNAmHRqHuSu/z+Hh4eHh4cHQH19fX19fRlAnJubm5ubE0ATSCXnZRH/PxNIJedlEQ9A4MWgItxSA0CZPAHR+er+PwAAAAAAAAAAmTwB0fnq7j9P7MRO7MTuP7ITO7ETOwNAn+d5nud5/j8UUIp6GYkxQGDrCs3tVN4/7XNITTDeAkCD8Vb2OaT2P0WuMwGDxwJA1ha5zgQM7j8h0QqbA4n2P9YWuc4EDP4/Ra4zAYPHAkAAAAAAAAAAANYWuc4EDO4/KulGMfvzQ0AAAAAAAAAAAO1zSE0w3gJAD/ZbbQxNB0A=",
          "dtype": "f8"
         },
         "yaxis": "y3"
        },
        {
         "mode": "lines",
         "name": "growth",
         "stackgroup": "one",
         "type": "scatter",
         "x": {
          "bdata": "xgfHB8gHyQfKB8sHzAfNB84HzwfQB9EH0gfTB9QH1QfWB9cH2AfZB9oH2wfcB90H3gffB+AH4QfiB+MH5AflB+YH5wc=",
          "dtype": "i2"
         },
         "xaxis": "x3",
         "y": {
          "bdata": "AAAAAAAAAAAAAAAAAIA2QAAAAAAAADJAAAAAAAAAN0AykR6onN06QPGNKDDp1EBAJApMOjUPQ0DT0tLS0lJFQOfm5ubmZkFA3Nzc3NzcP0DdwX6rjaFEQNF0B/utNjpAtDJ5AqLzPUDSyuQJiM5DQPkZJX5GiUtAS/yMEj+jSEAUO7ETO5FNQImd2Imd2ExAJUmSJEmSQkBmJFbDxQ8xQASUol5GYj1AaoLxVvY5RUATjLeyzyE/QB9OQ6ikGz1AejJ+u9STPUDow2kIlXQ/QMVpCJV0ozxAqqqqqqqqQEBhcyDRCptBQLK8V1vkOjtARa4zAYPHAkCOYvbnw2kYQCz7HFITDERAUsl5WcQnPEA=",
          "dtype": "f8"
         },
         "yaxis": "y3"
        },
        {
         "mode": "lines",
         "name": "recession",
         "stackgroup": "one",
         "type": "scatter",
         "x": {
          "bdata": "xgfHB8gHyQfKB8sHzAfNB84HzwfQB9EH0gfTB9QH1QfWB9cH2AfZB9oH2wfcB90H3gffB+AH4QfiB+MH5AflB+YH5wc=",
          "dtype": "i2"
         },
         "xaxis": "x3",
         "y": {
          "bdata": "AAAAAAAAAAAAAAAAAAAAAAAAAAAAgDNAAAAAAAAAMUBfjYn0QOUkQPGNKDDp1CBAmHRqHuSuD0Ccm5ubm5sDQJybm5ubmwNAdHNzc3NzC0CNoekO9lsVQIv4BFLJeRFAc+3AXDswF0CZPAHR+er+P5k8AdH56v4/c+3AXDsw9z9P7MRO7MTuP0/sxE7sxO4/n+d5nud5/j9mJFbDxQ8hQD7fmDYBpRhAruxzSE0w/j+D8Vb2OaQGQNYWuc4EDA5ARa4zAYPHEkD88+E0hEoKQLM/H05DqBRA1ha5zgQMDkDWFrnOBAwOQPzz4TSESgpAQ6ikG8XsH0COYvbnw2kYQO1zSE0w3gJAD/ZbbQxN9z8=",
          "dtype": "f8"
         },
         "yaxis": "y3"
        },
        {
         "mode": "lines",
         "name": "recovery",
         "stackgroup": "one",
         "type": "scatter",
         "x": {
          "bdata": "xgfHB8gHyQfKB8sHzAfNB84HzwfQB9EH0gfTB9QH1QfWB9cH2AfZB9oH2wfcB90H3gffB+AH4QfiB+MH5AflB+YH5wc=",
          "dtype": "i2"
         },
         "xaxis": "x3",
         "y": {
          "bdata": "AAAAAAAAAAAAAAAAAAAAAAAAAAAAAC5AAAAAAAAAIEDVEWKbVtwrQITc9bPFyiRAleEbUWDSIUB0c3Nzc3MbQH19fX19fRlAnJubm5ubE0DRdAf7rTYqQA/2W20MTRdA0CjxM0r8HECp2bC/i0ElQAYV4ZaaDRtAqdmwv4tBFUCyEzuxEzsTQDuxEzuxEwdAq6qqqqqqCkCIMMhZsr8GQASUol5GYj1AuLLPITXBFEC4ss8hNcEUQPzz4TSEShpAIdEKmwOJFkBFrjMBg8cCQCHRCpsDiRZAjmL258NpGEDWFrnOBAz+P9gcSLTC5hBA1ha5zgQM3j/YHEi0wuZQQK7sc0hNMA5AjaHpDvZbFUA=",
          "dtype": "f8"
         },
         "yaxis": "y3"
        },
        {
         "mode": "lines",
         "name": "stable",
         "stackgroup": "one",
         "type": "scatter",
         "x": {
          "bdata": "xgfHB8gHyQfKB8sHzAfNB84HzwfQB9EH0gfTB9QH1QfWB9cH2AfZB9oH2wfcB90H3gffB+AH4QfiB+MH5AflB+YH5wc=",
          "dtype": "i2"
         },
         "xaxis": "x3",
         "y": {
          "bdata": "AAAAAAAAWUAAAAAAAEBNQAAAAAAAQEVAAAAAAABASUADDs3n+uNFQOSuny1WhkZAiAKTTs2DR0CNjIyMjIxGQAAAAAAAAElAdHNzc3NzS0B8AqnkvCxDQELTHey32k1AfxeDinBLS0D66h5pZfJGQIK5dmCuHUJAI9xSs2F/RUAUO7ETOxFBQHZiJ3ZiB0JAt23btm3bS0CiuZ3KowNLQD068J5vTEFAm2C8lX0OSED7HFITjLdNQB9OQ6ikG01AejJ+u9STTUBfbZHrTMBOQE3A4LG8V01AsrxXW+Q6S0B6Mn671JNNQDgNoZJuFFBAvNST8dulSEBYW+Q6EzA0QI23ss8htUlAE0gl52URT0A=",
          "dtype": "f8"
         },
         "yaxis": "y3"
        },
        {
         "marker": {
          "color": "lightcoral"
         },
         "name": "Avg World Percentile",
         "orientation": "h",
         "type": "bar",
         "x": {
          "bdata": "LM22xbsXNUAvi/gEUolBQCVs+AKxaEpAM6BH7zHPSkCUy4fjtWdLQJ2XRXwCqVNA",
          "dtype": "f8"
         },
         "xaxis": "x4",
         "y": [
          "Africa",
          "Oceania",
          "Asia",
          "North America",
          "South America",
          "Europe"
         ],
         "yaxis": "y4"
        }
       ],
       "layout": {
        "annotations": [
         {
          "font": {
           "size": 16
          },
          "showarrow": false,
          "text": "Growth Rate Distribution (2023)",
          "x": 0.225,
          "xanchor": "center",
          "xref": "paper",
          "y": 1,
          "yanchor": "bottom",
          "yref": "paper"
         },
         {
          "font": {
           "size": 16
          },
          "showarrow": false,
          "text": "Volatility vs Performance",
          "x": 0.775,
          "xanchor": "center",
          "xref": "paper",
          "y": 1,
          "yanchor": "bottom",
          "yref": "paper"
         },
         {
          "font": {
           "size": 16
          },
          "showarrow": false,
          "text": "Economic Phases Over Time",
          "x": 0.225,
          "xanchor": "center",
          "xref": "paper",
          "y": 0.375,
          "yanchor": "bottom",
          "yref": "paper"
         },
         {
          "font": {
           "size": 16
          },
          "showarrow": false,
          "text": "World GDP Percentile Distribution",
          "x": 0.775,
          "xanchor": "center",
          "xref": "paper",
          "y": 0.375,
          "yanchor": "bottom",
          "yref": "paper"
         }
        ],
        "height": 800,
        "showlegend": false,
        "template": {
         "data": {
          "bar": [
           {
            "error_x": {
             "color": "#2a3f5f"
            },
            "error_y": {
             "color": "#2a3f5f"
            },
            "marker": {
             "line": {
              "color": "#E5ECF6",
              "width": 0.5
             },
             "pattern": {
              "fillmode": "overlay",
              "size": 10,
              "solidity": 0.2
             }
            },
            "type": "bar"
           }
          ],
          "barpolar": [
           {
            "marker": {
             "line": {
              "color": "#E5ECF6",
              "width": 0.5
             },
             "pattern": {
              "fillmode": "overlay",
              "size": 10,
              "solidity": 0.2
             }
            },
            "type": "barpolar"
           }
          ],
          "carpet": [
           {
            "aaxis": {
             "endlinecolor": "#2a3f5f",
             "gridcolor": "white",
             "linecolor": "white",
             "minorgridcolor": "white",
             "startlinecolor": "#2a3f5f"
            },
            "baxis": {
             "endlinecolor": "#2a3f5f",
             "gridcolor": "white",
             "linecolor": "white",
             "minorgridcolor": "white",
             "startlinecolor": "#2a3f5f"
            },
            "type": "carpet"
           }
          ],
          "choropleth": [
           {
            "colorbar": {
             "outlinewidth": 0,
             "ticks": ""
            },
            "type": "choropleth"
           }
          ],
          "contour": [
           {
            "colorbar": {
             "outlinewidth": 0,
             "ticks": ""
            },
            "colorscale": [
             [
              0,
              "#0d0887"
             ],
             [
              0.1111111111111111,
              "#46039f"
             ],
             [
              0.2222222222222222,
              "#7201a8"
             ],
             [
              0.3333333333333333,
              "#9c179e"
             ],
             [
              0.4444444444444444,
              "#bd3786"
             ],
             [
              0.5555555555555556,
              "#d8576b"
             ],
             [
              0.6666666666666666,
              "#ed7953"
             ],
             [
              0.7777777777777778,
              "#fb9f3a"
             ],
             [
              0.8888888888888888,
              "#fdca26"
             ],
             [
              1,
              "#f0f921"
             ]
            ],
            "type": "contour"
           }
          ],
          "contourcarpet": [
           {
            "colorbar": {
             "outlinewidth": 0,
             "ticks": ""
            },
            "type": "contourcarpet"
           }
          ],
          "heatmap": [
           {
            "colorbar": {
             "outlinewidth": 0,
             "ticks": ""
            },
            "colorscale": [
             [
              0,
              "#0d0887"
             ],
             [
              0.1111111111111111,
              "#46039f"
             ],
             [
              0.2222222222222222,
              "#7201a8"
             ],
             [
              0.3333333333333333,
              "#9c179e"
             ],
             [
              0.4444444444444444,
              "#bd3786"
             ],
             [
              0.5555555555555556,
              "#d8576b"
             ],
             [
              0.6666666666666666,
              "#ed7953"
             ],
             [
              0.7777777777777778,
              "#fb9f3a"
             ],
             [
              0.8888888888888888,
              "#fdca26"
             ],
             [
              1,
              "#f0f921"
             ]
            ],
            "type": "heatmap"
           }
          ],
          "histogram": [
           {
            "marker": {
             "pattern": {
              "fillmode": "overlay",
              "size": 10,
              "solidity": 0.2
             }
            },
            "type": "histogram"
           }
          ],
          "histogram2d": [
           {
            "colorbar": {
             "outlinewidth": 0,
             "ticks": ""
            },
            "colorscale": [
             [
              0,
              "#0d0887"
             ],
             [
              0.1111111111111111,
              "#46039f"
             ],
             [
              0.2222222222222222,
              "#7201a8"
             ],
             [
              0.3333333333333333,
              "#9c179e"
             ],
             [
              0.4444444444444444,
              "#bd3786"
             ],
             [
              0.5555555555555556,
              "#d8576b"
             ],
             [
              0.6666666666666666,
              "#ed7953"
             ],
             [
              0.7777777777777778,
              "#fb9f3a"
             ],
             [
              0.8888888888888888,
              "#fdca26"
             ],
             [
              1,
              "#f0f921"
             ]
            ],
            "type": "histogram2d"
           }
          ],
          "histogram2dcontour": [
           {
            "colorbar": {
             "outlinewidth": 0,
             "ticks": ""
            },
            "colorscale": [
             [
              0,
              "#0d0887"
             ],
             [
              0.1111111111111111,
              "#46039f"
             ],
             [
              0.2222222222222222,
              "#7201a8"
             ],
             [
              0.3333333333333333,
              "#9c179e"
             ],
             [
              0.4444444444444444,
              "#bd3786"
             ],
             [
              0.5555555555555556,
              "#d8576b"
             ],
             [
              0.6666666666666666,
              "#ed7953"
             ],
             [
              0.7777777777777778,
              "#fb9f3a"
             ],
             [
              0.8888888888888888,
              "#fdca26"
             ],
             [
              1,
              "#f0f921"
             ]
            ],
            "type": "histogram2dcontour"
           }
          ],
          "mesh3d": [
           {
            "colorbar": {
             "outlinewidth": 0,
             "ticks": ""
            },
            "type": "mesh3d"
           }
          ],
          "parcoords": [
           {
            "line": {
             "colorbar": {
              "outlinewidth": 0,
              "ticks": ""
             }
            },
            "type": "parcoords"
           }
          ],
          "pie": [
           {
            "automargin": true,
            "type": "pie"
           }
          ],
          "scatter": [
           {
            "fillpattern": {
             "fillmode": "overlay",
             "size": 10,
             "solidity": 0.2
            },
            "type": "scatter"
           }
          ],
          "scatter3d": [
           {
            "line": {
             "colorbar": {
              "outlinewidth": 0,
              "ticks": ""
             }
            },
            "marker": {
             "colorbar": {
              "outlinewidth": 0,
              "ticks": ""
             }
            },
            "type": "scatter3d"
           }
          ],
          "scattercarpet": [
           {
            "marker": {
             "colorbar": {
              "outlinewidth": 0,
              "ticks": ""
             }
            },
            "type": "scattercarpet"
           }
          ],
          "scattergeo": [
           {
            "marker": {
             "colorbar": {
              "outlinewidth": 0,
              "ticks": ""
             }
            },
            "type": "scattergeo"
           }
          ],
          "scattergl": [
           {
            "marker": {
             "colorbar": {
              "outlinewidth": 0,
              "ticks": ""
             }
            },
            "type": "scattergl"
           }
          ],
          "scattermap": [
           {
            "marker": {
             "colorbar": {
              "outlinewidth": 0,
              "ticks": ""
             }
            },
            "type": "scattermap"
           }
          ],
          "scattermapbox": [
           {
            "marker": {
             "colorbar": {
              "outlinewidth": 0,
              "ticks": ""
             }
            },
            "type": "scattermapbox"
           }
          ],
          "scatterpolar": [
           {
            "marker": {
             "colorbar": {
              "outlinewidth": 0,
              "ticks": ""
             }
            },
            "type": "scatterpolar"
           }
          ],
          "scatterpolargl": [
           {
            "marker": {
             "colorbar": {
              "outlinewidth": 0,
              "ticks": ""
             }
            },
            "type": "scatterpolargl"
           }
          ],
          "scatterternary": [
           {
            "marker": {
             "colorbar": {
              "outlinewidth": 0,
              "ticks": ""
             }
            },
            "type": "scatterternary"
           }
          ],
          "surface": [
           {
            "colorbar": {
             "outlinewidth": 0,
             "ticks": ""
            },
            "colorscale": [
             [
              0,
              "#0d0887"
             ],
             [
              0.1111111111111111,
              "#46039f"
             ],
             [
              0.2222222222222222,
              "#7201a8"
             ],
             [
              0.3333333333333333,
              "#9c179e"
             ],
             [
              0.4444444444444444,
              "#bd3786"
             ],
             [
              0.5555555555555556,
              "#d8576b"
             ],
             [
              0.6666666666666666,
              "#ed7953"
             ],
             [
              0.7777777777777778,
              "#fb9f3a"
             ],
             [
              0.8888888888888888,
              "#fdca26"
             ],
             [
              1,
              "#f0f921"
             ]
            ],
            "type": "surface"
           }
          ],
          "table": [
           {
            "cells": {
             "fill": {
              "color": "#EBF0F8"
             },
             "line": {
              "color": "white"
             }
            },
            "header": {
             "fill": {
              "color": "#C8D4E3"
             },
             "line": {
              "color": "white"
             }
            },
            "type": "table"
           }
          ]
         },
         "layout": {
          "annotationdefaults": {
           "arrowcolor": "#2a3f5f",
           "arrowhead": 0,
           "arrowwidth": 1
          },
          "autotypenumbers": "strict",
          "coloraxis": {
           "colorbar": {
            "outlinewidth": 0,
            "ticks": ""
           }
          },
          "colorscale": {
           "diverging": [
            [
             0,
             "#8e0152"
            ],
            [
             0.1,
             "#c51b7d"
            ],
            [
             0.2,
             "#de77ae"
            ],
            [
             0.3,
             "#f1b6da"
            ],
            [
             0.4,
             "#fde0ef"
            ],
            [
             0.5,
             "#f7f7f7"
            ],
            [
             0.6,
             "#e6f5d0"
            ],
            [
             0.7,
             "#b8e186"
            ],
            [
             0.8,
             "#7fbc41"
            ],
            [
             0.9,
             "#4d9221"
            ],
            [
             1,
             "#276419"
            ]
           ],
           "sequential": [
            [
             0,
             "#0d0887"
            ],
            [
             0.1111111111111111,
             "#46039f"
            ],
            [
             0.2222222222222222,
             "#7201a8"
            ],
            [
             0.3333333333333333,
             "#9c179e"
            ],
            [
             0.4444444444444444,
             "#bd3786"
            ],
            [
             0.5555555555555556,
             "#d8576b"
            ],
            [
             0.6666666666666666,
             "#ed7953"
            ],
            [
             0.7777777777777778,
             "#fb9f3a"
            ],
            [
             0.8888888888888888,
             "#fdca26"
            ],
            [
             1,
             "#f0f921"
            ]
           ],
           "sequentialminus": [
            [
             0,
             "#0d0887"
            ],
            [
             0.1111111111111111,
             "#46039f"
            ],
            [
             0.2222222222222222,
             "#7201a8"
            ],
            [
             0.3333333333333333,
             "#9c179e"
            ],
            [
             0.4444444444444444,
             "#bd3786"
            ],
            [
             0.5555555555555556,
             "#d8576b"
            ],
            [
             0.6666666666666666,
             "#ed7953"
            ],
            [
             0.7777777777777778,
             "#fb9f3a"
            ],
            [
             0.8888888888888888,
             "#fdca26"
            ],
            [
             1,
             "#f0f921"
            ]
           ]
          },
          "colorway": [
           "#636efa",
           "#EF553B",
           "#00cc96",
           "#ab63fa",
           "#FFA15A",
           "#19d3f3",
           "#FF6692",
           "#B6E880",
           "#FF97FF",
           "#FECB52"
          ],
          "font": {
           "color": "#2a3f5f"
          },
          "geo": {
           "bgcolor": "white",
           "lakecolor": "white",
           "landcolor": "#E5ECF6",
           "showlakes": true,
           "showland": true,
           "subunitcolor": "white"
          },
          "hoverlabel": {
           "align": "left"
          },
          "hovermode": "closest",
          "mapbox": {
           "style": "light"
          },
          "paper_bgcolor": "white",
          "plot_bgcolor": "#E5ECF6",
          "polar": {
           "angularaxis": {
            "gridcolor": "white",
            "linecolor": "white",
            "ticks": ""
           },
           "bgcolor": "#E5ECF6",
           "radialaxis": {
            "gridcolor": "white",
            "linecolor": "white",
            "ticks": ""
           }
          },
          "scene": {
           "xaxis": {
            "backgroundcolor": "#E5ECF6",
            "gridcolor": "white",
            "gridwidth": 2,
            "linecolor": "white",
            "showbackground": true,
            "ticks": "",
            "zerolinecolor": "white"
           },
           "yaxis": {
            "backgroundcolor": "#E5ECF6",
            "gridcolor": "white",
            "gridwidth": 2,
            "linecolor": "white",
            "showbackground": true,
            "ticks": "",
            "zerolinecolor": "white"
           },
           "zaxis": {
            "backgroundcolor": "#E5ECF6",
            "gridcolor": "white",
            "gridwidth": 2,
            "linecolor": "white",
            "showbackground": true,
            "ticks": "",
            "zerolinecolor": "white"
           }
          },
          "shapedefaults": {
           "line": {
            "color": "#2a3f5f"
           }
          },
          "ternary": {
           "aaxis": {
            "gridcolor": "white",
            "linecolor": "white",
            "ticks": ""
           },
           "baxis": {
            "gridcolor": "white",
            "linecolor": "white",
            "ticks": ""
           },
           "bgcolor": "#E5ECF6",
           "caxis": {
            "gridcolor": "white",
            "linecolor": "white",
            "ticks": ""
           }
          },
          "title": {
           "x": 0.05
          },
          "xaxis": {
           "automargin": true,
           "gridcolor": "white",
           "linecolor": "white",
           "ticks": "",
           "title": {
            "standoff": 15
           },
           "zerolinecolor": "white",
           "zerolinewidth": 2
          },
          "yaxis": {
           "automargin": true,
           "gridcolor": "white",
           "linecolor": "white",
           "ticks": "",
           "title": {
            "standoff": 15
           },
           "zerolinecolor": "white",
           "zerolinewidth": 2
          }
         }
        },
        "title": {
         "text": "Feature Engineering Validation Dashboard"
        },
        "xaxis": {
         "anchor": "y",
         "domain": [
          0,
          0.45
         ],
         "title": {
          "text": "Growth Rate (%)"
         }
        },
        "xaxis2": {
         "anchor": "y2",
         "domain": [
          0.55,
          1
         ],
         "title": {
          "text": "Volatility (5Y)"
         }
        },
        "xaxis3": {
         "anchor": "y3",
         "domain": [
          0,
          0.45
         ],
         "title": {
          "text": "Year"
         }
        },
        "xaxis4": {
         "anchor": "y4",
         "domain": [
          0.55,
          1
         ],
         "title": {
          "text": "World Percentile"
         }
        },
        "yaxis": {
         "anchor": "x",
         "domain": [
          0.625,
          1
         ],
         "title": {
          "text": "Frequency"
         }
        },
        "yaxis2": {
         "anchor": "x2",
         "domain": [
          0.625,
          1
         ],
         "title": {
          "text": "CAGR 5Y (%)"
         }
        },
        "yaxis3": {
         "anchor": "x3",
         "domain": [
          0,
          0.375
         ],
         "title": {
          "text": "Percentage of Countries"
         }
        },
        "yaxis4": {
         "anchor": "x4",
         "domain": [
          0,
          0.375
         ],
         "title": {
          "text": "Continent"
         }
        }
       }
      }
     },
     "metadata": {},
     "output_type": "display_data"
    }
   ],
   "source": [
    "# Create comprehensive feature validation dashboard\n",
    "fig = make_subplots(\n",
    "    rows=2, cols=2,\n",
    "    subplot_titles=[\n",
    "        'Growth Rate Distribution (2023)',\n",
    "        'Volatility vs Performance',\n",
    "        'Economic Phases Over Time',\n",
    "        'World GDP Percentile Distribution'\n",
    "    ],\n",
    "    specs=[[{\"secondary_y\": False}, {\"secondary_y\": False}],\n",
    "           [{\"secondary_y\": False}, {\"secondary_y\": False}]]\n",
    ")\n",
    "\n",
    "# 1. Growth rate distribution for latest year\n",
    "latest_data = df_final[(df_final['Year'] == df_final['Year'].max()) & (df_final['yoy_growth'].notna())]\n",
    "\n",
    "fig.add_trace(\n",
    "    go.Histogram(\n",
    "        x=latest_data['yoy_growth'],\n",
    "        nbinsx=20,\n",
    "        name='Growth Rate Distribution',\n",
    "        marker_color='lightblue',\n",
    "        opacity=0.7\n",
    "    ),\n",
    "    row=1, col=1\n",
    ")\n",
    "\n",
    "# 2. Volatility vs Performance scatter\n",
    "scatter_data = latest_data[(latest_data['volatility_5y'].notna()) & (latest_data['cagr_5y'].notna())]\n",
    "\n",
    "fig.add_trace(\n",
    "    go.Scatter(\n",
    "        x=scatter_data['volatility_5y'],\n",
    "        y=scatter_data['cagr_5y'],\n",
    "        mode='markers',\n",
    "        text=scatter_data['Entity'],\n",
    "        name='Countries',\n",
    "        marker=dict(\n",
    "            size=8,\n",
    "            color=scatter_data['world_percentile'],\n",
    "            colorscale='Viridis',\n",
    "            showscale=True,\n",
    "            colorbar=dict(title=\"World Percentile\")\n",
    "        )\n",
    "    ),\n",
    "    row=1, col=2\n",
    ")\n",
    "\n",
    "# 3. Economic phases over time (world aggregate)\n",
    "phase_timeline = df_final.groupby(['Year', 'economic_phase']).size().unstack(fill_value=0)\n",
    "phase_timeline_pct = phase_timeline.div(phase_timeline.sum(axis=1), axis=0) * 100\n",
    "\n",
    "for phase in phase_timeline_pct.columns:\n",
    "    fig.add_trace(\n",
    "        go.Scatter(\n",
    "            x=phase_timeline_pct.index,\n",
    "            y=phase_timeline_pct[phase],\n",
    "            mode='lines',\n",
    "            name=f'{phase}',\n",
    "            stackgroup='one'\n",
    "        ),\n",
    "        row=2, col=1\n",
    "    )\n",
    "\n",
    "# 4. World percentile distribution by continent\n",
    "continent_percentiles = latest_data.groupby('Continent')['world_percentile'].mean().sort_values(ascending=True)\n",
    "\n",
    "fig.add_trace(\n",
    "    go.Bar(\n",
    "        x=continent_percentiles.values,\n",
    "        y=continent_percentiles.index,\n",
    "        orientation='h',\n",
    "        name='Avg World Percentile',\n",
    "        marker_color='lightcoral'\n",
    "    ),\n",
    "    row=2, col=2\n",
    ")\n",
    "\n",
    "fig.update_layout(\n",
    "    height=800,\n",
    "    title_text=\"Feature Engineering Validation Dashboard\",\n",
    "    showlegend=False\n",
    ")\n",
    "\n",
    "# Update subplot titles\n",
    "fig.update_xaxes(title_text=\"Growth Rate (%)\", row=1, col=1)\n",
    "fig.update_xaxes(title_text=\"Volatility (5Y)\", row=1, col=2)\n",
    "fig.update_xaxes(title_text=\"Year\", row=2, col=1)\n",
    "fig.update_xaxes(title_text=\"World Percentile\", row=2, col=2)\n",
    "\n",
    "fig.update_yaxes(title_text=\"Frequency\", row=1, col=1)\n",
    "fig.update_yaxes(title_text=\"CAGR 5Y (%)\", row=1, col=2)\n",
    "fig.update_yaxes(title_text=\"Percentage of Countries\", row=2, col=1)\n",
    "fig.update_yaxes(title_text=\"Continent\", row=2, col=2)\n",
    "\n",
    "fig.show()"
   ]
  },
  {
   "cell_type": "markdown",
   "id": "9f2fe856",
   "metadata": {},
   "source": [
    "## 💾 Export Enhanced Dataset"
   ]
  },
  {
   "cell_type": "code",
   "execution_count": 30,
   "id": "2fd83306",
   "metadata": {},
   "outputs": [
    {
     "name": "stdout",
     "output_type": "stream",
     "text": [
      "✅ Enhanced dataset exported to: ../outputs/gdp_with_features.csv\n",
      "📊 Dataset dimensions: (7063, 36)\n",
      "✅ Feature documentation exported to: ../outputs/feature_documentation.csv\n",
      "\n",
      "📋 Sample of Enhanced Dataset:\n",
      "        Entity  Year  GDP per capita, PPP (constant 2021 international $)  \\\n",
      "7053  Zimbabwe  2014                                           3360.552     \n",
      "7054  Zimbabwe  2015                                           3382.923     \n",
      "7055  Zimbabwe  2016                                           3366.344     \n",
      "7056  Zimbabwe  2017                                           3453.510     \n",
      "7057  Zimbabwe  2018                                           3572.984     \n",
      "7058  Zimbabwe  2019                                           3294.806     \n",
      "7059  Zimbabwe  2020                                           2987.270     \n",
      "7060  Zimbabwe  2021                                           3184.785     \n",
      "7061  Zimbabwe  2022                                           3323.122     \n",
      "7062  Zimbabwe  2023                                           3442.251     \n",
      "\n",
      "      yoy_growth  volatility_5y economic_phase  world_percentile  \n",
      "7053       0.102          8.326         stable            14.085  \n",
      "7054       0.666          6.834         stable            14.554  \n",
      "7055      -0.490          6.038         stable            14.085  \n",
      "7056       2.589          1.245       recovery            13.615  \n",
      "7057       3.459          1.685         growth            15.023  \n",
      "7058      -7.786          4.458         crisis            12.207  \n",
      "7059      -9.334          5.914      recession            11.737  \n",
      "7060       6.612          7.179       recovery            12.676  \n",
      "7061       4.344          7.430         growth            13.208  \n",
      "7062       3.585          7.447         growth            13.592  \n"
     ]
    }
   ],
   "source": [
    "# Clean and prepare final dataset for export\n",
    "df_export = df_final.copy()\n",
    "\n",
    "# Round numerical columns for cleaner output\n",
    "numeric_columns = df_export.select_dtypes(include=[np.number]).columns\n",
    "df_export[numeric_columns] = df_export[numeric_columns].round(3)\n",
    "\n",
    "# Export to CSV\n",
    "output_path = '../outputs/gdp_with_features.csv'\n",
    "df_export.to_csv(output_path, index=False)\n",
    "\n",
    "print(f\"✅ Enhanced dataset exported to: {output_path}\")\n",
    "print(f\"📊 Dataset dimensions: {df_export.shape}\")\n",
    "\n",
    "# Create feature summary\n",
    "feature_summary = {\n",
    "    'Growth Features': ['yoy_growth', 'growth_3y', 'growth_5y', 'growth_10y', 'cagr_5y'],\n",
    "    'Trend Features': ['ma_3y', 'ma_5y', 'ma_10y', 'trend_vs_ma3', 'trend_vs_ma5', 'trend_vs_ma10', 'ma5_slope'],\n",
    "    'Volatility Features': ['volatility_5y', 'cv_growth_5y', 'gdp_volatility_5y', 'risk_adjusted_performance', 'max_drawdown_5y'],\n",
    "    'Cycle Features': ['in_recession', 'in_recovery', 'economic_phase', 'crisis_year', 'years_since_recession'],\n",
    "    'Relative Features': ['gdp_vs_world', 'gdp_vs_continent', 'growth_vs_world', 'world_percentile', 'continent_percentile', 'income_classification']\n",
    "}\n",
    "\n",
    "# Export feature documentation\n",
    "feature_doc = []\n",
    "for category, features in feature_summary.items():\n",
    "    for feature in features:\n",
    "        feature_doc.append({\n",
    "            'Category': category,\n",
    "            'Feature': feature,\n",
    "            'Description': f'Engineered feature in {category.lower()}'\n",
    "        })\n",
    "\n",
    "feature_df = pd.DataFrame(feature_doc)\n",
    "feature_df.to_csv('../outputs/feature_documentation.csv', index=False)\n",
    "\n",
    "print(f\"✅ Feature documentation exported to: ../outputs/feature_documentation.csv\")\n",
    "\n",
    "# Sample of final dataset\n",
    "print(f\"\\n📋 Sample of Enhanced Dataset:\")\n",
    "sample_cols = ['Entity', 'Year', gdp_column, 'yoy_growth', 'volatility_5y', 'economic_phase', 'world_percentile']\n",
    "print(df_export[sample_cols].tail(10))"
   ]
  },
  {
   "cell_type": "markdown",
   "id": "ca6a5b27",
   "metadata": {},
   "source": [
    "## 📈 Feature Engineering Summary\n",
    "\n",
    "### 🎯 **Objectives Achieved**\n",
    "\n",
    "✅ **Growth Analysis**: Created YoY, 3Y, 5Y, 10Y growth rates and CAGR metrics  \n",
    "✅ **Trend Detection**: Implemented moving averages and trend indicators  \n",
    "✅ **Risk Assessment**: Calculated volatility, max drawdown, and risk-adjusted performance  \n",
    "✅ **Economic Cycles**: Built recession detection and economic phase classification  \n",
    "✅ **Relative Performance**: Created world and continent benchmarking features  \n",
    "\n",
    "### 📊 **Key Features Created (26 total)**\n",
    "\n",
    "1. **Growth Features (5)**: YoY growth, multi-year growth rates, CAGR\n",
    "2. **Trend Features (7)**: Moving averages, trend indicators, slope analysis\n",
    "3. **Volatility Features (5)**: Risk measures, drawdown analysis, performance ratios\n",
    "4. **Cycle Features (5)**: Recession detection, economic phases, crisis indicators\n",
    "5. **Relative Features (6)**: World/continent benchmarks, percentile rankings\n",
    "\n",
    "### 🔍 **Key Insights from Feature Engineering**\n",
    "\n",
    "- **Economic Phases**: Automated classification of expansion, recession, recovery periods\n",
    "- **Risk-Return Profile**: Countries can be ranked by risk-adjusted performance\n",
    "- **Relative Positioning**: Each country's performance vs global and regional benchmarks\n",
    "- **Crisis Detection**: Automated identification of economic crisis periods\n",
    "- **Trend Analysis**: Multi-timeframe trend detection and momentum indicators\n",
    "\n",
    "### 📁 **Outputs**\n",
    "\n",
    "- `../outputs/gdp_with_features.csv` - Enhanced dataset with all engineered features\n",
    "- `../outputs/feature_documentation.csv` - Complete feature documentation\n",
    "\n",
    "---\n",
    "\n",
    "**🚀 Next Steps**: Use these features for advanced economic analysis, country clustering, predictive modeling, and investment decision-making frameworks."
   ]
  }
 ],
 "metadata": {
  "kernelspec": {
   "display_name": ".venv",
   "language": "python",
   "name": "python3"
  },
  "language_info": {
   "codemirror_mode": {
    "name": "ipython",
    "version": 3
   },
   "file_extension": ".py",
   "mimetype": "text/x-python",
   "name": "python",
   "nbconvert_exporter": "python",
   "pygments_lexer": "ipython3",
   "version": "3.13.7"
  }
 },
 "nbformat": 4,
 "nbformat_minor": 5
}
