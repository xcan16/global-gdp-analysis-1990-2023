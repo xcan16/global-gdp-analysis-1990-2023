{
 "cells": [
  {
   "cell_type": "markdown",
   "id": "eca93d84",
   "metadata": {},
   "source": [
    "# 📊 GDP Per Capita Data Exploration & Cleaning\n",
    "\n",
    "Bu notebook'ta World Bank GDP per capita veri setini keşfedip temizleyeceğiz.\n",
    "\n",
    "## 🎯 Amaçlar:\n",
    "- Veri setinin yapısını anlamak\n",
    "- Missing values analizi\n",
    "- Temel istatistiksel özellikler\n",
    "- Veri temizleme işlemleri"
   ]
  },
  {
   "cell_type": "code",
   "execution_count": 1,
   "id": "c90953b0",
   "metadata": {},
   "outputs": [
    {
     "name": "stdout",
     "output_type": "stream",
     "text": [
      "✅ Kütüphaneler başarıyla yüklendi!\n"
     ]
    }
   ],
   "source": [
    "# Gerekli kütüphaneleri import edelim\n",
    "import pandas as pd\n",
    "import numpy as np\n",
    "import matplotlib.pyplot as plt\n",
    "import seaborn as sns\n",
    "import warnings\n",
    "\n",
    "# Görselleştirme ayarları\n",
    "plt.style.use('seaborn-v0_8')\n",
    "sns.set_palette(\"husl\")\n",
    "warnings.filterwarnings('ignore')\n",
    "\n",
    "# Display ayarları\n",
    "pd.set_option('display.max_columns', None)\n",
    "pd.set_option('display.max_rows', 100)\n",
    "\n",
    "print(\"✅ Kütüphaneler başarıyla yüklendi!\")"
   ]
  },
  {
   "cell_type": "code",
   "execution_count": 2,
   "id": "546f9e9b",
   "metadata": {},
   "outputs": [
    {
     "name": "stdout",
     "output_type": "stream",
     "text": [
      "📈 Veri seti başarıyla yüklendi!\n",
      "📊 Boyut: 7063 satır x 4 sütun\n"
     ]
    }
   ],
   "source": [
    "# Veri setini yükleyelim (relative path kullanıyoruz - GitHub için uygun)\n",
    "df = pd.read_csv('../data/gdp-per-capita-worldbank.csv')\n",
    "\n",
    "print(f\"📈 Veri seti başarıyla yüklendi!\")\n",
    "print(f\"📊 Boyut: {df.shape[0]} satır x {df.shape[1]} sütun\")"
   ]
  },
  {
   "cell_type": "markdown",
   "id": "3b181297",
   "metadata": {},
   "source": [
    "## 🔍 Veri Seti Yapısı İncelemesi"
   ]
  },
  {
   "cell_type": "code",
   "execution_count": 3,
   "id": "3da38757",
   "metadata": {},
   "outputs": [
    {
     "name": "stdout",
     "output_type": "stream",
     "text": [
      "📋 İlk 5 satır:\n"
     ]
    },
    {
     "data": {
      "text/html": [
       "<div>\n",
       "<style scoped>\n",
       "    .dataframe tbody tr th:only-of-type {\n",
       "        vertical-align: middle;\n",
       "    }\n",
       "\n",
       "    .dataframe tbody tr th {\n",
       "        vertical-align: top;\n",
       "    }\n",
       "\n",
       "    .dataframe thead th {\n",
       "        text-align: right;\n",
       "    }\n",
       "</style>\n",
       "<table border=\"1\" class=\"dataframe\">\n",
       "  <thead>\n",
       "    <tr style=\"text-align: right;\">\n",
       "      <th></th>\n",
       "      <th>Entity</th>\n",
       "      <th>Code</th>\n",
       "      <th>Year</th>\n",
       "      <th>GDP per capita, PPP (constant 2021 international $)</th>\n",
       "    </tr>\n",
       "  </thead>\n",
       "  <tbody>\n",
       "    <tr>\n",
       "      <th>0</th>\n",
       "      <td>Afghanistan</td>\n",
       "      <td>AFG</td>\n",
       "      <td>2000</td>\n",
       "      <td>1617.8264</td>\n",
       "    </tr>\n",
       "    <tr>\n",
       "      <th>1</th>\n",
       "      <td>Afghanistan</td>\n",
       "      <td>AFG</td>\n",
       "      <td>2001</td>\n",
       "      <td>1454.1108</td>\n",
       "    </tr>\n",
       "    <tr>\n",
       "      <th>2</th>\n",
       "      <td>Afghanistan</td>\n",
       "      <td>AFG</td>\n",
       "      <td>2002</td>\n",
       "      <td>1774.3087</td>\n",
       "    </tr>\n",
       "    <tr>\n",
       "      <th>3</th>\n",
       "      <td>Afghanistan</td>\n",
       "      <td>AFG</td>\n",
       "      <td>2003</td>\n",
       "      <td>1815.9282</td>\n",
       "    </tr>\n",
       "    <tr>\n",
       "      <th>4</th>\n",
       "      <td>Afghanistan</td>\n",
       "      <td>AFG</td>\n",
       "      <td>2004</td>\n",
       "      <td>1776.9182</td>\n",
       "    </tr>\n",
       "  </tbody>\n",
       "</table>\n",
       "</div>"
      ],
      "text/plain": [
       "        Entity Code  Year  GDP per capita, PPP (constant 2021 international $)\n",
       "0  Afghanistan  AFG  2000                                          1617.8264  \n",
       "1  Afghanistan  AFG  2001                                          1454.1108  \n",
       "2  Afghanistan  AFG  2002                                          1774.3087  \n",
       "3  Afghanistan  AFG  2003                                          1815.9282  \n",
       "4  Afghanistan  AFG  2004                                          1776.9182  "
      ]
     },
     "metadata": {},
     "output_type": "display_data"
    }
   ],
   "source": [
    "# İlk 5 satırı görüntüleyelim\n",
    "print(\"📋 İlk 5 satır:\")\n",
    "display(df.head())"
   ]
  },
  {
   "cell_type": "code",
   "execution_count": 4,
   "id": "f0413f9d",
   "metadata": {},
   "outputs": [
    {
     "name": "stdout",
     "output_type": "stream",
     "text": [
      "📄 Sütun Bilgileri:\n",
      "<class 'pandas.core.frame.DataFrame'>\n",
      "RangeIndex: 7063 entries, 0 to 7062\n",
      "Data columns (total 4 columns):\n",
      " #   Column                                               Non-Null Count  Dtype  \n",
      "---  ------                                               --------------  -----  \n",
      " 0   Entity                                               7063 non-null   object \n",
      " 1   Code                                                 6605 non-null   object \n",
      " 2   Year                                                 7063 non-null   int64  \n",
      " 3   GDP per capita, PPP (constant 2021 international $)  7063 non-null   float64\n",
      "dtypes: float64(1), int64(1), object(2)\n",
      "memory usage: 220.8+ KB\n",
      "None\n"
     ]
    }
   ],
   "source": [
    "# Sütun bilgileri\n",
    "print(\"📄 Sütun Bilgileri:\")\n",
    "print(df.info())"
   ]
  },
  {
   "cell_type": "code",
   "execution_count": 5,
   "id": "9d1feedb",
   "metadata": {},
   "outputs": [
    {
     "name": "stdout",
     "output_type": "stream",
     "text": [
      "📝 Sütun İsimleri:\n",
      "1. Entity\n",
      "2. Code\n",
      "3. Year\n",
      "4. GDP per capita, PPP (constant 2021 international $)\n"
     ]
    }
   ],
   "source": [
    "# Sütun isimlerini kontrol edelim\n",
    "print(\"📝 Sütun İsimleri:\")\n",
    "for i, col in enumerate(df.columns, 1):\n",
    "    print(f\"{i}. {col}\")"
   ]
  },
  {
   "cell_type": "code",
   "execution_count": 6,
   "id": "fd76b504",
   "metadata": {},
   "outputs": [
    {
     "name": "stdout",
     "output_type": "stream",
     "text": [
      "🌍 Toplam ülke/bölge sayısı: 213\n",
      "📅 Yıl aralığı: 1990 - 2023\n",
      "📊 Toplam veri noktası: 7063\n"
     ]
    }
   ],
   "source": [
    "# Benzersiz ülke sayısı\n",
    "print(f\"🌍 Toplam ülke/bölge sayısı: {df['Entity'].nunique()}\")\n",
    "print(f\"📅 Yıl aralığı: {df['Year'].min()} - {df['Year'].max()}\")\n",
    "print(f\"📊 Toplam veri noktası: {len(df)}\")"
   ]
  },
  {
   "cell_type": "markdown",
   "id": "95c76606",
   "metadata": {},
   "source": [
    "## 🔎 Missing Values Analizi"
   ]
  },
  {
   "cell_type": "code",
   "execution_count": null,
   "id": "6956b56a",
   "metadata": {},
   "outputs": [],
   "source": [
    "# Missing values kontrolü\n",
    "print(\"❌ Missing Values Analizi:\")\n",
    "missing_data = df.isnull().sum()\n",
    "missing_percent = (df.isnull().sum() / len(df)) * 100\n",
    "\n",
    "missing_df = pd.DataFrame({\n",
    "    'Missing Count': missing_data,\n",
    "    'Missing Percentage': missing_percent\n",
    "})\n",
    "\n",
    "display(missing_df[missing_df['Missing Count'] > 0])"
   ]
  },
  {
   "cell_type": "code",
   "execution_count": null,
   "id": "ea5a13b4",
   "metadata": {},
   "outputs": [],
   "source": [
    "# GDP sütununun gerçek ismi neyse o sütunu kullanalım\n",
    "gdp_column = [col for col in df.columns if 'GDP' in col or 'capita' in col or col not in ['Entity', 'Code', 'Year']][0]\n",
    "print(f\"💰 GDP sütunu: {gdp_column}\")\n",
    "\n",
    "# GDP değerlerinin missing olan ülkeler\n",
    "missing_gdp = df[df[gdp_column].isnull()]\n",
    "print(f\"\\n❌ GDP verisi olmayan kayıt sayısı: {len(missing_gdp)}\")\n",
    "\n",
    "if len(missing_gdp) > 0:\n",
    "    print(\"\\n🔍 GDP verisi eksik olan bazı ülkeler:\")\n",
    "    print(missing_gdp[['Entity', 'Year']].head(10))"
   ]
  },
  {
   "cell_type": "markdown",
   "id": "a01c0122",
   "metadata": {},
   "source": [
    "## 📊 Temel İstatistiksel Analiz"
   ]
  },
  {
   "cell_type": "code",
   "execution_count": null,
   "id": "126fa622",
   "metadata": {},
   "outputs": [],
   "source": [
    "# Temel istatistikler\n",
    "print(\"📈 GDP Per Capita Temel İstatistikleri:\")\n",
    "display(df[gdp_column].describe())"
   ]
  },
  {
   "cell_type": "code",
   "execution_count": null,
   "id": "12a156a2",
   "metadata": {},
   "outputs": [],
   "source": [
    "# GDP dağılımını görselleştirelim\n",
    "fig, axes = plt.subplots(1, 2, figsize=(15, 5))\n",
    "\n",
    "# Histogram\n",
    "axes[0].hist(df[gdp_column].dropna(), bins=50, alpha=0.7, color='skyblue', edgecolor='black')\n",
    "axes[0].set_title('GDP Per Capita Dağılımı', fontsize=14, fontweight='bold')\n",
    "axes[0].set_xlabel('GDP Per Capita (USD)')\n",
    "axes[0].set_ylabel('Frekans')\n",
    "axes[0].grid(True, alpha=0.3)\n",
    "\n",
    "# Box plot\n",
    "axes[1].boxplot(df[gdp_column].dropna(), vert=True)\n",
    "axes[1].set_title('GDP Per Capita Box Plot', fontsize=14, fontweight='bold')\n",
    "axes[1].set_ylabel('GDP Per Capita (USD)')\n",
    "axes[1].grid(True, alpha=0.3)\n",
    "\n",
    "plt.tight_layout()\n",
    "plt.show()\n",
    "\n",
    "# Outlier analizi\n",
    "Q1 = df[gdp_column].quantile(0.25)\n",
    "Q3 = df[gdp_column].quantile(0.75)\n",
    "IQR = Q3 - Q1\n",
    "lower_bound = Q1 - 1.5 * IQR\n",
    "upper_bound = Q3 + 1.5 * IQR\n",
    "\n",
    "outliers = df[(df[gdp_column] < lower_bound) | (df[gdp_column] > upper_bound)]\n",
    "print(f\"\\n🔍 Outlier sayısı: {len(outliers)} ({len(outliers)/len(df)*100:.1f}%)\")"
   ]
  },
  {
   "cell_type": "markdown",
   "id": "ec91e63b",
   "metadata": {},
   "source": [
    "## 🌍 Ülkeler ve Yıllar Analizi"
   ]
  },
  {
   "cell_type": "code",
   "execution_count": null,
   "id": "767cb7e1",
   "metadata": {},
   "outputs": [],
   "source": [
    "# En çok ve en az veri bulunan ülkeler\n",
    "country_data_count = df.groupby('Entity').size().sort_values(ascending=False)\n",
    "\n",
    "print(\"🏆 En çok veri noktası olan ülkeler:\")\n",
    "print(country_data_count.head(10))\n",
    "\n",
    "print(\"\\n⚠️ En az veri noktası olan ülkeler:\")\n",
    "print(country_data_count.tail(10))"
   ]
  },
  {
   "cell_type": "code",
   "execution_count": null,
   "id": "7216d3c0",
   "metadata": {},
   "outputs": [],
   "source": [
    "# Yıllara göre veri sayısı\n",
    "yearly_count = df.groupby('Year').size()\n",
    "\n",
    "plt.figure(figsize=(12, 6))\n",
    "yearly_count.plot(kind='line', marker='o', linewidth=2, markersize=4)\n",
    "plt.title('Yıllara Göre Veri Noktası Sayısı', fontsize=14, fontweight='bold')\n",
    "plt.xlabel('Yıl')\n",
    "plt.ylabel('Veri Noktası Sayısı')\n",
    "plt.grid(True, alpha=0.3)\n",
    "plt.xticks(rotation=45)\n",
    "plt.tight_layout()\n",
    "plt.show()\n",
    "\n",
    "print(f\"📊 En çok veri olan yıl: {yearly_count.idxmax()} ({yearly_count.max()} ülke)\")\n",
    "print(f\"📊 En az veri olan yıl: {yearly_count.idxmin()} ({yearly_count.min()} ülke)\")"
   ]
  },
  {
   "cell_type": "markdown",
   "id": "bdeab351",
   "metadata": {},
   "source": [
    "## 🧹 Veri Temizleme"
   ]
  },
  {
   "cell_type": "code",
   "execution_count": null,
   "id": "080f313f",
   "metadata": {},
   "outputs": [],
   "source": [
    "# Veri temizleme öncesi boyut\n",
    "print(f\"🔢 Temizleme öncesi veri boyutu: {df.shape}\")\n",
    "\n",
    "# 1. Missing GDP değerlerini kaldır\n",
    "df_clean = df.dropna(subset=[gdp_column]).copy()\n",
    "print(f\"✅ Missing GDP değerleri kaldırıldı: {df_clean.shape}\")\n",
    "\n",
    "# 2. Negatif GDP değerlerini kontrol et\n",
    "negative_gdp = df_clean[df_clean[gdp_column] < 0]\n",
    "if len(negative_gdp) > 0:\n",
    "    print(f\"⚠️ Negatif GDP değeri bulunan kayıt: {len(negative_gdp)}\")\n",
    "    df_clean = df_clean[df_clean[gdp_column] >= 0]\n",
    "    print(f\"✅ Negatif değerler kaldırıldı: {df_clean.shape}\")\n",
    "else:\n",
    "    print(\"✅ Negatif GDP değeri bulunamadı\")\n",
    "\n",
    "# 3. Aşırı outlier'ları kontrol et (çok uç değerler)\n",
    "extreme_outliers = df_clean[df_clean[gdp_column] > 200000]  # 200k USD üzeri\n",
    "if len(extreme_outliers) > 0:\n",
    "    print(f\"\\n🔍 Aşırı yüksek GDP değerleri ({len(extreme_outliers)} kayıt):\")\n",
    "    print(extreme_outliers[['Entity', 'Year', gdp_column]].head())\n",
    "\n",
    "print(f\"\\n🎉 Final temiz veri boyutu: {df_clean.shape}\")\n",
    "print(f\"📉 Kaldırılan kayıt oranı: {((len(df) - len(df_clean)) / len(df) * 100):.1f}%\")"
   ]
  },
  {
   "cell_type": "code",
   "execution_count": null,
   "id": "95ece468",
   "metadata": {},
   "outputs": [],
   "source": [
    "# Temizlenmiş verinin özeti\n",
    "print(\"📊 Temizlenmiş Veri Özeti:\")\n",
    "print(f\"🌍 Ülke sayısı: {df_clean['Entity'].nunique()}\")\n",
    "print(f\"📅 Yıl aralığı: {df_clean['Year'].min()} - {df_clean['Year'].max()}\")\n",
    "print(f\"💰 GDP aralığı: ${df_clean[gdp_column].min():,.0f} - ${df_clean[gdp_column].max():,.0f}\")\n",
    "print(f\"📈 Ortalama GDP: ${df_clean[gdp_column].mean():,.0f}\")\n",
    "print(f\"📊 Medyan GDP: ${df_clean[gdp_column].median():,.0f}\")"
   ]
  },
  {
   "cell_type": "code",
   "execution_count": null,
   "id": "76a52efc",
   "metadata": {},
   "outputs": [
    {
     "ename": "NameError",
     "evalue": "name 'df_clean' is not defined",
     "output_type": "error",
     "traceback": [
      "\u001b[31m---------------------------------------------------------------------------\u001b[39m",
      "\u001b[31mNameError\u001b[39m                                 Traceback (most recent call last)",
      "\u001b[36mCell\u001b[39m\u001b[36m \u001b[39m\u001b[32mIn[7]\u001b[39m\u001b[32m, line 2\u001b[39m\n\u001b[32m      1\u001b[39m \u001b[38;5;66;03m# Temizlenmiş veriyi kaydet\u001b[39;00m\n\u001b[32m----> \u001b[39m\u001b[32m2\u001b[39m \u001b[43mdf_clean\u001b[49m.to_csv(\u001b[33m'\u001b[39m\u001b[33m../data/gdp_cleaned.csv\u001b[39m\u001b[33m'\u001b[39m, index=\u001b[38;5;28;01mFalse\u001b[39;00m)\n\u001b[32m      3\u001b[39m \u001b[38;5;28mprint\u001b[39m(\u001b[33m\"\u001b[39m\u001b[33m💾 Temizlenmiş veri \u001b[39m\u001b[33m'\u001b[39m\u001b[33m../data/gdp_cleaned.csv\u001b[39m\u001b[33m'\u001b[39m\u001b[33m olarak kaydedildi!\u001b[39m\u001b[33m\"\u001b[39m)\n\u001b[32m      5\u001b[39m \u001b[38;5;66;03m# Kullanım için global değişken\u001b[39;00m\n",
      "\u001b[31mNameError\u001b[39m: name 'df_clean' is not defined"
     ]
    }
   ],
   "source": [
    "# Create cleaned dataset by removing missing GDP values\n",
    "df_clean = df.dropna(subset=[gdp_column]).copy()\n",
    "\n",
    "# Remove negative GDP values if any\n",
    "df_clean = df_clean[df_clean[gdp_column] >= 0]\n",
    "\n",
    "print(f\"📊 Cleaned dataset size: {df_clean.shape}\")\n",
    "print(f\"📈 Average GDP: ${df_clean[gdp_column].mean():,.0f}\")\n",
    "print(f\"📊 Median GDP: ${df_clean[gdp_column].median():,.0f}\")\n",
    "\n",
    "# Save cleaned dataset\n",
    "df_clean.to_csv('../data/gdp_cleaned.csv', index=False)\n",
    "print(\"💾 Cleaned data saved as '../data/gdp_cleaned.csv'!\")\n",
    "\n",
    "# Set global variable for usage\n",
    "GDP_COLUMN = gdp_column\n",
    "print(f\"\\n🔧 GDP column name: {GDP_COLUMN}\")\n",
    "print(\"✅ Data exploration and cleaning completed!\")"
   ]
  }
 ],
 "metadata": {
  "kernelspec": {
   "display_name": ".venv",
   "language": "python",
   "name": "python3"
  },
  "language_info": {
   "codemirror_mode": {
    "name": "ipython",
    "version": 3
   },
   "file_extension": ".py",
   "mimetype": "text/x-python",
   "name": "python",
   "nbconvert_exporter": "python",
   "pygments_lexer": "ipython3",
   "version": "3.13.7"
  }
 },
 "nbformat": 4,
 "nbformat_minor": 5
}
