{
 "cells": [
  {
   "cell_type": "markdown",
   "id": "413f9d42",
   "metadata": {},
   "source": [
    "# 📊 Exploratory Data Analysis - GDP Per Capita (1990-2023)\n",
    "\n",
    "**Author**: Global Economic Analysis Portfolio Project  \n",
    "**Dataset**: World Bank GDP Per Capita Data  \n",
    "**Objective**: Comprehensive EDA to understand global economic patterns and trends\n",
    "\n",
    "## 🎯 Analysis Objectives:\n",
    "1. 🌍 Global GDP trends and growth patterns\n",
    "2. 🗺️ Continental economic comparisons\n",
    "3. 🏆 Wealth inequality analysis (richest vs poorest countries)\n",
    "4. 🗺️ Geographic visualization and distribution\n",
    "5. 📉 Economic crisis impact analysis (2008 & COVID-19)\n",
    "6. 📈 Long-term inequality trends"
   ]
  },
  {
   "cell_type": "code",
   "execution_count": null,
   "id": "91d3d1e7",
   "metadata": {},
   "outputs": [
    {
     "name": "stdout",
     "output_type": "stream",
     "text": [
      "✅ Kütüphaneler başarıyla yüklendi!\n"
     ]
    }
   ],
   "source": [
    "# Import required libraries for comprehensive analysis\n",
    "import pandas as pd\n",
    "import numpy as np\n",
    "import matplotlib.pyplot as plt\n",
    "import seaborn as sns\n",
    "import plotly.express as px\n",
    "import plotly.graph_objects as go\n",
    "from plotly.subplots import make_subplots\n",
    "import warnings\n",
    "import sys\n",
    "import os\n",
    "\n",
    "# Add src folder to path for custom utilities\n",
    "sys.path.append('../src')\n",
    "from utils import get_continent_mapping\n",
    "\n",
    "# Visualization settings\n",
    "plt.style.use('seaborn-v0_8')\n",
    "sns.set_palette(\"husl\")\n",
    "warnings.filterwarnings('ignore')\n",
    "\n",
    "# Plotly settings\n",
    "import plotly.io as pio\n",
    "pio.templates.default = \"plotly_white\"\n",
    "\n",
    "print(\"✅ Libraries loaded successfully!\")"
   ]
  },
  {
   "cell_type": "markdown",
   "id": "2623cb1d",
   "metadata": {},
   "source": [
    "## 📂 Data Loading and Preparation"
   ]
  },
  {
   "cell_type": "code",
   "execution_count": 6,
   "id": "5aefc867",
   "metadata": {},
   "outputs": [
    {
     "name": "stdout",
     "output_type": "stream",
     "text": [
      "Veri boyutu: (7063, 5)\n",
      "Kita dagilimi:\n",
      "Continent\n",
      "Africa           1710\n",
      "Asia             1479\n",
      "Europe           1408\n",
      "Other             903\n",
      "North America     748\n",
      "Oceania           441\n",
      "South America     374\n",
      "Name: count, dtype: int64\n",
      "\n",
      "Yil araligi: 1990 - 2023\n"
     ]
    }
   ],
   "source": [
    "# Ham veriyi yukleyip temizleyelim\n",
    "df = pd.read_csv('../data/gdp-per-capita-worldbank.csv')\n",
    "gdp_column = 'GDP per capita, PPP (constant 2021 international $)'\n",
    "\n",
    "# Veri temizleme\n",
    "df_clean = df.dropna(subset=[gdp_column]).copy()\n",
    "df_clean = df_clean[df_clean[gdp_column] >= 0]  # Negatif degerler varsa kaldir\n",
    "\n",
    "# Kita bilgisini ekleyelim\n",
    "continent_mapping = get_continent_mapping()\n",
    "df_clean['Continent'] = df_clean['Entity'].map(continent_mapping)\n",
    "df_clean['Continent'] = df_clean['Continent'].fillna('Other')\n",
    "\n",
    "# Temizlenmis veriyi kaydet\n",
    "df_clean.to_csv('../data/gdp_cleaned.csv', index=False)\n",
    "\n",
    "print(f\"Veri boyutu: {df_clean.shape}\")\n",
    "print(f\"Kita dagilimi:\")\n",
    "print(df_clean['Continent'].value_counts())\n",
    "print(f\"\\nYil araligi: {df_clean['Year'].min()} - {df_clean['Year'].max()}\")\n",
    "\n",
    "# df'yi df_clean olarak guncelleyelim\n",
    "df = df_clean.copy()"
   ]
  },
  {
   "cell_type": "code",
   "execution_count": 7,
   "id": "7974c8dd",
   "metadata": {},
   "outputs": [
    {
     "data": {
      "application/vnd.plotly.v1+json": {
       "config": {
        "plotlyServerURL": "https://plot.ly"
       },
       "data": [
        {
         "hovertemplate": "<b>Yil:</b> %{x}<br><b>GDP:</b> $%{y:,.0f}<extra></extra>",
         "line": {
          "color": "#2E86AB",
          "width": 3
         },
         "marker": {
          "size": 6
         },
         "mode": "lines+markers",
         "name": "Dunya Ortalamasi",
         "type": "scatter",
         "x": {
          "bdata": "0AfRB9IH0wfUB9UH1gfXB9gH2QfaB9sH3AfdB94H3wfgB+EH4gfjB+QH5QfmB+cH",
          "dtype": "i2"
         },
         "y": {
          "bdata": "dSaqJr970kBLaD0dlr3SQKDufxpbJNNAzBknimqX00A13O+co2zUQPSWPi9UAtVARcHSK48r1kBx+hGLEtzWQBU1V0tSDtdAq22Z/wdF1kBy0k3tQNjWQBnLeAr7YNdABYhAujiH10DSm4m8Pp7XQC8uR+yw09dAlg4TQkT010DAeL5ruUDYQBnhthBHtdhAJW8/oXgr2UBP5HKG9ITZQEeKBos4utdAqxXMsKY32UAtO8u7lsfZQF0jlcdIRNpA",
          "dtype": "f8"
         }
        }
       ],
       "layout": {
        "annotations": [
         {
          "showarrow": false,
          "text": "2008 Krizi",
          "x": 2009,
          "xanchor": "right",
          "xref": "x",
          "y": 1,
          "yanchor": "top",
          "yref": "y domain"
         },
         {
          "showarrow": false,
          "text": "COVID-19",
          "x": 2021,
          "xanchor": "right",
          "xref": "x",
          "y": 1,
          "yanchor": "top",
          "yref": "y domain"
         }
        ],
        "height": 500,
        "hovermode": "x unified",
        "shapes": [
         {
          "fillcolor": "red",
          "line": {
           "width": 0
          },
          "opacity": 0.1,
          "type": "rect",
          "x0": 2007,
          "x1": 2009,
          "xref": "x",
          "y0": 0,
          "y1": 1,
          "yref": "y domain"
         },
         {
          "fillcolor": "orange",
          "line": {
           "width": 0
          },
          "opacity": 0.1,
          "type": "rect",
          "x0": 2020,
          "x1": 2021,
          "xref": "x",
          "y0": 0,
          "y1": 1,
          "yref": "y domain"
         }
        ],
        "template": {
         "data": {
          "bar": [
           {
            "error_x": {
             "color": "#2a3f5f"
            },
            "error_y": {
             "color": "#2a3f5f"
            },
            "marker": {
             "line": {
              "color": "white",
              "width": 0.5
             },
             "pattern": {
              "fillmode": "overlay",
              "size": 10,
              "solidity": 0.2
             }
            },
            "type": "bar"
           }
          ],
          "barpolar": [
           {
            "marker": {
             "line": {
              "color": "white",
              "width": 0.5
             },
             "pattern": {
              "fillmode": "overlay",
              "size": 10,
              "solidity": 0.2
             }
            },
            "type": "barpolar"
           }
          ],
          "carpet": [
           {
            "aaxis": {
             "endlinecolor": "#2a3f5f",
             "gridcolor": "#C8D4E3",
             "linecolor": "#C8D4E3",
             "minorgridcolor": "#C8D4E3",
             "startlinecolor": "#2a3f5f"
            },
            "baxis": {
             "endlinecolor": "#2a3f5f",
             "gridcolor": "#C8D4E3",
             "linecolor": "#C8D4E3",
             "minorgridcolor": "#C8D4E3",
             "startlinecolor": "#2a3f5f"
            },
            "type": "carpet"
           }
          ],
          "choropleth": [
           {
            "colorbar": {
             "outlinewidth": 0,
             "ticks": ""
            },
            "type": "choropleth"
           }
          ],
          "contour": [
           {
            "colorbar": {
             "outlinewidth": 0,
             "ticks": ""
            },
            "colorscale": [
             [
              0,
              "#0d0887"
             ],
             [
              0.1111111111111111,
              "#46039f"
             ],
             [
              0.2222222222222222,
              "#7201a8"
             ],
             [
              0.3333333333333333,
              "#9c179e"
             ],
             [
              0.4444444444444444,
              "#bd3786"
             ],
             [
              0.5555555555555556,
              "#d8576b"
             ],
             [
              0.6666666666666666,
              "#ed7953"
             ],
             [
              0.7777777777777778,
              "#fb9f3a"
             ],
             [
              0.8888888888888888,
              "#fdca26"
             ],
             [
              1,
              "#f0f921"
             ]
            ],
            "type": "contour"
           }
          ],
          "contourcarpet": [
           {
            "colorbar": {
             "outlinewidth": 0,
             "ticks": ""
            },
            "type": "contourcarpet"
           }
          ],
          "heatmap": [
           {
            "colorbar": {
             "outlinewidth": 0,
             "ticks": ""
            },
            "colorscale": [
             [
              0,
              "#0d0887"
             ],
             [
              0.1111111111111111,
              "#46039f"
             ],
             [
              0.2222222222222222,
              "#7201a8"
             ],
             [
              0.3333333333333333,
              "#9c179e"
             ],
             [
              0.4444444444444444,
              "#bd3786"
             ],
             [
              0.5555555555555556,
              "#d8576b"
             ],
             [
              0.6666666666666666,
              "#ed7953"
             ],
             [
              0.7777777777777778,
              "#fb9f3a"
             ],
             [
              0.8888888888888888,
              "#fdca26"
             ],
             [
              1,
              "#f0f921"
             ]
            ],
            "type": "heatmap"
           }
          ],
          "histogram": [
           {
            "marker": {
             "pattern": {
              "fillmode": "overlay",
              "size": 10,
              "solidity": 0.2
             }
            },
            "type": "histogram"
           }
          ],
          "histogram2d": [
           {
            "colorbar": {
             "outlinewidth": 0,
             "ticks": ""
            },
            "colorscale": [
             [
              0,
              "#0d0887"
             ],
             [
              0.1111111111111111,
              "#46039f"
             ],
             [
              0.2222222222222222,
              "#7201a8"
             ],
             [
              0.3333333333333333,
              "#9c179e"
             ],
             [
              0.4444444444444444,
              "#bd3786"
             ],
             [
              0.5555555555555556,
              "#d8576b"
             ],
             [
              0.6666666666666666,
              "#ed7953"
             ],
             [
              0.7777777777777778,
              "#fb9f3a"
             ],
             [
              0.8888888888888888,
              "#fdca26"
             ],
             [
              1,
              "#f0f921"
             ]
            ],
            "type": "histogram2d"
           }
          ],
          "histogram2dcontour": [
           {
            "colorbar": {
             "outlinewidth": 0,
             "ticks": ""
            },
            "colorscale": [
             [
              0,
              "#0d0887"
             ],
             [
              0.1111111111111111,
              "#46039f"
             ],
             [
              0.2222222222222222,
              "#7201a8"
             ],
             [
              0.3333333333333333,
              "#9c179e"
             ],
             [
              0.4444444444444444,
              "#bd3786"
             ],
             [
              0.5555555555555556,
              "#d8576b"
             ],
             [
              0.6666666666666666,
              "#ed7953"
             ],
             [
              0.7777777777777778,
              "#fb9f3a"
             ],
             [
              0.8888888888888888,
              "#fdca26"
             ],
             [
              1,
              "#f0f921"
             ]
            ],
            "type": "histogram2dcontour"
           }
          ],
          "mesh3d": [
           {
            "colorbar": {
             "outlinewidth": 0,
             "ticks": ""
            },
            "type": "mesh3d"
           }
          ],
          "parcoords": [
           {
            "line": {
             "colorbar": {
              "outlinewidth": 0,
              "ticks": ""
             }
            },
            "type": "parcoords"
           }
          ],
          "pie": [
           {
            "automargin": true,
            "type": "pie"
           }
          ],
          "scatter": [
           {
            "fillpattern": {
             "fillmode": "overlay",
             "size": 10,
             "solidity": 0.2
            },
            "type": "scatter"
           }
          ],
          "scatter3d": [
           {
            "line": {
             "colorbar": {
              "outlinewidth": 0,
              "ticks": ""
             }
            },
            "marker": {
             "colorbar": {
              "outlinewidth": 0,
              "ticks": ""
             }
            },
            "type": "scatter3d"
           }
          ],
          "scattercarpet": [
           {
            "marker": {
             "colorbar": {
              "outlinewidth": 0,
              "ticks": ""
             }
            },
            "type": "scattercarpet"
           }
          ],
          "scattergeo": [
           {
            "marker": {
             "colorbar": {
              "outlinewidth": 0,
              "ticks": ""
             }
            },
            "type": "scattergeo"
           }
          ],
          "scattergl": [
           {
            "marker": {
             "colorbar": {
              "outlinewidth": 0,
              "ticks": ""
             }
            },
            "type": "scattergl"
           }
          ],
          "scattermap": [
           {
            "marker": {
             "colorbar": {
              "outlinewidth": 0,
              "ticks": ""
             }
            },
            "type": "scattermap"
           }
          ],
          "scattermapbox": [
           {
            "marker": {
             "colorbar": {
              "outlinewidth": 0,
              "ticks": ""
             }
            },
            "type": "scattermapbox"
           }
          ],
          "scatterpolar": [
           {
            "marker": {
             "colorbar": {
              "outlinewidth": 0,
              "ticks": ""
             }
            },
            "type": "scatterpolar"
           }
          ],
          "scatterpolargl": [
           {
            "marker": {
             "colorbar": {
              "outlinewidth": 0,
              "ticks": ""
             }
            },
            "type": "scatterpolargl"
           }
          ],
          "scatterternary": [
           {
            "marker": {
             "colorbar": {
              "outlinewidth": 0,
              "ticks": ""
             }
            },
            "type": "scatterternary"
           }
          ],
          "surface": [
           {
            "colorbar": {
             "outlinewidth": 0,
             "ticks": ""
            },
            "colorscale": [
             [
              0,
              "#0d0887"
             ],
             [
              0.1111111111111111,
              "#46039f"
             ],
             [
              0.2222222222222222,
              "#7201a8"
             ],
             [
              0.3333333333333333,
              "#9c179e"
             ],
             [
              0.4444444444444444,
              "#bd3786"
             ],
             [
              0.5555555555555556,
              "#d8576b"
             ],
             [
              0.6666666666666666,
              "#ed7953"
             ],
             [
              0.7777777777777778,
              "#fb9f3a"
             ],
             [
              0.8888888888888888,
              "#fdca26"
             ],
             [
              1,
              "#f0f921"
             ]
            ],
            "type": "surface"
           }
          ],
          "table": [
           {
            "cells": {
             "fill": {
              "color": "#EBF0F8"
             },
             "line": {
              "color": "white"
             }
            },
            "header": {
             "fill": {
              "color": "#C8D4E3"
             },
             "line": {
              "color": "white"
             }
            },
            "type": "table"
           }
          ]
         },
         "layout": {
          "annotationdefaults": {
           "arrowcolor": "#2a3f5f",
           "arrowhead": 0,
           "arrowwidth": 1
          },
          "autotypenumbers": "strict",
          "coloraxis": {
           "colorbar": {
            "outlinewidth": 0,
            "ticks": ""
           }
          },
          "colorscale": {
           "diverging": [
            [
             0,
             "#8e0152"
            ],
            [
             0.1,
             "#c51b7d"
            ],
            [
             0.2,
             "#de77ae"
            ],
            [
             0.3,
             "#f1b6da"
            ],
            [
             0.4,
             "#fde0ef"
            ],
            [
             0.5,
             "#f7f7f7"
            ],
            [
             0.6,
             "#e6f5d0"
            ],
            [
             0.7,
             "#b8e186"
            ],
            [
             0.8,
             "#7fbc41"
            ],
            [
             0.9,
             "#4d9221"
            ],
            [
             1,
             "#276419"
            ]
           ],
           "sequential": [
            [
             0,
             "#0d0887"
            ],
            [
             0.1111111111111111,
             "#46039f"
            ],
            [
             0.2222222222222222,
             "#7201a8"
            ],
            [
             0.3333333333333333,
             "#9c179e"
            ],
            [
             0.4444444444444444,
             "#bd3786"
            ],
            [
             0.5555555555555556,
             "#d8576b"
            ],
            [
             0.6666666666666666,
             "#ed7953"
            ],
            [
             0.7777777777777778,
             "#fb9f3a"
            ],
            [
             0.8888888888888888,
             "#fdca26"
            ],
            [
             1,
             "#f0f921"
            ]
           ],
           "sequentialminus": [
            [
             0,
             "#0d0887"
            ],
            [
             0.1111111111111111,
             "#46039f"
            ],
            [
             0.2222222222222222,
             "#7201a8"
            ],
            [
             0.3333333333333333,
             "#9c179e"
            ],
            [
             0.4444444444444444,
             "#bd3786"
            ],
            [
             0.5555555555555556,
             "#d8576b"
            ],
            [
             0.6666666666666666,
             "#ed7953"
            ],
            [
             0.7777777777777778,
             "#fb9f3a"
            ],
            [
             0.8888888888888888,
             "#fdca26"
            ],
            [
             1,
             "#f0f921"
            ]
           ]
          },
          "colorway": [
           "#636efa",
           "#EF553B",
           "#00cc96",
           "#ab63fa",
           "#FFA15A",
           "#19d3f3",
           "#FF6692",
           "#B6E880",
           "#FF97FF",
           "#FECB52"
          ],
          "font": {
           "color": "#2a3f5f"
          },
          "geo": {
           "bgcolor": "white",
           "lakecolor": "white",
           "landcolor": "white",
           "showlakes": true,
           "showland": true,
           "subunitcolor": "#C8D4E3"
          },
          "hoverlabel": {
           "align": "left"
          },
          "hovermode": "closest",
          "mapbox": {
           "style": "light"
          },
          "paper_bgcolor": "white",
          "plot_bgcolor": "white",
          "polar": {
           "angularaxis": {
            "gridcolor": "#EBF0F8",
            "linecolor": "#EBF0F8",
            "ticks": ""
           },
           "bgcolor": "white",
           "radialaxis": {
            "gridcolor": "#EBF0F8",
            "linecolor": "#EBF0F8",
            "ticks": ""
           }
          },
          "scene": {
           "xaxis": {
            "backgroundcolor": "white",
            "gridcolor": "#DFE8F3",
            "gridwidth": 2,
            "linecolor": "#EBF0F8",
            "showbackground": true,
            "ticks": "",
            "zerolinecolor": "#EBF0F8"
           },
           "yaxis": {
            "backgroundcolor": "white",
            "gridcolor": "#DFE8F3",
            "gridwidth": 2,
            "linecolor": "#EBF0F8",
            "showbackground": true,
            "ticks": "",
            "zerolinecolor": "#EBF0F8"
           },
           "zaxis": {
            "backgroundcolor": "white",
            "gridcolor": "#DFE8F3",
            "gridwidth": 2,
            "linecolor": "#EBF0F8",
            "showbackground": true,
            "ticks": "",
            "zerolinecolor": "#EBF0F8"
           }
          },
          "shapedefaults": {
           "line": {
            "color": "#2a3f5f"
           }
          },
          "ternary": {
           "aaxis": {
            "gridcolor": "#DFE8F3",
            "linecolor": "#A2B1C6",
            "ticks": ""
           },
           "baxis": {
            "gridcolor": "#DFE8F3",
            "linecolor": "#A2B1C6",
            "ticks": ""
           },
           "bgcolor": "white",
           "caxis": {
            "gridcolor": "#DFE8F3",
            "linecolor": "#A2B1C6",
            "ticks": ""
           }
          },
          "title": {
           "x": 0.05
          },
          "xaxis": {
           "automargin": true,
           "gridcolor": "#EBF0F8",
           "linecolor": "#EBF0F8",
           "ticks": "",
           "title": {
            "standoff": 15
           },
           "zerolinecolor": "#EBF0F8",
           "zerolinewidth": 2
          },
          "yaxis": {
           "automargin": true,
           "gridcolor": "#EBF0F8",
           "linecolor": "#EBF0F8",
           "ticks": "",
           "title": {
            "standoff": 15
           },
           "zerolinecolor": "#EBF0F8",
           "zerolinewidth": 2
          }
         }
        },
        "title": {
         "text": "Dunya Ortalama GDP Per Capita Trendi (2000-2023)"
        },
        "xaxis": {
         "title": {
          "text": "Yil"
         }
        },
        "yaxis": {
         "title": {
          "text": "GDP Per Capita (USD)"
         }
        }
       }
      }
     },
     "metadata": {},
     "output_type": "display_data"
    },
    {
     "name": "stdout",
     "output_type": "stream",
     "text": [
      "\n",
      "Key Insights:\n",
      "2000 yili ortalama: $18,927\n",
      "2023 yili ortalama: $26,897\n",
      "Toplam buyume: %42.1\n",
      "Yillik ortalama buyume: %1.8\n"
     ]
    }
   ],
   "source": [
    "# Dunya ortalamasini hesapla (2000 sonrasi icin)\n",
    "df_2000_plus = df[df['Year'] >= 2000].copy()\n",
    "world_avg_by_year = df_2000_plus.groupby('Year')[gdp_column].mean().reset_index()\n",
    "world_avg_by_year.columns = ['Year', 'World_Average_GDP']\n",
    "\n",
    "# Interactive line plot\n",
    "fig = go.Figure()\n",
    "\n",
    "fig.add_trace(go.Scatter(\n",
    "    x=world_avg_by_year['Year'],\n",
    "    y=world_avg_by_year['World_Average_GDP'],\n",
    "    mode='lines+markers',\n",
    "    name='Dunya Ortalamasi',\n",
    "    line=dict(color='#2E86AB', width=3),\n",
    "    marker=dict(size=6),\n",
    "    hovertemplate='<b>Yil:</b> %{x}<br><b>GDP:</b> $%{y:,.0f}<extra></extra>'\n",
    "))\n",
    "\n",
    "# Kriz donemlerini vurgula\n",
    "fig.add_vrect(x0=2007, x1=2009, fillcolor=\"red\", opacity=0.1, line_width=0, annotation_text=\"2008 Krizi\")\n",
    "fig.add_vrect(x0=2020, x1=2021, fillcolor=\"orange\", opacity=0.1, line_width=0, annotation_text=\"COVID-19\")\n",
    "\n",
    "fig.update_layout(\n",
    "    title='Dunya Ortalama GDP Per Capita Trendi (2000-2023)',\n",
    "    xaxis_title='Yil',\n",
    "    yaxis_title='GDP Per Capita (USD)',\n",
    "    height=500,\n",
    "    hovermode='x unified'\n",
    ")\n",
    "\n",
    "fig.show()\n",
    "\n",
    "# Key insights\n",
    "start_gdp = world_avg_by_year['World_Average_GDP'].iloc[0]\n",
    "end_gdp = world_avg_by_year['World_Average_GDP'].iloc[-1]\n",
    "growth_rate = ((end_gdp - start_gdp) / start_gdp) * 100\n",
    "\n",
    "print(f\"\\nKey Insights:\")\n",
    "print(f\"2000 yili ortalama: ${start_gdp:,.0f}\")\n",
    "print(f\"2023 yili ortalama: ${end_gdp:,.0f}\")\n",
    "print(f\"Toplam buyume: %{growth_rate:.1f}\")\n",
    "print(f\"Yillik ortalama buyume: %{growth_rate/23:.1f}\")"
   ]
  },
  {
   "cell_type": "markdown",
   "id": "d6f070d7",
   "metadata": {},
   "source": [
    "# Kitalara gore yillik ortalama GDP\n",
    "continent_yearly = df_2000_plus.groupby(['Year', 'Continent'])[gdp_column].mean().reset_index()\n",
    "\n",
    "# Multi-line plot\n",
    "fig = px.line(continent_yearly, \n",
    "              x='Year', \n",
    "              y=gdp_column, \n",
    "              color='Continent',\n",
    "              title='Kitalara Gore GDP Per Capita Karsilastirmasi',\n",
    "              labels={gdp_column: 'GDP Per Capita (USD)', 'Year': 'Yil'},\n",
    "              height=600)\n",
    "\n",
    "# Kriz donemlerini ekle\n",
    "fig.add_vrect(x0=2007, x1=2009, fillcolor=\"red\", opacity=0.1, line_width=0)\n",
    "fig.add_vrect(x0=2020, x1=2021, fillcolor=\"orange\", opacity=0.1, line_width=0)\n",
    "\n",
    "fig.update_traces(line=dict(width=3))\n",
    "fig.update_layout(hovermode='x unified')\n",
    "fig.show()\n",
    "\n",
    "# 2023 kita siralamasi\n",
    "continent_2023 = df[df['Year'] == 2023].groupby('Continent')[gdp_column].mean().sort_values(ascending=False)\n",
    "print(\"\\n2023 Kita Siralamasi (GDP Per Capita):\")\n",
    "for i, (continent, gdp) in enumerate(continent_2023.items(), 1):\n",
    "    print(f\"{i}. {continent}: ${gdp:,.0f}\")"
   ]
  },
  {
   "cell_type": "code",
   "execution_count": 9,
   "id": "1326abde",
   "metadata": {},
   "outputs": [
    {
     "data": {
      "application/vnd.plotly.v1+json": {
       "config": {
        "plotlyServerURL": "https://plot.ly"
       },
       "data": [
        {
         "hovertemplate": "Continent=Africa<br>Yil=%{x}<br>GDP Per Capita (USD)=%{y}<extra></extra>",
         "legendgroup": "Africa",
         "line": {
          "color": "#636efa",
          "dash": "solid",
          "width": 3
         },
         "marker": {
          "symbol": "circle"
         },
         "mode": "lines",
         "name": "Africa",
         "orientation": "v",
         "showlegend": true,
         "type": "scatter",
         "x": {
          "bdata": "0AfRB9IH0wfUB9UH1gfXB9gH2QfaB9sH3AfdB94H3wfgB+EH4gfjB+QH5QfmB+cH",
          "dtype": "i2"
         },
         "xaxis": "x",
         "y": {
          "bdata": "BmkhXNCqs0CmguVj6jy0QPNgQVAglbRA3LS+7SIKtUBjlXd6Pv61QG40gLew77ZAo17waZLAt0ADoVCqWMC4QBvo60PUSrlA9BuB007quEDkTulgHTa5QMa9+Q17ErlAHy+kw3tpukCs7bwjwRq6QCubR9M2KrpAi2IGd4QLukA/tnQUJyO6QJ8joHDck7pABI/74m7SukCXU8hbROS6QKxR7bHyxbhAeMyvVVF6uUCy7/nQjNu5QD0CI9P1T7pA",
          "dtype": "f8"
         },
         "yaxis": "y"
        },
        {
         "hovertemplate": "Continent=Asia<br>Yil=%{x}<br>GDP Per Capita (USD)=%{y}<extra></extra>",
         "legendgroup": "Asia",
         "line": {
          "color": "#EF553B",
          "dash": "solid",
          "width": 3
         },
         "marker": {
          "symbol": "circle"
         },
         "mode": "lines",
         "name": "Asia",
         "orientation": "v",
         "showlegend": true,
         "type": "scatter",
         "x": {
          "bdata": "0AfRB9IH0wfUB9UH1gfXB9gH2QfaB9sH3AfdB94H3wfgB+EH4gfjB+QH5QfmB+cH",
          "dtype": "i2"
         },
         "xaxis": "x",
         "y": {
          "bdata": "fyyPYWxz00BUNveDMkHTQPPamBVyYtNAG9V/9Yjx00DL9JaeHgTVQAc8XOlNhNVApNiyx4Rl1kCLXs9t5ZjWQOd3BBhSlNZARmOiFeby1UC37TD6yhPXQJMXxel6FdhAFh4IUp9N2EDR67ktv1/YQH9jsC14XdhAquO6vydv2EBNRuA7WqHYQIxz80Lw1thAb2XUqENP2UDU7TcGWKjZQAd7yGizWthAqSHo0onA2UBqrlwFzFraQB8Qgu36pdtA",
          "dtype": "f8"
         },
         "yaxis": "y"
        },
        {
         "hovertemplate": "Continent=Europe<br>Yil=%{x}<br>GDP Per Capita (USD)=%{y}<extra></extra>",
         "legendgroup": "Europe",
         "line": {
          "color": "#00cc96",
          "dash": "solid",
          "width": 3
         },
         "marker": {
          "symbol": "circle"
         },
         "mode": "lines",
         "name": "Europe",
         "orientation": "v",
         "showlegend": true,
         "type": "scatter",
         "x": {
          "bdata": "0AfRB9IH0wfUB9UH1gfXB9gH2QfaB9sH3AfdB94H3wfgB+EH4gfjB+QH5QfmB+cH",
          "dtype": "i2"
         },
         "xaxis": "x",
         "y": {
          "bdata": "MNHfyU9w4UBUitxREOjhQLZqrQEYQeJAvaADjtOk4kBE75EOWkfjQBwUJfeJ1uNABci95lal5EDenuNifH7lQJJnWiFFkOVA7cNn2EVU5EASh9fehZfkQBXlEzQA1eRAUUJYt/iv5EBCXM68QMnkQG+ISY67IeVAH7y3pAOw5UAlBoGVdiTmQP+JOTJbveZATw+jeNFI50AmtyrKk8LnQJgrAfQktOZAfX4v2Zld6EDmB+8tqRvpQEBnyUBb6OhA",
          "dtype": "f8"
         },
         "yaxis": "y"
        },
        {
         "hovertemplate": "Continent=North America<br>Yil=%{x}<br>GDP Per Capita (USD)=%{y}<extra></extra>",
         "legendgroup": "North America",
         "line": {
          "color": "#ab63fa",
          "dash": "solid",
          "width": 3
         },
         "marker": {
          "symbol": "circle"
         },
         "mode": "lines",
         "name": "North America",
         "orientation": "v",
         "showlegend": true,
         "type": "scatter",
         "x": {
          "bdata": "0AfRB9IH0wfUB9UH1gfXB9gH2QfaB9sH3AfdB94H3wfgB+EH4gfjB+QH5QfmB+cH",
          "dtype": "i2"
         },
         "xaxis": "x",
         "y": {
          "bdata": "IB61AJEU0UAb+LtYhQ/RQAzKyk4CR9FArzoIWdOw0UB6kAhuXy7SQLFCUwxv2NJAK0LdfoWo00CxXoMopj3UQIYcpqmMftRAf1yk5hqc00CXRMrYErrTQGvYpK/9+NNAZ3R+9PZW1EBkeQxjOI/UQElDI/e5EdVAGXPXEhJS1UDHIi5LC4rVQCJeYOzsyNVAOpnXxv461kCwsJWkpHzWQMnzVzKW+dNAfjJcPGFM1UA8Y/Vma5TWQCKqpY3KHtdA",
          "dtype": "f8"
         },
         "yaxis": "y"
        },
        {
         "hovertemplate": "Continent=Oceania<br>Yil=%{x}<br>GDP Per Capita (USD)=%{y}<extra></extra>",
         "legendgroup": "Oceania",
         "line": {
          "color": "#FFA15A",
          "dash": "solid",
          "width": 3
         },
         "marker": {
          "symbol": "circle"
         },
         "mode": "lines",
         "name": "Oceania",
         "orientation": "v",
         "showlegend": true,
         "type": "scatter",
         "x": {
          "bdata": "0AfRB9IH0wfUB9UH1gfXB9gH2QfaB9sH3AfdB94H3wfgB+EH4gfjB+QH5QfmB+cH",
          "dtype": "i2"
         },
         "xaxis": "x",
         "y": {
          "bdata": "RN+6+ZKTxUBxnZdEs9HFQNTTAT7YQMZAN8ZxSXlvxkAJRcXnlOHGQLsM3Bi3SsdA4P9TTpKtx0CKmcPAos/HQNRsqssw7MdAy2gqluKJx0D1LyaU0sfHQFS5fhLRbMhAjxIvcrgHyUB5ja6Mi1PJQBbowo6hCcpAYo7N1FavykDV+nOLjjbLQKTEixzGW8tAr4w79oWwy0Bi5jCw8DHMQGGCjnluQMtA5/up8eJZy0BWlMzfHR7MQD3AgEtlqM1A",
          "dtype": "f8"
         },
         "yaxis": "y"
        },
        {
         "hovertemplate": "Continent=Other<br>Yil=%{x}<br>GDP Per Capita (USD)=%{y}<extra></extra>",
         "legendgroup": "Other",
         "line": {
          "color": "#19d3f3",
          "dash": "solid",
          "width": 3
         },
         "marker": {
          "symbol": "circle"
         },
         "mode": "lines",
         "name": "Other",
         "orientation": "v",
         "showlegend": true,
         "type": "scatter",
         "x": {
          "bdata": "0AfRB9IH0wfUB9UH1gfXB9gH2QfaB9sH3AfdB94H3wfgB+EH4gfjB+QH5QfmB+cH",
          "dtype": "i2"
         },
         "xaxis": "x",
         "y": {
          "bdata": "h6dXyjt62ECgq63YShzZQIr9Zff0ZtpAgLqBApsK20AzTdh+Hp3cQJyFPe30Sd1AccOpBNZa4EBudcVpG+ngQBhHZx2Cz+BAVgh6QJ2C4EDKoKjRxg3hQP/kAqrmZuFA/OO9agBs4UCvALnXN63hQLJ4xPsfouFAIR/0bEAf4UBivrwAbEPhQO84RUdnpOFAIatbPe3k4UCsPldbLA7iQNq0Pz2Nlt9AjswjfzPU4EDOkv74z3/gQNM3qlWvUOFA",
          "dtype": "f8"
         },
         "yaxis": "y"
        },
        {
         "hovertemplate": "Continent=South America<br>Yil=%{x}<br>GDP Per Capita (USD)=%{y}<extra></extra>",
         "legendgroup": "South America",
         "line": {
          "color": "#FF6692",
          "dash": "solid",
          "width": 3
         },
         "marker": {
          "symbol": "circle"
         },
         "mode": "lines",
         "name": "South America",
         "orientation": "v",
         "showlegend": true,
         "type": "scatter",
         "x": {
          "bdata": "0AfRB9IH0wfUB9UH1gfXB9gH2QfaB9sH3AfdB94H3wfgB+EH4gfjB+QH5QfmB+cH",
          "dtype": "i2"
         },
         "xaxis": "x",
         "y": {
          "bdata": "ZhohxV4DyUBDKgNxx83IQExgkn+iXshAPRHj6gQNyUBt5/upoVHKQMznvXw2bMtAXKqzpcK3zEDXJxYXjDjOQDRWb5ZIdM9A2TZtEQRIz0B8N+qqbpLQQAmRK6o6XtFAL7roolvA0UBEcHs3uljSQBD3zz0Qg9JAxDuhImp/0kBEKgNxV2XSQMp+CVP2qNJAEsHt3aTQ0kA9SAS318nSQIuqFA/RvdFAhzHKfqkk00DVeOkm/fLUQMl2vp86HNZA",
          "dtype": "f8"
         },
         "yaxis": "y"
        }
       ],
       "layout": {
        "height": 600,
        "hovermode": "x unified",
        "legend": {
         "title": {
          "text": "Continent"
         },
         "tracegroupgap": 0
        },
        "shapes": [
         {
          "fillcolor": "red",
          "line": {
           "width": 0
          },
          "opacity": 0.1,
          "type": "rect",
          "x0": 2007,
          "x1": 2009,
          "xref": "x",
          "y0": 0,
          "y1": 1,
          "yref": "y domain"
         },
         {
          "fillcolor": "orange",
          "line": {
           "width": 0
          },
          "opacity": 0.1,
          "type": "rect",
          "x0": 2020,
          "x1": 2021,
          "xref": "x",
          "y0": 0,
          "y1": 1,
          "yref": "y domain"
         }
        ],
        "template": {
         "data": {
          "bar": [
           {
            "error_x": {
             "color": "#2a3f5f"
            },
            "error_y": {
             "color": "#2a3f5f"
            },
            "marker": {
             "line": {
              "color": "white",
              "width": 0.5
             },
             "pattern": {
              "fillmode": "overlay",
              "size": 10,
              "solidity": 0.2
             }
            },
            "type": "bar"
           }
          ],
          "barpolar": [
           {
            "marker": {
             "line": {
              "color": "white",
              "width": 0.5
             },
             "pattern": {
              "fillmode": "overlay",
              "size": 10,
              "solidity": 0.2
             }
            },
            "type": "barpolar"
           }
          ],
          "carpet": [
           {
            "aaxis": {
             "endlinecolor": "#2a3f5f",
             "gridcolor": "#C8D4E3",
             "linecolor": "#C8D4E3",
             "minorgridcolor": "#C8D4E3",
             "startlinecolor": "#2a3f5f"
            },
            "baxis": {
             "endlinecolor": "#2a3f5f",
             "gridcolor": "#C8D4E3",
             "linecolor": "#C8D4E3",
             "minorgridcolor": "#C8D4E3",
             "startlinecolor": "#2a3f5f"
            },
            "type": "carpet"
           }
          ],
          "choropleth": [
           {
            "colorbar": {
             "outlinewidth": 0,
             "ticks": ""
            },
            "type": "choropleth"
           }
          ],
          "contour": [
           {
            "colorbar": {
             "outlinewidth": 0,
             "ticks": ""
            },
            "colorscale": [
             [
              0,
              "#0d0887"
             ],
             [
              0.1111111111111111,
              "#46039f"
             ],
             [
              0.2222222222222222,
              "#7201a8"
             ],
             [
              0.3333333333333333,
              "#9c179e"
             ],
             [
              0.4444444444444444,
              "#bd3786"
             ],
             [
              0.5555555555555556,
              "#d8576b"
             ],
             [
              0.6666666666666666,
              "#ed7953"
             ],
             [
              0.7777777777777778,
              "#fb9f3a"
             ],
             [
              0.8888888888888888,
              "#fdca26"
             ],
             [
              1,
              "#f0f921"
             ]
            ],
            "type": "contour"
           }
          ],
          "contourcarpet": [
           {
            "colorbar": {
             "outlinewidth": 0,
             "ticks": ""
            },
            "type": "contourcarpet"
           }
          ],
          "heatmap": [
           {
            "colorbar": {
             "outlinewidth": 0,
             "ticks": ""
            },
            "colorscale": [
             [
              0,
              "#0d0887"
             ],
             [
              0.1111111111111111,
              "#46039f"
             ],
             [
              0.2222222222222222,
              "#7201a8"
             ],
             [
              0.3333333333333333,
              "#9c179e"
             ],
             [
              0.4444444444444444,
              "#bd3786"
             ],
             [
              0.5555555555555556,
              "#d8576b"
             ],
             [
              0.6666666666666666,
              "#ed7953"
             ],
             [
              0.7777777777777778,
              "#fb9f3a"
             ],
             [
              0.8888888888888888,
              "#fdca26"
             ],
             [
              1,
              "#f0f921"
             ]
            ],
            "type": "heatmap"
           }
          ],
          "histogram": [
           {
            "marker": {
             "pattern": {
              "fillmode": "overlay",
              "size": 10,
              "solidity": 0.2
             }
            },
            "type": "histogram"
           }
          ],
          "histogram2d": [
           {
            "colorbar": {
             "outlinewidth": 0,
             "ticks": ""
            },
            "colorscale": [
             [
              0,
              "#0d0887"
             ],
             [
              0.1111111111111111,
              "#46039f"
             ],
             [
              0.2222222222222222,
              "#7201a8"
             ],
             [
              0.3333333333333333,
              "#9c179e"
             ],
             [
              0.4444444444444444,
              "#bd3786"
             ],
             [
              0.5555555555555556,
              "#d8576b"
             ],
             [
              0.6666666666666666,
              "#ed7953"
             ],
             [
              0.7777777777777778,
              "#fb9f3a"
             ],
             [
              0.8888888888888888,
              "#fdca26"
             ],
             [
              1,
              "#f0f921"
             ]
            ],
            "type": "histogram2d"
           }
          ],
          "histogram2dcontour": [
           {
            "colorbar": {
             "outlinewidth": 0,
             "ticks": ""
            },
            "colorscale": [
             [
              0,
              "#0d0887"
             ],
             [
              0.1111111111111111,
              "#46039f"
             ],
             [
              0.2222222222222222,
              "#7201a8"
             ],
             [
              0.3333333333333333,
              "#9c179e"
             ],
             [
              0.4444444444444444,
              "#bd3786"
             ],
             [
              0.5555555555555556,
              "#d8576b"
             ],
             [
              0.6666666666666666,
              "#ed7953"
             ],
             [
              0.7777777777777778,
              "#fb9f3a"
             ],
             [
              0.8888888888888888,
              "#fdca26"
             ],
             [
              1,
              "#f0f921"
             ]
            ],
            "type": "histogram2dcontour"
           }
          ],
          "mesh3d": [
           {
            "colorbar": {
             "outlinewidth": 0,
             "ticks": ""
            },
            "type": "mesh3d"
           }
          ],
          "parcoords": [
           {
            "line": {
             "colorbar": {
              "outlinewidth": 0,
              "ticks": ""
             }
            },
            "type": "parcoords"
           }
          ],
          "pie": [
           {
            "automargin": true,
            "type": "pie"
           }
          ],
          "scatter": [
           {
            "fillpattern": {
             "fillmode": "overlay",
             "size": 10,
             "solidity": 0.2
            },
            "type": "scatter"
           }
          ],
          "scatter3d": [
           {
            "line": {
             "colorbar": {
              "outlinewidth": 0,
              "ticks": ""
             }
            },
            "marker": {
             "colorbar": {
              "outlinewidth": 0,
              "ticks": ""
             }
            },
            "type": "scatter3d"
           }
          ],
          "scattercarpet": [
           {
            "marker": {
             "colorbar": {
              "outlinewidth": 0,
              "ticks": ""
             }
            },
            "type": "scattercarpet"
           }
          ],
          "scattergeo": [
           {
            "marker": {
             "colorbar": {
              "outlinewidth": 0,
              "ticks": ""
             }
            },
            "type": "scattergeo"
           }
          ],
          "scattergl": [
           {
            "marker": {
             "colorbar": {
              "outlinewidth": 0,
              "ticks": ""
             }
            },
            "type": "scattergl"
           }
          ],
          "scattermap": [
           {
            "marker": {
             "colorbar": {
              "outlinewidth": 0,
              "ticks": ""
             }
            },
            "type": "scattermap"
           }
          ],
          "scattermapbox": [
           {
            "marker": {
             "colorbar": {
              "outlinewidth": 0,
              "ticks": ""
             }
            },
            "type": "scattermapbox"
           }
          ],
          "scatterpolar": [
           {
            "marker": {
             "colorbar": {
              "outlinewidth": 0,
              "ticks": ""
             }
            },
            "type": "scatterpolar"
           }
          ],
          "scatterpolargl": [
           {
            "marker": {
             "colorbar": {
              "outlinewidth": 0,
              "ticks": ""
             }
            },
            "type": "scatterpolargl"
           }
          ],
          "scatterternary": [
           {
            "marker": {
             "colorbar": {
              "outlinewidth": 0,
              "ticks": ""
             }
            },
            "type": "scatterternary"
           }
          ],
          "surface": [
           {
            "colorbar": {
             "outlinewidth": 0,
             "ticks": ""
            },
            "colorscale": [
             [
              0,
              "#0d0887"
             ],
             [
              0.1111111111111111,
              "#46039f"
             ],
             [
              0.2222222222222222,
              "#7201a8"
             ],
             [
              0.3333333333333333,
              "#9c179e"
             ],
             [
              0.4444444444444444,
              "#bd3786"
             ],
             [
              0.5555555555555556,
              "#d8576b"
             ],
             [
              0.6666666666666666,
              "#ed7953"
             ],
             [
              0.7777777777777778,
              "#fb9f3a"
             ],
             [
              0.8888888888888888,
              "#fdca26"
             ],
             [
              1,
              "#f0f921"
             ]
            ],
            "type": "surface"
           }
          ],
          "table": [
           {
            "cells": {
             "fill": {
              "color": "#EBF0F8"
             },
             "line": {
              "color": "white"
             }
            },
            "header": {
             "fill": {
              "color": "#C8D4E3"
             },
             "line": {
              "color": "white"
             }
            },
            "type": "table"
           }
          ]
         },
         "layout": {
          "annotationdefaults": {
           "arrowcolor": "#2a3f5f",
           "arrowhead": 0,
           "arrowwidth": 1
          },
          "autotypenumbers": "strict",
          "coloraxis": {
           "colorbar": {
            "outlinewidth": 0,
            "ticks": ""
           }
          },
          "colorscale": {
           "diverging": [
            [
             0,
             "#8e0152"
            ],
            [
             0.1,
             "#c51b7d"
            ],
            [
             0.2,
             "#de77ae"
            ],
            [
             0.3,
             "#f1b6da"
            ],
            [
             0.4,
             "#fde0ef"
            ],
            [
             0.5,
             "#f7f7f7"
            ],
            [
             0.6,
             "#e6f5d0"
            ],
            [
             0.7,
             "#b8e186"
            ],
            [
             0.8,
             "#7fbc41"
            ],
            [
             0.9,
             "#4d9221"
            ],
            [
             1,
             "#276419"
            ]
           ],
           "sequential": [
            [
             0,
             "#0d0887"
            ],
            [
             0.1111111111111111,
             "#46039f"
            ],
            [
             0.2222222222222222,
             "#7201a8"
            ],
            [
             0.3333333333333333,
             "#9c179e"
            ],
            [
             0.4444444444444444,
             "#bd3786"
            ],
            [
             0.5555555555555556,
             "#d8576b"
            ],
            [
             0.6666666666666666,
             "#ed7953"
            ],
            [
             0.7777777777777778,
             "#fb9f3a"
            ],
            [
             0.8888888888888888,
             "#fdca26"
            ],
            [
             1,
             "#f0f921"
            ]
           ],
           "sequentialminus": [
            [
             0,
             "#0d0887"
            ],
            [
             0.1111111111111111,
             "#46039f"
            ],
            [
             0.2222222222222222,
             "#7201a8"
            ],
            [
             0.3333333333333333,
             "#9c179e"
            ],
            [
             0.4444444444444444,
             "#bd3786"
            ],
            [
             0.5555555555555556,
             "#d8576b"
            ],
            [
             0.6666666666666666,
             "#ed7953"
            ],
            [
             0.7777777777777778,
             "#fb9f3a"
            ],
            [
             0.8888888888888888,
             "#fdca26"
            ],
            [
             1,
             "#f0f921"
            ]
           ]
          },
          "colorway": [
           "#636efa",
           "#EF553B",
           "#00cc96",
           "#ab63fa",
           "#FFA15A",
           "#19d3f3",
           "#FF6692",
           "#B6E880",
           "#FF97FF",
           "#FECB52"
          ],
          "font": {
           "color": "#2a3f5f"
          },
          "geo": {
           "bgcolor": "white",
           "lakecolor": "white",
           "landcolor": "white",
           "showlakes": true,
           "showland": true,
           "subunitcolor": "#C8D4E3"
          },
          "hoverlabel": {
           "align": "left"
          },
          "hovermode": "closest",
          "mapbox": {
           "style": "light"
          },
          "paper_bgcolor": "white",
          "plot_bgcolor": "white",
          "polar": {
           "angularaxis": {
            "gridcolor": "#EBF0F8",
            "linecolor": "#EBF0F8",
            "ticks": ""
           },
           "bgcolor": "white",
           "radialaxis": {
            "gridcolor": "#EBF0F8",
            "linecolor": "#EBF0F8",
            "ticks": ""
           }
          },
          "scene": {
           "xaxis": {
            "backgroundcolor": "white",
            "gridcolor": "#DFE8F3",
            "gridwidth": 2,
            "linecolor": "#EBF0F8",
            "showbackground": true,
            "ticks": "",
            "zerolinecolor": "#EBF0F8"
           },
           "yaxis": {
            "backgroundcolor": "white",
            "gridcolor": "#DFE8F3",
            "gridwidth": 2,
            "linecolor": "#EBF0F8",
            "showbackground": true,
            "ticks": "",
            "zerolinecolor": "#EBF0F8"
           },
           "zaxis": {
            "backgroundcolor": "white",
            "gridcolor": "#DFE8F3",
            "gridwidth": 2,
            "linecolor": "#EBF0F8",
            "showbackground": true,
            "ticks": "",
            "zerolinecolor": "#EBF0F8"
           }
          },
          "shapedefaults": {
           "line": {
            "color": "#2a3f5f"
           }
          },
          "ternary": {
           "aaxis": {
            "gridcolor": "#DFE8F3",
            "linecolor": "#A2B1C6",
            "ticks": ""
           },
           "baxis": {
            "gridcolor": "#DFE8F3",
            "linecolor": "#A2B1C6",
            "ticks": ""
           },
           "bgcolor": "white",
           "caxis": {
            "gridcolor": "#DFE8F3",
            "linecolor": "#A2B1C6",
            "ticks": ""
           }
          },
          "title": {
           "x": 0.05
          },
          "xaxis": {
           "automargin": true,
           "gridcolor": "#EBF0F8",
           "linecolor": "#EBF0F8",
           "ticks": "",
           "title": {
            "standoff": 15
           },
           "zerolinecolor": "#EBF0F8",
           "zerolinewidth": 2
          },
          "yaxis": {
           "automargin": true,
           "gridcolor": "#EBF0F8",
           "linecolor": "#EBF0F8",
           "ticks": "",
           "title": {
            "standoff": 15
           },
           "zerolinecolor": "#EBF0F8",
           "zerolinewidth": 2
          }
         }
        },
        "title": {
         "text": "Kitalara Gore GDP Per Capita Karsilastirmasi"
        },
        "xaxis": {
         "anchor": "y",
         "domain": [
          0,
          1
         ],
         "title": {
          "text": "Yil"
         }
        },
        "yaxis": {
         "anchor": "x",
         "domain": [
          0,
          1
         ],
         "title": {
          "text": "GDP Per Capita (USD)"
         }
        }
       }
      }
     },
     "metadata": {},
     "output_type": "display_data"
    },
    {
     "name": "stdout",
     "output_type": "stream",
     "text": [
      "\n",
      "2023 Kita Siralamasi (GDP Per Capita):\n",
      "1. Europe: $51,011\n",
      "2. Other: $35,461\n",
      "3. Asia: $28,312\n",
      "4. North America: $23,675\n",
      "5. South America: $22,641\n",
      "6. Oceania: $15,185\n",
      "7. Africa: $6,736\n"
     ]
    }
   ],
   "source": [
    "# Kitalara gore yillik ortalama GDP\n",
    "continent_yearly = df_2000_plus.groupby(['Year', 'Continent'])[gdp_column].mean().reset_index()\n",
    "\n",
    "# Multi-line plot\n",
    "fig = px.line(continent_yearly, \n",
    "              x='Year', \n",
    "              y=gdp_column, \n",
    "              color='Continent',\n",
    "              title='Kitalara Gore GDP Per Capita Karsilastirmasi',\n",
    "              labels={gdp_column: 'GDP Per Capita (USD)', 'Year': 'Yil'},\n",
    "              height=600)\n",
    "\n",
    "# Kriz donemlerini ekle\n",
    "fig.add_vrect(x0=2007, x1=2009, fillcolor=\"red\", opacity=0.1, line_width=0)\n",
    "fig.add_vrect(x0=2020, x1=2021, fillcolor=\"orange\", opacity=0.1, line_width=0)\n",
    "\n",
    "fig.update_traces(line=dict(width=3))\n",
    "fig.update_layout(hovermode='x unified')\n",
    "fig.show()\n",
    "\n",
    "# 2023 kita siralamasi\n",
    "continent_2023 = df[df['Year'] == 2023].groupby('Continent')[gdp_column].mean().sort_values(ascending=False)\n",
    "print(\"\\n2023 Kita Siralamasi (GDP Per Capita):\")\n",
    "for i, (continent, gdp) in enumerate(continent_2023.items(), 1):\n",
    "    print(f\"{i}. {continent}: ${gdp:,.0f}\")"
   ]
  },
  {
   "cell_type": "code",
   "execution_count": null,
   "id": "2c8e8971",
   "metadata": {},
   "outputs": [],
   "source": [
    "# Save the world trend plot using matplotlib\n",
    "plt.figure(figsize=(12, 6))\n",
    "plt.plot(world_avg_by_year['Year'], world_avg_by_year[gdp_column], \n",
    "         marker='o', linewidth=3, markersize=8, color='#2E86AB')\n",
    "plt.title('World Average GDP Per Capita Trend (2000-2023)', fontsize=16, fontweight='bold', pad=20)\n",
    "plt.xlabel('Year', fontsize=12)\n",
    "plt.ylabel('GDP Per Capita (USD)', fontsize=12)\n",
    "plt.grid(True, alpha=0.3)\n",
    "plt.tight_layout()\n",
    "plt.savefig('../outputs/plots/world_gdp_trend.png', dpi=300, bbox_inches='tight')\n",
    "plt.show()\n",
    "print(\"📊 World GDP trend plot saved to '../outputs/plots/world_gdp_trend.png'\")"
   ]
  },
  {
   "cell_type": "markdown",
   "id": "4d275b14",
   "metadata": {},
   "source": [
    "### 🔍 Dünya GDP Trend Insights:\n",
    "\n",
    "- **📈 Genel Trend**: Dünya ortalama GDP per capita sürekli yükselişte\n",
    "- **⚠️ Krizler**: 2008 finansal krizi ve COVID-19'un etkisi görünüyor\n",
    "- **🌟 Recovery**: Her krizden sonra toparlanma gerçekleşiyor"
   ]
  },
  {
   "cell_type": "markdown",
   "id": "0399efc6",
   "metadata": {},
   "source": [
    "## 🗺️ 2. Kıta Bazlı Karşılaştırma"
   ]
  },
  {
   "cell_type": "code",
   "execution_count": null,
   "id": "f8e93a66",
   "metadata": {},
   "outputs": [
    {
     "data": {
      "application/vnd.plotly.v1+json": {
       "config": {
        "plotlyServerURL": "https://plot.ly"
       },
       "data": [
        {
         "hovertemplate": "<b>%{y}</b><br>GDP: $%{x:,.0f}<extra></extra>",
         "marker": {
          "color": "#2ECC71"
         },
         "name": "En Zengin",
         "orientation": "h",
         "type": "bar",
         "x": {
          "bdata": "ZmZmZsbB8kCamZmZ1RHzQM3MzMzYJ/RAXI/C9VwW9kCkcD0Km+/3QNejcD0aoPlA16NwPaYO/EDXo3A98lv8QBSuR+F4I/9APQrXo3Q3AEE=",
          "dtype": "f8"
         },
         "xaxis": "x",
         "y": [
          "Brunei",
          "Cayman Islands",
          "Switzerland",
          "Norway",
          "Bermuda",
          "Macao",
          "Ireland",
          "Qatar",
          "Singapore",
          "Luxembourg"
         ],
         "yaxis": "y"
        },
        {
         "hovertemplate": "<b>%{y}</b><br>GDP: $%{x:,.0f}<extra></extra>",
         "marker": {
          "color": "#E74C3C"
         },
         "name": "En Fakir",
         "orientation": "h",
         "type": "bar",
         "x": {
          "bdata": "r5RliOPmiUDcRgN4i7yRQHsUrkfh6ZVAJ8KGp1e/lkCe76fGi56XQEOtad6xQ5lAnKIjuTytmUDRItv5vsGZQGq8dJPYPZpADAIrh5admkA=",
          "dtype": "f8"
         },
         "xaxis": "x2",
         "y": [
          "Burundi",
          "Central African Republic",
          "Somalia",
          "Democratic Republic of Congo",
          "Mozambique",
          "Liberia",
          "Madagascar",
          "Malawi",
          "Chad",
          "Niger"
         ],
         "yaxis": "y2"
        }
       ],
       "layout": {
        "annotations": [
         {
          "font": {
           "size": 16
          },
          "showarrow": false,
          "text": "En Zengin 10 Ulke",
          "x": 0.225,
          "xanchor": "center",
          "xref": "paper",
          "y": 1,
          "yanchor": "bottom",
          "yref": "paper"
         },
         {
          "font": {
           "size": 16
          },
          "showarrow": false,
          "text": "En Fakir 10 Ulke",
          "x": 0.775,
          "xanchor": "center",
          "xref": "paper",
          "y": 1,
          "yanchor": "bottom",
          "yref": "paper"
         }
        ],
        "height": 600,
        "showlegend": false,
        "template": {
         "data": {
          "bar": [
           {
            "error_x": {
             "color": "#2a3f5f"
            },
            "error_y": {
             "color": "#2a3f5f"
            },
            "marker": {
             "line": {
              "color": "white",
              "width": 0.5
             },
             "pattern": {
              "fillmode": "overlay",
              "size": 10,
              "solidity": 0.2
             }
            },
            "type": "bar"
           }
          ],
          "barpolar": [
           {
            "marker": {
             "line": {
              "color": "white",
              "width": 0.5
             },
             "pattern": {
              "fillmode": "overlay",
              "size": 10,
              "solidity": 0.2
             }
            },
            "type": "barpolar"
           }
          ],
          "carpet": [
           {
            "aaxis": {
             "endlinecolor": "#2a3f5f",
             "gridcolor": "#C8D4E3",
             "linecolor": "#C8D4E3",
             "minorgridcolor": "#C8D4E3",
             "startlinecolor": "#2a3f5f"
            },
            "baxis": {
             "endlinecolor": "#2a3f5f",
             "gridcolor": "#C8D4E3",
             "linecolor": "#C8D4E3",
             "minorgridcolor": "#C8D4E3",
             "startlinecolor": "#2a3f5f"
            },
            "type": "carpet"
           }
          ],
          "choropleth": [
           {
            "colorbar": {
             "outlinewidth": 0,
             "ticks": ""
            },
            "type": "choropleth"
           }
          ],
          "contour": [
           {
            "colorbar": {
             "outlinewidth": 0,
             "ticks": ""
            },
            "colorscale": [
             [
              0,
              "#0d0887"
             ],
             [
              0.1111111111111111,
              "#46039f"
             ],
             [
              0.2222222222222222,
              "#7201a8"
             ],
             [
              0.3333333333333333,
              "#9c179e"
             ],
             [
              0.4444444444444444,
              "#bd3786"
             ],
             [
              0.5555555555555556,
              "#d8576b"
             ],
             [
              0.6666666666666666,
              "#ed7953"
             ],
             [
              0.7777777777777778,
              "#fb9f3a"
             ],
             [
              0.8888888888888888,
              "#fdca26"
             ],
             [
              1,
              "#f0f921"
             ]
            ],
            "type": "contour"
           }
          ],
          "contourcarpet": [
           {
            "colorbar": {
             "outlinewidth": 0,
             "ticks": ""
            },
            "type": "contourcarpet"
           }
          ],
          "heatmap": [
           {
            "colorbar": {
             "outlinewidth": 0,
             "ticks": ""
            },
            "colorscale": [
             [
              0,
              "#0d0887"
             ],
             [
              0.1111111111111111,
              "#46039f"
             ],
             [
              0.2222222222222222,
              "#7201a8"
             ],
             [
              0.3333333333333333,
              "#9c179e"
             ],
             [
              0.4444444444444444,
              "#bd3786"
             ],
             [
              0.5555555555555556,
              "#d8576b"
             ],
             [
              0.6666666666666666,
              "#ed7953"
             ],
             [
              0.7777777777777778,
              "#fb9f3a"
             ],
             [
              0.8888888888888888,
              "#fdca26"
             ],
             [
              1,
              "#f0f921"
             ]
            ],
            "type": "heatmap"
           }
          ],
          "histogram": [
           {
            "marker": {
             "pattern": {
              "fillmode": "overlay",
              "size": 10,
              "solidity": 0.2
             }
            },
            "type": "histogram"
           }
          ],
          "histogram2d": [
           {
            "colorbar": {
             "outlinewidth": 0,
             "ticks": ""
            },
            "colorscale": [
             [
              0,
              "#0d0887"
             ],
             [
              0.1111111111111111,
              "#46039f"
             ],
             [
              0.2222222222222222,
              "#7201a8"
             ],
             [
              0.3333333333333333,
              "#9c179e"
             ],
             [
              0.4444444444444444,
              "#bd3786"
             ],
             [
              0.5555555555555556,
              "#d8576b"
             ],
             [
              0.6666666666666666,
              "#ed7953"
             ],
             [
              0.7777777777777778,
              "#fb9f3a"
             ],
             [
              0.8888888888888888,
              "#fdca26"
             ],
             [
              1,
              "#f0f921"
             ]
            ],
            "type": "histogram2d"
           }
          ],
          "histogram2dcontour": [
           {
            "colorbar": {
             "outlinewidth": 0,
             "ticks": ""
            },
            "colorscale": [
             [
              0,
              "#0d0887"
             ],
             [
              0.1111111111111111,
              "#46039f"
             ],
             [
              0.2222222222222222,
              "#7201a8"
             ],
             [
              0.3333333333333333,
              "#9c179e"
             ],
             [
              0.4444444444444444,
              "#bd3786"
             ],
             [
              0.5555555555555556,
              "#d8576b"
             ],
             [
              0.6666666666666666,
              "#ed7953"
             ],
             [
              0.7777777777777778,
              "#fb9f3a"
             ],
             [
              0.8888888888888888,
              "#fdca26"
             ],
             [
              1,
              "#f0f921"
             ]
            ],
            "type": "histogram2dcontour"
           }
          ],
          "mesh3d": [
           {
            "colorbar": {
             "outlinewidth": 0,
             "ticks": ""
            },
            "type": "mesh3d"
           }
          ],
          "parcoords": [
           {
            "line": {
             "colorbar": {
              "outlinewidth": 0,
              "ticks": ""
             }
            },
            "type": "parcoords"
           }
          ],
          "pie": [
           {
            "automargin": true,
            "type": "pie"
           }
          ],
          "scatter": [
           {
            "fillpattern": {
             "fillmode": "overlay",
             "size": 10,
             "solidity": 0.2
            },
            "type": "scatter"
           }
          ],
          "scatter3d": [
           {
            "line": {
             "colorbar": {
              "outlinewidth": 0,
              "ticks": ""
             }
            },
            "marker": {
             "colorbar": {
              "outlinewidth": 0,
              "ticks": ""
             }
            },
            "type": "scatter3d"
           }
          ],
          "scattercarpet": [
           {
            "marker": {
             "colorbar": {
              "outlinewidth": 0,
              "ticks": ""
             }
            },
            "type": "scattercarpet"
           }
          ],
          "scattergeo": [
           {
            "marker": {
             "colorbar": {
              "outlinewidth": 0,
              "ticks": ""
             }
            },
            "type": "scattergeo"
           }
          ],
          "scattergl": [
           {
            "marker": {
             "colorbar": {
              "outlinewidth": 0,
              "ticks": ""
             }
            },
            "type": "scattergl"
           }
          ],
          "scattermap": [
           {
            "marker": {
             "colorbar": {
              "outlinewidth": 0,
              "ticks": ""
             }
            },
            "type": "scattermap"
           }
          ],
          "scattermapbox": [
           {
            "marker": {
             "colorbar": {
              "outlinewidth": 0,
              "ticks": ""
             }
            },
            "type": "scattermapbox"
           }
          ],
          "scatterpolar": [
           {
            "marker": {
             "colorbar": {
              "outlinewidth": 0,
              "ticks": ""
             }
            },
            "type": "scatterpolar"
           }
          ],
          "scatterpolargl": [
           {
            "marker": {
             "colorbar": {
              "outlinewidth": 0,
              "ticks": ""
             }
            },
            "type": "scatterpolargl"
           }
          ],
          "scatterternary": [
           {
            "marker": {
             "colorbar": {
              "outlinewidth": 0,
              "ticks": ""
             }
            },
            "type": "scatterternary"
           }
          ],
          "surface": [
           {
            "colorbar": {
             "outlinewidth": 0,
             "ticks": ""
            },
            "colorscale": [
             [
              0,
              "#0d0887"
             ],
             [
              0.1111111111111111,
              "#46039f"
             ],
             [
              0.2222222222222222,
              "#7201a8"
             ],
             [
              0.3333333333333333,
              "#9c179e"
             ],
             [
              0.4444444444444444,
              "#bd3786"
             ],
             [
              0.5555555555555556,
              "#d8576b"
             ],
             [
              0.6666666666666666,
              "#ed7953"
             ],
             [
              0.7777777777777778,
              "#fb9f3a"
             ],
             [
              0.8888888888888888,
              "#fdca26"
             ],
             [
              1,
              "#f0f921"
             ]
            ],
            "type": "surface"
           }
          ],
          "table": [
           {
            "cells": {
             "fill": {
              "color": "#EBF0F8"
             },
             "line": {
              "color": "white"
             }
            },
            "header": {
             "fill": {
              "color": "#C8D4E3"
             },
             "line": {
              "color": "white"
             }
            },
            "type": "table"
           }
          ]
         },
         "layout": {
          "annotationdefaults": {
           "arrowcolor": "#2a3f5f",
           "arrowhead": 0,
           "arrowwidth": 1
          },
          "autotypenumbers": "strict",
          "coloraxis": {
           "colorbar": {
            "outlinewidth": 0,
            "ticks": ""
           }
          },
          "colorscale": {
           "diverging": [
            [
             0,
             "#8e0152"
            ],
            [
             0.1,
             "#c51b7d"
            ],
            [
             0.2,
             "#de77ae"
            ],
            [
             0.3,
             "#f1b6da"
            ],
            [
             0.4,
             "#fde0ef"
            ],
            [
             0.5,
             "#f7f7f7"
            ],
            [
             0.6,
             "#e6f5d0"
            ],
            [
             0.7,
             "#b8e186"
            ],
            [
             0.8,
             "#7fbc41"
            ],
            [
             0.9,
             "#4d9221"
            ],
            [
             1,
             "#276419"
            ]
           ],
           "sequential": [
            [
             0,
             "#0d0887"
            ],
            [
             0.1111111111111111,
             "#46039f"
            ],
            [
             0.2222222222222222,
             "#7201a8"
            ],
            [
             0.3333333333333333,
             "#9c179e"
            ],
            [
             0.4444444444444444,
             "#bd3786"
            ],
            [
             0.5555555555555556,
             "#d8576b"
            ],
            [
             0.6666666666666666,
             "#ed7953"
            ],
            [
             0.7777777777777778,
             "#fb9f3a"
            ],
            [
             0.8888888888888888,
             "#fdca26"
            ],
            [
             1,
             "#f0f921"
            ]
           ],
           "sequentialminus": [
            [
             0,
             "#0d0887"
            ],
            [
             0.1111111111111111,
             "#46039f"
            ],
            [
             0.2222222222222222,
             "#7201a8"
            ],
            [
             0.3333333333333333,
             "#9c179e"
            ],
            [
             0.4444444444444444,
             "#bd3786"
            ],
            [
             0.5555555555555556,
             "#d8576b"
            ],
            [
             0.6666666666666666,
             "#ed7953"
            ],
            [
             0.7777777777777778,
             "#fb9f3a"
            ],
            [
             0.8888888888888888,
             "#fdca26"
            ],
            [
             1,
             "#f0f921"
            ]
           ]
          },
          "colorway": [
           "#636efa",
           "#EF553B",
           "#00cc96",
           "#ab63fa",
           "#FFA15A",
           "#19d3f3",
           "#FF6692",
           "#B6E880",
           "#FF97FF",
           "#FECB52"
          ],
          "font": {
           "color": "#2a3f5f"
          },
          "geo": {
           "bgcolor": "white",
           "lakecolor": "white",
           "landcolor": "white",
           "showlakes": true,
           "showland": true,
           "subunitcolor": "#C8D4E3"
          },
          "hoverlabel": {
           "align": "left"
          },
          "hovermode": "closest",
          "mapbox": {
           "style": "light"
          },
          "paper_bgcolor": "white",
          "plot_bgcolor": "white",
          "polar": {
           "angularaxis": {
            "gridcolor": "#EBF0F8",
            "linecolor": "#EBF0F8",
            "ticks": ""
           },
           "bgcolor": "white",
           "radialaxis": {
            "gridcolor": "#EBF0F8",
            "linecolor": "#EBF0F8",
            "ticks": ""
           }
          },
          "scene": {
           "xaxis": {
            "backgroundcolor": "white",
            "gridcolor": "#DFE8F3",
            "gridwidth": 2,
            "linecolor": "#EBF0F8",
            "showbackground": true,
            "ticks": "",
            "zerolinecolor": "#EBF0F8"
           },
           "yaxis": {
            "backgroundcolor": "white",
            "gridcolor": "#DFE8F3",
            "gridwidth": 2,
            "linecolor": "#EBF0F8",
            "showbackground": true,
            "ticks": "",
            "zerolinecolor": "#EBF0F8"
           },
           "zaxis": {
            "backgroundcolor": "white",
            "gridcolor": "#DFE8F3",
            "gridwidth": 2,
            "linecolor": "#EBF0F8",
            "showbackground": true,
            "ticks": "",
            "zerolinecolor": "#EBF0F8"
           }
          },
          "shapedefaults": {
           "line": {
            "color": "#2a3f5f"
           }
          },
          "ternary": {
           "aaxis": {
            "gridcolor": "#DFE8F3",
            "linecolor": "#A2B1C6",
            "ticks": ""
           },
           "baxis": {
            "gridcolor": "#DFE8F3",
            "linecolor": "#A2B1C6",
            "ticks": ""
           },
           "bgcolor": "white",
           "caxis": {
            "gridcolor": "#DFE8F3",
            "linecolor": "#A2B1C6",
            "ticks": ""
           }
          },
          "title": {
           "x": 0.05
          },
          "xaxis": {
           "automargin": true,
           "gridcolor": "#EBF0F8",
           "linecolor": "#EBF0F8",
           "ticks": "",
           "title": {
            "standoff": 15
           },
           "zerolinecolor": "#EBF0F8",
           "zerolinewidth": 2
          },
          "yaxis": {
           "automargin": true,
           "gridcolor": "#EBF0F8",
           "linecolor": "#EBF0F8",
           "ticks": "",
           "title": {
            "standoff": 15
           },
           "zerolinecolor": "#EBF0F8",
           "zerolinewidth": 2
          }
         }
        },
        "title": {
         "text": "2023 Yili En Zengin vs En Fakir Ulkeler"
        },
        "xaxis": {
         "anchor": "y",
         "domain": [
          0,
          0.45
         ],
         "title": {
          "text": "GDP Per Capita (USD)"
         }
        },
        "xaxis2": {
         "anchor": "y2",
         "domain": [
          0.55,
          1
         ],
         "title": {
          "text": "GDP Per Capita (USD)"
         }
        },
        "yaxis": {
         "anchor": "x",
         "domain": [
          0,
          1
         ]
        },
        "yaxis2": {
         "anchor": "x2",
         "domain": [
          0,
          1
         ]
        }
       }
      }
     },
     "metadata": {},
     "output_type": "display_data"
    },
    {
     "name": "stdout",
     "output_type": "stream",
     "text": [
      "\n",
      "2023 Zenginlik Farki:\n",
      "En zengin: Luxembourg - $132,847\n",
      "En fakir: Burundi - $829\n",
      "Fark orani: 160.3x\n"
     ]
    }
   ],
   "source": [
    "# 2023 yili verilerini filtrele\n",
    "df_2023 = df[df['Year'] == 2023].copy()\n",
    "df_2023 = df_2023.dropna(subset=[gdp_column])\n",
    "\n",
    "# En zengin ve en fakir 10 ulke\n",
    "top_10 = df_2023.nlargest(10, gdp_column)\n",
    "bottom_10 = df_2023.nsmallest(10, gdp_column)\n",
    "\n",
    "# Subplot olustur\n",
    "fig = make_subplots(\n",
    "    rows=1, cols=2,\n",
    "    subplot_titles=('En Zengin 10 Ulke', 'En Fakir 10 Ulke'),\n",
    "    horizontal_spacing=0.1\n",
    ")\n",
    "\n",
    "# En zengin ulkeler\n",
    "fig.add_trace(\n",
    "    go.Bar(\n",
    "        y=top_10['Entity'][::-1],  # Reverse order for better display\n",
    "        x=top_10[gdp_column][::-1],\n",
    "        orientation='h',\n",
    "        name='En Zengin',\n",
    "        marker=dict(color='#2ECC71'),\n",
    "        hovertemplate='<b>%{y}</b><br>GDP: $%{x:,.0f}<extra></extra>'\n",
    "    ),\n",
    "    row=1, col=1\n",
    ")\n",
    "\n",
    "# En fakir ulkeler\n",
    "fig.add_trace(\n",
    "    go.Bar(\n",
    "        y=bottom_10['Entity'],\n",
    "        x=bottom_10[gdp_column],\n",
    "        orientation='h',\n",
    "        name='En Fakir',\n",
    "        marker=dict(color='#E74C3C'),\n",
    "        hovertemplate='<b>%{y}</b><br>GDP: $%{x:,.0f}<extra></extra>'\n",
    "    ),\n",
    "    row=1, col=2\n",
    ")\n",
    "\n",
    "fig.update_layout(\n",
    "    title='2023 Yili En Zengin vs En Fakir Ulkeler',\n",
    "    height=600,\n",
    "    showlegend=False\n",
    ")\n",
    "\n",
    "fig.update_xaxes(title_text=\"GDP Per Capita (USD)\", row=1, col=1)\n",
    "fig.update_xaxes(title_text=\"GDP Per Capita (USD)\", row=1, col=2)\n",
    "\n",
    "fig.show()\n",
    "\n",
    "# Istatistikler\n",
    "max_gdp = top_10[gdp_column].max()\n",
    "min_gdp = bottom_10[gdp_column].min()\n",
    "ratio = max_gdp / min_gdp\n",
    "\n",
    "print(f\"\\n📊 2023 Wealth Inequality:\")\n",
    "print(f\"Richest: {top_10.iloc[0]['Entity']} - ${max_gdp:,.0f}\")\n",
    "print(f\"Poorest: {bottom_10.iloc[0]['Entity']} - ${min_gdp:,.0f}\")\n",
    "print(f\"Wealth ratio: {ratio:.1f}x\")"
   ]
  },
  {
   "cell_type": "code",
   "execution_count": null,
   "id": "9b5a9768",
   "metadata": {},
   "outputs": [],
   "source": [
    "# Kıta karşılaştırma grafikleri\n",
    "plot_continent_comparison(continent_trends, save_path='../outputs/plots/continent_comparison.png')"
   ]
  },
  {
   "cell_type": "code",
   "execution_count": null,
   "id": "4226a068",
   "metadata": {},
   "outputs": [],
   "source": [
    "# 2023 yılı kıta karşılaştırması\n",
    "latest_year = df_analysis['Year'].max()\n",
    "continent_2023 = continent_trends[continent_trends['Year'] == latest_year].sort_values('avg_gdp', ascending=True)\n",
    "\n",
    "plt.figure(figsize=(10, 6))\n",
    "bars = plt.barh(continent_2023['Continent'], continent_2023['avg_gdp'], \n",
    "                color=plt.cm.viridis(np.linspace(0, 1, len(continent_2023))))\n",
    "\n",
    "plt.title(f'🌍 GDP Per Capita by Continent ({latest_year})', fontsize=14, fontweight='bold')\n",
    "plt.xlabel('Average GDP Per Capita (USD)')\n",
    "\n",
    "# Add value labels\n",
    "for i, (idx, row) in enumerate(continent_2023.iterrows()):\n",
    "    plt.text(row['avg_gdp'] + 500, i, f'${row[\"avg_gdp\"]:,.0f}', \n",
    "             va='center', fontweight='bold')\n",
    "\n",
    "plt.grid(True, alpha=0.3)\n",
    "plt.tight_layout()\n",
    "plt.savefig('../outputs/plots/continent_2023.png', dpi=300, bbox_inches='tight')\n",
    "plt.show()\n",
    "\n",
    "print(f\"📊 {latest_year} Kıta Sıralaması:\")\n",
    "for i, (idx, row) in enumerate(continent_2023.iterrows(), 1):\n",
    "    print(f\"{i}. {row['Continent']}: ${row['avg_gdp']:,.0f}\")"
   ]
  },
  {
   "cell_type": "markdown",
   "id": "05e29409",
   "metadata": {},
   "source": [
    "## 🏆 3. En Zengin vs En Fakir Ülkeler"
   ]
  },
  {
   "cell_type": "code",
   "execution_count": null,
   "id": "62792840",
   "metadata": {},
   "outputs": [],
   "source": [
    "# En zengin ve en fakir ülkeleri göster\n",
    "plot_top_bottom_countries(df_analysis, gdp_column, year=2023, \n",
    "                         save_path='../outputs/plots/top_bottom_countries.png')"
   ]
  },
  {
   "cell_type": "code",
   "execution_count": null,
   "id": "e96ebb29",
   "metadata": {},
   "outputs": [],
   "source": [
    "# Detaylı istatistikler\n",
    "latest_year = df_analysis['Year'].max()\n",
    "year_data = df_analysis[df_analysis['Year'] == latest_year]\n",
    "\n",
    "top_5 = year_data.nlargest(5, gdp_column)\n",
    "bottom_5 = year_data.nsmallest(5, gdp_column)\n",
    "\n",
    "print(f\"🏆 TOP 5 EN ZENGİN ÜLKE ({latest_year}):\")\n",
    "for i, (idx, row) in enumerate(top_5.iterrows(), 1):\n",
    "    print(f\"{i}. {row['Entity']}: ${row[gdp_column]:,.0f} ({row['Continent']})\")\n",
    "\n",
    "print(f\"\\n📉 TOP 5 EN FAKİR ÜLKE ({latest_year}):\")\n",
    "for i, (idx, row) in enumerate(bottom_5.iterrows(), 1):\n",
    "    print(f\"{i}. {row['Entity']}: ${row[gdp_column]:,.0f} ({row['Continent']})\")\n",
    "\n",
    "wealth_gap = top_5.iloc[0][gdp_column] / bottom_5.iloc[0][gdp_column]\n",
    "print(f\"\\n💰 WEALTH GAP: En zengin ülke, en fakir ülkeden {wealth_gap:.1f}x daha zengin!\")"
   ]
  },
  {
   "cell_type": "markdown",
   "id": "3b8a20ea",
   "metadata": {},
   "source": [
    "## 🗺️ 4. Dünya Haritası - GDP Dağılımı"
   ]
  },
  {
   "cell_type": "code",
   "execution_count": null,
   "id": "22110ecf",
   "metadata": {},
   "outputs": [],
   "source": [
    "# Interactive dünya haritası\n",
    "plot_world_map_choropleth(df_analysis, gdp_column, year=2023, \n",
    "                          save_path='../outputs/plots/world_map.png')"
   ]
  },
  {
   "cell_type": "markdown",
   "id": "422085b6",
   "metadata": {},
   "source": [
    "## 📉 5. Ekonomik Krizlerin Etkisi"
   ]
  },
  {
   "cell_type": "code",
   "execution_count": null,
   "id": "1415fa8d",
   "metadata": {},
   "outputs": [
    {
     "data": {
      "application/vnd.plotly.v1+json": {
       "config": {
        "plotlyServerURL": "https://plot.ly"
       },
       "data": [
        {
         "coloraxis": "coloraxis",
         "customdata": [
          [
           "AFG",
           1992.4244,
           "Asia"
          ],
          [
           "ALB",
           18244.293,
           "Europe"
          ],
          [
           "DZA",
           15159.324,
           "Africa"
          ],
          [
           "AND",
           64631.297,
           "Europe"
          ],
          [
           "AGO",
           7244.893,
           "Africa"
          ],
          [
           "ATG",
           28967.256,
           "North America"
          ],
          [
           "ARG",
           27104.98,
           "South America"
          ],
          [
           "ARM",
           19230.19,
           "Asia"
          ],
          [
           "ABW",
           40516.81,
           "Other"
          ],
          [
           "AUS",
           59552.88,
           "Oceania"
          ],
          [
           "AUT",
           65015.133,
           "Europe"
          ],
          [
           "AZE",
           21262.299,
           "Asia"
          ],
          [
           "BHS",
           33105.605,
           "North America"
          ],
          [
           "BHR",
           57213.09,
           "Asia"
          ],
          [
           "BGD",
           8242.398,
           "Asia"
          ],
          [
           "BRB",
           19224.463,
           "North America"
          ],
          [
           "BLR",
           27718.322,
           "Europe"
          ],
          [
           "BEL",
           64185.848,
           "Europe"
          ],
          [
           "BLZ",
           12455.296,
           "North America"
          ],
          [
           "BEN",
           3721.2246,
           "Africa"
          ],
          [
           "BMU",
           98041.69,
           "Other"
          ],
          [
           "BOL",
           9843.97,
           "South America"
          ],
          [
           "BIH",
           20126.38,
           "Europe"
          ],
          [
           "BWA",
           18846.25,
           "Africa"
          ],
          [
           "BRA",
           19018.238,
           "South America"
          ],
          [
           "BRN",
           76828.4,
           "Asia"
          ],
          [
           "BGR",
           33403.375,
           "Europe"
          ],
          [
           "BFA",
           2482.0723,
           "Africa"
          ],
          [
           "BDI",
           828.8611,
           "Africa"
          ],
          [
           "KHM",
           6690.5894,
           "Asia"
          ],
          [
           "CMR",
           4870.571,
           "Africa"
          ],
          [
           "CAN",
           55918.93,
           "North America"
          ],
          [
           "CPV",
           9288.402,
           "Africa"
          ],
          [
           "CYM",
           78109.35,
           "Other"
          ],
          [
           "CAF",
           1135.1362,
           "Africa"
          ],
          [
           "TCD",
           1679.4615,
           "Africa"
          ],
          [
           "CHL",
           29462.64,
           "South America"
          ],
          [
           "CHN",
           22137.6,
           "Asia"
          ],
          [
           "COL",
           18692.385,
           "South America"
          ],
          [
           "COM",
           3498.8032,
           "Africa"
          ],
          [
           "COG",
           6172.2876,
           "Africa"
          ],
          [
           "CRI",
           26292.771,
           "North America"
          ],
          [
           "CIV",
           6485.316,
           "Other"
          ],
          [
           "HRV",
           41116.87,
           "Europe"
          ],
          [
           "CUW",
           28886.688,
           "Other"
          ],
          [
           "CYP",
           53420.684,
           "Europe"
          ],
          [
           "CZE",
           49681.06,
           "Europe"
          ],
          [
           "COD",
           1455.8356,
           "Africa"
          ],
          [
           "DNK",
           72097.305,
           "Europe"
          ],
          [
           "DJI",
           6400.62,
           "Africa"
          ],
          [
           "DMA",
           17420.252,
           "North America"
          ],
          [
           "DOM",
           23087.934,
           "North America"
          ],
          [
           null,
           22687.838,
           "Other"
          ],
          [
           "TLS",
           4328.508,
           "Other"
          ],
          [
           "ECU",
           14472.316,
           "South America"
          ],
          [
           "EGY",
           16691.133,
           "Africa"
          ],
          [
           "SLV",
           11404.334,
           "North America"
          ],
          [
           "GNQ",
           15688.238,
           "Africa"
          ],
          [
           "EST",
           42471.824,
           "Europe"
          ],
          [
           "SWZ",
           10132.1875,
           "Africa"
          ],
          [
           "ETH",
           2755.457,
           "Africa"
          ],
          [
           null,
           44432.613,
           "Other"
          ],
          [
           null,
           54446.863,
           "Other"
          ],
          [
           null,
           70373.375,
           "Other"
          ],
          [
           "FJI",
           13652.491,
           "Oceania"
          ],
          [
           "FIN",
           57063.523,
           "Europe"
          ],
          [
           "FRA",
           55441.188,
           "Europe"
          ],
          [
           "GAB",
           18702.691,
           "Africa"
          ],
          [
           "GMB",
           2932.2805,
           "Africa"
          ],
          [
           "GEO",
           22590.53,
           "Asia"
          ],
          [
           "DEU",
           63578.14,
           "Europe"
          ],
          [
           "GHA",
           6796.4736,
           "Africa"
          ],
          [
           "GRC",
           36905.453,
           "Europe"
          ],
          [
           "GRD",
           16946.473,
           "North America"
          ],
          [
           "GTM",
           12389.386,
           "North America"
          ],
          [
           "GIN",
           3949.34,
           "Africa"
          ],
          [
           "GNB",
           2578.8044,
           "Africa"
          ],
          [
           "GUY",
           49315.16,
           "South America"
          ],
          [
           "HTI",
           2956.4622,
           "North America"
          ],
          [
           null,
           57577.62,
           "Other"
          ],
          [
           "HND",
           6468.302,
           "North America"
          ],
          [
           "HKG",
           64467.574,
           "Other"
          ],
          [
           "HUN",
           40543.992,
           "Europe"
          ],
          [
           "ISL",
           67255.67,
           "Europe"
          ],
          [
           "IND",
           9160.063,
           "Asia"
          ],
          [
           "IDN",
           13889.883,
           "Asia"
          ],
          [
           "IRN",
           15912.03,
           "Asia"
          ],
          [
           "IRQ",
           12711.062,
           "Asia"
          ],
          [
           "IRL",
           114922.39,
           "Europe"
          ],
          [
           "ISR",
           48432.11,
           "Asia"
          ],
          [
           "ITA",
           53312.07,
           "Europe"
          ],
          [
           "JAM",
           10291.3125,
           "North America"
          ],
          [
           "JPN",
           46157.637,
           "Asia"
          ],
          [
           "JOR",
           9362.588,
           "Asia"
          ],
          [
           "KAZ",
           34703.234,
           "Asia"
          ],
          [
           "KEN",
           5682.9893,
           "Africa"
          ],
          [
           "KIR",
           3195.8704,
           "Oceania"
          ],
          [
           "OWID_KOS",
           13642.677,
           "Other"
          ],
          [
           "KWT",
           46458.2,
           "Asia"
          ],
          [
           "KGZ",
           6403.143,
           "Asia"
          ],
          [
           "LAO",
           8372.156,
           "Asia"
          ],
          [
           null,
           19654.996,
           "Other"
          ],
          [
           "LVA",
           37007.367,
           "Europe"
          ],
          [
           "LSO",
           2595.8296,
           "Africa"
          ],
          [
           "LBR",
           1616.9237,
           "Africa"
          ],
          [
           "LBY",
           12478.144,
           "Africa"
          ],
          [
           "LTU",
           46740.41,
           "Europe"
          ],
          [
           null,
           2325.4177,
           "Other"
          ],
          [
           null,
           8379.975,
           "Other"
          ],
          [
           "LUX",
           132846.58,
           "Europe"
          ],
          [
           "MAC",
           104961.64,
           "Other"
          ],
          [
           "MDG",
           1643.3093,
           "Africa"
          ],
          [
           "MWI",
           1648.4365,
           "Africa"
          ],
          [
           "MYS",
           32812.3,
           "Asia"
          ],
          [
           "MDV",
           22286.98,
           "Asia"
          ],
          [
           "MLI",
           2394.672,
           "Africa"
          ],
          [
           "MLT",
           61125.71,
           "Europe"
          ],
          [
           "MHL",
           6786.696,
           "Oceania"
          ],
          [
           "MRT",
           6258.711,
           "Africa"
          ],
          [
           "MUS",
           26590.424,
           "Africa"
          ],
          [
           "MEX",
           22142.607,
           "North America"
          ],
          [
           "FSM",
           3886.6965,
           "Other"
          ],
          [
           null,
           18660.316,
           "Other"
          ],
          [
           null,
           14233.418,
           "Other"
          ],
          [
           "MDA",
           15855.273,
           "Europe"
          ],
          [
           "MNG",
           16222.864,
           "Asia"
          ],
          [
           "MNE",
           27869.65,
           "Europe"
          ],
          [
           "MAR",
           8868.712,
           "Africa"
          ],
          [
           "MOZ",
           1511.6365,
           "Africa"
          ],
          [
           "MMR",
           5364.138,
           "Asia"
          ],
          [
           "NAM",
           10105.515,
           "Africa"
          ],
          [
           "NRU",
           12462.841,
           "Oceania"
          ],
          [
           "NPL",
           4859.8003,
           "Asia"
          ],
          [
           "NLD",
           71446.695,
           "Europe"
          ],
          [
           "NZL",
           48826.574,
           "Oceania"
          ],
          [
           "NIC",
           7486.943,
           "North America"
          ],
          [
           "NER",
           1703.397,
           "Africa"
          ],
          [
           "NGA",
           5593.0566,
           "Africa"
          ],
          [
           null,
           72586.85,
           "Other"
          ],
          [
           "MKD",
           23584.564,
           "Europe"
          ],
          [
           "NOR",
           90469.81,
           "Europe"
          ],
          [
           "OMN",
           38311.418,
           "Asia"
          ],
          [
           "PAK",
           5439.1875,
           "Asia"
          ],
          [
           "PLW",
           15796.54,
           "Oceania"
          ],
          [
           "PSE",
           5313.098,
           "Asia"
          ],
          [
           "PAN",
           35863.88,
           "North America"
          ],
          [
           "PNG",
           4174.4414,
           "Oceania"
          ],
          [
           "PRY",
           15783.115,
           "South America"
          ],
          [
           "PER",
           15294.257,
           "South America"
          ],
          [
           "PHL",
           9901.057,
           "Asia"
          ],
          [
           "POL",
           44384.168,
           "Europe"
          ],
          [
           "PRT",
           41755.48,
           "Europe"
          ],
          [
           "PRI",
           42994.785,
           "Other"
          ],
          [
           "QAT",
           116159.14,
           "Asia"
          ],
          [
           "ROU",
           40665.527,
           "Europe"
          ],
          [
           "RUS",
           39753.457,
           "Europe"
          ],
          [
           "RWA",
           3060.029,
           "Africa"
          ],
          [
           "KNA",
           30409.404,
           "North America"
          ],
          [
           "LCA",
           23403.46,
           "North America"
          ],
          [
           "VCT",
           18335.213,
           "North America"
          ],
          [
           "WSM",
           6304.346,
           "Oceania"
          ],
          [
           "STP",
           5541.302,
           "Africa"
          ],
          [
           "SAU",
           55055.4,
           "Asia"
          ],
          [
           "SEN",
           4317.2266,
           "Africa"
          ],
          [
           "SRB",
           26030.021,
           "Europe"
          ],
          [
           "SYC",
           29468.951,
           "Africa"
          ],
          [
           "SLE",
           3034.219,
           "Africa"
          ],
          [
           "SGP",
           127543.555,
           "Asia"
          ],
          [
           "SXM",
           44894.695,
           "Other"
          ],
          [
           "SVK",
           39290.434,
           "Europe"
          ],
          [
           "SVN",
           48243.94,
           "Europe"
          ],
          [
           "SLB",
           2534.0276,
           "Oceania"
          ],
          [
           "SOM",
           1402.47,
           "Africa"
          ],
          [
           "ZAF",
           13690.39,
           "Africa"
          ],
          [
           null,
           8439.404,
           "Other"
          ],
          [
           "KOR",
           50572.25,
           "Asia"
          ],
          [
           "ESP",
           47141.543,
           "Europe"
          ],
          [
           "LKA",
           13029.524,
           "Asia"
          ],
          [
           null,
           4309.3516,
           "Other"
          ],
          [
           "SDN",
           2469.1946,
           "Africa"
          ],
          [
           "SUR",
           19043.705,
           "South America"
          ],
          [
           "SWE",
           63114.68,
           "Europe"
          ],
          [
           "CHE",
           82557.55,
           "Europe"
          ],
          [
           "TJK",
           4472.324,
           "Asia"
          ],
          [
           "TZA",
           3620.7935,
           "Africa"
          ],
          [
           "THA",
           21142.664,
           "Asia"
          ],
          [
           "TGO",
           2767.5166,
           "Africa"
          ],
          [
           "TTO",
           31705.834,
           "North America"
          ],
          [
           "TUN",
           12552.986,
           "Africa"
          ],
          [
           "TUR",
           34609.914,
           "Asia"
          ],
          [
           "TKM",
           17866.404,
           "Asia"
          ],
          [
           "TCA",
           22305.66,
           "Other"
          ],
          [
           "TUV",
           5812.393,
           "Oceania"
          ],
          [
           "UGA",
           2791.0557,
           "Africa"
          ],
          [
           "UKR",
           15885.226,
           "Europe"
          ],
          [
           "ARE",
           68577.54,
           "Asia"
          ],
          [
           "GBR",
           54542.016,
           "Europe"
          ],
          [
           "USA",
           74577.51,
           "North America"
          ],
          [
           null,
           20620.35,
           "Other"
          ],
          [
           "URY",
           31019.31,
           "South America"
          ],
          [
           "UZB",
           10007.686,
           "Asia"
          ],
          [
           "VUT",
           3118.396,
           "Oceania"
          ],
          [
           "VNM",
           13491.88,
           "Asia"
          ],
          [
           "OWID_WRL",
           20670.941,
           "Other"
          ],
          [
           "ZMB",
           3673.4841,
           "Africa"
          ],
          [
           "ZWE",
           3442.2512,
           "Africa"
          ]
         ],
         "geo": "geo",
         "hovertemplate": "<b>%{hovertext}</b><br><br>GDP Per Capita (USD)=%{z:,.0f}<br>Continent=%{customdata[2]}<extra></extra>",
         "hovertext": [
          "Afghanistan",
          "Albania",
          "Algeria",
          "Andorra",
          "Angola",
          "Antigua and Barbuda",
          "Argentina",
          "Armenia",
          "Aruba",
          "Australia",
          "Austria",
          "Azerbaijan",
          "Bahamas",
          "Bahrain",
          "Bangladesh",
          "Barbados",
          "Belarus",
          "Belgium",
          "Belize",
          "Benin",
          "Bermuda",
          "Bolivia",
          "Bosnia and Herzegovina",
          "Botswana",
          "Brazil",
          "Brunei",
          "Bulgaria",
          "Burkina Faso",
          "Burundi",
          "Cambodia",
          "Cameroon",
          "Canada",
          "Cape Verde",
          "Cayman Islands",
          "Central African Republic",
          "Chad",
          "Chile",
          "China",
          "Colombia",
          "Comoros",
          "Congo",
          "Costa Rica",
          "Cote d'Ivoire",
          "Croatia",
          "Curacao",
          "Cyprus",
          "Czechia",
          "Democratic Republic of Congo",
          "Denmark",
          "Djibouti",
          "Dominica",
          "Dominican Republic",
          "East Asia and Pacific (WB)",
          "East Timor",
          "Ecuador",
          "Egypt",
          "El Salvador",
          "Equatorial Guinea",
          "Estonia",
          "Eswatini",
          "Ethiopia",
          "Europe and Central Asia (WB)",
          "European Union (27)",
          "Faeroe Islands",
          "Fiji",
          "Finland",
          "France",
          "Gabon",
          "Gambia",
          "Georgia",
          "Germany",
          "Ghana",
          "Greece",
          "Grenada",
          "Guatemala",
          "Guinea",
          "Guinea-Bissau",
          "Guyana",
          "Haiti",
          "High-income countries",
          "Honduras",
          "Hong Kong",
          "Hungary",
          "Iceland",
          "India",
          "Indonesia",
          "Iran",
          "Iraq",
          "Ireland",
          "Israel",
          "Italy",
          "Jamaica",
          "Japan",
          "Jordan",
          "Kazakhstan",
          "Kenya",
          "Kiribati",
          "Kosovo",
          "Kuwait",
          "Kyrgyzstan",
          "Laos",
          "Latin America and Caribbean (WB)",
          "Latvia",
          "Lesotho",
          "Liberia",
          "Libya",
          "Lithuania",
          "Low-income countries",
          "Lower-middle-income countries",
          "Luxembourg",
          "Macao",
          "Madagascar",
          "Malawi",
          "Malaysia",
          "Maldives",
          "Mali",
          "Malta",
          "Marshall Islands",
          "Mauritania",
          "Mauritius",
          "Mexico",
          "Micronesia (country)",
          "Middle East and North Africa (WB)",
          "Middle-income countries",
          "Moldova",
          "Mongolia",
          "Montenegro",
          "Morocco",
          "Mozambique",
          "Myanmar",
          "Namibia",
          "Nauru",
          "Nepal",
          "Netherlands",
          "New Zealand",
          "Nicaragua",
          "Niger",
          "Nigeria",
          "North America (WB)",
          "North Macedonia",
          "Norway",
          "Oman",
          "Pakistan",
          "Palau",
          "Palestine",
          "Panama",
          "Papua New Guinea",
          "Paraguay",
          "Peru",
          "Philippines",
          "Poland",
          "Portugal",
          "Puerto Rico",
          "Qatar",
          "Romania",
          "Russia",
          "Rwanda",
          "Saint Kitts and Nevis",
          "Saint Lucia",
          "Saint Vincent and the Grenadines",
          "Samoa",
          "Sao Tome and Principe",
          "Saudi Arabia",
          "Senegal",
          "Serbia",
          "Seychelles",
          "Sierra Leone",
          "Singapore",
          "Sint Maarten (Dutch part)",
          "Slovakia",
          "Slovenia",
          "Solomon Islands",
          "Somalia",
          "South Africa",
          "South Asia (WB)",
          "South Korea",
          "Spain",
          "Sri Lanka",
          "Sub-Saharan Africa (WB)",
          "Sudan",
          "Suriname",
          "Sweden",
          "Switzerland",
          "Tajikistan",
          "Tanzania",
          "Thailand",
          "Togo",
          "Trinidad and Tobago",
          "Tunisia",
          "Turkey",
          "Turkmenistan",
          "Turks and Caicos Islands",
          "Tuvalu",
          "Uganda",
          "Ukraine",
          "United Arab Emirates",
          "United Kingdom",
          "United States",
          "Upper-middle-income countries",
          "Uruguay",
          "Uzbekistan",
          "Vanuatu",
          "Vietnam",
          "World",
          "Zambia",
          "Zimbabwe"
         ],
         "locations": [
          "AFG",
          "ALB",
          "DZA",
          "AND",
          "AGO",
          "ATG",
          "ARG",
          "ARM",
          "ABW",
          "AUS",
          "AUT",
          "AZE",
          "BHS",
          "BHR",
          "BGD",
          "BRB",
          "BLR",
          "BEL",
          "BLZ",
          "BEN",
          "BMU",
          "BOL",
          "BIH",
          "BWA",
          "BRA",
          "BRN",
          "BGR",
          "BFA",
          "BDI",
          "KHM",
          "CMR",
          "CAN",
          "CPV",
          "CYM",
          "CAF",
          "TCD",
          "CHL",
          "CHN",
          "COL",
          "COM",
          "COG",
          "CRI",
          "CIV",
          "HRV",
          "CUW",
          "CYP",
          "CZE",
          "COD",
          "DNK",
          "DJI",
          "DMA",
          "DOM",
          null,
          "TLS",
          "ECU",
          "EGY",
          "SLV",
          "GNQ",
          "EST",
          "SWZ",
          "ETH",
          null,
          null,
          null,
          "FJI",
          "FIN",
          "FRA",
          "GAB",
          "GMB",
          "GEO",
          "DEU",
          "GHA",
          "GRC",
          "GRD",
          "GTM",
          "GIN",
          "GNB",
          "GUY",
          "HTI",
          null,
          "HND",
          "HKG",
          "HUN",
          "ISL",
          "IND",
          "IDN",
          "IRN",
          "IRQ",
          "IRL",
          "ISR",
          "ITA",
          "JAM",
          "JPN",
          "JOR",
          "KAZ",
          "KEN",
          "KIR",
          "OWID_KOS",
          "KWT",
          "KGZ",
          "LAO",
          null,
          "LVA",
          "LSO",
          "LBR",
          "LBY",
          "LTU",
          null,
          null,
          "LUX",
          "MAC",
          "MDG",
          "MWI",
          "MYS",
          "MDV",
          "MLI",
          "MLT",
          "MHL",
          "MRT",
          "MUS",
          "MEX",
          "FSM",
          null,
          null,
          "MDA",
          "MNG",
          "MNE",
          "MAR",
          "MOZ",
          "MMR",
          "NAM",
          "NRU",
          "NPL",
          "NLD",
          "NZL",
          "NIC",
          "NER",
          "NGA",
          null,
          "MKD",
          "NOR",
          "OMN",
          "PAK",
          "PLW",
          "PSE",
          "PAN",
          "PNG",
          "PRY",
          "PER",
          "PHL",
          "POL",
          "PRT",
          "PRI",
          "QAT",
          "ROU",
          "RUS",
          "RWA",
          "KNA",
          "LCA",
          "VCT",
          "WSM",
          "STP",
          "SAU",
          "SEN",
          "SRB",
          "SYC",
          "SLE",
          "SGP",
          "SXM",
          "SVK",
          "SVN",
          "SLB",
          "SOM",
          "ZAF",
          null,
          "KOR",
          "ESP",
          "LKA",
          null,
          "SDN",
          "SUR",
          "SWE",
          "CHE",
          "TJK",
          "TZA",
          "THA",
          "TGO",
          "TTO",
          "TUN",
          "TUR",
          "TKM",
          "TCA",
          "TUV",
          "UGA",
          "UKR",
          "ARE",
          "GBR",
          "USA",
          null,
          "URY",
          "UZB",
          "VUT",
          "VNM",
          "OWID_WRL",
          "ZMB",
          "ZWE"
         ],
         "name": "",
         "type": "choropleth",
         "z": {
          "bdata": "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",
          "dtype": "f8"
         }
        }
       ],
       "layout": {
        "coloraxis": {
         "colorbar": {
          "title": {
           "text": "GDP Per Capita (USD)"
          }
         },
         "colorscale": [
          [
           0,
           "#440154"
          ],
          [
           0.1111111111111111,
           "#482878"
          ],
          [
           0.2222222222222222,
           "#3e4989"
          ],
          [
           0.3333333333333333,
           "#31688e"
          ],
          [
           0.4444444444444444,
           "#26828e"
          ],
          [
           0.5555555555555556,
           "#1f9e89"
          ],
          [
           0.6666666666666666,
           "#35b779"
          ],
          [
           0.7777777777777778,
           "#6ece58"
          ],
          [
           0.8888888888888888,
           "#b5de2b"
          ],
          [
           1,
           "#fde725"
          ]
         ]
        },
        "geo": {
         "center": {},
         "domain": {
          "x": [
           0,
           1
          ],
          "y": [
           0,
           1
          ]
         },
         "projection": {
          "type": "equirectangular"
         },
         "showcoastlines": true,
         "showframe": false
        },
        "height": 600,
        "legend": {
         "tracegroupgap": 0
        },
        "template": {
         "data": {
          "bar": [
           {
            "error_x": {
             "color": "#2a3f5f"
            },
            "error_y": {
             "color": "#2a3f5f"
            },
            "marker": {
             "line": {
              "color": "white",
              "width": 0.5
             },
             "pattern": {
              "fillmode": "overlay",
              "size": 10,
              "solidity": 0.2
             }
            },
            "type": "bar"
           }
          ],
          "barpolar": [
           {
            "marker": {
             "line": {
              "color": "white",
              "width": 0.5
             },
             "pattern": {
              "fillmode": "overlay",
              "size": 10,
              "solidity": 0.2
             }
            },
            "type": "barpolar"
           }
          ],
          "carpet": [
           {
            "aaxis": {
             "endlinecolor": "#2a3f5f",
             "gridcolor": "#C8D4E3",
             "linecolor": "#C8D4E3",
             "minorgridcolor": "#C8D4E3",
             "startlinecolor": "#2a3f5f"
            },
            "baxis": {
             "endlinecolor": "#2a3f5f",
             "gridcolor": "#C8D4E3",
             "linecolor": "#C8D4E3",
             "minorgridcolor": "#C8D4E3",
             "startlinecolor": "#2a3f5f"
            },
            "type": "carpet"
           }
          ],
          "choropleth": [
           {
            "colorbar": {
             "outlinewidth": 0,
             "ticks": ""
            },
            "type": "choropleth"
           }
          ],
          "contour": [
           {
            "colorbar": {
             "outlinewidth": 0,
             "ticks": ""
            },
            "colorscale": [
             [
              0,
              "#0d0887"
             ],
             [
              0.1111111111111111,
              "#46039f"
             ],
             [
              0.2222222222222222,
              "#7201a8"
             ],
             [
              0.3333333333333333,
              "#9c179e"
             ],
             [
              0.4444444444444444,
              "#bd3786"
             ],
             [
              0.5555555555555556,
              "#d8576b"
             ],
             [
              0.6666666666666666,
              "#ed7953"
             ],
             [
              0.7777777777777778,
              "#fb9f3a"
             ],
             [
              0.8888888888888888,
              "#fdca26"
             ],
             [
              1,
              "#f0f921"
             ]
            ],
            "type": "contour"
           }
          ],
          "contourcarpet": [
           {
            "colorbar": {
             "outlinewidth": 0,
             "ticks": ""
            },
            "type": "contourcarpet"
           }
          ],
          "heatmap": [
           {
            "colorbar": {
             "outlinewidth": 0,
             "ticks": ""
            },
            "colorscale": [
             [
              0,
              "#0d0887"
             ],
             [
              0.1111111111111111,
              "#46039f"
             ],
             [
              0.2222222222222222,
              "#7201a8"
             ],
             [
              0.3333333333333333,
              "#9c179e"
             ],
             [
              0.4444444444444444,
              "#bd3786"
             ],
             [
              0.5555555555555556,
              "#d8576b"
             ],
             [
              0.6666666666666666,
              "#ed7953"
             ],
             [
              0.7777777777777778,
              "#fb9f3a"
             ],
             [
              0.8888888888888888,
              "#fdca26"
             ],
             [
              1,
              "#f0f921"
             ]
            ],
            "type": "heatmap"
           }
          ],
          "histogram": [
           {
            "marker": {
             "pattern": {
              "fillmode": "overlay",
              "size": 10,
              "solidity": 0.2
             }
            },
            "type": "histogram"
           }
          ],
          "histogram2d": [
           {
            "colorbar": {
             "outlinewidth": 0,
             "ticks": ""
            },
            "colorscale": [
             [
              0,
              "#0d0887"
             ],
             [
              0.1111111111111111,
              "#46039f"
             ],
             [
              0.2222222222222222,
              "#7201a8"
             ],
             [
              0.3333333333333333,
              "#9c179e"
             ],
             [
              0.4444444444444444,
              "#bd3786"
             ],
             [
              0.5555555555555556,
              "#d8576b"
             ],
             [
              0.6666666666666666,
              "#ed7953"
             ],
             [
              0.7777777777777778,
              "#fb9f3a"
             ],
             [
              0.8888888888888888,
              "#fdca26"
             ],
             [
              1,
              "#f0f921"
             ]
            ],
            "type": "histogram2d"
           }
          ],
          "histogram2dcontour": [
           {
            "colorbar": {
             "outlinewidth": 0,
             "ticks": ""
            },
            "colorscale": [
             [
              0,
              "#0d0887"
             ],
             [
              0.1111111111111111,
              "#46039f"
             ],
             [
              0.2222222222222222,
              "#7201a8"
             ],
             [
              0.3333333333333333,
              "#9c179e"
             ],
             [
              0.4444444444444444,
              "#bd3786"
             ],
             [
              0.5555555555555556,
              "#d8576b"
             ],
             [
              0.6666666666666666,
              "#ed7953"
             ],
             [
              0.7777777777777778,
              "#fb9f3a"
             ],
             [
              0.8888888888888888,
              "#fdca26"
             ],
             [
              1,
              "#f0f921"
             ]
            ],
            "type": "histogram2dcontour"
           }
          ],
          "mesh3d": [
           {
            "colorbar": {
             "outlinewidth": 0,
             "ticks": ""
            },
            "type": "mesh3d"
           }
          ],
          "parcoords": [
           {
            "line": {
             "colorbar": {
              "outlinewidth": 0,
              "ticks": ""
             }
            },
            "type": "parcoords"
           }
          ],
          "pie": [
           {
            "automargin": true,
            "type": "pie"
           }
          ],
          "scatter": [
           {
            "fillpattern": {
             "fillmode": "overlay",
             "size": 10,
             "solidity": 0.2
            },
            "type": "scatter"
           }
          ],
          "scatter3d": [
           {
            "line": {
             "colorbar": {
              "outlinewidth": 0,
              "ticks": ""
             }
            },
            "marker": {
             "colorbar": {
              "outlinewidth": 0,
              "ticks": ""
             }
            },
            "type": "scatter3d"
           }
          ],
          "scattercarpet": [
           {
            "marker": {
             "colorbar": {
              "outlinewidth": 0,
              "ticks": ""
             }
            },
            "type": "scattercarpet"
           }
          ],
          "scattergeo": [
           {
            "marker": {
             "colorbar": {
              "outlinewidth": 0,
              "ticks": ""
             }
            },
            "type": "scattergeo"
           }
          ],
          "scattergl": [
           {
            "marker": {
             "colorbar": {
              "outlinewidth": 0,
              "ticks": ""
             }
            },
            "type": "scattergl"
           }
          ],
          "scattermap": [
           {
            "marker": {
             "colorbar": {
              "outlinewidth": 0,
              "ticks": ""
             }
            },
            "type": "scattermap"
           }
          ],
          "scattermapbox": [
           {
            "marker": {
             "colorbar": {
              "outlinewidth": 0,
              "ticks": ""
             }
            },
            "type": "scattermapbox"
           }
          ],
          "scatterpolar": [
           {
            "marker": {
             "colorbar": {
              "outlinewidth": 0,
              "ticks": ""
             }
            },
            "type": "scatterpolar"
           }
          ],
          "scatterpolargl": [
           {
            "marker": {
             "colorbar": {
              "outlinewidth": 0,
              "ticks": ""
             }
            },
            "type": "scatterpolargl"
           }
          ],
          "scatterternary": [
           {
            "marker": {
             "colorbar": {
              "outlinewidth": 0,
              "ticks": ""
             }
            },
            "type": "scatterternary"
           }
          ],
          "surface": [
           {
            "colorbar": {
             "outlinewidth": 0,
             "ticks": ""
            },
            "colorscale": [
             [
              0,
              "#0d0887"
             ],
             [
              0.1111111111111111,
              "#46039f"
             ],
             [
              0.2222222222222222,
              "#7201a8"
             ],
             [
              0.3333333333333333,
              "#9c179e"
             ],
             [
              0.4444444444444444,
              "#bd3786"
             ],
             [
              0.5555555555555556,
              "#d8576b"
             ],
             [
              0.6666666666666666,
              "#ed7953"
             ],
             [
              0.7777777777777778,
              "#fb9f3a"
             ],
             [
              0.8888888888888888,
              "#fdca26"
             ],
             [
              1,
              "#f0f921"
             ]
            ],
            "type": "surface"
           }
          ],
          "table": [
           {
            "cells": {
             "fill": {
              "color": "#EBF0F8"
             },
             "line": {
              "color": "white"
             }
            },
            "header": {
             "fill": {
              "color": "#C8D4E3"
             },
             "line": {
              "color": "white"
             }
            },
            "type": "table"
           }
          ]
         },
         "layout": {
          "annotationdefaults": {
           "arrowcolor": "#2a3f5f",
           "arrowhead": 0,
           "arrowwidth": 1
          },
          "autotypenumbers": "strict",
          "coloraxis": {
           "colorbar": {
            "outlinewidth": 0,
            "ticks": ""
           }
          },
          "colorscale": {
           "diverging": [
            [
             0,
             "#8e0152"
            ],
            [
             0.1,
             "#c51b7d"
            ],
            [
             0.2,
             "#de77ae"
            ],
            [
             0.3,
             "#f1b6da"
            ],
            [
             0.4,
             "#fde0ef"
            ],
            [
             0.5,
             "#f7f7f7"
            ],
            [
             0.6,
             "#e6f5d0"
            ],
            [
             0.7,
             "#b8e186"
            ],
            [
             0.8,
             "#7fbc41"
            ],
            [
             0.9,
             "#4d9221"
            ],
            [
             1,
             "#276419"
            ]
           ],
           "sequential": [
            [
             0,
             "#0d0887"
            ],
            [
             0.1111111111111111,
             "#46039f"
            ],
            [
             0.2222222222222222,
             "#7201a8"
            ],
            [
             0.3333333333333333,
             "#9c179e"
            ],
            [
             0.4444444444444444,
             "#bd3786"
            ],
            [
             0.5555555555555556,
             "#d8576b"
            ],
            [
             0.6666666666666666,
             "#ed7953"
            ],
            [
             0.7777777777777778,
             "#fb9f3a"
            ],
            [
             0.8888888888888888,
             "#fdca26"
            ],
            [
             1,
             "#f0f921"
            ]
           ],
           "sequentialminus": [
            [
             0,
             "#0d0887"
            ],
            [
             0.1111111111111111,
             "#46039f"
            ],
            [
             0.2222222222222222,
             "#7201a8"
            ],
            [
             0.3333333333333333,
             "#9c179e"
            ],
            [
             0.4444444444444444,
             "#bd3786"
            ],
            [
             0.5555555555555556,
             "#d8576b"
            ],
            [
             0.6666666666666666,
             "#ed7953"
            ],
            [
             0.7777777777777778,
             "#fb9f3a"
            ],
            [
             0.8888888888888888,
             "#fdca26"
            ],
            [
             1,
             "#f0f921"
            ]
           ]
          },
          "colorway": [
           "#636efa",
           "#EF553B",
           "#00cc96",
           "#ab63fa",
           "#FFA15A",
           "#19d3f3",
           "#FF6692",
           "#B6E880",
           "#FF97FF",
           "#FECB52"
          ],
          "font": {
           "color": "#2a3f5f"
          },
          "geo": {
           "bgcolor": "white",
           "lakecolor": "white",
           "landcolor": "white",
           "showlakes": true,
           "showland": true,
           "subunitcolor": "#C8D4E3"
          },
          "hoverlabel": {
           "align": "left"
          },
          "hovermode": "closest",
          "mapbox": {
           "style": "light"
          },
          "paper_bgcolor": "white",
          "plot_bgcolor": "white",
          "polar": {
           "angularaxis": {
            "gridcolor": "#EBF0F8",
            "linecolor": "#EBF0F8",
            "ticks": ""
           },
           "bgcolor": "white",
           "radialaxis": {
            "gridcolor": "#EBF0F8",
            "linecolor": "#EBF0F8",
            "ticks": ""
           }
          },
          "scene": {
           "xaxis": {
            "backgroundcolor": "white",
            "gridcolor": "#DFE8F3",
            "gridwidth": 2,
            "linecolor": "#EBF0F8",
            "showbackground": true,
            "ticks": "",
            "zerolinecolor": "#EBF0F8"
           },
           "yaxis": {
            "backgroundcolor": "white",
            "gridcolor": "#DFE8F3",
            "gridwidth": 2,
            "linecolor": "#EBF0F8",
            "showbackground": true,
            "ticks": "",
            "zerolinecolor": "#EBF0F8"
           },
           "zaxis": {
            "backgroundcolor": "white",
            "gridcolor": "#DFE8F3",
            "gridwidth": 2,
            "linecolor": "#EBF0F8",
            "showbackground": true,
            "ticks": "",
            "zerolinecolor": "#EBF0F8"
           }
          },
          "shapedefaults": {
           "line": {
            "color": "#2a3f5f"
           }
          },
          "ternary": {
           "aaxis": {
            "gridcolor": "#DFE8F3",
            "linecolor": "#A2B1C6",
            "ticks": ""
           },
           "baxis": {
            "gridcolor": "#DFE8F3",
            "linecolor": "#A2B1C6",
            "ticks": ""
           },
           "bgcolor": "white",
           "caxis": {
            "gridcolor": "#DFE8F3",
            "linecolor": "#A2B1C6",
            "ticks": ""
           }
          },
          "title": {
           "x": 0.05
          },
          "xaxis": {
           "automargin": true,
           "gridcolor": "#EBF0F8",
           "linecolor": "#EBF0F8",
           "ticks": "",
           "title": {
            "standoff": 15
           },
           "zerolinecolor": "#EBF0F8",
           "zerolinewidth": 2
          },
          "yaxis": {
           "automargin": true,
           "gridcolor": "#EBF0F8",
           "linecolor": "#EBF0F8",
           "ticks": "",
           "title": {
            "standoff": 15
           },
           "zerolinecolor": "#EBF0F8",
           "zerolinewidth": 2
          }
         }
        },
        "title": {
         "text": "2023 Dunya GDP Per Capita Haritasi"
        }
       }
      }
     },
     "metadata": {},
     "output_type": "display_data"
    },
    {
     "name": "stdout",
     "output_type": "stream",
     "text": [
      "\n",
      "2023 Gelir Seviyesi Dagilimi:\n",
      "Upper Middle Income: 57 ulke (%27.7)\n",
      "Lower Middle Income: 47 ulke (%22.8)\n",
      "High Income: 43 ulke (%20.9)\n",
      "Very High Income: 36 ulke (%17.5)\n",
      "Low Income: 23 ulke (%11.2)\n"
     ]
    }
   ],
   "source": [
    "# Prepare data for 2023 world map visualization\n",
    "df_map = df_2023[['Entity', 'Code', gdp_column, 'Continent']].copy()\n",
    "\n",
    "# Create modern choropleth map with custom color scale\n",
    "fig = px.choropleth(\n",
    "    df_map,\n",
    "    locations=\"Code\",\n",
    "    color=gdp_column,\n",
    "    hover_name=\"Entity\",\n",
    "    hover_data={\n",
    "        'Code': False,\n",
    "        gdp_column: ':,.0f',\n",
    "        'Continent': True\n",
    "    },\n",
    "    color_continuous_scale='RdYlBu_r',  # Modern red-yellow-blue scale\n",
    "    title=\"<b>Global GDP Per Capita Distribution (2023)</b><br><sub>World Bank Data - PPP Constant 2017 International $</sub>\",\n",
    "    labels={gdp_column: 'GDP Per Capita (USD)'}\n",
    ")\n",
    "\n",
    "# Enhanced modern styling\n",
    "fig.update_layout(\n",
    "    height=700,\n",
    "    width=1200,\n",
    "    geo=dict(\n",
    "        showframe=False,\n",
    "        showcoastlines=True,\n",
    "        coastlinecolor=\"rgb(204, 204, 204)\",\n",
    "        projection_type='natural earth',  # More modern projection\n",
    "        showlakes=True,\n",
    "        lakecolor='rgb(255, 255, 255)',\n",
    "        showocean=True,\n",
    "        oceancolor='rgb(240, 248, 255)',\n",
    "        showland=True,\n",
    "        landcolor='rgb(243, 243, 243)'\n",
    "    ),\n",
    "    font=dict(family=\"Arial, sans-serif\", size=12),\n",
    "    title=dict(\n",
    "        x=0.5,\n",
    "        font=dict(size=16, color='rgb(37, 37, 37)')\n",
    "    ),\n",
    "    coloraxis_colorbar=dict(\n",
    "        title=dict(\n",
    "            text=\"GDP Per Capita<br>(USD)\",\n",
    "            font=dict(size=14)\n",
    "        ),\n",
    "        thickness=20,\n",
    "        len=0.7,\n",
    "        x=1.02\n",
    "    )\n",
    ")\n",
    "\n",
    "fig.show()\n",
    "\n",
    "# GDP seviye kategorileri\n",
    "def categorize_gdp(gdp):\n",
    "    if gdp >= 50000:\n",
    "        return 'Very High Income'\n",
    "    elif gdp >= 25000:\n",
    "        return 'High Income'\n",
    "    elif gdp >= 10000:\n",
    "        return 'Upper Middle Income'\n",
    "    elif gdp >= 3000:\n",
    "        return 'Lower Middle Income'\n",
    "    else:\n",
    "        return 'Low Income'\n",
    "\n",
    "df_2023['Income_Level'] = df_2023[gdp_column].apply(categorize_gdp)\n",
    "income_distribution = df_2023['Income_Level'].value_counts()\n",
    "\n",
    "print(\"\\n📊 2023 Income Level Distribution:\")\n",
    "for level, count in income_distribution.items():\n",
    "    percentage = (count / len(df_2023)) * 100\n",
    "    print(f\"{level}: {count} countries ({percentage:.1f}%)\")"
   ]
  },
  {
   "cell_type": "markdown",
   "id": "25c594dc",
   "metadata": {},
   "source": [
    "## 📈 Kriz Analizi: 2008 Mali Krizi ve COVID-19 Etkisi\n",
    "\n",
    "Bu bölümde 2008 mali krizi ve COVID-19 pandemisinin dünya ekonomisine etkilerini analiz edeceğiz."
   ]
  },
  {
   "cell_type": "code",
   "execution_count": 12,
   "id": "765cdf35",
   "metadata": {},
   "outputs": [
    {
     "data": {
      "image/png": "[encoded data removed]",
      "text/plain": [
       "<Figure size 2000x1500 with 4 Axes>"
      ]
     },
     "metadata": {},
     "output_type": "display_data"
    },
    {
     "name": "stdout",
     "output_type": "stream",
     "text": [
      "KRIZ ANALIZI OZETI:\n",
      "==================================================\n",
      "\n",
      "2008 Mali Krizi (2007-2009):\n",
      "En cok etkilenen: Italy (-7.3%)\n",
      "En az etkilenen: China (18.8%)\n",
      "\n",
      "COVID-19 Pandemisi (2019-2020):\n",
      "En cok etkilenen: United Kingdom (-10.6%)\n",
      "En az etkilenen: China (2.0%)\n",
      "\n",
      "Dunya ortalama etki:\n",
      "2008 Mali Krizi: -2.6%\n",
      "COVID-19 Pandemisi: -7.0%\n"
     ]
    }
   ],
   "source": [
    "# Kriz yillari analizi\n",
    "crisis_years = {\n",
    "    '2008 Mali Krizi': [2007, 2008, 2009, 2010],\n",
    "    'COVID-19 Pandemisi': [2019, 2020, 2021, 2022]\n",
    "}\n",
    "\n",
    "# Dunyanin en buyuk ekonomileri (G7 + BRICS)\n",
    "major_economies = [\n",
    "    'United States', 'China', 'Japan', 'Germany', 'United Kingdom',\n",
    "    'France', 'Italy', 'Canada', 'Brazil', 'Russia', 'India', 'South Africa'\n",
    "]\n",
    "\n",
    "# Kriz etkisi analizi\n",
    "fig, ((ax1, ax2), (ax3, ax4)) = plt.subplots(2, 2, figsize=(20, 15))\n",
    "\n",
    "# 1. 2008 Mali Krizi etkisi\n",
    "crisis_2008_data = []\n",
    "for country in major_economies:\n",
    "    country_data = df[df['Entity'] == country]\n",
    "    if not country_data.empty:\n",
    "        gdp_2007 = country_data[country_data['Year'] == 2007][gdp_column].values\n",
    "        gdp_2009 = country_data[country_data['Year'] == 2009][gdp_column].values\n",
    "        if len(gdp_2007) > 0 and len(gdp_2009) > 0:\n",
    "            change_2008 = ((gdp_2009[0] - gdp_2007[0]) / gdp_2007[0]) * 100\n",
    "            crisis_2008_data.append({'Country': country, 'Change': change_2008})\n",
    "\n",
    "crisis_2008_df = pd.DataFrame(crisis_2008_data)\n",
    "crisis_2008_df = crisis_2008_df.sort_values('Change')\n",
    "\n",
    "bars1 = ax1.barh(crisis_2008_df['Country'], crisis_2008_df['Change'])\n",
    "ax1.set_title('2008 Mali Krizi Etkisi (2007-2009)\\nGDP Per Capita Degisimi (%)', fontsize=14, fontweight='bold', pad=20)\n",
    "ax1.set_xlabel('Degisim (%)')\n",
    "ax1.axvline(x=0, color='black', linestyle='-', alpha=0.3)\n",
    "ax1.grid(True, alpha=0.3)\n",
    "\n",
    "# Renklendirme\n",
    "for i, bar in enumerate(bars1):\n",
    "    if crisis_2008_df.iloc[i]['Change'] < 0:\n",
    "        bar.set_color('#e74c3c')\n",
    "    else:\n",
    "        bar.set_color('#27ae60')\n",
    "\n",
    "# 2. COVID-19 etkisi\n",
    "crisis_covid_data = []\n",
    "for country in major_economies:\n",
    "    country_data = df[df['Entity'] == country]\n",
    "    if not country_data.empty:\n",
    "        gdp_2019 = country_data[country_data['Year'] == 2019][gdp_column].values\n",
    "        gdp_2020 = country_data[country_data['Year'] == 2020][gdp_column].values\n",
    "        if len(gdp_2019) > 0 and len(gdp_2020) > 0:\n",
    "            change_covid = ((gdp_2020[0] - gdp_2019[0]) / gdp_2019[0]) * 100\n",
    "            crisis_covid_data.append({'Country': country, 'Change': change_covid})\n",
    "\n",
    "crisis_covid_df = pd.DataFrame(crisis_covid_data)\n",
    "crisis_covid_df = crisis_covid_df.sort_values('Change')\n",
    "\n",
    "bars2 = ax2.barh(crisis_covid_df['Country'], crisis_covid_df['Change'])\n",
    "ax2.set_title('COVID-19 Pandemisi Etkisi (2019-2020)\\nGDP Per Capita Degisimi (%)', fontsize=14, fontweight='bold', pad=20)\n",
    "ax2.set_xlabel('Degisim (%)')\n",
    "ax2.axvline(x=0, color='black', linestyle='-', alpha=0.3)\n",
    "ax2.grid(True, alpha=0.3)\n",
    "\n",
    "# Renklendirme\n",
    "for i, bar in enumerate(bars2):\n",
    "    if crisis_covid_df.iloc[i]['Change'] < 0:\n",
    "        bar.set_color('#e74c3c')\n",
    "    else:\n",
    "        bar.set_color('#27ae60')\n",
    "\n",
    "# 3. Dunya ortalamasi kriz analizi\n",
    "world_years = range(2005, 2024)\n",
    "world_gdp_crisis = []\n",
    "\n",
    "for year in world_years:\n",
    "    year_data = df[df['Year'] == year][gdp_column].mean()\n",
    "    world_gdp_crisis.append(year_data)\n",
    "\n",
    "ax3.plot(world_years, world_gdp_crisis, marker='o', linewidth=3, markersize=8, color='#3498db')\n",
    "ax3.axvspan(2007, 2010, alpha=0.3, color='red', label='2008 Mali Krizi')\n",
    "ax3.axvspan(2019, 2022, alpha=0.3, color='orange', label='COVID-19 Pandemisi')\n",
    "ax3.set_title('Dunya Ortalama GDP Per Capita - Kriz Donemleri', fontsize=14, fontweight='bold', pad=20)\n",
    "ax3.set_xlabel('Yil')\n",
    "ax3.set_ylabel('GDP Per Capita (USD)')\n",
    "ax3.grid(True, alpha=0.3)\n",
    "ax3.legend()\n",
    "\n",
    "# 4. Kriz sonrasi toparlanma analizi\n",
    "recovery_data = []\n",
    "\n",
    "# 2008 krizi toparlanmasi\n",
    "for country in major_economies[:6]:  # Ilk 6 ulke\n",
    "    country_data = df[df['Entity'] == country]\n",
    "    if not country_data.empty:\n",
    "        gdp_2007 = country_data[country_data['Year'] == 2007][gdp_column].values\n",
    "        gdp_2012 = country_data[country_data['Year'] == 2012][gdp_column].values\n",
    "        if len(gdp_2007) > 0 and len(gdp_2012) > 0:\n",
    "            recovery_2008 = ((gdp_2012[0] - gdp_2007[0]) / gdp_2007[0]) * 100\n",
    "            recovery_data.append({'Country': country, 'Recovery_2008': recovery_2008, 'Crisis': '2008 Mali Krizi'})\n",
    "\n",
    "# COVID toparlanmasi\n",
    "for country in major_economies[:6]:\n",
    "    country_data = df[df['Entity'] == country]\n",
    "    if not country_data.empty:\n",
    "        gdp_2019 = country_data[country_data['Year'] == 2019][gdp_column].values\n",
    "        gdp_2023 = country_data[country_data['Year'] == 2023][gdp_column].values\n",
    "        if len(gdp_2019) > 0 and len(gdp_2023) > 0:\n",
    "            recovery_covid = ((gdp_2023[0] - gdp_2019[0]) / gdp_2019[0]) * 100\n",
    "            recovery_data.append({'Country': country, 'Recovery_COVID': recovery_covid, 'Crisis': 'COVID-19'})\n",
    "\n",
    "# Toparlanma karsilastirmasi\n",
    "countries_subset = major_economies[:6]\n",
    "recovery_2008 = []\n",
    "recovery_covid = []\n",
    "\n",
    "for country in countries_subset:\n",
    "    country_data = df[df['Entity'] == country]\n",
    "    if not country_data.empty:\n",
    "        # 2008 toparlanmasi (2007-2012)\n",
    "        gdp_2007 = country_data[country_data['Year'] == 2007][gdp_column].values\n",
    "        gdp_2012 = country_data[country_data['Year'] == 2012][gdp_column].values\n",
    "        if len(gdp_2007) > 0 and len(gdp_2012) > 0:\n",
    "            recovery_2008.append(((gdp_2012[0] - gdp_2007[0]) / gdp_2007[0]) * 100)\n",
    "        else:\n",
    "            recovery_2008.append(0)\n",
    "            \n",
    "        # COVID toparlanmasi (2019-2023)\n",
    "        gdp_2019 = country_data[country_data['Year'] == 2019][gdp_column].values\n",
    "        gdp_2023 = country_data[country_data['Year'] == 2023][gdp_column].values\n",
    "        if len(gdp_2019) > 0 and len(gdp_2023) > 0:\n",
    "            recovery_covid.append(((gdp_2023[0] - gdp_2019[0]) / gdp_2019[0]) * 100)\n",
    "        else:\n",
    "            recovery_covid.append(0)\n",
    "\n",
    "x = np.arange(len(countries_subset))\n",
    "width = 0.35\n",
    "\n",
    "ax4.bar(x - width/2, recovery_2008, width, label='2008 Krizi Toparlanmasi (2007-2012)', color='#e74c3c', alpha=0.8)\n",
    "ax4.bar(x + width/2, recovery_covid, width, label='COVID Toparlanmasi (2019-2023)', color='#f39c12', alpha=0.8)\n",
    "\n",
    "ax4.set_title('Kriz Sonrasi Toparlanma Karsilastirmasi', fontsize=14, fontweight='bold', pad=20)\n",
    "ax4.set_xlabel('Ulkeler')\n",
    "ax4.set_ylabel('Toparlanma (%)')\n",
    "ax4.set_xticks(x)\n",
    "ax4.set_xticklabels(countries_subset, rotation=45, ha='right')\n",
    "ax4.legend()\n",
    "ax4.grid(True, alpha=0.3)\n",
    "\n",
    "plt.tight_layout()\n",
    "plt.show()\n",
    "\n",
    "# Istatistikler\n",
    "print(\"KRIZ ANALIZI OZETI:\")\n",
    "print(\"=\" * 50)\n",
    "print(f\"\\n2008 Mali Krizi (2007-2009):\")\n",
    "print(f\"En cok etkilenen: {crisis_2008_df.iloc[0]['Country']} ({crisis_2008_df.iloc[0]['Change']:.1f}%)\")\n",
    "print(f\"En az etkilenen: {crisis_2008_df.iloc[-1]['Country']} ({crisis_2008_df.iloc[-1]['Change']:.1f}%)\")\n",
    "\n",
    "print(f\"\\nCOVID-19 Pandemisi (2019-2020):\")\n",
    "print(f\"En cok etkilenen: {crisis_covid_df.iloc[0]['Country']} ({crisis_covid_df.iloc[0]['Change']:.1f}%)\")\n",
    "print(f\"En az etkilenen: {crisis_covid_df.iloc[-1]['Country']} ({crisis_covid_df.iloc[-1]['Change']:.1f}%)\")\n",
    "\n",
    "print(f\"\\nDunya ortalama etki:\")\n",
    "world_2007 = df[df['Year'] == 2007][gdp_column].mean()\n",
    "world_2009 = df[df['Year'] == 2009][gdp_column].mean()\n",
    "world_2019 = df[df['Year'] == 2019][gdp_column].mean()\n",
    "world_2020 = df[df['Year'] == 2020][gdp_column].mean()\n",
    "\n",
    "print(f\"2008 Mali Krizi: {((world_2009 - world_2007) / world_2007) * 100:.1f}%\")\n",
    "print(f\"COVID-19 Pandemisi: {((world_2020 - world_2019) / world_2019) * 100:.1f}%\")"
   ]
  },
  {
   "cell_type": "markdown",
   "id": "b4e86f4b",
   "metadata": {},
   "source": [
    "## 📊 EDA Analizi Özeti\n",
    "\n",
    "Bu kapsamlı EDA analizinde şu önemli bulgular elde edilmiştir:\n",
    "\n",
    "### 🌍 **Dünya GDP Trendleri**\n",
    "- 2000-2023 arası dünya ortalama GDP per capita **%42.1** artış gösterdi\n",
    "- En yüksek büyüme: **2003-2008** döneminde yıllık ortalama %4.2\n",
    "- En düşük dönem: **2008-2009** mali krizi sırasında -%2.6\n",
    "\n",
    "### 🌎 **Kıtasal Karşılaştırma**\n",
    "- **En zengin kıta**: Avrupa (ortalama $32,419)\n",
    "- **En hızlı büyüyen**: Asya (%68.4 toplam büyüme)\n",
    "- **En istikrarlı**: Okyanusya (düşük volatilite)\n",
    "\n",
    "### 💰 **Zenginlik Eşitsizliği**\n",
    "- En zengin ülke: **Lüksemburg** ($126,426)\n",
    "- En fakir ülke: **Burundi** ($788)\n",
    "- Zenginlik farkı: **160.3 kat**\n",
    "\n",
    "### 🗺️ **Coğrafi Dağılım (2023)**\n",
    "- **Very High Income**: 36 ülke (%17.5)\n",
    "- **High Income**: 43 ülke (%20.9)\n",
    "- **Upper Middle Income**: 57 ülke (%27.7)\n",
    "- **Lower Middle Income**: 47 ülke (%22.8)\n",
    "- **Low Income**: 23 ülke (%11.2)\n",
    "\n",
    "### 📉 **Kriz Etkileri**\n",
    "- **2008 Mali Krizi**: Dünya ortalaması -%2.6, en çok İtalya etkilendi (-%7.3)\n",
    "- **COVID-19 Pandemisi**: Dünya ortalaması -%7.0, en çok İngiltere etkilendi (-%10.6)\n",
    "- **Toparlanma**: Çin her iki krizde de pozitif büyüme gösterdi\n",
    "\n",
    "### 🔍 **Ana Çıkarımlar**\n",
    "1. **Asya** ekonomik büyümede lider konumda\n",
    "2. **Küresel krizler** gelişmiş ülkeleri daha fazla etkiliyor\n",
    "3. **Gelir eşitsizliği** hala çok yüksek seviyede\n",
    "4. **COVID-19** 2008 krizinden daha şiddetli etki yarattı\n",
    "\n",
    "---\n",
    "**📈 Sonraki Adım**: Feature Engineering ile büyüme oranları, volatilite ve trend analizleri yapılacak."
   ]
  },
  {
   "cell_type": "code",
   "execution_count": null,
   "id": "cf1c26d2",
   "metadata": {},
   "outputs": [],
   "source": [
    "# Kriz etkisi görselleştirmesi\n",
    "plot_crisis_impact(crisis_analysis, save_path='../outputs/plots/crisis_impact.png')"
   ]
  },
  {
   "cell_type": "markdown",
   "id": "13e5f1ac",
   "metadata": {},
   "source": [
    "## 📈 6. Zenginlik Eşitsizliği Trendleri"
   ]
  },
  {
   "cell_type": "code",
   "execution_count": null,
   "id": "d7927566",
   "metadata": {},
   "outputs": [],
   "source": [
    "# Eşitsizlik trendlerini hesapla\n",
    "inequality_data = get_inequality_trends(df_analysis, gdp_column)\n",
    "\n",
    "print(\"📊 Zenginlik Eşitsizliği Trendleri:\")\n",
    "display(inequality_data[['Year', 'ratio', 'gini_approx', 'max_gdp', 'min_gdp']].head(10))\n",
    "\n",
    "# Son 10 yılın ortalaması\n",
    "recent_inequality = inequality_data.tail(10)\n",
    "print(f\"\\n📈 Son 10 yıl ortalama zengin/fakir oranı: {recent_inequality['ratio'].mean():.1f}\")\n",
    "print(f\"📊 Gini coefficient (yaklaşık): {recent_inequality['gini_approx'].mean():.3f}\")"
   ]
  },
  {
   "cell_type": "code",
   "execution_count": null,
   "id": "ed23aa4f",
   "metadata": {},
   "outputs": [],
   "source": [
    "# Eşitsizlik görselleştirmesi\n",
    "plot_inequality_trends(inequality_data, save_path='../outputs/plots/inequality_trends.png')"
   ]
  },
  {
   "cell_type": "markdown",
   "id": "912e560f",
   "metadata": {},
   "source": [
    "## 📊 7. GDP Kategorileri Analizi"
   ]
  },
  {
   "cell_type": "code",
   "execution_count": null,
   "id": "3cf2fcbd",
   "metadata": {},
   "outputs": [],
   "source": [
    "# GDP kategorileri dağılımı\n",
    "latest_year = df_analysis['Year'].max()\n",
    "category_dist = df_analysis[df_analysis['Year'] == latest_year]['gdp_category'].value_counts()\n",
    "\n",
    "plt.figure(figsize=(10, 6))\n",
    "colors = ['#ff4444', '#ff8844', '#44aa44', '#4444ff']\n",
    "pie = plt.pie(category_dist.values, labels=category_dist.index, autopct='%1.1f%%', \n",
    "              colors=colors, startangle=90)\n",
    "\n",
    "plt.title(f'🌍 Global Income Distribution ({latest_year})', fontsize=16, fontweight='bold')\n",
    "plt.axis('equal')\n",
    "plt.savefig('../outputs/plots/income_distribution.png', dpi=300, bbox_inches='tight')\n",
    "plt.show()\n",
    "\n",
    "print(\"📊 Gelir Seviyesi Dağılımı:\")\n",
    "for category, count in category_dist.items():\n",
    "    percentage = (count / category_dist.sum()) * 100\n",
    "    print(f\"  • {category}: {count} ülke ({percentage:.1f}%)\")"
   ]
  },
  {
   "cell_type": "markdown",
   "id": "aa45e9ef",
   "metadata": {},
   "source": [
    "## 🎯 Ana Bulgular ve Önemli Insights\n",
    "\n",
    "### 📈 **Dünya Ekonomik Gelişimi:**\n",
    "- Genel olarak dünya GDP per capita artan trend gösteriyor\n",
    "- 2008 krizi ve COVID-19 geçici düşüşlere neden oldu\n",
    "- Her krizden sonra ekonomik toparlanma gerçekleşti\n",
    "\n",
    "### 🌍 **Kıta Bazlı Farklar:**\n",
    "- Europa ve Kuzey Amerika en yüksek GDP'ye sahip\n",
    "- Afrika ve Asya'nın bazı bölgeleri daha düşük GDP seviyelerinde\n",
    "- Kıtalar arası gelişim hızları farklılık gösteriyor\n",
    "\n",
    "### 💰 **Zenginlik Eşitsizliği:**\n",
    "- En zengin ve en fakir ülke arasında büyük fark var\n",
    "- Eşitsizlik zamanla değişiyor ama hala yüksek seviyede\n",
    "- Küreselleşme etkisiyle bazı ülkeler hızla büyüyor\n",
    "\n",
    "### 🔍 **Kriz Etkileri:**\n",
    "- Farklı ülkeler krizlerden farklı şekilde etkileniyor\n",
    "- Ekonomik çeşitlilik krize karşı direnç sağlıyor\n",
    "- Gelişmiş ülkeler genelde daha hızlı toparlanıyor"
   ]
  },
  {
   "cell_type": "code",
   "execution_count": null,
   "id": "dc30d354",
   "metadata": {},
   "outputs": [],
   "source": [
    "# Final özet istatistikler\n",
    "print(\"📊 PROJE ÖZETİ - ANA SAYILAR:\")\n",
    "print(\"=\"*50)\n",
    "print(f\"📈 Analiz edilen ülke sayısı: {df_analysis['Entity'].nunique()}\")\n",
    "print(f\"📅 Veri yıl aralığı: {df_analysis['Year'].min()} - {df_analysis['Year'].max()}\")\n",
    "print(f\"🌍 Ortalama dünya GDP ({latest_year}): ${df_analysis[df_analysis['Year']==latest_year][gdp_column].mean():,.0f}\")\n",
    "print(f\"💰 En yüksek GDP: ${df_analysis[gdp_column].max():,.0f}\")\n",
    "print(f\"📉 En düşük GDP: ${df_analysis[gdp_column].min():,.0f}\")\n",
    "print(f\"🔄 Zengin/Fakir oranı: {df_analysis[gdp_column].max() / df_analysis[gdp_column].min():.1f}x\")\n",
    "print(\"=\"*50)\n",
    "print(\"✅ EDA analizi tamamlandı! 🎉\")"
   ]
  }
 ],
 "metadata": {
  "kernelspec": {
   "display_name": ".venv",
   "language": "python",
   "name": "python3"
  },
  "language_info": {
   "codemirror_mode": {
    "name": "ipython",
    "version": 3
   },
   "file_extension": ".py",
   "mimetype": "text/x-python",
   "name": "python",
   "nbconvert_exporter": "python",
   "pygments_lexer": "ipython3",
   "version": "3.13.7"
  }
 },
 "nbformat": 4,
 "nbformat_minor": 5
}
