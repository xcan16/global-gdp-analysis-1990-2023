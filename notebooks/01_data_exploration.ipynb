{
 "cells": [
  {
   "cell_type": "markdown",
   "metadata": {},
   "source": [
    "# 📊 GDP Per Capita Data Exploration & Cleaning\n",
    "\n",
    "In this notebook, we will explore and clean the World Bank GDP per capita dataset.\n",
    "\n",
    "## 🎯 Objectives:\n",
    "- Understand the structure of the dataset\n",
    "- Analyze missing values\n",
    "- Basic statistical properties\n",
    "- Data cleaning procedures"
   ]
  },
  {
   "cell_type": "code",
   "execution_count": null,
   "metadata": {},
   "outputs": [],
   "source": [
    "# Import required libraries\n",
    "import pandas as pd\n",
    "import numpy as np\n",
    "import matplotlib.pyplot as plt\n",
    "import seaborn as sns\n",
    "import warnings\n",
    "\n",
    "# Visualization settings\n",
    "plt.style.use('seaborn-v0_8')\n",
    "sns.set_palette(\"husl\")\n",
    "warnings.filterwarnings('ignore')\n",
    "\n",
    "# Display settings\n",
    "pd.set_option('display.max_columns', None)\n",
    "pd.set_option('display.max_rows', 100)\n",
    "\n",
    "print(\"✅ Libraries loaded successfully!\")"
   ]
  },
  {
   "cell_type": "code",
   "execution_count": null,
   "metadata": {},
   "outputs": [],
   "source": [
    "# Load the dataset (using relative path - suitable for GitHub)\n",
    "df = pd.read_csv('../data/gdp-per-capita-worldbank.csv')\n",
    "\n",
    "print(f\"📈 Dataset loaded successfully!\")\n",
    "print(f\"📊 Dimensions: {df.shape[0]} rows x {df.shape[1]} columns\")"
   ]
  },
  {
   "cell_type": "markdown",
   "metadata": {},
   "source": [
    "## 🔍 Dataset Structure Analysis"
   ]
  },
  {
   "cell_type": "code",
   "execution_count": null,
   "metadata": {},
   "outputs": [],
   "source": [
    "# Display first 5 rows\n",
    "print(\"📋 First 5 rows:\")\n",
    "display(df.head())"
   ]
  },
  {
   "cell_type": "code",
   "execution_count": null,
   "metadata": {},
   "outputs": [],
   "source": [
    "# Column information\n",
    "print(\"📄 Column Information:\")\n",
    "print(df.info())"
   ]
  },
  {
   "cell_type": "code",
   "execution_count": null,
   "metadata": {},
   "outputs": [],
   "source": [
    "# Check column names\n",
    "print(\"📝 Column Names:\")\n",
    "for i, col in enumerate(df.columns, 1):\n",
    "    print(f\"{i}. {col}\")"
   ]
  },
  {
   "cell_type": "code",
   "execution_count": null,
   "metadata": {},
   "outputs": [],
   "source": [
    "# Number of unique countries\n",
    "print(f\"🌍 Total number of countries/regions: {df['Entity'].nunique()}\")\n",
    "print(f\"📅 Year range: {df['Year'].min()} - {df['Year'].max()}\")\n",
    "print(f\"📊 Total data points: {len(df)}\")"
   ]
  },
  {
   "cell_type": "markdown",
   "metadata": {},
   "source": [
    "## 🔎 Missing Values Analysis"
   ]
  },
  {
   "cell_type": "code",
   "execution_count": null,
   "metadata": {},
   "outputs": [],
   "source": [
    "# Missing values check\n",
    "print(\"❌ Missing Values Analysis:\")\n",
    "missing_data = df.isnull().sum()\n",
    "missing_percent = (df.isnull().sum() / len(df)) * 100\n",
    "\n",
    "missing_df = pd.DataFrame({\n",
    "    'Missing Count': missing_data,\n",
    "    'Missing Percentage': missing_percent\n",
    "})\n",
    "\n",
    "display(missing_df[missing_df['Missing Count'] > 0])"
   ]
  },
  {
   "cell_type": "code",
   "execution_count": null,
   "metadata": {},
   "outputs": [],
   "source": [
    "# Use the actual GDP column name\n",
    "gdp_column = [col for col in df.columns if 'GDP' in col or 'capita' in col or col not in ['Entity', 'Code', 'Year']][0]\n",
    "print(f\"💰 GDP column: {gdp_column}\")\n",
    "\n",
    "# Countries with missing GDP values\n",
    "missing_gdp = df[df[gdp_column].isnull()]\n",
    "print(f\"\\n❌ Number of records without GDP data: {len(missing_gdp)}\")\n",
    "\n",
    "if len(missing_gdp) > 0:\n",
    "    print(\"\\n🔍 Some countries with missing GDP data:\")\n",
    "    print(missing_gdp[['Entity', 'Year']].head(10))"
   ]
  },
  {
   "cell_type": "markdown",
   "metadata": {},
   "source": [
    "## 📊 Basic Statistical Analysis"
   ]
  },
  {
   "cell_type": "code",
   "execution_count": null,
   "metadata": {},
   "outputs": [],
   "source": [
    "# Basic statistics\n",
    "print(\"📈 GDP Per Capita Basic Statistics:\")\n",
    "display(df[gdp_column].describe())"
   ]
  },
  {
   "cell_type": "code",
   "execution_count": null,
   "metadata": {},
   "outputs": [],
   "source": [
    "# Visualize GDP distribution\n",
    "fig, axes = plt.subplots(1, 2, figsize=(15, 5))\n",
    "\n",
    "# Histogram\n",
    "axes[0].hist(df[gdp_column].dropna(), bins=50, alpha=0.7, color='skyblue', edgecolor='black')\n",
    "axes[0].set_title('GDP Per Capita Distribution', fontsize=14, fontweight='bold')\n",
    "axes[0].set_xlabel('GDP Per Capita (USD)')\n",
    "axes[0].set_ylabel('Frequency')\n",
    "axes[0].grid(True, alpha=0.3)\n",
    "\n",
    "# Box plot\n",
    "axes[1].boxplot(df[gdp_column].dropna(), vert=True)\n",
    "axes[1].set_title('GDP Per Capita Box Plot', fontsize=14, fontweight='bold')\n",
    "axes[1].set_ylabel('GDP Per Capita (USD)')\n",
    "axes[1].grid(True, alpha=0.3)\n",
    "\n",
    "plt.tight_layout()\n",
    "plt.show()\n",
    "\n",
    "# Outlier analysis\n",
    "Q1 = df[gdp_column].quantile(0.25)\n",
    "Q3 = df[gdp_column].quantile(0.75)\n",
    "IQR = Q3 - Q1\n",
    "lower_bound = Q1 - 1.5 * IQR\n",
    "upper_bound = Q3 + 1.5 * IQR\n",
    "\n",
    "outliers = df[(df[gdp_column] < lower_bound) | (df[gdp_column] > upper_bound)]\n",
    "print(f\"\\n🔍 Number of outliers: {len(outliers)} ({len(outliers)/len(df)*100:.1f}%)\")"
   ]
  },
  {
   "cell_type": "markdown",
   "metadata": {},
   "source": [
    "## 🌍 Countries and Years Analysis"
   ]
  },
  {
   "cell_type": "code",
   "execution_count": null,
   "metadata": {},
   "outputs": [],
   "source": [
    "# Countries with most and least data points\n",
    "country_data_count = df.groupby('Entity').size().sort_values(ascending=False)\n",
    "\n",
    "print(\"🏆 Countries with most data points:\")\n",
    "print(country_data_count.head(10))\n",
    "\n",
    "print(\"\\n⚠️ Countries with least data points:\")\n",
    "print(country_data_count.tail(10))"
   ]
  },
  {
   "cell_type": "code",
   "execution_count": null,
   "metadata": {},
   "outputs": [],
   "source": [
    "# Number of data points by year\n",
    "yearly_count = df.groupby('Year').size()\n",
    "\n",
    "plt.figure(figsize=(12, 6))\n",
    "yearly_count.plot(kind='line', marker='o', linewidth=2, markersize=4)\n",
    "plt.title('Number of Data Points by Year', fontsize=14, fontweight='bold')\n",
    "plt.xlabel('Year')\n",
    "plt.ylabel('Number of Data Points')\n",
    "plt.grid(True, alpha=0.3)\n",
    "plt.xticks(rotation=45)\n",
    "plt.tight_layout()\n",
    "plt.show()\n",
    "\n",
    "print(f\"📊 Year with most data: {yearly_count.idxmax()} ({yearly_count.max()} countries)\")\n",
    "print(f\"📊 Year with least data: {yearly_count.idxmin()} ({yearly_count.min()} countries)\")"
   ]
  },
  {
   "cell_type": "markdown",
   "metadata": {},
   "source": [
    "## 🧹 Data Cleaning"
   ]
  },
  {
   "cell_type": "code",
   "execution_count": null,
   "metadata": {},
   "outputs": [],
   "source": [
    "# Data size before cleaning\n",
    "print(f\"🔢 Data size before cleaning: {df.shape}\")\n",
    "\n",
    "# 1. Remove missing GDP values\n",
    "df_clean = df.dropna(subset=[gdp_column]).copy()\n",
    "print(f\"✅ Missing GDP values removed: {df_clean.shape}\")\n",
    "\n",
    "# 2. Check for negative GDP values\n",
    "negative_gdp = df_clean[df_clean[gdp_column] < 0]\n",
    "if len(negative_gdp) > 0:\n",
    "    print(f\"⚠️ Records with negative GDP: {len(negative_gdp)}\")\n",
    "    df_clean = df_clean[df_clean[gdp_column] >= 0]\n",
    "    print(f\"✅ Negative values removed: {df_clean.shape}\")\n",
    "else:\n",
    "    print(\"✅ No negative GDP values found\")\n",
    "\n",
    "# 3. Check for extreme outliers (very high values)\n",
    "extreme_outliers = df_clean[df_clean[gdp_column] > 200000]  # Above 200k USD\n",
    "if len(extreme_outliers) > 0:\n",
    "    print(f\"\\n🔍 Extremely high GDP values ({len(extreme_outliers)} records):\")\n",
    "    print(extreme_outliers[['Entity', 'Year', gdp_column]].head())\n",
    "\n",
    "print(f\"\\n🎉 Final cleaned data size: {df_clean.shape}\")\n",
    "print(f\"📉 Percentage of removed records: {((len(df) - len(df_clean)) / len(df) * 100):.1f}%\")"
   ]
  },
  {
   "cell_type": "code",
   "execution_count": null,
   "metadata": {},
   "outputs": [],
   "source": [
    "# Summary of cleaned data\n",
    "print(\"📊 Cleaned Data Summary:\")\n",
    "print(f\"🌍 Number of countries: {df_clean['Entity'].nunique()}\")\n",
    "print(f\"📅 Year range: {df_clean['Year'].min()} - {df_clean['Year'].max()}\")\n",
    "print(f\"💰 GDP range: ${df_clean[gdp_column].min():,.0f} - ${df_clean[gdp_column].max():,.0f}\")\n",
    "print(f\"📈 Average GDP: ${df_clean[gdp_column].mean():,.0f}\")\n",
    "print(f\"📊 Median GDP: ${df_clean[gdp_column].median():,.0f}\")"
   ]
  },
  {
   "cell_type": "code",
   "execution_count": null,
   "metadata": {},
   "outputs": [],
   "source": [
    "# Create cleaned dataset by removing missing GDP values\n",
    "df_clean = df.dropna(subset=[gdp_column]).copy()\n",
    "\n",
    "# Remove negative GDP values if any\n",
    "df_clean = df_clean[df_clean[gdp_column] >= 0]\n",
    "\n",
    "print(f\"📊 Cleaned dataset size: {df_clean.shape}\")\n",
    "print(f\"📈 Average GDP: ${df_clean[gdp_column].mean():,.0f}\")\n",
    "print(f\"📊 Median GDP: ${df_clean[gdp_column].median():,.0f}\")\n",
    "\n",
    "# Save cleaned dataset\n",
    "df_clean.to_csv('../data/gdp_cleaned.csv', index=False)\n",
    "print(\"💾 Cleaned data saved as '../data/gdp_cleaned.csv'!\")\n",
    "\n",
    "# Set global variable for usage\n",
    "GDP_COLUMN = gdp_column\n",
    "print(f\"\\n🔧 GDP column name: {GDP_COLUMN}\")\n",
    "print(\"✅ Data exploration and cleaning completed!\")"
   ]
  }
 ],
 "metadata": {
  "kaggle": {
   "accelerator": "none",
   "dataSources": [
    {
     "datasetId": 6911954,
     "sourceId": 11088980,
     "sourceType": "datasetVersion"
    }
   ],
   "isGpuEnabled": false,
   "isInternetEnabled": false,
   "language": "python",
   "sourceType": "notebook"
  },
  "kernelspec": {
   "display_name": "Python 3",
   "language": "python",
   "name": "python3"
  },
  "language_info": {
   "codemirror_mode": {
    "name": "ipython",
    "version": 3
   },
   "file_extension": ".py",
   "mimetype": "text/x-python",
   "name": "python",
   "nbconvert_exporter": "python",
   "pygments_lexer": "ipython3",
   "version": "3.6.4"
  }
 },
 "nbformat": 4,
 "nbformat_minor": 4
}
