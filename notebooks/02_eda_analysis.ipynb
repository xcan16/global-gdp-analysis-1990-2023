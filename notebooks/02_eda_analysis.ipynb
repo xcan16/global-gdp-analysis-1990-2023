{
 "cells": [
  {
   "cell_type": "markdown",
   "id": "413f9d42",
   "metadata": {},
   "source": [
    "# 📊 Exploratory Data Analysis - GDP Per Capita (1990-2023)\n",
    "\n",
    "**Author**: Global Economic Analysis Portfolio Project  \n",
    "**Dataset**: World Bank GDP Per Capita Data  \n",
    "**Objective**: Comprehensive EDA to understand global economic patterns and trends\n",
    "\n",
    "## 🎯 Analysis Objectives:\n",
    "1. 🌍 Global GDP trends and growth patterns\n",
    "2. 🗺️ Continental economic comparisons\n",
    "3. 🏆 Wealth inequality analysis (richest vs poorest countries)\n",
    "4. 🗺️ Geographic visualization and distribution\n",
    "5. 📉 Economic crisis impact analysis (2008 & COVID-19)\n",
    "6. 📈 Long-term inequality trends"
   ]
  },
  {
   "cell_type": "code",
   "execution_count": 33,
   "id": "91d3d1e7",
   "metadata": {},
   "outputs": [
    {
     "name": "stdout",
     "output_type": "stream",
     "text": [
      "✅ Libraries loaded successfully!\n"
     ]
    }
   ],
   "source": [
    "# Import required libraries for comprehensive analysis\n",
    "import pandas as pd\n",
    "import numpy as np\n",
    "import matplotlib.pyplot as plt\n",
    "import seaborn as sns\n",
    "import plotly.express as px\n",
    "import plotly.graph_objects as go\n",
    "from plotly.subplots import make_subplots\n",
    "import warnings\n",
    "import sys\n",
    "import os\n",
    "\n",
    "# Add src folder to path for custom utilities\n",
    "sys.path.append('../src')\n",
    "from utils import get_continent_mapping\n",
    "\n",
    "# Visualization settings\n",
    "plt.style.use('seaborn-v0_8')\n",
    "sns.set_palette(\"husl\")\n",
    "warnings.filterwarnings('ignore')\n",
    "\n",
    "# Plotly settings\n",
    "import plotly.io as pio\n",
    "pio.templates.default = \"plotly_white\"\n",
    "\n",
    "print(\"✅ Libraries loaded successfully!\")"
   ]
  },
  {
   "cell_type": "markdown",
   "id": "2623cb1d",
   "metadata": {},
   "source": [
    "## 📂 Data Loading and Preparation"
   ]
  },
  {
   "cell_type": "code",
   "execution_count": 34,
   "id": "5aefc867",
   "metadata": {},
   "outputs": [
    {
     "name": "stdout",
     "output_type": "stream",
     "text": [
      "Data size: (7063, 5)\n",
      "Continent distribution:\n",
      "Continent\n",
      "Africa           1710\n",
      "Asia             1479\n",
      "Europe           1408\n",
      "Other             903\n",
      "North America     748\n",
      "Oceania           441\n",
      "South America     374\n",
      "Name: count, dtype: int64\n",
      "\n",
      "Year range: 1990 - 2023\n"
     ]
    }
   ],
   "source": [
    "# Load and clean raw data\n",
    "df = pd.read_csv('../data/gdp-per-capita-worldbank.csv')\n",
    "gdp_column = 'GDP per capita, PPP (constant 2021 international $)'\n",
    "\n",
    "# Data cleaning\n",
    "df_clean = df.dropna(subset=[gdp_column]).copy()\n",
    "df_clean = df_clean[df_clean[gdp_column] >= 0]  # Remove negative values if any\n",
    "\n",
    "# Add continent information\n",
    "import sys\n",
    "sys.path.append('../src')\n",
    "from utils import get_continent_mapping\n",
    "\n",
    "continent_mapping = get_continent_mapping()\n",
    "df_clean['Continent'] = df_clean['Entity'].map(continent_mapping)\n",
    "df_clean['Continent'] = df_clean['Continent'].fillna('Other')\n",
    "\n",
    "# Save cleaned data\n",
    "df_clean.to_csv('../data/gdp_cleaned.csv', index=False)\n",
    "\n",
    "print(f\"Data size: {df_clean.shape}\")\n",
    "print(f\"Continent distribution:\")\n",
    "print(df_clean['Continent'].value_counts())\n",
    "print(f\"\\nYear range: {df_clean['Year'].min()} - {df_clean['Year'].max()}\")\n",
    "\n",
    "# Update df to be df_clean\n",
    "df = df_clean.copy()"
   ]
  },
  {
   "cell_type": "code",
   "execution_count": null,
   "id": "7974c8dd",
   "metadata": {},
   "outputs": [
    {
     "data": {
      "application/vnd.plotly.v1+json": {
       "config": {
        "plotlyServerURL": "https://plot.ly"
       },
       "data": [
        {
         "hovertemplate": "<b>Yil:</b> %{x}<br><b>GDP:</b> $%{y:,.0f}<extra></extra>",
         "line": {
          "color": "#2E86AB",
          "width": 3
         },
         "marker": {
          "size": 6
         },
         "mode": "lines+markers",
         "name": "Dunya Ortalamasi",
         "type": "scatter",
         "x": {
          "bdata": "0AfRB9IH0wfUB9UH1gfXB9gH2QfaB9sH3AfdB94H3wfgB+EH4gfjB+QH5QfmB+cH",
          "dtype": "i2"
         },
         "y": {
          "bdata": "dSaqJr970kBLaD0dlr3SQKDufxpbJNNAzBknimqX00A13O+co2zUQPSWPi9UAtVARcHSK48r1kBx+hGLEtzWQBU1V0tSDtdAq22Z/wdF1kBy0k3tQNjWQBnLeAr7YNdABYhAujiH10DSm4m8Pp7XQC8uR+yw09dAlg4TQkT010DAeL5ruUDYQBnhthBHtdhAJW8/oXgr2UBP5HKG9ITZQEeKBos4utdAqxXMsKY32UAtO8u7lsfZQF0jlcdIRNpA",
          "dtype": "f8"
         }
        }
       ],
       "layout": {
        "annotations": [
         {
          "showarrow": false,
          "text": "2008 Krizi",
          "x": 2009,
          "xanchor": "right",
          "xref": "x",
          "y": 1,
          "yanchor": "top",
          "yref": "y domain"
         },
         {
          "showarrow": false,
          "text": "COVID-19",
          "x": 2021,
          "xanchor": "right",
          "xref": "x",
          "y": 1,
          "yanchor": "top",
          "yref": "y domain"
         }
        ],
        "height": 500,
        "hovermode": "x unified",
        "shapes": [
         {
          "fillcolor": "red",
          "line": {
           "width": 0
          },
          "opacity": 0.1,
          "type": "rect",
          "x0": 2007,
          "x1": 2009,
          "xref": "x",
          "y0": 0,
          "y1": 1,
          "yref": "y domain"
         },
         {
          "fillcolor": "orange",
          "line": {
           "width": 0
          },
          "opacity": 0.1,
          "type": "rect",
          "x0": 2020,
          "x1": 2021,
          "xref": "x",
          "y0": 0,
          "y1": 1,
          "yref": "y domain"
         }
        ],
        "template": {
         "data": {
          "bar": [
           {
            "error_x": {
             "color": "#2a3f5f"
            },
            "error_y": {
             "color": "#2a3f5f"
            },
            "marker": {
             "line": {
              "color": "white",
              "width": 0.5
             },
             "pattern": {
              "fillmode": "overlay",
              "size": 10,
              "solidity": 0.2
             }
            },
            "type": "bar"
           }
          ],
          "barpolar": [
           {
            "marker": {
             "line": {
              "color": "white",
              "width": 0.5
             },
             "pattern": {
              "fillmode": "overlay",
              "size": 10,
              "solidity": 0.2
             }
            },
            "type": "barpolar"
           }
          ],
          "carpet": [
           {
            "aaxis": {
             "endlinecolor": "#2a3f5f",
             "gridcolor": "#C8D4E3",
             "linecolor": "#C8D4E3",
             "minorgridcolor": "#C8D4E3",
             "startlinecolor": "#2a3f5f"
            },
            "baxis": {
             "endlinecolor": "#2a3f5f",
             "gridcolor": "#C8D4E3",
             "linecolor": "#C8D4E3",
             "minorgridcolor": "#C8D4E3",
             "startlinecolor": "#2a3f5f"
            },
            "type": "carpet"
           }
          ],
          "choropleth": [
           {
            "colorbar": {
             "outlinewidth": 0,
             "ticks": ""
            },
            "type": "choropleth"
           }
          ],
          "contour": [
           {
            "colorbar": {
             "outlinewidth": 0,
             "ticks": ""
            },
            "colorscale": [
             [
              0,
              "#0d0887"
             ],
             [
              0.1111111111111111,
              "#46039f"
             ],
             [
              0.2222222222222222,
              "#7201a8"
             ],
             [
              0.3333333333333333,
              "#9c179e"
             ],
             [
              0.4444444444444444,
              "#bd3786"
             ],
             [
              0.5555555555555556,
              "#d8576b"
             ],
             [
              0.6666666666666666,
              "#ed7953"
             ],
             [
              0.7777777777777778,
              "#fb9f3a"
             ],
             [
              0.8888888888888888,
              "#fdca26"
             ],
             [
              1,
              "#f0f921"
             ]
            ],
            "type": "contour"
           }
          ],
          "contourcarpet": [
           {
            "colorbar": {
             "outlinewidth": 0,
             "ticks": ""
            },
            "type": "contourcarpet"
           }
          ],
          "heatmap": [
           {
            "colorbar": {
             "outlinewidth": 0,
             "ticks": ""
            },
            "colorscale": [
             [
              0,
              "#0d0887"
             ],
             [
              0.1111111111111111,
              "#46039f"
             ],
             [
              0.2222222222222222,
              "#7201a8"
             ],
             [
              0.3333333333333333,
              "#9c179e"
             ],
             [
              0.4444444444444444,
              "#bd3786"
             ],
             [
              0.5555555555555556,
              "#d8576b"
             ],
             [
              0.6666666666666666,
              "#ed7953"
             ],
             [
              0.7777777777777778,
              "#fb9f3a"
             ],
             [
              0.8888888888888888,
              "#fdca26"
             ],
             [
              1,
              "#f0f921"
             ]
            ],
            "type": "heatmap"
           }
          ],
          "histogram": [
           {
            "marker": {
             "pattern": {
              "fillmode": "overlay",
              "size": 10,
              "solidity": 0.2
             }
            },
            "type": "histogram"
           }
          ],
          "histogram2d": [
           {
            "colorbar": {
             "outlinewidth": 0,
             "ticks": ""
            },
            "colorscale": [
             [
              0,
              "#0d0887"
             ],
             [
              0.1111111111111111,
              "#46039f"
             ],
             [
              0.2222222222222222,
              "#7201a8"
             ],
             [
              0.3333333333333333,
              "#9c179e"
             ],
             [
              0.4444444444444444,
              "#bd3786"
             ],
             [
              0.5555555555555556,
              "#d8576b"
             ],
             [
              0.6666666666666666,
              "#ed7953"
             ],
             [
              0.7777777777777778,
              "#fb9f3a"
             ],
             [
              0.8888888888888888,
              "#fdca26"
             ],
             [
              1,
              "#f0f921"
             ]
            ],
            "type": "histogram2d"
           }
          ],
          "histogram2dcontour": [
           {
            "colorbar": {
             "outlinewidth": 0,
             "ticks": ""
            },
            "colorscale": [
             [
              0,
              "#0d0887"
             ],
             [
              0.1111111111111111,
              "#46039f"
             ],
             [
              0.2222222222222222,
              "#7201a8"
             ],
             [
              0.3333333333333333,
              "#9c179e"
             ],
             [
              0.4444444444444444,
              "#bd3786"
             ],
             [
              0.5555555555555556,
              "#d8576b"
             ],
             [
              0.6666666666666666,
              "#ed7953"
             ],
             [
              0.7777777777777778,
              "#fb9f3a"
             ],
             [
              0.8888888888888888,
              "#fdca26"
             ],
             [
              1,
              "#f0f921"
             ]
            ],
            "type": "histogram2dcontour"
           }
          ],
          "mesh3d": [
           {
            "colorbar": {
             "outlinewidth": 0,
             "ticks": ""
            },
            "type": "mesh3d"
           }
          ],
          "parcoords": [
           {
            "line": {
             "colorbar": {
              "outlinewidth": 0,
              "ticks": ""
             }
            },
            "type": "parcoords"
           }
          ],
          "pie": [
           {
            "automargin": true,
            "type": "pie"
           }
          ],
          "scatter": [
           {
            "fillpattern": {
             "fillmode": "overlay",
             "size": 10,
             "solidity": 0.2
            },
            "type": "scatter"
           }
          ],
          "scatter3d": [
           {
            "line": {
             "colorbar": {
              "outlinewidth": 0,
              "ticks": ""
             }
            },
            "marker": {
             "colorbar": {
              "outlinewidth": 0,
              "ticks": ""
             }
            },
            "type": "scatter3d"
           }
          ],
          "scattercarpet": [
           {
            "marker": {
             "colorbar": {
              "outlinewidth": 0,
              "ticks": ""
             }
            },
            "type": "scattercarpet"
           }
          ],
          "scattergeo": [
           {
            "marker": {
             "colorbar": {
              "outlinewidth": 0,
              "ticks": ""
             }
            },
            "type": "scattergeo"
           }
          ],
          "scattergl": [
           {
            "marker": {
             "colorbar": {
              "outlinewidth": 0,
              "ticks": ""
             }
            },
            "type": "scattergl"
           }
          ],
          "scattermap": [
           {
            "marker": {
             "colorbar": {
              "outlinewidth": 0,
              "ticks": ""
             }
            },
            "type": "scattermap"
           }
          ],
          "scattermapbox": [
           {
            "marker": {
             "colorbar": {
              "outlinewidth": 0,
              "ticks": ""
             }
            },
            "type": "scattermapbox"
           }
          ],
          "scatterpolar": [
           {
            "marker": {
             "colorbar": {
              "outlinewidth": 0,
              "ticks": ""
             }
            },
            "type": "scatterpolar"
           }
          ],
          "scatterpolargl": [
           {
            "marker": {
             "colorbar": {
              "outlinewidth": 0,
              "ticks": ""
             }
            },
            "type": "scatterpolargl"
           }
          ],
          "scatterternary": [
           {
            "marker": {
             "colorbar": {
              "outlinewidth": 0,
              "ticks": ""
             }
            },
            "type": "scatterternary"
           }
          ],
          "surface": [
           {
            "colorbar": {
             "outlinewidth": 0,
             "ticks": ""
            },
            "colorscale": [
             [
              0,
              "#0d0887"
             ],
             [
              0.1111111111111111,
              "#46039f"
             ],
             [
              0.2222222222222222,
              "#7201a8"
             ],
             [
              0.3333333333333333,
              "#9c179e"
             ],
             [
              0.4444444444444444,
              "#bd3786"
             ],
             [
              0.5555555555555556,
              "#d8576b"
             ],
             [
              0.6666666666666666,
              "#ed7953"
             ],
             [
              0.7777777777777778,
              "#fb9f3a"
             ],
             [
              0.8888888888888888,
              "#fdca26"
             ],
             [
              1,
              "#f0f921"
             ]
            ],
            "type": "surface"
           }
          ],
          "table": [
           {
            "cells": {
             "fill": {
              "color": "#EBF0F8"
             },
             "line": {
              "color": "white"
             }
            },
            "header": {
             "fill": {
              "color": "#C8D4E3"
             },
             "line": {
              "color": "white"
             }
            },
            "type": "table"
           }
          ]
         },
         "layout": {
          "annotationdefaults": {
           "arrowcolor": "#2a3f5f",
           "arrowhead": 0,
           "arrowwidth": 1
          },
          "autotypenumbers": "strict",
          "coloraxis": {
           "colorbar": {
            "outlinewidth": 0,
            "ticks": ""
           }
          },
          "colorscale": {
           "diverging": [
            [
             0,
             "#8e0152"
            ],
            [
             0.1,
             "#c51b7d"
            ],
            [
             0.2,
             "#de77ae"
            ],
            [
             0.3,
             "#f1b6da"
            ],
            [
             0.4,
             "#fde0ef"
            ],
            [
             0.5,
             "#f7f7f7"
            ],
            [
             0.6,
             "#e6f5d0"
            ],
            [
             0.7,
             "#b8e186"
            ],
            [
             0.8,
             "#7fbc41"
            ],
            [
             0.9,
             "#4d9221"
            ],
            [
             1,
             "#276419"
            ]
           ],
           "sequential": [
            [
             0,
             "#0d0887"
            ],
            [
             0.1111111111111111,
             "#46039f"
            ],
            [
             0.2222222222222222,
             "#7201a8"
            ],
            [
             0.3333333333333333,
             "#9c179e"
            ],
            [
             0.4444444444444444,
             "#bd3786"
            ],
            [
             0.5555555555555556,
             "#d8576b"
            ],
            [
             0.6666666666666666,
             "#ed7953"
            ],
            [
             0.7777777777777778,
             "#fb9f3a"
            ],
            [
             0.8888888888888888,
             "#fdca26"
            ],
            [
             1,
             "#f0f921"
            ]
           ],
           "sequentialminus": [
            [
             0,
             "#0d0887"
            ],
            [
             0.1111111111111111,
             "#46039f"
            ],
            [
             0.2222222222222222,
             "#7201a8"
            ],
            [
             0.3333333333333333,
             "#9c179e"
            ],
            [
             0.4444444444444444,
             "#bd3786"
            ],
            [
             0.5555555555555556,
             "#d8576b"
            ],
            [
             0.6666666666666666,
             "#ed7953"
            ],
            [
             0.7777777777777778,
             "#fb9f3a"
            ],
            [
             0.8888888888888888,
             "#fdca26"
            ],
            [
             1,
             "#f0f921"
            ]
           ]
          },
          "colorway": [
           "#636efa",
           "#EF553B",
           "#00cc96",
           "#ab63fa",
           "#FFA15A",
           "#19d3f3",
           "#FF6692",
           "#B6E880",
           "#FF97FF",
           "#FECB52"
          ],
          "font": {
           "color": "#2a3f5f"
          },
          "geo": {
           "bgcolor": "white",
           "lakecolor": "white",
           "landcolor": "white",
           "showlakes": true,
           "showland": true,
           "subunitcolor": "#C8D4E3"
          },
          "hoverlabel": {
           "align": "left"
          },
          "hovermode": "closest",
          "mapbox": {
           "style": "light"
          },
          "paper_bgcolor": "white",
          "plot_bgcolor": "white",
          "polar": {
           "angularaxis": {
            "gridcolor": "#EBF0F8",
            "linecolor": "#EBF0F8",
            "ticks": ""
           },
           "bgcolor": "white",
           "radialaxis": {
            "gridcolor": "#EBF0F8",
            "linecolor": "#EBF0F8",
            "ticks": ""
           }
          },
          "scene": {
           "xaxis": {
            "backgroundcolor": "white",
            "gridcolor": "#DFE8F3",
            "gridwidth": 2,
            "linecolor": "#EBF0F8",
            "showbackground": true,
            "ticks": "",
            "zerolinecolor": "#EBF0F8"
           },
           "yaxis": {
            "backgroundcolor": "white",
            "gridcolor": "#DFE8F3",
            "gridwidth": 2,
            "linecolor": "#EBF0F8",
            "showbackground": true,
            "ticks": "",
            "zerolinecolor": "#EBF0F8"
           },
           "zaxis": {
            "backgroundcolor": "white",
            "gridcolor": "#DFE8F3",
            "gridwidth": 2,
            "linecolor": "#EBF0F8",
            "showbackground": true,
            "ticks": "",
            "zerolinecolor": "#EBF0F8"
           }
          },
          "shapedefaults": {
           "line": {
            "color": "#2a3f5f"
           }
          },
          "ternary": {
           "aaxis": {
            "gridcolor": "#DFE8F3",
            "linecolor": "#A2B1C6",
            "ticks": ""
           },
           "baxis": {
            "gridcolor": "#DFE8F3",
            "linecolor": "#A2B1C6",
            "ticks": ""
           },
           "bgcolor": "white",
           "caxis": {
            "gridcolor": "#DFE8F3",
            "linecolor": "#A2B1C6",
            "ticks": ""
           }
          },
          "title": {
           "x": 0.05
          },
          "xaxis": {
           "automargin": true,
           "gridcolor": "#EBF0F8",
           "linecolor": "#EBF0F8",
           "ticks": "",
           "title": {
            "standoff": 15
           },
           "zerolinecolor": "#EBF0F8",
           "zerolinewidth": 2
          },
          "yaxis": {
           "automargin": true,
           "gridcolor": "#EBF0F8",
           "linecolor": "#EBF0F8",
           "ticks": "",
           "title": {
            "standoff": 15
           },
           "zerolinecolor": "#EBF0F8",
           "zerolinewidth": 2
          }
         }
        },
        "title": {
         "text": "Dunya Ortalama GDP Per Capita Trendi (2000-2023)"
        },
        "xaxis": {
         "title": {
          "text": "Yil"
         }
        },
        "yaxis": {
         "title": {
          "text": "GDP Per Capita (USD)"
         }
        }
       }
      }
     },
     "metadata": {},
     "output_type": "display_data"
    },
    {
     "name": "stdout",
     "output_type": "stream",
     "text": [
      "\n",
      "Key Insights:\n",
      "2000 yili ortalama: $18,927\n",
      "2023 yili ortalama: $26,897\n",
      "Toplam buyume: %42.1\n",
      "Yillik ortalama buyume: %1.8\n"
     ]
    }
   ],
   "source": [
    "# Calculate world average (for years 2000 onwards)\n",
    "df_2000_plus = df[df['Year'] >= 2000].copy()\n",
    "world_avg_by_year = df_2000_plus.groupby('Year')[gdp_column].mean().reset_index()\n",
    "world_avg_by_year.columns = ['Year', 'World_Average_GDP']\n",
    "\n",
    "# Interactive line plot\n",
    "fig = go.Figure()\n",
    "\n",
    "fig.add_trace(go.Scatter(\n",
    "    x=world_avg_by_year['Year'],\n",
    "    y=world_avg_by_year['World_Average_GDP'],\n",
    "    mode='lines+markers',\n",
    "    name='World Average',\n",
    "    line=dict(color='#2E86AB', width=3),\n",
    "    marker=dict(size=6),\n",
    "    hovertemplate='<b>Year:</b> %{x}<br><b>GDP:</b> $%{y:,.0f}<extra></extra>'\n",
    "))\n",
    "\n",
    "# Highlight crisis periods\n",
    "fig.add_vrect(x0=2007, x1=2009, fillcolor=\"red\", opacity=0.1, line_width=0, annotation_text=\"2008 Crisis\")\n",
    "fig.add_vrect(x0=2020, x1=2021, fillcolor=\"orange\", opacity=0.1, line_width=0, annotation_text=\"COVID-19\")\n",
    "\n",
    "fig.update_layout(\n",
    "    title='World Average GDP Per Capita Trend (2000-2023)',\n",
    "    xaxis_title='Year',\n",
    "    yaxis_title='GDP Per Capita (USD)',\n",
    "    height=500,\n",
    "    hovermode='x unified'\n",
    ")\n",
    "\n",
    "fig.show()\n",
    "\n",
    "# Key insights\n",
    "start_gdp = world_avg_by_year['World_Average_GDP'].iloc[0]\n",
    "end_gdp = world_avg_by_year['World_Average_GDP'].iloc[-1]\n",
    "growth_rate = ((end_gdp - start_gdp) / start_gdp) * 100\n",
    "\n",
    "print(f\"\\nKey Insights:\")\n",
    "print(f\"2000 average: ${start_gdp:,.0f}\")\n",
    "print(f\"2023 average: ${end_gdp:,.0f}\")\n",
    "print(f\"Total growth: {growth_rate:.1f}%\")\n",
    "print(f\"Annual average growth: {growth_rate/23:.1f}%\")"
   ]
  },
  {
   "cell_type": "markdown",
   "id": "d6f070d7",
   "metadata": {},
   "source": [
    "## 🌍 Continental GDP Analysis\n",
    "\n",
    "This section analyzes GDP per capita trends across different continents to understand regional economic patterns and disparities."
   ]
  },
  {
   "cell_type": "code",
   "execution_count": null,
   "id": "1326abde",
   "metadata": {},
   "outputs": [
    {
     "data": {
      "application/vnd.plotly.v1+json": {
       "config": {
        "plotlyServerURL": "https://plot.ly"
       },
       "data": [
        {
         "hovertemplate": "Continent=Africa<br>Year=%{x}<br>GDP Per Capita (USD)=%{y}<extra></extra>",
         "legendgroup": "Africa",
         "line": {
          "color": "#636efa",
          "dash": "solid",
          "width": 3
         },
         "marker": {
          "symbol": "circle"
         },
         "mode": "lines",
         "name": "Africa",
         "orientation": "v",
         "showlegend": true,
         "type": "scatter",
         "x": {
          "bdata": "xgfHB8gHyQfKB8sHzAfNB84HzwfQB9EH0gfTB9QH1QfWB9cH2AfZB9oH2wfcB90H3gffB+AH4QfiB+MH5AflB+YH5wc=",
          "dtype": "i2"
         },
         "xaxis": "x",
         "y": {
          "bdata": "xqnE06T3sUAHexNDyuKxQGzPLAlYmLFAbhea68hGsUA9fD5vDyexQDZc5J4CaLFAMNXMWkIFskBg92dQ4uOyQKh66HFyJrNAMwhij0NNs0AGaSFc0KqzQKaC5WPqPLRA82BBUCCVtEDctL7tIgq1QGOVd3o+/rVAbjSAt7DvtkCjXvBpksC3QAOhUKpYwLhAG+jrQ9RKuUD0G4HTTuq4QORO6WAdNrlAxr35DXsSuUAfL6TDe2m6QKztvCPBGrpAK5tH0zYqukCLYgZ3hAu6QD+2dBQnI7pAnyOgcNyTukAEj/vibtK6QJdTyFtE5LpArFHtsfLFuEB4zK9VUXq5QLLv+dCM27lAPQIj0/VPukA=",
          "dtype": "f8"
         },
         "yaxis": "y"
        },
        {
         "hovertemplate": "Continent=Asia<br>Year=%{x}<br>GDP Per Capita (USD)=%{y}<extra></extra>",
         "legendgroup": "Asia",
         "line": {
          "color": "#EF553B",
          "dash": "solid",
          "width": 3
         },
         "marker": {
          "symbol": "circle"
         },
         "mode": "lines",
         "name": "Asia",
         "orientation": "v",
         "showlegend": true,
         "type": "scatter",
         "x": {
          "bdata": "xgfHB8gHyQfKB8sHzAfNB84HzwfQB9EH0gfTB9QH1QfWB9cH2AfZB9oH2wfcB90H3gffB+AH4QfiB+MH5AflB+YH5wc=",
          "dtype": "i2"
         },
         "xaxis": "x",
         "y": {
          "bdata": "aIaRn35E0kB44uFn4OPRQKHQ7zw1ItJAppBoQ35g0kBjYd64PijSQM7oGAtNddJAalSGnnKz0kDQP29TR3LTQJWUlsDSJNNAPWsyiWc200B/LI9hbHPTQFQ294MyQdNA89qYFXJi00Ab1X/1iPHTQMv0lp4eBNVABzxc6U2E1UCk2LLHhGXWQItez23lmNZA53cEGFKU1kBGY6IV5vLVQLftMPrKE9dAkxfF6XoV2EAWHghSn03YQNHruS2/X9hAf2OwLXhd2ECq47q/J2/YQE1G4DtaodhAjHPzQvDW2EBvZdSoQ0/ZQNTtNwZYqNlAB3vIaLNa2ECpIejSicDZQGquXAXMWtpAHxCC7fql20A=",
          "dtype": "f8"
         },
         "yaxis": "y"
        },
        {
         "hovertemplate": "Continent=Europe<br>Year=%{x}<br>GDP Per Capita (USD)=%{y}<extra></extra>",
         "legendgroup": "Europe",
         "line": {
          "color": "#00cc96",
          "dash": "solid",
          "width": 3
         },
         "marker": {
          "symbol": "circle"
         },
         "mode": "lines",
         "name": "Europe",
         "orientation": "v",
         "showlegend": true,
         "type": "scatter",
         "x": {
          "bdata": "xgfHB8gHyQfKB8sHzAfNB84HzwfQB9EH0gfTB9QH1QfWB9cH2AfZB9oH2wfcB90H3gffB+AH4QfiB+MH5AflB+YH5wc=",
          "dtype": "i2"
         },
         "xaxis": "x",
         "y": {
          "bdata": "zU1wHYfr3UAnra8fmUvdQIcf6nTIktxAj/opNSJE3EA9UBgzEbrcQGZmZuZ79txA7d0fb2+s3UCsGENQiT3fQAEhFJgOMOBAC4Uf8Lm14EAw0d/JT3DhQFSK3FEQ6OFAtmqtARhB4kC9oAOO06TiQETvkQ5aR+NAHBQl94nW40AFyL3mVqXkQN6e42J8fuVAkmdaIUWQ5UDtw2fYRVTkQBKH196Fl+RAFeUTNADV5EBRQli3+K/kQEJczrxAyeRAb4hJjrsh5UAfvLekA7DlQCUGgZV2JOZA/4k5Mlu95kBPD6N40UjnQCa3KsqTwudAmCsB9CS05kB9fi/ZmV3oQOYH7y2pG+lAQGfJQFvo6EA=",
          "dtype": "f8"
         },
         "yaxis": "y"
        },
        {
         "hovertemplate": "Continent=North America<br>Year=%{x}<br>GDP Per Capita (USD)=%{y}<extra></extra>",
         "legendgroup": "North America",
         "line": {
          "color": "#ab63fa",
          "dash": "solid",
          "width": 3
         },
         "marker": {
          "symbol": "circle"
         },
         "mode": "lines",
         "name": "North America",
         "orientation": "v",
         "showlegend": true,
         "type": "scatter",
         "x": {
          "bdata": "xgfHB8gHyQfKB8sHzAfNB84HzwfQB9EH0gfTB9QH1QfWB9cH2AfZB9oH2wfcB90H3gffB+AH4QfiB+MH5AflB+YH5wc=",
          "dtype": "i2"
         },
         "xaxis": "x",
         "y": {
          "bdata": "p47r/loIzEAzcWBG+tXLQOYdp+hERMxAHYSs5XS5zEAxRtkvQTvNQAz7HkCGgs1AkxH4DkYVzkAUkhfFIfnOQOzAOSN0A9BA7Civ4IaD0EAgHrUAkRTRQBv4u1iFD9FADMrKTgJH0UCvOghZ07DRQHqQCG5fLtJAsUJTDG/Y0kArQt1+hajTQLFegyimPdRAhhymqYx+1EB/XKTmGpzTQJdEytgSutNAa9ikr/3400BndH709lbUQGR5DGM4j9RASUMj97kR1UAZc9cSElLVQMciLksLitVAIl5g7OzI1UA6mdfG/jrWQLCwlaSkfNZAyfNXMpb500B+Mlw8YUzVQDxj9WZrlNZAIqqljcoe10A=",
          "dtype": "f8"
         },
         "yaxis": "y"
        },
        {
         "hovertemplate": "Continent=Oceania<br>Year=%{x}<br>GDP Per Capita (USD)=%{y}<extra></extra>",
         "legendgroup": "Oceania",
         "line": {
          "color": "#FFA15A",
          "dash": "solid",
          "width": 3
         },
         "marker": {
          "symbol": "circle"
         },
         "mode": "lines",
         "name": "Oceania",
         "orientation": "v",
         "showlegend": true,
         "type": "scatter",
         "x": {
          "bdata": "xgfHB8gHyQfKB8sHzAfNB84HzwfQB9EH0gfTB9QH1QfWB9cH2AfZB9oH2wfcB90H3gffB+AH4QfiB+MH5AflB+YH5wc=",
          "dtype": "i2"
         },
         "xaxis": "x",
         "y": {
          "bdata": "7kMkFeVrxkCC4seYwyzFQLdTi0KQgsRAsiOP1aY1xEBcj8L1iMDEQOlfTChFJ8VAtP18FaZQxUAOHV55zDnFQBUdyeU/RsVAIculWh+FxUBE37r5kpPFQHGdl0Sz0cVA1NMBPthAxkA3xnFJeW/GQAlFxeeU4cZAuwzcGLdKx0Dg/1NOkq3HQIqZw8Ciz8dA1GyqyzDsx0DLaCqW4onHQPUvJpTSx8dAVLl+EtFsyECPEi9yuAfJQHmNroyLU8lAFujCjqEJykBijs3UVq/KQNX6c4uONstApMSLHMZby0CvjDv2hbDLQGLmMLDwMcxAYYKOeW5Ay0Dn+6nx4lnLQFaUzN8dHsxAPcCAS2WozUA=",
          "dtype": "f8"
         },
         "yaxis": "y"
        },
        {
         "hovertemplate": "Continent=Other<br>Year=%{x}<br>GDP Per Capita (USD)=%{y}<extra></extra>",
         "legendgroup": "Other",
         "line": {
          "color": "#19d3f3",
          "dash": "solid",
          "width": 3
         },
         "marker": {
          "symbol": "circle"
         },
         "mode": "lines",
         "name": "Other",
         "orientation": "v",
         "showlegend": true,
         "type": "scatter",
         "x": {
          "bdata": "xgfHB8gHyQfKB8sHzAfNB84HzwfQB9EH0gfTB9QH1QfWB9cH2AfZB9oH2wfcB90H3gffB+AH4QfiB+MH5AflB+YH5wc=",
          "dtype": "i2"
         },
         "xaxis": "x",
         "y": {
          "bdata": "Hy9GbUBa1ECpOwaOZ0PUQApuW75hgNRAumTYz8uu1EC0gDMsshDVQEF1eEyOdtVANnFdF1yy1UDoNYsxqkPWQLoapY9CgdZAE6kGZkXY1kCHp1fKO3rYQKCrrdhKHNlAiv1l9/Rm2kCAuoECmwrbQDNN2H4endxAnIU97fRJ3UBxw6kE1lrgQG51xWkb6eBAGEdnHYLP4EBWCHpAnYLgQMqgqNHGDeFA/+QCquZm4UD8471qAGzhQK8Audc3reFAsnjE+x+i4UAhH/RsQB/hQGK+vABsQ+FA7zhFR2ek4UAhq1s97eThQKw+V1ssDuJA2rQ/PY2W30COzCN/M9TgQM6S/vjPf+BA0zeqVa9Q4UA=",
          "dtype": "f8"
         },
         "yaxis": "y"
        },
        {
         "hovertemplate": "Continent=South America<br>Year=%{x}<br>GDP Per Capita (USD)=%{y}<extra></extra>",
         "legendgroup": "South America",
         "line": {
          "color": "#FF6692",
          "dash": "solid",
          "width": 3
         },
         "marker": {
          "symbol": "circle"
         },
         "mode": "lines",
         "name": "South America",
         "orientation": "v",
         "showlegend": true,
         "type": "scatter",
         "x": {
          "bdata": "xgfHB8gHyQfKB8sHzAfNB84HzwfQB9EH0gfTB9QH1QfWB9cH2AfZB9oH2wfcB90H3gffB+AH4QfiB+MH5AflB+YH5wc=",
          "dtype": "i2"
         },
         "xaxis": "x",
         "y": {
          "bdata": "fwlT/ibmxEBnX1ofKoDFQPC86iAkGcZAURE9SMSWxkCEbrgloZXHQGpU/9XP28dApCT4aP9nyEAxp0Km7YLJQL3/RDlywMlA1sVtNMgLyUBmGiHFXgPJQEMqA3HHzchATGCSf6JeyEA9EePqBA3JQG3n+6mhUcpAzOe9fDZsy0BcqrOlwrfMQNcnFheMOM5ANFZvlkh0z0DZNm0RBEjPQHw36qpuktBACZErqjpe0UAvuuiiW8DRQERweze6WNJAEPfPPRCD0kDEO6Eian/SQEQqA3FXZdJAyn4JU/ao0kASwe3dpNDSQD1IBLfXydJAi6oUD9G90UCHMcp+qSTTQNV46Sb98tRAyXa+nzoc1kA=",
          "dtype": "f8"
         },
         "yaxis": "y"
        }
       ],
       "layout": {
        "height": 600,
        "hovermode": "x unified",
        "legend": {
         "title": {
          "text": "Continent"
         },
         "tracegroupgap": 0
        },
        "shapes": [
         {
          "fillcolor": "red",
          "line": {
           "width": 0
          },
          "opacity": 0.1,
          "type": "rect",
          "x0": 2007,
          "x1": 2009,
          "xref": "x",
          "y0": 0,
          "y1": 1,
          "yref": "y domain"
         },
         {
          "fillcolor": "orange",
          "line": {
           "width": 0
          },
          "opacity": 0.1,
          "type": "rect",
          "x0": 2020,
          "x1": 2021,
          "xref": "x",
          "y0": 0,
          "y1": 1,
          "yref": "y domain"
         }
        ],
        "template": {
         "data": {
          "bar": [
           {
            "error_x": {
             "color": "#2a3f5f"
            },
            "error_y": {
             "color": "#2a3f5f"
            },
            "marker": {
             "line": {
              "color": "white",
              "width": 0.5
             },
             "pattern": {
              "fillmode": "overlay",
              "size": 10,
              "solidity": 0.2
             }
            },
            "type": "bar"
           }
          ],
          "barpolar": [
           {
            "marker": {
             "line": {
              "color": "white",
              "width": 0.5
             },
             "pattern": {
              "fillmode": "overlay",
              "size": 10,
              "solidity": 0.2
             }
            },
            "type": "barpolar"
           }
          ],
          "carpet": [
           {
            "aaxis": {
             "endlinecolor": "#2a3f5f",
             "gridcolor": "#C8D4E3",
             "linecolor": "#C8D4E3",
             "minorgridcolor": "#C8D4E3",
             "startlinecolor": "#2a3f5f"
            },
            "baxis": {
             "endlinecolor": "#2a3f5f",
             "gridcolor": "#C8D4E3",
             "linecolor": "#C8D4E3",
             "minorgridcolor": "#C8D4E3",
             "startlinecolor": "#2a3f5f"
            },
            "type": "carpet"
           }
          ],
          "choropleth": [
           {
            "colorbar": {
             "outlinewidth": 0,
             "ticks": ""
            },
            "type": "choropleth"
           }
          ],
          "contour": [
           {
            "colorbar": {
             "outlinewidth": 0,
             "ticks": ""
            },
            "colorscale": [
             [
              0,
              "#0d0887"
             ],
             [
              0.1111111111111111,
              "#46039f"
             ],
             [
              0.2222222222222222,
              "#7201a8"
             ],
             [
              0.3333333333333333,
              "#9c179e"
             ],
             [
              0.4444444444444444,
              "#bd3786"
             ],
             [
              0.5555555555555556,
              "#d8576b"
             ],
             [
              0.6666666666666666,
              "#ed7953"
             ],
             [
              0.7777777777777778,
              "#fb9f3a"
             ],
             [
              0.8888888888888888,
              "#fdca26"
             ],
             [
              1,
              "#f0f921"
             ]
            ],
            "type": "contour"
           }
          ],
          "contourcarpet": [
           {
            "colorbar": {
             "outlinewidth": 0,
             "ticks": ""
            },
            "type": "contourcarpet"
           }
          ],
          "heatmap": [
           {
            "colorbar": {
             "outlinewidth": 0,
             "ticks": ""
            },
            "colorscale": [
             [
              0,
              "#0d0887"
             ],
             [
              0.1111111111111111,
              "#46039f"
             ],
             [
              0.2222222222222222,
              "#7201a8"
             ],
             [
              0.3333333333333333,
              "#9c179e"
             ],
             [
              0.4444444444444444,
              "#bd3786"
             ],
             [
              0.5555555555555556,
              "#d8576b"
             ],
             [
              0.6666666666666666,
              "#ed7953"
             ],
             [
              0.7777777777777778,
              "#fb9f3a"
             ],
             [
              0.8888888888888888,
              "#fdca26"
             ],
             [
              1,
              "#f0f921"
             ]
            ],
            "type": "heatmap"
           }
          ],
          "histogram": [
           {
            "marker": {
             "pattern": {
              "fillmode": "overlay",
              "size": 10,
              "solidity": 0.2
             }
            },
            "type": "histogram"
           }
          ],
          "histogram2d": [
           {
            "colorbar": {
             "outlinewidth": 0,
             "ticks": ""
            },
            "colorscale": [
             [
              0,
              "#0d0887"
             ],
             [
              0.1111111111111111,
              "#46039f"
             ],
             [
              0.2222222222222222,
              "#7201a8"
             ],
             [
              0.3333333333333333,
              "#9c179e"
             ],
             [
              0.4444444444444444,
              "#bd3786"
             ],
             [
              0.5555555555555556,
              "#d8576b"
             ],
             [
              0.6666666666666666,
              "#ed7953"
             ],
             [
              0.7777777777777778,
              "#fb9f3a"
             ],
             [
              0.8888888888888888,
              "#fdca26"
             ],
             [
              1,
              "#f0f921"
             ]
            ],
            "type": "histogram2d"
           }
          ],
          "histogram2dcontour": [
           {
            "colorbar": {
             "outlinewidth": 0,
             "ticks": ""
            },
            "colorscale": [
             [
              0,
              "#0d0887"
             ],
             [
              0.1111111111111111,
              "#46039f"
             ],
             [
              0.2222222222222222,
              "#7201a8"
             ],
             [
              0.3333333333333333,
              "#9c179e"
             ],
             [
              0.4444444444444444,
              "#bd3786"
             ],
             [
              0.5555555555555556,
              "#d8576b"
             ],
             [
              0.6666666666666666,
              "#ed7953"
             ],
             [
              0.7777777777777778,
              "#fb9f3a"
             ],
             [
              0.8888888888888888,
              "#fdca26"
             ],
             [
              1,
              "#f0f921"
             ]
            ],
            "type": "histogram2dcontour"
           }
          ],
          "mesh3d": [
           {
            "colorbar": {
             "outlinewidth": 0,
             "ticks": ""
            },
            "type": "mesh3d"
           }
          ],
          "parcoords": [
           {
            "line": {
             "colorbar": {
              "outlinewidth": 0,
              "ticks": ""
             }
            },
            "type": "parcoords"
           }
          ],
          "pie": [
           {
            "automargin": true,
            "type": "pie"
           }
          ],
          "scatter": [
           {
            "fillpattern": {
             "fillmode": "overlay",
             "size": 10,
             "solidity": 0.2
            },
            "type": "scatter"
           }
          ],
          "scatter3d": [
           {
            "line": {
             "colorbar": {
              "outlinewidth": 0,
              "ticks": ""
             }
            },
            "marker": {
             "colorbar": {
              "outlinewidth": 0,
              "ticks": ""
             }
            },
            "type": "scatter3d"
           }
          ],
          "scattercarpet": [
           {
            "marker": {
             "colorbar": {
              "outlinewidth": 0,
              "ticks": ""
             }
            },
            "type": "scattercarpet"
           }
          ],
          "scattergeo": [
           {
            "marker": {
             "colorbar": {
              "outlinewidth": 0,
              "ticks": ""
             }
            },
            "type": "scattergeo"
           }
          ],
          "scattergl": [
           {
            "marker": {
             "colorbar": {
              "outlinewidth": 0,
              "ticks": ""
             }
            },
            "type": "scattergl"
           }
          ],
          "scattermap": [
           {
            "marker": {
             "colorbar": {
              "outlinewidth": 0,
              "ticks": ""
             }
            },
            "type": "scattermap"
           }
          ],
          "scattermapbox": [
           {
            "marker": {
             "colorbar": {
              "outlinewidth": 0,
              "ticks": ""
             }
            },
            "type": "scattermapbox"
           }
          ],
          "scatterpolar": [
           {
            "marker": {
             "colorbar": {
              "outlinewidth": 0,
              "ticks": ""
             }
            },
            "type": "scatterpolar"
           }
          ],
          "scatterpolargl": [
           {
            "marker": {
             "colorbar": {
              "outlinewidth": 0,
              "ticks": ""
             }
            },
            "type": "scatterpolargl"
           }
          ],
          "scatterternary": [
           {
            "marker": {
             "colorbar": {
              "outlinewidth": 0,
              "ticks": ""
             }
            },
            "type": "scatterternary"
           }
          ],
          "surface": [
           {
            "colorbar": {
             "outlinewidth": 0,
             "ticks": ""
            },
            "colorscale": [
             [
              0,
              "#0d0887"
             ],
             [
              0.1111111111111111,
              "#46039f"
             ],
             [
              0.2222222222222222,
              "#7201a8"
             ],
             [
              0.3333333333333333,
              "#9c179e"
             ],
             [
              0.4444444444444444,
              "#bd3786"
             ],
             [
              0.5555555555555556,
              "#d8576b"
             ],
             [
              0.6666666666666666,
              "#ed7953"
             ],
             [
              0.7777777777777778,
              "#fb9f3a"
             ],
             [
              0.8888888888888888,
              "#fdca26"
             ],
             [
              1,
              "#f0f921"
             ]
            ],
            "type": "surface"
           }
          ],
          "table": [
           {
            "cells": {
             "fill": {
              "color": "#EBF0F8"
             },
             "line": {
              "color": "white"
             }
            },
            "header": {
             "fill": {
              "color": "#C8D4E3"
             },
             "line": {
              "color": "white"
             }
            },
            "type": "table"
           }
          ]
         },
         "layout": {
          "annotationdefaults": {
           "arrowcolor": "#2a3f5f",
           "arrowhead": 0,
           "arrowwidth": 1
          },
          "autotypenumbers": "strict",
          "coloraxis": {
           "colorbar": {
            "outlinewidth": 0,
            "ticks": ""
           }
          },
          "colorscale": {
           "diverging": [
            [
             0,
             "#8e0152"
            ],
            [
             0.1,
             "#c51b7d"
            ],
            [
             0.2,
             "#de77ae"
            ],
            [
             0.3,
             "#f1b6da"
            ],
            [
             0.4,
             "#fde0ef"
            ],
            [
             0.5,
             "#f7f7f7"
            ],
            [
             0.6,
             "#e6f5d0"
            ],
            [
             0.7,
             "#b8e186"
            ],
            [
             0.8,
             "#7fbc41"
            ],
            [
             0.9,
             "#4d9221"
            ],
            [
             1,
             "#276419"
            ]
           ],
           "sequential": [
            [
             0,
             "#0d0887"
            ],
            [
             0.1111111111111111,
             "#46039f"
            ],
            [
             0.2222222222222222,
             "#7201a8"
            ],
            [
             0.3333333333333333,
             "#9c179e"
            ],
            [
             0.4444444444444444,
             "#bd3786"
            ],
            [
             0.5555555555555556,
             "#d8576b"
            ],
            [
             0.6666666666666666,
             "#ed7953"
            ],
            [
             0.7777777777777778,
             "#fb9f3a"
            ],
            [
             0.8888888888888888,
             "#fdca26"
            ],
            [
             1,
             "#f0f921"
            ]
           ],
           "sequentialminus": [
            [
             0,
             "#0d0887"
            ],
            [
             0.1111111111111111,
             "#46039f"
            ],
            [
             0.2222222222222222,
             "#7201a8"
            ],
            [
             0.3333333333333333,
             "#9c179e"
            ],
            [
             0.4444444444444444,
             "#bd3786"
            ],
            [
             0.5555555555555556,
             "#d8576b"
            ],
            [
             0.6666666666666666,
             "#ed7953"
            ],
            [
             0.7777777777777778,
             "#fb9f3a"
            ],
            [
             0.8888888888888888,
             "#fdca26"
            ],
            [
             1,
             "#f0f921"
            ]
           ]
          },
          "colorway": [
           "#636efa",
           "#EF553B",
           "#00cc96",
           "#ab63fa",
           "#FFA15A",
           "#19d3f3",
           "#FF6692",
           "#B6E880",
           "#FF97FF",
           "#FECB52"
          ],
          "font": {
           "color": "#2a3f5f"
          },
          "geo": {
           "bgcolor": "white",
           "lakecolor": "white",
           "landcolor": "white",
           "showlakes": true,
           "showland": true,
           "subunitcolor": "#C8D4E3"
          },
          "hoverlabel": {
           "align": "left"
          },
          "hovermode": "closest",
          "mapbox": {
           "style": "light"
          },
          "paper_bgcolor": "white",
          "plot_bgcolor": "white",
          "polar": {
           "angularaxis": {
            "gridcolor": "#EBF0F8",
            "linecolor": "#EBF0F8",
            "ticks": ""
           },
           "bgcolor": "white",
           "radialaxis": {
            "gridcolor": "#EBF0F8",
            "linecolor": "#EBF0F8",
            "ticks": ""
           }
          },
          "scene": {
           "xaxis": {
            "backgroundcolor": "white",
            "gridcolor": "#DFE8F3",
            "gridwidth": 2,
            "linecolor": "#EBF0F8",
            "showbackground": true,
            "ticks": "",
            "zerolinecolor": "#EBF0F8"
           },
           "yaxis": {
            "backgroundcolor": "white",
            "gridcolor": "#DFE8F3",
            "gridwidth": 2,
            "linecolor": "#EBF0F8",
            "showbackground": true,
            "ticks": "",
            "zerolinecolor": "#EBF0F8"
           },
           "zaxis": {
            "backgroundcolor": "white",
            "gridcolor": "#DFE8F3",
            "gridwidth": 2,
            "linecolor": "#EBF0F8",
            "showbackground": true,
            "ticks": "",
            "zerolinecolor": "#EBF0F8"
           }
          },
          "shapedefaults": {
           "line": {
            "color": "#2a3f5f"
           }
          },
          "ternary": {
           "aaxis": {
            "gridcolor": "#DFE8F3",
            "linecolor": "#A2B1C6",
            "ticks": ""
           },
           "baxis": {
            "gridcolor": "#DFE8F3",
            "linecolor": "#A2B1C6",
            "ticks": ""
           },
           "bgcolor": "white",
           "caxis": {
            "gridcolor": "#DFE8F3",
            "linecolor": "#A2B1C6",
            "ticks": ""
           }
          },
          "title": {
           "x": 0.05
          },
          "xaxis": {
           "automargin": true,
           "gridcolor": "#EBF0F8",
           "linecolor": "#EBF0F8",
           "ticks": "",
           "title": {
            "standoff": 15
           },
           "zerolinecolor": "#EBF0F8",
           "zerolinewidth": 2
          },
          "yaxis": {
           "automargin": true,
           "gridcolor": "#EBF0F8",
           "linecolor": "#EBF0F8",
           "ticks": "",
           "title": {
            "standoff": 15
           },
           "zerolinecolor": "#EBF0F8",
           "zerolinewidth": 2
          }
         }
        },
        "title": {
         "text": "GDP Per Capita Comparison by Continent"
        },
        "xaxis": {
         "anchor": "y",
         "domain": [
          0,
          1
         ],
         "title": {
          "text": "Year"
         }
        },
        "yaxis": {
         "anchor": "x",
         "domain": [
          0,
          1
         ],
         "title": {
          "text": "GDP Per Capita (USD)"
         }
        }
       }
      }
     },
     "metadata": {},
     "output_type": "display_data"
    },
    {
     "name": "stdout",
     "output_type": "stream",
     "text": [
      "\n",
      "2023 Continental Ranking (GDP Per Capita):\n",
      "1. Europe: $51,011\n",
      "2. Other: $35,461\n",
      "3. Asia: $28,312\n",
      "4. North America: $23,675\n",
      "5. South America: $22,641\n",
      "6. Oceania: $15,185\n",
      "7. Africa: $6,736\n"
     ]
    }
   ],
   "source": [
    "# Continental comparison over time\n",
    "continent_yearly = df.groupby(['Year', 'Continent'])[gdp_column].mean().reset_index()\n",
    "\n",
    "# Multi-line plot\n",
    "fig = px.line(continent_yearly, \n",
    "              x='Year', \n",
    "              y=gdp_column, \n",
    "              color='Continent',\n",
    "              title='GDP Per Capita Comparison by Continent',\n",
    "              labels={gdp_column: 'GDP Per Capita (USD)', 'Year': 'Year'},\n",
    "              height=600)\n",
    "\n",
    "# Add crisis periods\n",
    "fig.add_vrect(x0=2007, x1=2009, fillcolor=\"red\", opacity=0.1, line_width=0)\n",
    "fig.add_vrect(x0=2020, x1=2021, fillcolor=\"orange\", opacity=0.1, line_width=0)\n",
    "\n",
    "fig.update_traces(line=dict(width=3))\n",
    "fig.update_layout(hovermode='x unified')\n",
    "fig.show()\n",
    "\n",
    "# 2023 continental ranking\n",
    "continent_2023 = df[df['Year'] == 2023].groupby('Continent')[gdp_column].mean().sort_values(ascending=False)\n",
    "print(\"\\n2023 Continental Ranking (GDP Per Capita):\")\n",
    "for i, (continent, gdp) in enumerate(continent_2023.items(), 1):\n",
    "    print(f\"{i}. {continent}: ${gdp:,.0f}\")"
   ]
  },
  {
   "cell_type": "code",
   "execution_count": 37,
   "id": "2c8e8971",
   "metadata": {},
   "outputs": [
    {
     "data": {
      "image/png": "[encoded data removed]",
      "text/plain": [
       "<Figure size 1200x600 with 1 Axes>"
      ]
     },
     "metadata": {},
     "output_type": "display_data"
    },
    {
     "name": "stdout",
     "output_type": "stream",
     "text": [
      "📊 World GDP trend plot saved to '../outputs/plots/world_gdp_trend.png'\n"
     ]
    }
   ],
   "source": [
    "# Save the world trend plot using matplotlib\n",
    "plt.figure(figsize=(12, 6))\n",
    "plt.plot(world_avg_by_year['Year'], world_avg_by_year['World_Average_GDP'], \n",
    "         marker='o', linewidth=3, markersize=8, color='#2E86AB')\n",
    "plt.title('World Average GDP Per Capita Trend (2000-2023)', fontsize=16, fontweight='bold', pad=20)\n",
    "plt.xlabel('Year', fontsize=12)\n",
    "plt.ylabel('GDP Per Capita (USD)', fontsize=12)\n",
    "plt.grid(True, alpha=0.3)\n",
    "plt.tight_layout()\n",
    "plt.savefig('../outputs/plots/world_gdp_trend.png', dpi=300, bbox_inches='tight')\n",
    "plt.show()\n",
    "print(\"📊 World GDP trend plot saved to '../outputs/plots/world_gdp_trend.png'\")"
   ]
  },
  {
   "cell_type": "markdown",
   "id": "4d275b14",
   "metadata": {},
   "source": [
    "### 🔍 World GDP Trend Insights:\n",
    "\n",
    "- **📈 General Trend**: World average GDP per capita is continuously rising\n",
    "- **⚠️ Crises**: The impact of 2008 financial crisis and COVID-19 is visible\n",
    "- **🌟 Recovery**: Recovery occurs after each crisis"
   ]
  },
  {
   "cell_type": "markdown",
   "id": "0399efc6",
   "metadata": {},
   "source": [
    "## 🏆 3. Richest vs Poorest Countries Analysis"
   ]
  },
  {
   "cell_type": "code",
   "execution_count": 38,
   "id": "f8e93a66",
   "metadata": {},
   "outputs": [
    {
     "data": {
      "application/vnd.plotly.v1+json": {
       "config": {
        "plotlyServerURL": "https://plot.ly"
       },
       "data": [
        {
         "marker": {
          "color": "lightgreen"
         },
         "name": "Richest",
         "orientation": "h",
         "text": [
          "$76,828",
          "$78,109",
          "$82,558",
          "$90,470",
          "$98,042",
          "$104,962",
          "$114,922",
          "$116,159",
          "$127,544",
          "$132,847"
         ],
         "textposition": "outside",
         "type": "bar",
         "x": {
          "bdata": "ZmZmZsbB8kCamZmZ1RHzQM3MzMzYJ/RAXI/C9VwW9kCkcD0Km+/3QNejcD0aoPlA16NwPaYO/EDXo3A98lv8QBSuR+F4I/9APQrXo3Q3AEE=",
          "dtype": "f8"
         },
         "xaxis": "x",
         "y": [
          "Brunei",
          "Cayman Islands",
          "Switzerland",
          "Norway",
          "Bermuda",
          "Macao",
          "Ireland",
          "Qatar",
          "Singapore",
          "Luxembourg"
         ],
         "yaxis": "y"
        },
        {
         "marker": {
          "color": "lightcoral"
         },
         "name": "Poorest",
         "orientation": "h",
         "text": [
          "$829",
          "$1,135",
          "$1,402",
          "$1,456",
          "$1,512",
          "$1,617",
          "$1,643",
          "$1,648",
          "$1,679",
          "$1,703"
         ],
         "textposition": "outside",
         "type": "bar",
         "x": {
          "bdata": "r5RliOPmiUDcRgN4i7yRQHsUrkfh6ZVAJ8KGp1e/lkCe76fGi56XQEOtad6xQ5lAnKIjuTytmUDRItv5vsGZQGq8dJPYPZpADAIrh5admkA=",
          "dtype": "f8"
         },
         "xaxis": "x2",
         "y": [
          "Burundi",
          "Central African Republic",
          "Somalia",
          "Democratic Republic of Congo",
          "Mozambique",
          "Liberia",
          "Madagascar",
          "Malawi",
          "Chad",
          "Niger"
         ],
         "yaxis": "y2"
        }
       ],
       "layout": {
        "annotations": [
         {
          "font": {
           "size": 16
          },
          "showarrow": false,
          "text": "Top 10 Richest Countries",
          "x": 0.225,
          "xanchor": "center",
          "xref": "paper",
          "y": 1,
          "yanchor": "bottom",
          "yref": "paper"
         },
         {
          "font": {
           "size": 16
          },
          "showarrow": false,
          "text": "Top 10 Poorest Countries",
          "x": 0.775,
          "xanchor": "center",
          "xref": "paper",
          "y": 1,
          "yanchor": "bottom",
          "yref": "paper"
         }
        ],
        "height": 600,
        "showlegend": false,
        "template": {
         "data": {
          "bar": [
           {
            "error_x": {
             "color": "#2a3f5f"
            },
            "error_y": {
             "color": "#2a3f5f"
            },
            "marker": {
             "line": {
              "color": "white",
              "width": 0.5
             },
             "pattern": {
              "fillmode": "overlay",
              "size": 10,
              "solidity": 0.2
             }
            },
            "type": "bar"
           }
          ],
          "barpolar": [
           {
            "marker": {
             "line": {
              "color": "white",
              "width": 0.5
             },
             "pattern": {
              "fillmode": "overlay",
              "size": 10,
              "solidity": 0.2
             }
            },
            "type": "barpolar"
           }
          ],
          "carpet": [
           {
            "aaxis": {
             "endlinecolor": "#2a3f5f",
             "gridcolor": "#C8D4E3",
             "linecolor": "#C8D4E3",
             "minorgridcolor": "#C8D4E3",
             "startlinecolor": "#2a3f5f"
            },
            "baxis": {
             "endlinecolor": "#2a3f5f",
             "gridcolor": "#C8D4E3",
             "linecolor": "#C8D4E3",
             "minorgridcolor": "#C8D4E3",
             "startlinecolor": "#2a3f5f"
            },
            "type": "carpet"
           }
          ],
          "choropleth": [
           {
            "colorbar": {
             "outlinewidth": 0,
             "ticks": ""
            },
            "type": "choropleth"
           }
          ],
          "contour": [
           {
            "colorbar": {
             "outlinewidth": 0,
             "ticks": ""
            },
            "colorscale": [
             [
              0,
              "#0d0887"
             ],
             [
              0.1111111111111111,
              "#46039f"
             ],
             [
              0.2222222222222222,
              "#7201a8"
             ],
             [
              0.3333333333333333,
              "#9c179e"
             ],
             [
              0.4444444444444444,
              "#bd3786"
             ],
             [
              0.5555555555555556,
              "#d8576b"
             ],
             [
              0.6666666666666666,
              "#ed7953"
             ],
             [
              0.7777777777777778,
              "#fb9f3a"
             ],
             [
              0.8888888888888888,
              "#fdca26"
             ],
             [
              1,
              "#f0f921"
             ]
            ],
            "type": "contour"
           }
          ],
          "contourcarpet": [
           {
            "colorbar": {
             "outlinewidth": 0,
             "ticks": ""
            },
            "type": "contourcarpet"
           }
          ],
          "heatmap": [
           {
            "colorbar": {
             "outlinewidth": 0,
             "ticks": ""
            },
            "colorscale": [
             [
              0,
              "#0d0887"
             ],
             [
              0.1111111111111111,
              "#46039f"
             ],
             [
              0.2222222222222222,
              "#7201a8"
             ],
             [
              0.3333333333333333,
              "#9c179e"
             ],
             [
              0.4444444444444444,
              "#bd3786"
             ],
             [
              0.5555555555555556,
              "#d8576b"
             ],
             [
              0.6666666666666666,
              "#ed7953"
             ],
             [
              0.7777777777777778,
              "#fb9f3a"
             ],
             [
              0.8888888888888888,
              "#fdca26"
             ],
             [
              1,
              "#f0f921"
             ]
            ],
            "type": "heatmap"
           }
          ],
          "histogram": [
           {
            "marker": {
             "pattern": {
              "fillmode": "overlay",
              "size": 10,
              "solidity": 0.2
             }
            },
            "type": "histogram"
           }
          ],
          "histogram2d": [
           {
            "colorbar": {
             "outlinewidth": 0,
             "ticks": ""
            },
            "colorscale": [
             [
              0,
              "#0d0887"
             ],
             [
              0.1111111111111111,
              "#46039f"
             ],
             [
              0.2222222222222222,
              "#7201a8"
             ],
             [
              0.3333333333333333,
              "#9c179e"
             ],
             [
              0.4444444444444444,
              "#bd3786"
             ],
             [
              0.5555555555555556,
              "#d8576b"
             ],
             [
              0.6666666666666666,
              "#ed7953"
             ],
             [
              0.7777777777777778,
              "#fb9f3a"
             ],
             [
              0.8888888888888888,
              "#fdca26"
             ],
             [
              1,
              "#f0f921"
             ]
            ],
            "type": "histogram2d"
           }
          ],
          "histogram2dcontour": [
           {
            "colorbar": {
             "outlinewidth": 0,
             "ticks": ""
            },
            "colorscale": [
             [
              0,
              "#0d0887"
             ],
             [
              0.1111111111111111,
              "#46039f"
             ],
             [
              0.2222222222222222,
              "#7201a8"
             ],
             [
              0.3333333333333333,
              "#9c179e"
             ],
             [
              0.4444444444444444,
              "#bd3786"
             ],
             [
              0.5555555555555556,
              "#d8576b"
             ],
             [
              0.6666666666666666,
              "#ed7953"
             ],
             [
              0.7777777777777778,
              "#fb9f3a"
             ],
             [
              0.8888888888888888,
              "#fdca26"
             ],
             [
              1,
              "#f0f921"
             ]
            ],
            "type": "histogram2dcontour"
           }
          ],
          "mesh3d": [
           {
            "colorbar": {
             "outlinewidth": 0,
             "ticks": ""
            },
            "type": "mesh3d"
           }
          ],
          "parcoords": [
           {
            "line": {
             "colorbar": {
              "outlinewidth": 0,
              "ticks": ""
             }
            },
            "type": "parcoords"
           }
          ],
          "pie": [
           {
            "automargin": true,
            "type": "pie"
           }
          ],
          "scatter": [
           {
            "fillpattern": {
             "fillmode": "overlay",
             "size": 10,
             "solidity": 0.2
            },
            "type": "scatter"
           }
          ],
          "scatter3d": [
           {
            "line": {
             "colorbar": {
              "outlinewidth": 0,
              "ticks": ""
             }
            },
            "marker": {
             "colorbar": {
              "outlinewidth": 0,
              "ticks": ""
             }
            },
            "type": "scatter3d"
           }
          ],
          "scattercarpet": [
           {
            "marker": {
             "colorbar": {
              "outlinewidth": 0,
              "ticks": ""
             }
            },
            "type": "scattercarpet"
           }
          ],
          "scattergeo": [
           {
            "marker": {
             "colorbar": {
              "outlinewidth": 0,
              "ticks": ""
             }
            },
            "type": "scattergeo"
           }
          ],
          "scattergl": [
           {
            "marker": {
             "colorbar": {
              "outlinewidth": 0,
              "ticks": ""
             }
            },
            "type": "scattergl"
           }
          ],
          "scattermap": [
           {
            "marker": {
             "colorbar": {
              "outlinewidth": 0,
              "ticks": ""
             }
            },
            "type": "scattermap"
           }
          ],
          "scattermapbox": [
           {
            "marker": {
             "colorbar": {
              "outlinewidth": 0,
              "ticks": ""
             }
            },
            "type": "scattermapbox"
           }
          ],
          "scatterpolar": [
           {
            "marker": {
             "colorbar": {
              "outlinewidth": 0,
              "ticks": ""
             }
            },
            "type": "scatterpolar"
           }
          ],
          "scatterpolargl": [
           {
            "marker": {
             "colorbar": {
              "outlinewidth": 0,
              "ticks": ""
             }
            },
            "type": "scatterpolargl"
           }
          ],
          "scatterternary": [
           {
            "marker": {
             "colorbar": {
              "outlinewidth": 0,
              "ticks": ""
             }
            },
            "type": "scatterternary"
           }
          ],
          "surface": [
           {
            "colorbar": {
             "outlinewidth": 0,
             "ticks": ""
            },
            "colorscale": [
             [
              0,
              "#0d0887"
             ],
             [
              0.1111111111111111,
              "#46039f"
             ],
             [
              0.2222222222222222,
              "#7201a8"
             ],
             [
              0.3333333333333333,
              "#9c179e"
             ],
             [
              0.4444444444444444,
              "#bd3786"
             ],
             [
              0.5555555555555556,
              "#d8576b"
             ],
             [
              0.6666666666666666,
              "#ed7953"
             ],
             [
              0.7777777777777778,
              "#fb9f3a"
             ],
             [
              0.8888888888888888,
              "#fdca26"
             ],
             [
              1,
              "#f0f921"
             ]
            ],
            "type": "surface"
           }
          ],
          "table": [
           {
            "cells": {
             "fill": {
              "color": "#EBF0F8"
             },
             "line": {
              "color": "white"
             }
            },
            "header": {
             "fill": {
              "color": "#C8D4E3"
             },
             "line": {
              "color": "white"
             }
            },
            "type": "table"
           }
          ]
         },
         "layout": {
          "annotationdefaults": {
           "arrowcolor": "#2a3f5f",
           "arrowhead": 0,
           "arrowwidth": 1
          },
          "autotypenumbers": "strict",
          "coloraxis": {
           "colorbar": {
            "outlinewidth": 0,
            "ticks": ""
           }
          },
          "colorscale": {
           "diverging": [
            [
             0,
             "#8e0152"
            ],
            [
             0.1,
             "#c51b7d"
            ],
            [
             0.2,
             "#de77ae"
            ],
            [
             0.3,
             "#f1b6da"
            ],
            [
             0.4,
             "#fde0ef"
            ],
            [
             0.5,
             "#f7f7f7"
            ],
            [
             0.6,
             "#e6f5d0"
            ],
            [
             0.7,
             "#b8e186"
            ],
            [
             0.8,
             "#7fbc41"
            ],
            [
             0.9,
             "#4d9221"
            ],
            [
             1,
             "#276419"
            ]
           ],
           "sequential": [
            [
             0,
             "#0d0887"
            ],
            [
             0.1111111111111111,
             "#46039f"
            ],
            [
             0.2222222222222222,
             "#7201a8"
            ],
            [
             0.3333333333333333,
             "#9c179e"
            ],
            [
             0.4444444444444444,
             "#bd3786"
            ],
            [
             0.5555555555555556,
             "#d8576b"
            ],
            [
             0.6666666666666666,
             "#ed7953"
            ],
            [
             0.7777777777777778,
             "#fb9f3a"
            ],
            [
             0.8888888888888888,
             "#fdca26"
            ],
            [
             1,
             "#f0f921"
            ]
           ],
           "sequentialminus": [
            [
             0,
             "#0d0887"
            ],
            [
             0.1111111111111111,
             "#46039f"
            ],
            [
             0.2222222222222222,
             "#7201a8"
            ],
            [
             0.3333333333333333,
             "#9c179e"
            ],
            [
             0.4444444444444444,
             "#bd3786"
            ],
            [
             0.5555555555555556,
             "#d8576b"
            ],
            [
             0.6666666666666666,
             "#ed7953"
            ],
            [
             0.7777777777777778,
             "#fb9f3a"
            ],
            [
             0.8888888888888888,
             "#fdca26"
            ],
            [
             1,
             "#f0f921"
            ]
           ]
          },
          "colorway": [
           "#636efa",
           "#EF553B",
           "#00cc96",
           "#ab63fa",
           "#FFA15A",
           "#19d3f3",
           "#FF6692",
           "#B6E880",
           "#FF97FF",
           "#FECB52"
          ],
          "font": {
           "color": "#2a3f5f"
          },
          "geo": {
           "bgcolor": "white",
           "lakecolor": "white",
           "landcolor": "white",
           "showlakes": true,
           "showland": true,
           "subunitcolor": "#C8D4E3"
          },
          "hoverlabel": {
           "align": "left"
          },
          "hovermode": "closest",
          "mapbox": {
           "style": "light"
          },
          "paper_bgcolor": "white",
          "plot_bgcolor": "white",
          "polar": {
           "angularaxis": {
            "gridcolor": "#EBF0F8",
            "linecolor": "#EBF0F8",
            "ticks": ""
           },
           "bgcolor": "white",
           "radialaxis": {
            "gridcolor": "#EBF0F8",
            "linecolor": "#EBF0F8",
            "ticks": ""
           }
          },
          "scene": {
           "xaxis": {
            "backgroundcolor": "white",
            "gridcolor": "#DFE8F3",
            "gridwidth": 2,
            "linecolor": "#EBF0F8",
            "showbackground": true,
            "ticks": "",
            "zerolinecolor": "#EBF0F8"
           },
           "yaxis": {
            "backgroundcolor": "white",
            "gridcolor": "#DFE8F3",
            "gridwidth": 2,
            "linecolor": "#EBF0F8",
            "showbackground": true,
            "ticks": "",
            "zerolinecolor": "#EBF0F8"
           },
           "zaxis": {
            "backgroundcolor": "white",
            "gridcolor": "#DFE8F3",
            "gridwidth": 2,
            "linecolor": "#EBF0F8",
            "showbackground": true,
            "ticks": "",
            "zerolinecolor": "#EBF0F8"
           }
          },
          "shapedefaults": {
           "line": {
            "color": "#2a3f5f"
           }
          },
          "ternary": {
           "aaxis": {
            "gridcolor": "#DFE8F3",
            "linecolor": "#A2B1C6",
            "ticks": ""
           },
           "baxis": {
            "gridcolor": "#DFE8F3",
            "linecolor": "#A2B1C6",
            "ticks": ""
           },
           "bgcolor": "white",
           "caxis": {
            "gridcolor": "#DFE8F3",
            "linecolor": "#A2B1C6",
            "ticks": ""
           }
          },
          "title": {
           "x": 0.05
          },
          "xaxis": {
           "automargin": true,
           "gridcolor": "#EBF0F8",
           "linecolor": "#EBF0F8",
           "ticks": "",
           "title": {
            "standoff": 15
           },
           "zerolinecolor": "#EBF0F8",
           "zerolinewidth": 2
          },
          "yaxis": {
           "automargin": true,
           "gridcolor": "#EBF0F8",
           "linecolor": "#EBF0F8",
           "ticks": "",
           "title": {
            "standoff": 15
           },
           "zerolinecolor": "#EBF0F8",
           "zerolinewidth": 2
          }
         }
        },
        "title": {
         "text": "2023 Richest vs Poorest Countries"
        },
        "xaxis": {
         "anchor": "y",
         "domain": [
          0,
          0.45
         ],
         "title": {
          "text": "GDP Per Capita (USD)"
         }
        },
        "xaxis2": {
         "anchor": "y2",
         "domain": [
          0.55,
          1
         ],
         "title": {
          "text": "GDP Per Capita (USD)"
         }
        },
        "yaxis": {
         "anchor": "x",
         "domain": [
          0,
          1
         ]
        },
        "yaxis2": {
         "anchor": "x2",
         "domain": [
          0,
          1
         ]
        }
       }
      }
     },
     "metadata": {},
     "output_type": "display_data"
    },
    {
     "name": "stdout",
     "output_type": "stream",
     "text": [
      "🏆 TOP 10 RICHEST COUNTRIES (2023):\n",
      " 1. Luxembourg           $ 132,847\n",
      " 2. Singapore            $ 127,544\n",
      " 3. Qatar                $ 116,159\n",
      " 4. Ireland              $ 114,922\n",
      " 5. Macao                $ 104,962\n",
      " 6. Bermuda              $  98,042\n",
      " 7. Norway               $  90,470\n",
      " 8. Switzerland          $  82,558\n",
      " 9. Cayman Islands       $  78,109\n",
      "10. Brunei               $  76,828\n",
      "\n",
      "💔 TOP 10 POOREST COUNTRIES (2023):\n",
      " 1. Burundi              $     829\n",
      " 2. Central African Republic $   1,135\n",
      " 3. Somalia              $   1,402\n",
      " 4. Democratic Republic of Congo $   1,456\n",
      " 5. Mozambique           $   1,512\n",
      " 6. Liberia              $   1,617\n",
      " 7. Madagascar           $   1,643\n",
      " 8. Malawi               $   1,648\n",
      " 9. Chad                 $   1,679\n",
      "10. Niger                $   1,703\n",
      "\n",
      "📊 WEALTH INEQUALITY:\n",
      "🔺 Richest: Luxembourg ($132,847)\n",
      "🔻 Poorest: Burundi ($829)\n",
      "⚡ Ratio: 160.3x difference\n"
     ]
    }
   ],
   "source": [
    "# Filter 2023 data\n",
    "df_2023 = df[df['Year'] == 2023].copy()\n",
    "df_2023 = df_2023.dropna(subset=[gdp_column])\n",
    "\n",
    "# Richest and poorest 10 countries\n",
    "top_10 = df_2023.nlargest(10, gdp_column)\n",
    "bottom_10 = df_2023.nsmallest(10, gdp_column)\n",
    "\n",
    "# Create subplot\n",
    "fig = make_subplots(\n",
    "    rows=1, cols=2,\n",
    "    subplot_titles=('Top 10 Richest Countries', 'Top 10 Poorest Countries'),\n",
    "    horizontal_spacing=0.1\n",
    ")\n",
    "\n",
    "# Richest countries\n",
    "fig.add_trace(\n",
    "    go.Bar(\n",
    "        y=top_10['Entity'][::-1],  # Reverse order for better display\n",
    "        x=top_10[gdp_column][::-1],\n",
    "        orientation='h',\n",
    "        name='Richest',\n",
    "        marker_color='lightgreen',\n",
    "        text=[f'${x:,.0f}' for x in top_10[gdp_column][::-1]],\n",
    "        textposition='outside'\n",
    "    ),\n",
    "    row=1, col=1\n",
    ")\n",
    "\n",
    "# Poorest countries\n",
    "fig.add_trace(\n",
    "    go.Bar(\n",
    "        y=bottom_10['Entity'],\n",
    "        x=bottom_10[gdp_column],\n",
    "        orientation='h',\n",
    "        name='Poorest',\n",
    "        marker_color='lightcoral',\n",
    "        text=[f'${x:,.0f}' for x in bottom_10[gdp_column]],\n",
    "        textposition='outside'\n",
    "    ),\n",
    "    row=1, col=2\n",
    ")\n",
    "\n",
    "fig.update_layout(\n",
    "    title='2023 Richest vs Poorest Countries',\n",
    "    height=600,\n",
    "    showlegend=False\n",
    ")\n",
    "\n",
    "fig.update_xaxes(title_text=\"GDP Per Capita (USD)\", row=1, col=1)\n",
    "fig.update_xaxes(title_text=\"GDP Per Capita (USD)\", row=1, col=2)\n",
    "\n",
    "fig.show()\n",
    "\n",
    "# Display numerical analysis\n",
    "print(\"🏆 TOP 10 RICHEST COUNTRIES (2023):\")\n",
    "for i, (_, row) in enumerate(top_10.iterrows(), 1):\n",
    "    print(f\"{i:2}. {row['Entity']:20} ${row[gdp_column]:>8,.0f}\")\n",
    "\n",
    "print(\"\\n💔 TOP 10 POOREST COUNTRIES (2023):\")\n",
    "for i, (_, row) in enumerate(bottom_10.iterrows(), 1):\n",
    "    print(f\"{i:2}. {row['Entity']:20} ${row[gdp_column]:>8,.0f}\")\n",
    "\n",
    "# Wealth inequality analysis\n",
    "max_gdp = top_10[gdp_column].iloc[0]\n",
    "min_gdp = bottom_10[gdp_column].iloc[0]\n",
    "ratio = max_gdp / min_gdp\n",
    "\n",
    "print(f\"\\n📊 WEALTH INEQUALITY:\")\n",
    "print(f\"🔺 Richest: {top_10['Entity'].iloc[0]} (${max_gdp:,.0f})\")\n",
    "print(f\"🔻 Poorest: {bottom_10['Entity'].iloc[0]} (${min_gdp:,.0f})\")\n",
    "print(f\"⚡ Ratio: {ratio:.1f}x difference\")"
   ]
  },
  {
   "cell_type": "code",
   "execution_count": 42,
   "id": "9b5a9768",
   "metadata": {},
   "outputs": [
    {
     "data": {
      "application/vnd.plotly.v1+json": {
       "config": {
        "plotlyServerURL": "https://plot.ly"
       },
       "data": [
        {
         "line": {
          "color": "rgb(228,26,28)",
          "width": 2
         },
         "marker": {
          "size": 4
         },
         "mode": "lines+markers",
         "name": "Africa",
         "type": "scatter",
         "x": {
          "bdata": "xgfHB8gHyQfKB8sHzAfNB84HzwfQB9EH0gfTB9QH1QfWB9cH2AfZB9oH2wfcB90H3gffB+AH4QfiB+MH5AflB+YH5wc=",
          "dtype": "i2"
         },
         "xaxis": "x",
         "y": {
          "bdata": "xqnE06T3sUAHexNDyuKxQGzPLAlYmLFAbhea68hGsUA9fD5vDyexQDZc5J4CaLFAMNXMWkIFskBg92dQ4uOyQKh66HFyJrNAMwhij0NNs0AGaSFc0KqzQKaC5WPqPLRA82BBUCCVtEDctL7tIgq1QGOVd3o+/rVAbjSAt7DvtkCjXvBpksC3QAOhUKpYwLhAG+jrQ9RKuUD0G4HTTuq4QORO6WAdNrlAxr35DXsSuUAfL6TDe2m6QKztvCPBGrpAK5tH0zYqukCLYgZ3hAu6QD+2dBQnI7pAnyOgcNyTukAEj/vibtK6QJdTyFtE5LpArFHtsfLFuEB4zK9VUXq5QLLv+dCM27lAPQIj0/VPukA=",
          "dtype": "f8"
         },
         "yaxis": "y"
        },
        {
         "line": {
          "color": "rgb(55,126,184)",
          "width": 2
         },
         "marker": {
          "size": 4
         },
         "mode": "lines+markers",
         "name": "Asia",
         "type": "scatter",
         "x": {
          "bdata": "xgfHB8gHyQfKB8sHzAfNB84HzwfQB9EH0gfTB9QH1QfWB9cH2AfZB9oH2wfcB90H3gffB+AH4QfiB+MH5AflB+YH5wc=",
          "dtype": "i2"
         },
         "xaxis": "x",
         "y": {
          "bdata": "aIaRn35E0kB44uFn4OPRQKHQ7zw1ItJAppBoQ35g0kBjYd64PijSQM7oGAtNddJAalSGnnKz0kDQP29TR3LTQJWUlsDSJNNAPWsyiWc200B/LI9hbHPTQFQ294MyQdNA89qYFXJi00Ab1X/1iPHTQMv0lp4eBNVABzxc6U2E1UCk2LLHhGXWQItez23lmNZA53cEGFKU1kBGY6IV5vLVQLftMPrKE9dAkxfF6XoV2EAWHghSn03YQNHruS2/X9hAf2OwLXhd2ECq47q/J2/YQE1G4DtaodhAjHPzQvDW2EBvZdSoQ0/ZQNTtNwZYqNlAB3vIaLNa2ECpIejSicDZQGquXAXMWtpAHxCC7fql20A=",
          "dtype": "f8"
         },
         "yaxis": "y"
        },
        {
         "line": {
          "color": "rgb(77,175,74)",
          "width": 2
         },
         "marker": {
          "size": 4
         },
         "mode": "lines+markers",
         "name": "Europe",
         "type": "scatter",
         "x": {
          "bdata": "xgfHB8gHyQfKB8sHzAfNB84HzwfQB9EH0gfTB9QH1QfWB9cH2AfZB9oH2wfcB90H3gffB+AH4QfiB+MH5AflB+YH5wc=",
          "dtype": "i2"
         },
         "xaxis": "x",
         "y": {
          "bdata": "zU1wHYfr3UAnra8fmUvdQIcf6nTIktxAj/opNSJE3EA9UBgzEbrcQGZmZuZ79txA7d0fb2+s3UCsGENQiT3fQAEhFJgOMOBAC4Uf8Lm14EAw0d/JT3DhQFSK3FEQ6OFAtmqtARhB4kC9oAOO06TiQETvkQ5aR+NAHBQl94nW40AFyL3mVqXkQN6e42J8fuVAkmdaIUWQ5UDtw2fYRVTkQBKH196Fl+RAFeUTNADV5EBRQli3+K/kQEJczrxAyeRAb4hJjrsh5UAfvLekA7DlQCUGgZV2JOZA/4k5Mlu95kBPD6N40UjnQCa3KsqTwudAmCsB9CS05kB9fi/ZmV3oQOYH7y2pG+lAQGfJQFvo6EA=",
          "dtype": "f8"
         },
         "yaxis": "y"
        },
        {
         "line": {
          "color": "rgb(152,78,163)",
          "width": 2
         },
         "marker": {
          "size": 4
         },
         "mode": "lines+markers",
         "name": "North America",
         "type": "scatter",
         "x": {
          "bdata": "xgfHB8gHyQfKB8sHzAfNB84HzwfQB9EH0gfTB9QH1QfWB9cH2AfZB9oH2wfcB90H3gffB+AH4QfiB+MH5AflB+YH5wc=",
          "dtype": "i2"
         },
         "xaxis": "x",
         "y": {
          "bdata": "p47r/loIzEAzcWBG+tXLQOYdp+hERMxAHYSs5XS5zEAxRtkvQTvNQAz7HkCGgs1AkxH4DkYVzkAUkhfFIfnOQOzAOSN0A9BA7Civ4IaD0EAgHrUAkRTRQBv4u1iFD9FADMrKTgJH0UCvOghZ07DRQHqQCG5fLtJAsUJTDG/Y0kArQt1+hajTQLFegyimPdRAhhymqYx+1EB/XKTmGpzTQJdEytgSutNAa9ikr/3400BndH709lbUQGR5DGM4j9RASUMj97kR1UAZc9cSElLVQMciLksLitVAIl5g7OzI1UA6mdfG/jrWQLCwlaSkfNZAyfNXMpb500B+Mlw8YUzVQDxj9WZrlNZAIqqljcoe10A=",
          "dtype": "f8"
         },
         "yaxis": "y"
        },
        {
         "line": {
          "color": "rgb(255,127,0)",
          "width": 2
         },
         "marker": {
          "size": 4
         },
         "mode": "lines+markers",
         "name": "Oceania",
         "type": "scatter",
         "x": {
          "bdata": "xgfHB8gHyQfKB8sHzAfNB84HzwfQB9EH0gfTB9QH1QfWB9cH2AfZB9oH2wfcB90H3gffB+AH4QfiB+MH5AflB+YH5wc=",
          "dtype": "i2"
         },
         "xaxis": "x",
         "y": {
          "bdata": "7kMkFeVrxkCC4seYwyzFQLdTi0KQgsRAsiOP1aY1xEBcj8L1iMDEQOlfTChFJ8VAtP18FaZQxUAOHV55zDnFQBUdyeU/RsVAIculWh+FxUBE37r5kpPFQHGdl0Sz0cVA1NMBPthAxkA3xnFJeW/GQAlFxeeU4cZAuwzcGLdKx0Dg/1NOkq3HQIqZw8Ciz8dA1GyqyzDsx0DLaCqW4onHQPUvJpTSx8dAVLl+EtFsyECPEi9yuAfJQHmNroyLU8lAFujCjqEJykBijs3UVq/KQNX6c4uONstApMSLHMZby0CvjDv2hbDLQGLmMLDwMcxAYYKOeW5Ay0Dn+6nx4lnLQFaUzN8dHsxAPcCAS2WozUA=",
          "dtype": "f8"
         },
         "yaxis": "y"
        },
        {
         "line": {
          "color": "rgb(166,86,40)",
          "width": 2
         },
         "marker": {
          "size": 4
         },
         "mode": "lines+markers",
         "name": "South America",
         "type": "scatter",
         "x": {
          "bdata": "xgfHB8gHyQfKB8sHzAfNB84HzwfQB9EH0gfTB9QH1QfWB9cH2AfZB9oH2wfcB90H3gffB+AH4QfiB+MH5AflB+YH5wc=",
          "dtype": "i2"
         },
         "xaxis": "x",
         "y": {
          "bdata": "fwlT/ibmxEBnX1ofKoDFQPC86iAkGcZAURE9SMSWxkCEbrgloZXHQGpU/9XP28dApCT4aP9nyEAxp0Km7YLJQL3/RDlywMlA1sVtNMgLyUBmGiHFXgPJQEMqA3HHzchATGCSf6JeyEA9EePqBA3JQG3n+6mhUcpAzOe9fDZsy0BcqrOlwrfMQNcnFheMOM5ANFZvlkh0z0DZNm0RBEjPQHw36qpuktBACZErqjpe0UAvuuiiW8DRQERweze6WNJAEPfPPRCD0kDEO6Eian/SQEQqA3FXZdJAyn4JU/ao0kASwe3dpNDSQD1IBLfXydJAi6oUD9G90UCHMcp+qSTTQNV46Sb98tRAyXa+nzoc1kA=",
          "dtype": "f8"
         },
         "yaxis": "y"
        },
        {
         "marker": {
          "color": "lightblue"
         },
         "name": "2023 GDP",
         "orientation": "h",
         "text": [
          "$6,736",
          "$15,185",
          "$22,641",
          "$23,675",
          "$28,312",
          "$51,011"
         ],
         "textposition": "outside",
         "type": "bar",
         "x": {
          "bdata": "PQIj0/VPukA9wIBLZajNQMl2vp86HNZAIqqljcoe10AfEILt+qXbQEBnyUBb6OhA",
          "dtype": "f8"
         },
         "xaxis": "x2",
         "y": [
          "Africa",
          "Oceania",
          "South America",
          "North America",
          "Asia",
          "Europe"
         ],
         "yaxis": "y2"
        },
        {
         "marker": {
          "color": "lightgreen"
         },
         "name": "Country Count",
         "type": "bar",
         "x": [
          "Africa",
          "Asia",
          "Europe",
          "North America",
          "Oceania",
          "South America"
         ],
         "xaxis": "x3",
         "y": {
          "bdata": "MykpFgwL",
          "dtype": "i1"
         },
         "yaxis": "y3"
        },
        {
         "marker": {
          "color": "orange"
         },
         "name": "Growth %",
         "orientation": "h",
         "text": [
          "33.8%",
          "35.4%",
          "37.5%",
          "42.1%",
          "42.8%",
          "76.8%"
         ],
         "textposition": "outside",
         "type": "bar",
         "x": {
          "bdata": "S09zZdLkQEB2XYtrVK5BQMEqlskpukJAyfh/cIESRUAKgRPULmpFQDeYB/d/MlNA",
          "dtype": "f8"
         },
         "xaxis": "x4",
         "y": [
          "Africa",
          "North America",
          "Oceania",
          "Asia",
          "Europe",
          "South America"
         ],
         "yaxis": "y4"
        }
       ],
       "layout": {
        "annotations": [
         {
          "font": {
           "size": 16
          },
          "showarrow": false,
          "text": "Average GDP by Continent Over Time",
          "x": 0.225,
          "xanchor": "center",
          "xref": "paper",
          "y": 1,
          "yanchor": "bottom",
          "yref": "paper"
         },
         {
          "font": {
           "size": 16
          },
          "showarrow": false,
          "text": "GDP Distribution by Continent (2023)",
          "x": 0.775,
          "xanchor": "center",
          "xref": "paper",
          "y": 1,
          "yanchor": "bottom",
          "yref": "paper"
         },
         {
          "font": {
           "size": 16
          },
          "showarrow": false,
          "text": "Number of Countries per Continent",
          "x": 0.225,
          "xanchor": "center",
          "xref": "paper",
          "y": 0.375,
          "yanchor": "bottom",
          "yref": "paper"
         },
         {
          "font": {
           "size": 16
          },
          "showarrow": false,
          "text": "Continent GDP Growth Comparison",
          "x": 0.775,
          "xanchor": "center",
          "xref": "paper",
          "y": 0.375,
          "yanchor": "bottom",
          "yref": "paper"
         }
        ],
        "height": 800,
        "showlegend": true,
        "template": {
         "data": {
          "bar": [
           {
            "error_x": {
             "color": "#2a3f5f"
            },
            "error_y": {
             "color": "#2a3f5f"
            },
            "marker": {
             "line": {
              "color": "white",
              "width": 0.5
             },
             "pattern": {
              "fillmode": "overlay",
              "size": 10,
              "solidity": 0.2
             }
            },
            "type": "bar"
           }
          ],
          "barpolar": [
           {
            "marker": {
             "line": {
              "color": "white",
              "width": 0.5
             },
             "pattern": {
              "fillmode": "overlay",
              "size": 10,
              "solidity": 0.2
             }
            },
            "type": "barpolar"
           }
          ],
          "carpet": [
           {
            "aaxis": {
             "endlinecolor": "#2a3f5f",
             "gridcolor": "#C8D4E3",
             "linecolor": "#C8D4E3",
             "minorgridcolor": "#C8D4E3",
             "startlinecolor": "#2a3f5f"
            },
            "baxis": {
             "endlinecolor": "#2a3f5f",
             "gridcolor": "#C8D4E3",
             "linecolor": "#C8D4E3",
             "minorgridcolor": "#C8D4E3",
             "startlinecolor": "#2a3f5f"
            },
            "type": "carpet"
           }
          ],
          "choropleth": [
           {
            "colorbar": {
             "outlinewidth": 0,
             "ticks": ""
            },
            "type": "choropleth"
           }
          ],
          "contour": [
           {
            "colorbar": {
             "outlinewidth": 0,
             "ticks": ""
            },
            "colorscale": [
             [
              0,
              "#0d0887"
             ],
             [
              0.1111111111111111,
              "#46039f"
             ],
             [
              0.2222222222222222,
              "#7201a8"
             ],
             [
              0.3333333333333333,
              "#9c179e"
             ],
             [
              0.4444444444444444,
              "#bd3786"
             ],
             [
              0.5555555555555556,
              "#d8576b"
             ],
             [
              0.6666666666666666,
              "#ed7953"
             ],
             [
              0.7777777777777778,
              "#fb9f3a"
             ],
             [
              0.8888888888888888,
              "#fdca26"
             ],
             [
              1,
              "#f0f921"
             ]
            ],
            "type": "contour"
           }
          ],
          "contourcarpet": [
           {
            "colorbar": {
             "outlinewidth": 0,
             "ticks": ""
            },
            "type": "contourcarpet"
           }
          ],
          "heatmap": [
           {
            "colorbar": {
             "outlinewidth": 0,
             "ticks": ""
            },
            "colorscale": [
             [
              0,
              "#0d0887"
             ],
             [
              0.1111111111111111,
              "#46039f"
             ],
             [
              0.2222222222222222,
              "#7201a8"
             ],
             [
              0.3333333333333333,
              "#9c179e"
             ],
             [
              0.4444444444444444,
              "#bd3786"
             ],
             [
              0.5555555555555556,
              "#d8576b"
             ],
             [
              0.6666666666666666,
              "#ed7953"
             ],
             [
              0.7777777777777778,
              "#fb9f3a"
             ],
             [
              0.8888888888888888,
              "#fdca26"
             ],
             [
              1,
              "#f0f921"
             ]
            ],
            "type": "heatmap"
           }
          ],
          "histogram": [
           {
            "marker": {
             "pattern": {
              "fillmode": "overlay",
              "size": 10,
              "solidity": 0.2
             }
            },
            "type": "histogram"
           }
          ],
          "histogram2d": [
           {
            "colorbar": {
             "outlinewidth": 0,
             "ticks": ""
            },
            "colorscale": [
             [
              0,
              "#0d0887"
             ],
             [
              0.1111111111111111,
              "#46039f"
             ],
             [
              0.2222222222222222,
              "#7201a8"
             ],
             [
              0.3333333333333333,
              "#9c179e"
             ],
             [
              0.4444444444444444,
              "#bd3786"
             ],
             [
              0.5555555555555556,
              "#d8576b"
             ],
             [
              0.6666666666666666,
              "#ed7953"
             ],
             [
              0.7777777777777778,
              "#fb9f3a"
             ],
             [
              0.8888888888888888,
              "#fdca26"
             ],
             [
              1,
              "#f0f921"
             ]
            ],
            "type": "histogram2d"
           }
          ],
          "histogram2dcontour": [
           {
            "colorbar": {
             "outlinewidth": 0,
             "ticks": ""
            },
            "colorscale": [
             [
              0,
              "#0d0887"
             ],
             [
              0.1111111111111111,
              "#46039f"
             ],
             [
              0.2222222222222222,
              "#7201a8"
             ],
             [
              0.3333333333333333,
              "#9c179e"
             ],
             [
              0.4444444444444444,
              "#bd3786"
             ],
             [
              0.5555555555555556,
              "#d8576b"
             ],
             [
              0.6666666666666666,
              "#ed7953"
             ],
             [
              0.7777777777777778,
              "#fb9f3a"
             ],
             [
              0.8888888888888888,
              "#fdca26"
             ],
             [
              1,
              "#f0f921"
             ]
            ],
            "type": "histogram2dcontour"
           }
          ],
          "mesh3d": [
           {
            "colorbar": {
             "outlinewidth": 0,
             "ticks": ""
            },
            "type": "mesh3d"
           }
          ],
          "parcoords": [
           {
            "line": {
             "colorbar": {
              "outlinewidth": 0,
              "ticks": ""
             }
            },
            "type": "parcoords"
           }
          ],
          "pie": [
           {
            "automargin": true,
            "type": "pie"
           }
          ],
          "scatter": [
           {
            "fillpattern": {
             "fillmode": "overlay",
             "size": 10,
             "solidity": 0.2
            },
            "type": "scatter"
           }
          ],
          "scatter3d": [
           {
            "line": {
             "colorbar": {
              "outlinewidth": 0,
              "ticks": ""
             }
            },
            "marker": {
             "colorbar": {
              "outlinewidth": 0,
              "ticks": ""
             }
            },
            "type": "scatter3d"
           }
          ],
          "scattercarpet": [
           {
            "marker": {
             "colorbar": {
              "outlinewidth": 0,
              "ticks": ""
             }
            },
            "type": "scattercarpet"
           }
          ],
          "scattergeo": [
           {
            "marker": {
             "colorbar": {
              "outlinewidth": 0,
              "ticks": ""
             }
            },
            "type": "scattergeo"
           }
          ],
          "scattergl": [
           {
            "marker": {
             "colorbar": {
              "outlinewidth": 0,
              "ticks": ""
             }
            },
            "type": "scattergl"
           }
          ],
          "scattermap": [
           {
            "marker": {
             "colorbar": {
              "outlinewidth": 0,
              "ticks": ""
             }
            },
            "type": "scattermap"
           }
          ],
          "scattermapbox": [
           {
            "marker": {
             "colorbar": {
              "outlinewidth": 0,
              "ticks": ""
             }
            },
            "type": "scattermapbox"
           }
          ],
          "scatterpolar": [
           {
            "marker": {
             "colorbar": {
              "outlinewidth": 0,
              "ticks": ""
             }
            },
            "type": "scatterpolar"
           }
          ],
          "scatterpolargl": [
           {
            "marker": {
             "colorbar": {
              "outlinewidth": 0,
              "ticks": ""
             }
            },
            "type": "scatterpolargl"
           }
          ],
          "scatterternary": [
           {
            "marker": {
             "colorbar": {
              "outlinewidth": 0,
              "ticks": ""
             }
            },
            "type": "scatterternary"
           }
          ],
          "surface": [
           {
            "colorbar": {
             "outlinewidth": 0,
             "ticks": ""
            },
            "colorscale": [
             [
              0,
              "#0d0887"
             ],
             [
              0.1111111111111111,
              "#46039f"
             ],
             [
              0.2222222222222222,
              "#7201a8"
             ],
             [
              0.3333333333333333,
              "#9c179e"
             ],
             [
              0.4444444444444444,
              "#bd3786"
             ],
             [
              0.5555555555555556,
              "#d8576b"
             ],
             [
              0.6666666666666666,
              "#ed7953"
             ],
             [
              0.7777777777777778,
              "#fb9f3a"
             ],
             [
              0.8888888888888888,
              "#fdca26"
             ],
             [
              1,
              "#f0f921"
             ]
            ],
            "type": "surface"
           }
          ],
          "table": [
           {
            "cells": {
             "fill": {
              "color": "#EBF0F8"
             },
             "line": {
              "color": "white"
             }
            },
            "header": {
             "fill": {
              "color": "#C8D4E3"
             },
             "line": {
              "color": "white"
             }
            },
            "type": "table"
           }
          ]
         },
         "layout": {
          "annotationdefaults": {
           "arrowcolor": "#2a3f5f",
           "arrowhead": 0,
           "arrowwidth": 1
          },
          "autotypenumbers": "strict",
          "coloraxis": {
           "colorbar": {
            "outlinewidth": 0,
            "ticks": ""
           }
          },
          "colorscale": {
           "diverging": [
            [
             0,
             "#8e0152"
            ],
            [
             0.1,
             "#c51b7d"
            ],
            [
             0.2,
             "#de77ae"
            ],
            [
             0.3,
             "#f1b6da"
            ],
            [
             0.4,
             "#fde0ef"
            ],
            [
             0.5,
             "#f7f7f7"
            ],
            [
             0.6,
             "#e6f5d0"
            ],
            [
             0.7,
             "#b8e186"
            ],
            [
             0.8,
             "#7fbc41"
            ],
            [
             0.9,
             "#4d9221"
            ],
            [
             1,
             "#276419"
            ]
           ],
           "sequential": [
            [
             0,
             "#0d0887"
            ],
            [
             0.1111111111111111,
             "#46039f"
            ],
            [
             0.2222222222222222,
             "#7201a8"
            ],
            [
             0.3333333333333333,
             "#9c179e"
            ],
            [
             0.4444444444444444,
             "#bd3786"
            ],
            [
             0.5555555555555556,
             "#d8576b"
            ],
            [
             0.6666666666666666,
             "#ed7953"
            ],
            [
             0.7777777777777778,
             "#fb9f3a"
            ],
            [
             0.8888888888888888,
             "#fdca26"
            ],
            [
             1,
             "#f0f921"
            ]
           ],
           "sequentialminus": [
            [
             0,
             "#0d0887"
            ],
            [
             0.1111111111111111,
             "#46039f"
            ],
            [
             0.2222222222222222,
             "#7201a8"
            ],
            [
             0.3333333333333333,
             "#9c179e"
            ],
            [
             0.4444444444444444,
             "#bd3786"
            ],
            [
             0.5555555555555556,
             "#d8576b"
            ],
            [
             0.6666666666666666,
             "#ed7953"
            ],
            [
             0.7777777777777778,
             "#fb9f3a"
            ],
            [
             0.8888888888888888,
             "#fdca26"
            ],
            [
             1,
             "#f0f921"
            ]
           ]
          },
          "colorway": [
           "#636efa",
           "#EF553B",
           "#00cc96",
           "#ab63fa",
           "#FFA15A",
           "#19d3f3",
           "#FF6692",
           "#B6E880",
           "#FF97FF",
           "#FECB52"
          ],
          "font": {
           "color": "#2a3f5f"
          },
          "geo": {
           "bgcolor": "white",
           "lakecolor": "white",
           "landcolor": "white",
           "showlakes": true,
           "showland": true,
           "subunitcolor": "#C8D4E3"
          },
          "hoverlabel": {
           "align": "left"
          },
          "hovermode": "closest",
          "mapbox": {
           "style": "light"
          },
          "paper_bgcolor": "white",
          "plot_bgcolor": "white",
          "polar": {
           "angularaxis": {
            "gridcolor": "#EBF0F8",
            "linecolor": "#EBF0F8",
            "ticks": ""
           },
           "bgcolor": "white",
           "radialaxis": {
            "gridcolor": "#EBF0F8",
            "linecolor": "#EBF0F8",
            "ticks": ""
           }
          },
          "scene": {
           "xaxis": {
            "backgroundcolor": "white",
            "gridcolor": "#DFE8F3",
            "gridwidth": 2,
            "linecolor": "#EBF0F8",
            "showbackground": true,
            "ticks": "",
            "zerolinecolor": "#EBF0F8"
           },
           "yaxis": {
            "backgroundcolor": "white",
            "gridcolor": "#DFE8F3",
            "gridwidth": 2,
            "linecolor": "#EBF0F8",
            "showbackground": true,
            "ticks": "",
            "zerolinecolor": "#EBF0F8"
           },
           "zaxis": {
            "backgroundcolor": "white",
            "gridcolor": "#DFE8F3",
            "gridwidth": 2,
            "linecolor": "#EBF0F8",
            "showbackground": true,
            "ticks": "",
            "zerolinecolor": "#EBF0F8"
           }
          },
          "shapedefaults": {
           "line": {
            "color": "#2a3f5f"
           }
          },
          "ternary": {
           "aaxis": {
            "gridcolor": "#DFE8F3",
            "linecolor": "#A2B1C6",
            "ticks": ""
           },
           "baxis": {
            "gridcolor": "#DFE8F3",
            "linecolor": "#A2B1C6",
            "ticks": ""
           },
           "bgcolor": "white",
           "caxis": {
            "gridcolor": "#DFE8F3",
            "linecolor": "#A2B1C6",
            "ticks": ""
           }
          },
          "title": {
           "x": 0.05
          },
          "xaxis": {
           "automargin": true,
           "gridcolor": "#EBF0F8",
           "linecolor": "#EBF0F8",
           "ticks": "",
           "title": {
            "standoff": 15
           },
           "zerolinecolor": "#EBF0F8",
           "zerolinewidth": 2
          },
          "yaxis": {
           "automargin": true,
           "gridcolor": "#EBF0F8",
           "linecolor": "#EBF0F8",
           "ticks": "",
           "title": {
            "standoff": 15
           },
           "zerolinecolor": "#EBF0F8",
           "zerolinewidth": 2
          }
         }
        },
        "title": {
         "text": "🌍 Continental Economic Analysis Overview"
        },
        "xaxis": {
         "anchor": "y",
         "domain": [
          0,
          0.45
         ],
         "title": {
          "text": "Year"
         }
        },
        "xaxis2": {
         "anchor": "y2",
         "domain": [
          0.55,
          1
         ],
         "title": {
          "text": "Average GDP Per Capita (USD)"
         }
        },
        "xaxis3": {
         "anchor": "y3",
         "domain": [
          0,
          0.45
         ],
         "title": {
          "text": "Continent"
         }
        },
        "xaxis4": {
         "anchor": "y4",
         "domain": [
          0.55,
          1
         ],
         "title": {
          "text": "Growth Rate (%)"
         }
        },
        "yaxis": {
         "anchor": "x",
         "domain": [
          0.625,
          1
         ],
         "title": {
          "text": "Average GDP Per Capita (USD)"
         }
        },
        "yaxis2": {
         "anchor": "x2",
         "domain": [
          0.625,
          1
         ]
        },
        "yaxis3": {
         "anchor": "x3",
         "domain": [
          0,
          0.375
         ],
         "title": {
          "text": "Number of Countries"
         }
        },
        "yaxis4": {
         "anchor": "x4",
         "domain": [
          0,
          0.375
         ]
        }
       }
      }
     },
     "metadata": {},
     "output_type": "display_data"
    },
    {
     "name": "stdout",
     "output_type": "stream",
     "text": [
      "✅ Continental comparison analysis completed successfully!\n"
     ]
    }
   ],
   "source": [
    "# Continental comparison analysis\n",
    "# Calculate continent trends\n",
    "continent_trends = df.groupby(['Continent', 'Year'])[gdp_column].agg(['mean', 'median', 'count']).reset_index()\n",
    "continent_trends.columns = ['Continent', 'Year', 'avg_gdp', 'median_gdp', 'country_count']\n",
    "\n",
    "# Create continent comparison visualization\n",
    "fig = make_subplots(\n",
    "    rows=2, cols=2,\n",
    "    subplot_titles=('Average GDP by Continent Over Time', 'GDP Distribution by Continent (2023)', \n",
    "                   'Number of Countries per Continent', 'Continent GDP Growth Comparison'),\n",
    "    specs=[[{\"secondary_y\": False}, {\"secondary_y\": False}],\n",
    "           [{\"secondary_y\": False}, {\"secondary_y\": False}]]\n",
    ")\n",
    "\n",
    "# Plot 1: GDP trends over time\n",
    "continents = continent_trends['Continent'].unique()\n",
    "colors = px.colors.qualitative.Set1\n",
    "\n",
    "for i, continent in enumerate(continents):\n",
    "    if continent != 'Other':  # Skip 'Other' category\n",
    "        cont_data = continent_trends[continent_trends['Continent'] == continent]\n",
    "        fig.add_trace(\n",
    "            go.Scatter(\n",
    "                x=cont_data['Year'],\n",
    "                y=cont_data['avg_gdp'],\n",
    "                mode='lines+markers',\n",
    "                name=f'{continent}',\n",
    "                line=dict(color=colors[i % len(colors)], width=2),\n",
    "                marker=dict(size=4)\n",
    "            ),\n",
    "            row=1, col=1\n",
    "        )\n",
    "\n",
    "# Plot 2: 2023 GDP distribution\n",
    "latest_year = df['Year'].max()\n",
    "continent_2023 = continent_trends[continent_trends['Year'] == latest_year]\n",
    "continent_2023 = continent_2023[continent_2023['Continent'] != 'Other'].sort_values('avg_gdp', ascending=True)\n",
    "\n",
    "fig.add_trace(\n",
    "    go.Bar(\n",
    "        y=continent_2023['Continent'],\n",
    "        x=continent_2023['avg_gdp'],\n",
    "        orientation='h',\n",
    "        name='2023 GDP',\n",
    "        marker_color='lightblue',\n",
    "        text=[f'${x:,.0f}' for x in continent_2023['avg_gdp']],\n",
    "        textposition='outside'\n",
    "    ),\n",
    "    row=1, col=2\n",
    ")\n",
    "\n",
    "# Plot 3: Country count by continent\n",
    "continent_counts = df[df['Year'] == latest_year]['Continent'].value_counts()\n",
    "continent_counts = continent_counts[continent_counts.index != 'Other']\n",
    "\n",
    "fig.add_trace(\n",
    "    go.Bar(\n",
    "        x=continent_counts.index,\n",
    "        y=continent_counts.values,\n",
    "        name='Country Count',\n",
    "        marker_color='lightgreen'\n",
    "    ),\n",
    "    row=2, col=1\n",
    ")\n",
    "\n",
    "# Plot 4: Growth comparison (2000 vs 2023)\n",
    "growth_data = []\n",
    "for continent in continents:\n",
    "    if continent != 'Other':\n",
    "        cont_data = continent_trends[continent_trends['Continent'] == continent]\n",
    "        if len(cont_data) > 0:\n",
    "            start_gdp = cont_data[cont_data['Year'] == 2000]['avg_gdp'].iloc[0] if len(cont_data[cont_data['Year'] == 2000]) > 0 else cont_data['avg_gdp'].iloc[0]\n",
    "            end_gdp = cont_data[cont_data['Year'] == latest_year]['avg_gdp'].iloc[0] if len(cont_data[cont_data['Year'] == latest_year]) > 0 else cont_data['avg_gdp'].iloc[-1]\n",
    "            growth_pct = ((end_gdp - start_gdp) / start_gdp) * 100\n",
    "            growth_data.append({'Continent': continent, 'Growth': growth_pct})\n",
    "\n",
    "growth_df = pd.DataFrame(growth_data).sort_values('Growth', ascending=True)\n",
    "\n",
    "fig.add_trace(\n",
    "    go.Bar(\n",
    "        y=growth_df['Continent'],\n",
    "        x=growth_df['Growth'],\n",
    "        orientation='h',\n",
    "        name='Growth %',\n",
    "        marker_color='orange',\n",
    "        text=[f'{x:.1f}%' for x in growth_df['Growth']],\n",
    "        textposition='outside'\n",
    "    ),\n",
    "    row=2, col=2\n",
    ")\n",
    "\n",
    "fig.update_layout(\n",
    "    title='🌍 Continental Economic Analysis Overview',\n",
    "    height=800,\n",
    "    showlegend=True\n",
    ")\n",
    "\n",
    "fig.update_xaxes(title_text=\"Year\", row=1, col=1)\n",
    "fig.update_yaxes(title_text=\"Average GDP Per Capita (USD)\", row=1, col=1)\n",
    "fig.update_xaxes(title_text=\"Average GDP Per Capita (USD)\", row=1, col=2)\n",
    "fig.update_xaxes(title_text=\"Continent\", row=2, col=1)\n",
    "fig.update_yaxes(title_text=\"Number of Countries\", row=2, col=1)\n",
    "fig.update_xaxes(title_text=\"Growth Rate (%)\", row=2, col=2)\n",
    "\n",
    "fig.show()\n",
    "\n",
    "print(\"✅ Continental comparison analysis completed successfully!\")"
   ]
  },
  {
   "cell_type": "code",
   "execution_count": 43,
   "id": "4226a068",
   "metadata": {},
   "outputs": [
    {
     "data": {
      "image/png": "[encoded data removed]",
      "text/plain": [
       "<Figure size 1000x600 with 1 Axes>"
      ]
     },
     "metadata": {},
     "output_type": "display_data"
    },
    {
     "name": "stdout",
     "output_type": "stream",
     "text": [
      "📊 2023 Continental Ranking:\n",
      "1. Africa: $6,736\n",
      "2. Oceania: $15,185\n",
      "3. South America: $22,641\n",
      "4. North America: $23,675\n",
      "5. Asia: $28,312\n",
      "6. Europe: $51,011\n"
     ]
    }
   ],
   "source": [
    "# 2023 continental comparison\n",
    "latest_year = df['Year'].max()\n",
    "continent_2023 = continent_trends[continent_trends['Year'] == latest_year].sort_values('avg_gdp', ascending=True)\n",
    "# Filter out 'Other' category for cleaner visualization\n",
    "continent_2023 = continent_2023[continent_2023['Continent'] != 'Other']\n",
    "\n",
    "plt.figure(figsize=(10, 6))\n",
    "bars = plt.barh(continent_2023['Continent'], continent_2023['avg_gdp'], \n",
    "                color=plt.cm.viridis(np.linspace(0, 1, len(continent_2023))))\n",
    "\n",
    "plt.title(f'🌍 GDP Per Capita by Continent ({latest_year})', fontsize=14, fontweight='bold')\n",
    "plt.xlabel('Average GDP Per Capita (USD)')\n",
    "\n",
    "# Add value labels\n",
    "for i, (idx, row) in enumerate(continent_2023.iterrows()):\n",
    "    plt.text(row['avg_gdp'] + 500, i, f'${row[\"avg_gdp\"]:,.0f}', \n",
    "             va='center', fontweight='bold')\n",
    "\n",
    "plt.grid(True, alpha=0.3)\n",
    "plt.tight_layout()\n",
    "plt.savefig('../outputs/plots/continent_2023.png', dpi=300, bbox_inches='tight')\n",
    "plt.show()\n",
    "\n",
    "print(f\"📊 {latest_year} Continental Ranking:\")\n",
    "for i, (idx, row) in enumerate(continent_2023.iterrows(), 1):\n",
    "    print(f\"{i}. {row['Continent']}: ${row['avg_gdp']:,.0f}\")"
   ]
  },
  {
   "cell_type": "markdown",
   "id": "05e29409",
   "metadata": {},
   "source": [
    "## 🏆 3. En Zengin vs En Fakir Ülkeler"
   ]
  },
  {
   "cell_type": "code",
   "execution_count": 59,
   "id": "62792840",
   "metadata": {},
   "outputs": [
    {
     "name": "stdout",
     "output_type": "stream",
     "text": [
      "✅ Top and bottom countries analysis completed above\n"
     ]
    }
   ],
   "source": [
    "# This analysis was completed in the previous richest vs poorest countries section\n",
    "print(\"✅ Top and bottom countries analysis completed above\")"
   ]
  },
  {
   "cell_type": "code",
   "execution_count": 44,
   "id": "e96ebb29",
   "metadata": {},
   "outputs": [
    {
     "name": "stdout",
     "output_type": "stream",
     "text": [
      "🏆 TOP 5 RICHEST COUNTRIES (2023):\n",
      "1. Luxembourg: $132,847 (Europe)\n",
      "2. Singapore: $127,544 (Asia)\n",
      "3. Qatar: $116,159 (Asia)\n",
      "4. Ireland: $114,922 (Europe)\n",
      "5. Macao: $104,962 (Other)\n",
      "\n",
      "📉 TOP 5 POOREST COUNTRIES (2023):\n",
      "1. Burundi: $829 (Africa)\n",
      "2. Central African Republic: $1,135 (Africa)\n",
      "3. Somalia: $1,402 (Africa)\n",
      "4. Democratic Republic of Congo: $1,456 (Africa)\n",
      "5. Mozambique: $1,512 (Africa)\n",
      "\n",
      "💰 WEALTH GAP: The richest country is 160.3x wealthier than the poorest!\n"
     ]
    }
   ],
   "source": [
    "# Detailed statistics for richest and poorest countries\n",
    "latest_year = df['Year'].max()\n",
    "year_data = df[df['Year'] == latest_year]\n",
    "\n",
    "top_5 = year_data.nlargest(5, gdp_column)\n",
    "bottom_5 = year_data.nsmallest(5, gdp_column)\n",
    "\n",
    "print(f\"🏆 TOP 5 RICHEST COUNTRIES ({latest_year}):\")\n",
    "for i, (idx, row) in enumerate(top_5.iterrows(), 1):\n",
    "    print(f\"{i}. {row['Entity']}: ${row[gdp_column]:,.0f} ({row['Continent']})\")\n",
    "\n",
    "print(f\"\\n📉 TOP 5 POOREST COUNTRIES ({latest_year}):\")\n",
    "for i, (idx, row) in enumerate(bottom_5.iterrows(), 1):\n",
    "    print(f\"{i}. {row['Entity']}: ${row[gdp_column]:,.0f} ({row['Continent']})\")\n",
    "\n",
    "wealth_gap = top_5.iloc[0][gdp_column] / bottom_5.iloc[0][gdp_column]\n",
    "print(f\"\\n💰 WEALTH GAP: The richest country is {wealth_gap:.1f}x wealthier than the poorest!\")"
   ]
  },
  {
   "cell_type": "markdown",
   "id": "3b8a20ea",
   "metadata": {},
   "source": [
    "## 🗺️ 4. World Map - GDP Distribution"
   ]
  },
  {
   "cell_type": "code",
   "execution_count": 60,
   "id": "22110ecf",
   "metadata": {},
   "outputs": [
    {
     "name": "stdout",
     "output_type": "stream",
     "text": [
      "🗺️ Preparing world map visualization...\n"
     ]
    }
   ],
   "source": [
    "# Interactive world map visualization will be created in the next cell\n",
    "print(\"🗺️ Preparing world map visualization...\")"
   ]
  },
  {
   "cell_type": "markdown",
   "id": "422085b6",
   "metadata": {},
   "source": [
    "## 📉 5. Economic Crisis Impact Analysis"
   ]
  },
  {
   "cell_type": "code",
   "execution_count": 45,
   "id": "1415fa8d",
   "metadata": {},
   "outputs": [
    {
     "data": {
      "application/vnd.plotly.v1+json": {
       "config": {
        "plotlyServerURL": "https://plot.ly"
       },
       "data": [
        {
         "coloraxis": "coloraxis",
         "customdata": [
          [
           "AFG",
           1992.4244,
           "Asia"
          ],
          [
           "ALB",
           18244.293,
           "Europe"
          ],
          [
           "DZA",
           15159.324,
           "Africa"
          ],
          [
           "AND",
           64631.297,
           "Europe"
          ],
          [
           "AGO",
           7244.893,
           "Africa"
          ],
          [
           "ATG",
           28967.256,
           "North America"
          ],
          [
           "ARG",
           27104.98,
           "South America"
          ],
          [
           "ARM",
           19230.19,
           "Asia"
          ],
          [
           "ABW",
           40516.81,
           "Other"
          ],
          [
           "AUS",
           59552.88,
           "Oceania"
          ],
          [
           "AUT",
           65015.133,
           "Europe"
          ],
          [
           "AZE",
           21262.299,
           "Asia"
          ],
          [
           "BHS",
           33105.605,
           "North America"
          ],
          [
           "BHR",
           57213.09,
           "Asia"
          ],
          [
           "BGD",
           8242.398,
           "Asia"
          ],
          [
           "BRB",
           19224.463,
           "North America"
          ],
          [
           "BLR",
           27718.322,
           "Europe"
          ],
          [
           "BEL",
           64185.848,
           "Europe"
          ],
          [
           "BLZ",
           12455.296,
           "North America"
          ],
          [
           "BEN",
           3721.2246,
           "Africa"
          ],
          [
           "BMU",
           98041.69,
           "Other"
          ],
          [
           "BOL",
           9843.97,
           "South America"
          ],
          [
           "BIH",
           20126.38,
           "Europe"
          ],
          [
           "BWA",
           18846.25,
           "Africa"
          ],
          [
           "BRA",
           19018.238,
           "South America"
          ],
          [
           "BRN",
           76828.4,
           "Asia"
          ],
          [
           "BGR",
           33403.375,
           "Europe"
          ],
          [
           "BFA",
           2482.0723,
           "Africa"
          ],
          [
           "BDI",
           828.8611,
           "Africa"
          ],
          [
           "KHM",
           6690.5894,
           "Asia"
          ],
          [
           "CMR",
           4870.571,
           "Africa"
          ],
          [
           "CAN",
           55918.93,
           "North America"
          ],
          [
           "CPV",
           9288.402,
           "Africa"
          ],
          [
           "CYM",
           78109.35,
           "Other"
          ],
          [
           "CAF",
           1135.1362,
           "Africa"
          ],
          [
           "TCD",
           1679.4615,
           "Africa"
          ],
          [
           "CHL",
           29462.64,
           "South America"
          ],
          [
           "CHN",
           22137.6,
           "Asia"
          ],
          [
           "COL",
           18692.385,
           "South America"
          ],
          [
           "COM",
           3498.8032,
           "Africa"
          ],
          [
           "COG",
           6172.2876,
           "Africa"
          ],
          [
           "CRI",
           26292.771,
           "North America"
          ],
          [
           "CIV",
           6485.316,
           "Other"
          ],
          [
           "HRV",
           41116.87,
           "Europe"
          ],
          [
           "CUW",
           28886.688,
           "Other"
          ],
          [
           "CYP",
           53420.684,
           "Europe"
          ],
          [
           "CZE",
           49681.06,
           "Europe"
          ],
          [
           "COD",
           1455.8356,
           "Africa"
          ],
          [
           "DNK",
           72097.305,
           "Europe"
          ],
          [
           "DJI",
           6400.62,
           "Africa"
          ],
          [
           "DMA",
           17420.252,
           "North America"
          ],
          [
           "DOM",
           23087.934,
           "North America"
          ],
          [
           null,
           22687.838,
           "Other"
          ],
          [
           "TLS",
           4328.508,
           "Other"
          ],
          [
           "ECU",
           14472.316,
           "South America"
          ],
          [
           "EGY",
           16691.133,
           "Africa"
          ],
          [
           "SLV",
           11404.334,
           "North America"
          ],
          [
           "GNQ",
           15688.238,
           "Africa"
          ],
          [
           "EST",
           42471.824,
           "Europe"
          ],
          [
           "SWZ",
           10132.1875,
           "Africa"
          ],
          [
           "ETH",
           2755.457,
           "Africa"
          ],
          [
           null,
           44432.613,
           "Other"
          ],
          [
           null,
           54446.863,
           "Other"
          ],
          [
           null,
           70373.375,
           "Other"
          ],
          [
           "FJI",
           13652.491,
           "Oceania"
          ],
          [
           "FIN",
           57063.523,
           "Europe"
          ],
          [
           "FRA",
           55441.188,
           "Europe"
          ],
          [
           "GAB",
           18702.691,
           "Africa"
          ],
          [
           "GMB",
           2932.2805,
           "Africa"
          ],
          [
           "GEO",
           22590.53,
           "Asia"
          ],
          [
           "DEU",
           63578.14,
           "Europe"
          ],
          [
           "GHA",
           6796.4736,
           "Africa"
          ],
          [
           "GRC",
           36905.453,
           "Europe"
          ],
          [
           "GRD",
           16946.473,
           "North America"
          ],
          [
           "GTM",
           12389.386,
           "North America"
          ],
          [
           "GIN",
           3949.34,
           "Africa"
          ],
          [
           "GNB",
           2578.8044,
           "Africa"
          ],
          [
           "GUY",
           49315.16,
           "South America"
          ],
          [
           "HTI",
           2956.4622,
           "North America"
          ],
          [
           null,
           57577.62,
           "Other"
          ],
          [
           "HND",
           6468.302,
           "North America"
          ],
          [
           "HKG",
           64467.574,
           "Other"
          ],
          [
           "HUN",
           40543.992,
           "Europe"
          ],
          [
           "ISL",
           67255.67,
           "Europe"
          ],
          [
           "IND",
           9160.063,
           "Asia"
          ],
          [
           "IDN",
           13889.883,
           "Asia"
          ],
          [
           "IRN",
           15912.03,
           "Asia"
          ],
          [
           "IRQ",
           12711.062,
           "Asia"
          ],
          [
           "IRL",
           114922.39,
           "Europe"
          ],
          [
           "ISR",
           48432.11,
           "Asia"
          ],
          [
           "ITA",
           53312.07,
           "Europe"
          ],
          [
           "JAM",
           10291.3125,
           "North America"
          ],
          [
           "JPN",
           46157.637,
           "Asia"
          ],
          [
           "JOR",
           9362.588,
           "Asia"
          ],
          [
           "KAZ",
           34703.234,
           "Asia"
          ],
          [
           "KEN",
           5682.9893,
           "Africa"
          ],
          [
           "KIR",
           3195.8704,
           "Oceania"
          ],
          [
           "OWID_KOS",
           13642.677,
           "Other"
          ],
          [
           "KWT",
           46458.2,
           "Asia"
          ],
          [
           "KGZ",
           6403.143,
           "Asia"
          ],
          [
           "LAO",
           8372.156,
           "Asia"
          ],
          [
           null,
           19654.996,
           "Other"
          ],
          [
           "LVA",
           37007.367,
           "Europe"
          ],
          [
           "LSO",
           2595.8296,
           "Africa"
          ],
          [
           "LBR",
           1616.9237,
           "Africa"
          ],
          [
           "LBY",
           12478.144,
           "Africa"
          ],
          [
           "LTU",
           46740.41,
           "Europe"
          ],
          [
           null,
           2325.4177,
           "Other"
          ],
          [
           null,
           8379.975,
           "Other"
          ],
          [
           "LUX",
           132846.58,
           "Europe"
          ],
          [
           "MAC",
           104961.64,
           "Other"
          ],
          [
           "MDG",
           1643.3093,
           "Africa"
          ],
          [
           "MWI",
           1648.4365,
           "Africa"
          ],
          [
           "MYS",
           32812.3,
           "Asia"
          ],
          [
           "MDV",
           22286.98,
           "Asia"
          ],
          [
           "MLI",
           2394.672,
           "Africa"
          ],
          [
           "MLT",
           61125.71,
           "Europe"
          ],
          [
           "MHL",
           6786.696,
           "Oceania"
          ],
          [
           "MRT",
           6258.711,
           "Africa"
          ],
          [
           "MUS",
           26590.424,
           "Africa"
          ],
          [
           "MEX",
           22142.607,
           "North America"
          ],
          [
           "FSM",
           3886.6965,
           "Other"
          ],
          [
           null,
           18660.316,
           "Other"
          ],
          [
           null,
           14233.418,
           "Other"
          ],
          [
           "MDA",
           15855.273,
           "Europe"
          ],
          [
           "MNG",
           16222.864,
           "Asia"
          ],
          [
           "MNE",
           27869.65,
           "Europe"
          ],
          [
           "MAR",
           8868.712,
           "Africa"
          ],
          [
           "MOZ",
           1511.6365,
           "Africa"
          ],
          [
           "MMR",
           5364.138,
           "Asia"
          ],
          [
           "NAM",
           10105.515,
           "Africa"
          ],
          [
           "NRU",
           12462.841,
           "Oceania"
          ],
          [
           "NPL",
           4859.8003,
           "Asia"
          ],
          [
           "NLD",
           71446.695,
           "Europe"
          ],
          [
           "NZL",
           48826.574,
           "Oceania"
          ],
          [
           "NIC",
           7486.943,
           "North America"
          ],
          [
           "NER",
           1703.397,
           "Africa"
          ],
          [
           "NGA",
           5593.0566,
           "Africa"
          ],
          [
           null,
           72586.85,
           "Other"
          ],
          [
           "MKD",
           23584.564,
           "Europe"
          ],
          [
           "NOR",
           90469.81,
           "Europe"
          ],
          [
           "OMN",
           38311.418,
           "Asia"
          ],
          [
           "PAK",
           5439.1875,
           "Asia"
          ],
          [
           "PLW",
           15796.54,
           "Oceania"
          ],
          [
           "PSE",
           5313.098,
           "Asia"
          ],
          [
           "PAN",
           35863.88,
           "North America"
          ],
          [
           "PNG",
           4174.4414,
           "Oceania"
          ],
          [
           "PRY",
           15783.115,
           "South America"
          ],
          [
           "PER",
           15294.257,
           "South America"
          ],
          [
           "PHL",
           9901.057,
           "Asia"
          ],
          [
           "POL",
           44384.168,
           "Europe"
          ],
          [
           "PRT",
           41755.48,
           "Europe"
          ],
          [
           "PRI",
           42994.785,
           "Other"
          ],
          [
           "QAT",
           116159.14,
           "Asia"
          ],
          [
           "ROU",
           40665.527,
           "Europe"
          ],
          [
           "RUS",
           39753.457,
           "Europe"
          ],
          [
           "RWA",
           3060.029,
           "Africa"
          ],
          [
           "KNA",
           30409.404,
           "North America"
          ],
          [
           "LCA",
           23403.46,
           "North America"
          ],
          [
           "VCT",
           18335.213,
           "North America"
          ],
          [
           "WSM",
           6304.346,
           "Oceania"
          ],
          [
           "STP",
           5541.302,
           "Africa"
          ],
          [
           "SAU",
           55055.4,
           "Asia"
          ],
          [
           "SEN",
           4317.2266,
           "Africa"
          ],
          [
           "SRB",
           26030.021,
           "Europe"
          ],
          [
           "SYC",
           29468.951,
           "Africa"
          ],
          [
           "SLE",
           3034.219,
           "Africa"
          ],
          [
           "SGP",
           127543.555,
           "Asia"
          ],
          [
           "SXM",
           44894.695,
           "Other"
          ],
          [
           "SVK",
           39290.434,
           "Europe"
          ],
          [
           "SVN",
           48243.94,
           "Europe"
          ],
          [
           "SLB",
           2534.0276,
           "Oceania"
          ],
          [
           "SOM",
           1402.47,
           "Africa"
          ],
          [
           "ZAF",
           13690.39,
           "Africa"
          ],
          [
           null,
           8439.404,
           "Other"
          ],
          [
           "KOR",
           50572.25,
           "Asia"
          ],
          [
           "ESP",
           47141.543,
           "Europe"
          ],
          [
           "LKA",
           13029.524,
           "Asia"
          ],
          [
           null,
           4309.3516,
           "Other"
          ],
          [
           "SDN",
           2469.1946,
           "Africa"
          ],
          [
           "SUR",
           19043.705,
           "South America"
          ],
          [
           "SWE",
           63114.68,
           "Europe"
          ],
          [
           "CHE",
           82557.55,
           "Europe"
          ],
          [
           "TJK",
           4472.324,
           "Asia"
          ],
          [
           "TZA",
           3620.7935,
           "Africa"
          ],
          [
           "THA",
           21142.664,
           "Asia"
          ],
          [
           "TGO",
           2767.5166,
           "Africa"
          ],
          [
           "TTO",
           31705.834,
           "North America"
          ],
          [
           "TUN",
           12552.986,
           "Africa"
          ],
          [
           "TUR",
           34609.914,
           "Asia"
          ],
          [
           "TKM",
           17866.404,
           "Asia"
          ],
          [
           "TCA",
           22305.66,
           "Other"
          ],
          [
           "TUV",
           5812.393,
           "Oceania"
          ],
          [
           "UGA",
           2791.0557,
           "Africa"
          ],
          [
           "UKR",
           15885.226,
           "Europe"
          ],
          [
           "ARE",
           68577.54,
           "Asia"
          ],
          [
           "GBR",
           54542.016,
           "Europe"
          ],
          [
           "USA",
           74577.51,
           "North America"
          ],
          [
           null,
           20620.35,
           "Other"
          ],
          [
           "URY",
           31019.31,
           "South America"
          ],
          [
           "UZB",
           10007.686,
           "Asia"
          ],
          [
           "VUT",
           3118.396,
           "Oceania"
          ],
          [
           "VNM",
           13491.88,
           "Asia"
          ],
          [
           "OWID_WRL",
           20670.941,
           "Other"
          ],
          [
           "ZMB",
           3673.4841,
           "Africa"
          ],
          [
           "ZWE",
           3442.2512,
           "Africa"
          ]
         ],
         "geo": "geo",
         "hovertemplate": "<b>%{hovertext}</b><br><br>GDP Per Capita (USD)=%{z:,.0f}<br>Continent=%{customdata[2]}<extra></extra>",
         "hovertext": [
          "Afghanistan",
          "Albania",
          "Algeria",
          "Andorra",
          "Angola",
          "Antigua and Barbuda",
          "Argentina",
          "Armenia",
          "Aruba",
          "Australia",
          "Austria",
          "Azerbaijan",
          "Bahamas",
          "Bahrain",
          "Bangladesh",
          "Barbados",
          "Belarus",
          "Belgium",
          "Belize",
          "Benin",
          "Bermuda",
          "Bolivia",
          "Bosnia and Herzegovina",
          "Botswana",
          "Brazil",
          "Brunei",
          "Bulgaria",
          "Burkina Faso",
          "Burundi",
          "Cambodia",
          "Cameroon",
          "Canada",
          "Cape Verde",
          "Cayman Islands",
          "Central African Republic",
          "Chad",
          "Chile",
          "China",
          "Colombia",
          "Comoros",
          "Congo",
          "Costa Rica",
          "Cote d'Ivoire",
          "Croatia",
          "Curacao",
          "Cyprus",
          "Czechia",
          "Democratic Republic of Congo",
          "Denmark",
          "Djibouti",
          "Dominica",
          "Dominican Republic",
          "East Asia and Pacific (WB)",
          "East Timor",
          "Ecuador",
          "Egypt",
          "El Salvador",
          "Equatorial Guinea",
          "Estonia",
          "Eswatini",
          "Ethiopia",
          "Europe and Central Asia (WB)",
          "European Union (27)",
          "Faeroe Islands",
          "Fiji",
          "Finland",
          "France",
          "Gabon",
          "Gambia",
          "Georgia",
          "Germany",
          "Ghana",
          "Greece",
          "Grenada",
          "Guatemala",
          "Guinea",
          "Guinea-Bissau",
          "Guyana",
          "Haiti",
          "High-income countries",
          "Honduras",
          "Hong Kong",
          "Hungary",
          "Iceland",
          "India",
          "Indonesia",
          "Iran",
          "Iraq",
          "Ireland",
          "Israel",
          "Italy",
          "Jamaica",
          "Japan",
          "Jordan",
          "Kazakhstan",
          "Kenya",
          "Kiribati",
          "Kosovo",
          "Kuwait",
          "Kyrgyzstan",
          "Laos",
          "Latin America and Caribbean (WB)",
          "Latvia",
          "Lesotho",
          "Liberia",
          "Libya",
          "Lithuania",
          "Low-income countries",
          "Lower-middle-income countries",
          "Luxembourg",
          "Macao",
          "Madagascar",
          "Malawi",
          "Malaysia",
          "Maldives",
          "Mali",
          "Malta",
          "Marshall Islands",
          "Mauritania",
          "Mauritius",
          "Mexico",
          "Micronesia (country)",
          "Middle East and North Africa (WB)",
          "Middle-income countries",
          "Moldova",
          "Mongolia",
          "Montenegro",
          "Morocco",
          "Mozambique",
          "Myanmar",
          "Namibia",
          "Nauru",
          "Nepal",
          "Netherlands",
          "New Zealand",
          "Nicaragua",
          "Niger",
          "Nigeria",
          "North America (WB)",
          "North Macedonia",
          "Norway",
          "Oman",
          "Pakistan",
          "Palau",
          "Palestine",
          "Panama",
          "Papua New Guinea",
          "Paraguay",
          "Peru",
          "Philippines",
          "Poland",
          "Portugal",
          "Puerto Rico",
          "Qatar",
          "Romania",
          "Russia",
          "Rwanda",
          "Saint Kitts and Nevis",
          "Saint Lucia",
          "Saint Vincent and the Grenadines",
          "Samoa",
          "Sao Tome and Principe",
          "Saudi Arabia",
          "Senegal",
          "Serbia",
          "Seychelles",
          "Sierra Leone",
          "Singapore",
          "Sint Maarten (Dutch part)",
          "Slovakia",
          "Slovenia",
          "Solomon Islands",
          "Somalia",
          "South Africa",
          "South Asia (WB)",
          "South Korea",
          "Spain",
          "Sri Lanka",
          "Sub-Saharan Africa (WB)",
          "Sudan",
          "Suriname",
          "Sweden",
          "Switzerland",
          "Tajikistan",
          "Tanzania",
          "Thailand",
          "Togo",
          "Trinidad and Tobago",
          "Tunisia",
          "Turkey",
          "Turkmenistan",
          "Turks and Caicos Islands",
          "Tuvalu",
          "Uganda",
          "Ukraine",
          "United Arab Emirates",
          "United Kingdom",
          "United States",
          "Upper-middle-income countries",
          "Uruguay",
          "Uzbekistan",
          "Vanuatu",
          "Vietnam",
          "World",
          "Zambia",
          "Zimbabwe"
         ],
         "locations": [
          "AFG",
          "ALB",
          "DZA",
          "AND",
          "AGO",
          "ATG",
          "ARG",
          "ARM",
          "ABW",
          "AUS",
          "AUT",
          "AZE",
          "BHS",
          "BHR",
          "BGD",
          "BRB",
          "BLR",
          "BEL",
          "BLZ",
          "BEN",
          "BMU",
          "BOL",
          "BIH",
          "BWA",
          "BRA",
          "BRN",
          "BGR",
          "BFA",
          "BDI",
          "KHM",
          "CMR",
          "CAN",
          "CPV",
          "CYM",
          "CAF",
          "TCD",
          "CHL",
          "CHN",
          "COL",
          "COM",
          "COG",
          "CRI",
          "CIV",
          "HRV",
          "CUW",
          "CYP",
          "CZE",
          "COD",
          "DNK",
          "DJI",
          "DMA",
          "DOM",
          null,
          "TLS",
          "ECU",
          "EGY",
          "SLV",
          "GNQ",
          "EST",
          "SWZ",
          "ETH",
          null,
          null,
          null,
          "FJI",
          "FIN",
          "FRA",
          "GAB",
          "GMB",
          "GEO",
          "DEU",
          "GHA",
          "GRC",
          "GRD",
          "GTM",
          "GIN",
          "GNB",
          "GUY",
          "HTI",
          null,
          "HND",
          "HKG",
          "HUN",
          "ISL",
          "IND",
          "IDN",
          "IRN",
          "IRQ",
          "IRL",
          "ISR",
          "ITA",
          "JAM",
          "JPN",
          "JOR",
          "KAZ",
          "KEN",
          "KIR",
          "OWID_KOS",
          "KWT",
          "KGZ",
          "LAO",
          null,
          "LVA",
          "LSO",
          "LBR",
          "LBY",
          "LTU",
          null,
          null,
          "LUX",
          "MAC",
          "MDG",
          "MWI",
          "MYS",
          "MDV",
          "MLI",
          "MLT",
          "MHL",
          "MRT",
          "MUS",
          "MEX",
          "FSM",
          null,
          null,
          "MDA",
          "MNG",
          "MNE",
          "MAR",
          "MOZ",
          "MMR",
          "NAM",
          "NRU",
          "NPL",
          "NLD",
          "NZL",
          "NIC",
          "NER",
          "NGA",
          null,
          "MKD",
          "NOR",
          "OMN",
          "PAK",
          "PLW",
          "PSE",
          "PAN",
          "PNG",
          "PRY",
          "PER",
          "PHL",
          "POL",
          "PRT",
          "PRI",
          "QAT",
          "ROU",
          "RUS",
          "RWA",
          "KNA",
          "LCA",
          "VCT",
          "WSM",
          "STP",
          "SAU",
          "SEN",
          "SRB",
          "SYC",
          "SLE",
          "SGP",
          "SXM",
          "SVK",
          "SVN",
          "SLB",
          "SOM",
          "ZAF",
          null,
          "KOR",
          "ESP",
          "LKA",
          null,
          "SDN",
          "SUR",
          "SWE",
          "CHE",
          "TJK",
          "TZA",
          "THA",
          "TGO",
          "TTO",
          "TUN",
          "TUR",
          "TKM",
          "TCA",
          "TUV",
          "UGA",
          "UKR",
          "ARE",
          "GBR",
          "USA",
          null,
          "URY",
          "UZB",
          "VUT",
          "VNM",
          "OWID_WRL",
          "ZMB",
          "ZWE"
         ],
         "name": "",
         "type": "choropleth",
         "z": {
          "bdata": "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",
          "dtype": "f8"
         }
        }
       ],
       "layout": {
        "coloraxis": {
         "colorbar": {
          "len": 0.7,
          "thickness": 20,
          "title": {
           "font": {
            "size": 14
           },
           "text": "GDP Per Capita<br>(USD)"
          },
          "x": 1.02
         },
         "colorscale": [
          [
           0,
           "rgb(49,54,149)"
          ],
          [
           0.1,
           "rgb(69,117,180)"
          ],
          [
           0.2,
           "rgb(116,173,209)"
          ],
          [
           0.3,
           "rgb(171,217,233)"
          ],
          [
           0.4,
           "rgb(224,243,248)"
          ],
          [
           0.5,
           "rgb(255,255,191)"
          ],
          [
           0.6,
           "rgb(254,224,144)"
          ],
          [
           0.7,
           "rgb(253,174,97)"
          ],
          [
           0.8,
           "rgb(244,109,67)"
          ],
          [
           0.9,
           "rgb(215,48,39)"
          ],
          [
           1,
           "rgb(165,0,38)"
          ]
         ]
        },
        "font": {
         "family": "Arial, sans-serif",
         "size": 12
        },
        "geo": {
         "center": {},
         "coastlinecolor": "rgb(204, 204, 204)",
         "domain": {
          "x": [
           0,
           1
          ],
          "y": [
           0,
           1
          ]
         },
         "lakecolor": "rgb(255, 255, 255)",
         "landcolor": "rgb(243, 243, 243)",
         "oceancolor": "rgb(240, 248, 255)",
         "projection": {
          "type": "natural earth"
         },
         "showcoastlines": true,
         "showframe": false,
         "showlakes": true,
         "showland": true,
         "showocean": true
        },
        "height": 700,
        "legend": {
         "tracegroupgap": 0
        },
        "template": {
         "data": {
          "bar": [
           {
            "error_x": {
             "color": "#2a3f5f"
            },
            "error_y": {
             "color": "#2a3f5f"
            },
            "marker": {
             "line": {
              "color": "white",
              "width": 0.5
             },
             "pattern": {
              "fillmode": "overlay",
              "size": 10,
              "solidity": 0.2
             }
            },
            "type": "bar"
           }
          ],
          "barpolar": [
           {
            "marker": {
             "line": {
              "color": "white",
              "width": 0.5
             },
             "pattern": {
              "fillmode": "overlay",
              "size": 10,
              "solidity": 0.2
             }
            },
            "type": "barpolar"
           }
          ],
          "carpet": [
           {
            "aaxis": {
             "endlinecolor": "#2a3f5f",
             "gridcolor": "#C8D4E3",
             "linecolor": "#C8D4E3",
             "minorgridcolor": "#C8D4E3",
             "startlinecolor": "#2a3f5f"
            },
            "baxis": {
             "endlinecolor": "#2a3f5f",
             "gridcolor": "#C8D4E3",
             "linecolor": "#C8D4E3",
             "minorgridcolor": "#C8D4E3",
             "startlinecolor": "#2a3f5f"
            },
            "type": "carpet"
           }
          ],
          "choropleth": [
           {
            "colorbar": {
             "outlinewidth": 0,
             "ticks": ""
            },
            "type": "choropleth"
           }
          ],
          "contour": [
           {
            "colorbar": {
             "outlinewidth": 0,
             "ticks": ""
            },
            "colorscale": [
             [
              0,
              "#0d0887"
             ],
             [
              0.1111111111111111,
              "#46039f"
             ],
             [
              0.2222222222222222,
              "#7201a8"
             ],
             [
              0.3333333333333333,
              "#9c179e"
             ],
             [
              0.4444444444444444,
              "#bd3786"
             ],
             [
              0.5555555555555556,
              "#d8576b"
             ],
             [
              0.6666666666666666,
              "#ed7953"
             ],
             [
              0.7777777777777778,
              "#fb9f3a"
             ],
             [
              0.8888888888888888,
              "#fdca26"
             ],
             [
              1,
              "#f0f921"
             ]
            ],
            "type": "contour"
           }
          ],
          "contourcarpet": [
           {
            "colorbar": {
             "outlinewidth": 0,
             "ticks": ""
            },
            "type": "contourcarpet"
           }
          ],
          "heatmap": [
           {
            "colorbar": {
             "outlinewidth": 0,
             "ticks": ""
            },
            "colorscale": [
             [
              0,
              "#0d0887"
             ],
             [
              0.1111111111111111,
              "#46039f"
             ],
             [
              0.2222222222222222,
              "#7201a8"
             ],
             [
              0.3333333333333333,
              "#9c179e"
             ],
             [
              0.4444444444444444,
              "#bd3786"
             ],
             [
              0.5555555555555556,
              "#d8576b"
             ],
             [
              0.6666666666666666,
              "#ed7953"
             ],
             [
              0.7777777777777778,
              "#fb9f3a"
             ],
             [
              0.8888888888888888,
              "#fdca26"
             ],
             [
              1,
              "#f0f921"
             ]
            ],
            "type": "heatmap"
           }
          ],
          "histogram": [
           {
            "marker": {
             "pattern": {
              "fillmode": "overlay",
              "size": 10,
              "solidity": 0.2
             }
            },
            "type": "histogram"
           }
          ],
          "histogram2d": [
           {
            "colorbar": {
             "outlinewidth": 0,
             "ticks": ""
            },
            "colorscale": [
             [
              0,
              "#0d0887"
             ],
             [
              0.1111111111111111,
              "#46039f"
             ],
             [
              0.2222222222222222,
              "#7201a8"
             ],
             [
              0.3333333333333333,
              "#9c179e"
             ],
             [
              0.4444444444444444,
              "#bd3786"
             ],
             [
              0.5555555555555556,
              "#d8576b"
             ],
             [
              0.6666666666666666,
              "#ed7953"
             ],
             [
              0.7777777777777778,
              "#fb9f3a"
             ],
             [
              0.8888888888888888,
              "#fdca26"
             ],
             [
              1,
              "#f0f921"
             ]
            ],
            "type": "histogram2d"
           }
          ],
          "histogram2dcontour": [
           {
            "colorbar": {
             "outlinewidth": 0,
             "ticks": ""
            },
            "colorscale": [
             [
              0,
              "#0d0887"
             ],
             [
              0.1111111111111111,
              "#46039f"
             ],
             [
              0.2222222222222222,
              "#7201a8"
             ],
             [
              0.3333333333333333,
              "#9c179e"
             ],
             [
              0.4444444444444444,
              "#bd3786"
             ],
             [
              0.5555555555555556,
              "#d8576b"
             ],
             [
              0.6666666666666666,
              "#ed7953"
             ],
             [
              0.7777777777777778,
              "#fb9f3a"
             ],
             [
              0.8888888888888888,
              "#fdca26"
             ],
             [
              1,
              "#f0f921"
             ]
            ],
            "type": "histogram2dcontour"
           }
          ],
          "mesh3d": [
           {
            "colorbar": {
             "outlinewidth": 0,
             "ticks": ""
            },
            "type": "mesh3d"
           }
          ],
          "parcoords": [
           {
            "line": {
             "colorbar": {
              "outlinewidth": 0,
              "ticks": ""
             }
            },
            "type": "parcoords"
           }
          ],
          "pie": [
           {
            "automargin": true,
            "type": "pie"
           }
          ],
          "scatter": [
           {
            "fillpattern": {
             "fillmode": "overlay",
             "size": 10,
             "solidity": 0.2
            },
            "type": "scatter"
           }
          ],
          "scatter3d": [
           {
            "line": {
             "colorbar": {
              "outlinewidth": 0,
              "ticks": ""
             }
            },
            "marker": {
             "colorbar": {
              "outlinewidth": 0,
              "ticks": ""
             }
            },
            "type": "scatter3d"
           }
          ],
          "scattercarpet": [
           {
            "marker": {
             "colorbar": {
              "outlinewidth": 0,
              "ticks": ""
             }
            },
            "type": "scattercarpet"
           }
          ],
          "scattergeo": [
           {
            "marker": {
             "colorbar": {
              "outlinewidth": 0,
              "ticks": ""
             }
            },
            "type": "scattergeo"
           }
          ],
          "scattergl": [
           {
            "marker": {
             "colorbar": {
              "outlinewidth": 0,
              "ticks": ""
             }
            },
            "type": "scattergl"
           }
          ],
          "scattermap": [
           {
            "marker": {
             "colorbar": {
              "outlinewidth": 0,
              "ticks": ""
             }
            },
            "type": "scattermap"
           }
          ],
          "scattermapbox": [
           {
            "marker": {
             "colorbar": {
              "outlinewidth": 0,
              "ticks": ""
             }
            },
            "type": "scattermapbox"
           }
          ],
          "scatterpolar": [
           {
            "marker": {
             "colorbar": {
              "outlinewidth": 0,
              "ticks": ""
             }
            },
            "type": "scatterpolar"
           }
          ],
          "scatterpolargl": [
           {
            "marker": {
             "colorbar": {
              "outlinewidth": 0,
              "ticks": ""
             }
            },
            "type": "scatterpolargl"
           }
          ],
          "scatterternary": [
           {
            "marker": {
             "colorbar": {
              "outlinewidth": 0,
              "ticks": ""
             }
            },
            "type": "scatterternary"
           }
          ],
          "surface": [
           {
            "colorbar": {
             "outlinewidth": 0,
             "ticks": ""
            },
            "colorscale": [
             [
              0,
              "#0d0887"
             ],
             [
              0.1111111111111111,
              "#46039f"
             ],
             [
              0.2222222222222222,
              "#7201a8"
             ],
             [
              0.3333333333333333,
              "#9c179e"
             ],
             [
              0.4444444444444444,
              "#bd3786"
             ],
             [
              0.5555555555555556,
              "#d8576b"
             ],
             [
              0.6666666666666666,
              "#ed7953"
             ],
             [
              0.7777777777777778,
              "#fb9f3a"
             ],
             [
              0.8888888888888888,
              "#fdca26"
             ],
             [
              1,
              "#f0f921"
             ]
            ],
            "type": "surface"
           }
          ],
          "table": [
           {
            "cells": {
             "fill": {
              "color": "#EBF0F8"
             },
             "line": {
              "color": "white"
             }
            },
            "header": {
             "fill": {
              "color": "#C8D4E3"
             },
             "line": {
              "color": "white"
             }
            },
            "type": "table"
           }
          ]
         },
         "layout": {
          "annotationdefaults": {
           "arrowcolor": "#2a3f5f",
           "arrowhead": 0,
           "arrowwidth": 1
          },
          "autotypenumbers": "strict",
          "coloraxis": {
           "colorbar": {
            "outlinewidth": 0,
            "ticks": ""
           }
          },
          "colorscale": {
           "diverging": [
            [
             0,
             "#8e0152"
            ],
            [
             0.1,
             "#c51b7d"
            ],
            [
             0.2,
             "#de77ae"
            ],
            [
             0.3,
             "#f1b6da"
            ],
            [
             0.4,
             "#fde0ef"
            ],
            [
             0.5,
             "#f7f7f7"
            ],
            [
             0.6,
             "#e6f5d0"
            ],
            [
             0.7,
             "#b8e186"
            ],
            [
             0.8,
             "#7fbc41"
            ],
            [
             0.9,
             "#4d9221"
            ],
            [
             1,
             "#276419"
            ]
           ],
           "sequential": [
            [
             0,
             "#0d0887"
            ],
            [
             0.1111111111111111,
             "#46039f"
            ],
            [
             0.2222222222222222,
             "#7201a8"
            ],
            [
             0.3333333333333333,
             "#9c179e"
            ],
            [
             0.4444444444444444,
             "#bd3786"
            ],
            [
             0.5555555555555556,
             "#d8576b"
            ],
            [
             0.6666666666666666,
             "#ed7953"
            ],
            [
             0.7777777777777778,
             "#fb9f3a"
            ],
            [
             0.8888888888888888,
             "#fdca26"
            ],
            [
             1,
             "#f0f921"
            ]
           ],
           "sequentialminus": [
            [
             0,
             "#0d0887"
            ],
            [
             0.1111111111111111,
             "#46039f"
            ],
            [
             0.2222222222222222,
             "#7201a8"
            ],
            [
             0.3333333333333333,
             "#9c179e"
            ],
            [
             0.4444444444444444,
             "#bd3786"
            ],
            [
             0.5555555555555556,
             "#d8576b"
            ],
            [
             0.6666666666666666,
             "#ed7953"
            ],
            [
             0.7777777777777778,
             "#fb9f3a"
            ],
            [
             0.8888888888888888,
             "#fdca26"
            ],
            [
             1,
             "#f0f921"
            ]
           ]
          },
          "colorway": [
           "#636efa",
           "#EF553B",
           "#00cc96",
           "#ab63fa",
           "#FFA15A",
           "#19d3f3",
           "#FF6692",
           "#B6E880",
           "#FF97FF",
           "#FECB52"
          ],
          "font": {
           "color": "#2a3f5f"
          },
          "geo": {
           "bgcolor": "white",
           "lakecolor": "white",
           "landcolor": "white",
           "showlakes": true,
           "showland": true,
           "subunitcolor": "#C8D4E3"
          },
          "hoverlabel": {
           "align": "left"
          },
          "hovermode": "closest",
          "mapbox": {
           "style": "light"
          },
          "paper_bgcolor": "white",
          "plot_bgcolor": "white",
          "polar": {
           "angularaxis": {
            "gridcolor": "#EBF0F8",
            "linecolor": "#EBF0F8",
            "ticks": ""
           },
           "bgcolor": "white",
           "radialaxis": {
            "gridcolor": "#EBF0F8",
            "linecolor": "#EBF0F8",
            "ticks": ""
           }
          },
          "scene": {
           "xaxis": {
            "backgroundcolor": "white",
            "gridcolor": "#DFE8F3",
            "gridwidth": 2,
            "linecolor": "#EBF0F8",
            "showbackground": true,
            "ticks": "",
            "zerolinecolor": "#EBF0F8"
           },
           "yaxis": {
            "backgroundcolor": "white",
            "gridcolor": "#DFE8F3",
            "gridwidth": 2,
            "linecolor": "#EBF0F8",
            "showbackground": true,
            "ticks": "",
            "zerolinecolor": "#EBF0F8"
           },
           "zaxis": {
            "backgroundcolor": "white",
            "gridcolor": "#DFE8F3",
            "gridwidth": 2,
            "linecolor": "#EBF0F8",
            "showbackground": true,
            "ticks": "",
            "zerolinecolor": "#EBF0F8"
           }
          },
          "shapedefaults": {
           "line": {
            "color": "#2a3f5f"
           }
          },
          "ternary": {
           "aaxis": {
            "gridcolor": "#DFE8F3",
            "linecolor": "#A2B1C6",
            "ticks": ""
           },
           "baxis": {
            "gridcolor": "#DFE8F3",
            "linecolor": "#A2B1C6",
            "ticks": ""
           },
           "bgcolor": "white",
           "caxis": {
            "gridcolor": "#DFE8F3",
            "linecolor": "#A2B1C6",
            "ticks": ""
           }
          },
          "title": {
           "x": 0.05
          },
          "xaxis": {
           "automargin": true,
           "gridcolor": "#EBF0F8",
           "linecolor": "#EBF0F8",
           "ticks": "",
           "title": {
            "standoff": 15
           },
           "zerolinecolor": "#EBF0F8",
           "zerolinewidth": 2
          },
          "yaxis": {
           "automargin": true,
           "gridcolor": "#EBF0F8",
           "linecolor": "#EBF0F8",
           "ticks": "",
           "title": {
            "standoff": 15
           },
           "zerolinecolor": "#EBF0F8",
           "zerolinewidth": 2
          }
         }
        },
        "title": {
         "font": {
          "color": "rgb(37, 37, 37)",
          "size": 16
         },
         "text": "<b>Global GDP Per Capita Distribution (2023)</b><br><sub>World Bank Data - PPP Constant 2017 International $</sub>",
         "x": 0.5
        },
        "width": 1200
       }
      }
     },
     "metadata": {},
     "output_type": "display_data"
    },
    {
     "name": "stdout",
     "output_type": "stream",
     "text": [
      "\n",
      "📊 2023 Income Level Distribution:\n",
      "Upper Middle Income: 57 countries (27.7%)\n",
      "Lower Middle Income: 47 countries (22.8%)\n",
      "High Income: 43 countries (20.9%)\n",
      "Very High Income: 36 countries (17.5%)\n",
      "Low Income: 23 countries (11.2%)\n"
     ]
    }
   ],
   "source": [
    "# Prepare data for 2023 world map visualization\n",
    "df_map = df_2023[['Entity', 'Code', gdp_column, 'Continent']].copy()\n",
    "\n",
    "# Create modern choropleth map with custom color scale\n",
    "fig = px.choropleth(\n",
    "    df_map,\n",
    "    locations=\"Code\",\n",
    "    color=gdp_column,\n",
    "    hover_name=\"Entity\",\n",
    "    hover_data={\n",
    "        'Code': False,\n",
    "        gdp_column: ':,.0f',\n",
    "        'Continent': True\n",
    "    },\n",
    "    color_continuous_scale='RdYlBu_r',  # Modern red-yellow-blue scale\n",
    "    title=\"<b>Global GDP Per Capita Distribution (2023)</b><br><sub>World Bank Data - PPP Constant 2017 International $</sub>\",\n",
    "    labels={gdp_column: 'GDP Per Capita (USD)'}\n",
    ")\n",
    "\n",
    "# Enhanced modern styling\n",
    "fig.update_layout(\n",
    "    height=700,\n",
    "    width=1200,\n",
    "    geo=dict(\n",
    "        showframe=False,\n",
    "        showcoastlines=True,\n",
    "        coastlinecolor=\"rgb(204, 204, 204)\",\n",
    "        projection_type='natural earth',  # More modern projection\n",
    "        showlakes=True,\n",
    "        lakecolor='rgb(255, 255, 255)',\n",
    "        showocean=True,\n",
    "        oceancolor='rgb(240, 248, 255)',\n",
    "        showland=True,\n",
    "        landcolor='rgb(243, 243, 243)'\n",
    "    ),\n",
    "    font=dict(family=\"Arial, sans-serif\", size=12),\n",
    "    title=dict(\n",
    "        x=0.5,\n",
    "        font=dict(size=16, color='rgb(37, 37, 37)')\n",
    "    ),\n",
    "    coloraxis_colorbar=dict(\n",
    "        title=dict(\n",
    "            text=\"GDP Per Capita<br>(USD)\",\n",
    "            font=dict(size=14)\n",
    "        ),\n",
    "        thickness=20,\n",
    "        len=0.7,\n",
    "        x=1.02\n",
    "    )\n",
    ")\n",
    "\n",
    "fig.show()\n",
    "\n",
    "# GDP seviye kategorileri\n",
    "def categorize_gdp(gdp):\n",
    "    if gdp >= 50000:\n",
    "        return 'Very High Income'\n",
    "    elif gdp >= 25000:\n",
    "        return 'High Income'\n",
    "    elif gdp >= 10000:\n",
    "        return 'Upper Middle Income'\n",
    "    elif gdp >= 3000:\n",
    "        return 'Lower Middle Income'\n",
    "    else:\n",
    "        return 'Low Income'\n",
    "\n",
    "df_2023['Income_Level'] = df_2023[gdp_column].apply(categorize_gdp)\n",
    "income_distribution = df_2023['Income_Level'].value_counts()\n",
    "\n",
    "print(\"\\n📊 2023 Income Level Distribution:\")\n",
    "for level, count in income_distribution.items():\n",
    "    percentage = (count / len(df_2023)) * 100\n",
    "    print(f\"{level}: {count} countries ({percentage:.1f}%)\")"
   ]
  },
  {
   "cell_type": "markdown",
   "id": "25c594dc",
   "metadata": {},
   "source": [
    "## 📈 Kriz Analizi: 2008 Mali Krizi ve COVID-19 Etkisi\n",
    "\n",
    "Bu bölümde 2008 mali krizi ve COVID-19 pandemisinin dünya ekonomisine etkilerini analiz edeceğiz."
   ]
  },
  {
   "cell_type": "code",
   "execution_count": 47,
   "id": "765cdf35",
   "metadata": {},
   "outputs": [
    {
     "data": {
      "image/png": "[encoded data removed]",
      "text/plain": [
       "<Figure size 1600x1200 with 4 Axes>"
      ]
     },
     "metadata": {},
     "output_type": "display_data"
    },
    {
     "name": "stdout",
     "output_type": "stream",
     "text": [
      "CRISIS ANALYSIS SUMMARY:\n",
      "==================================================\n",
      "\n",
      "2008 Financial Crisis (2007-2009):\n",
      "Most affected: Italy (-7.3%)\n",
      "Least affected: China (18.8%)\n",
      "\n",
      "COVID-19 Pandemic (2019-2020):\n",
      "Most affected: United Kingdom (-10.6%)\n",
      "Least affected: China (2.0%)\n",
      "\n",
      "World average impact:\n",
      "2008 Financial Crisis: -2.6%\n",
      "COVID-19 Pandemic: -7.0%\n"
     ]
    }
   ],
   "source": [
    "# Economic Crisis Impact Analysis\n",
    "\n",
    "# Major economies for analysis\n",
    "major_economies = ['United States', 'China', 'Japan', 'Germany', 'India', 'United Kingdom', \n",
    "                  'France', 'Italy', 'Brazil', 'Canada', 'Russia', 'South Africa']\n",
    "\n",
    "# 2008 Financial Crisis Analysis (2007-2009)\n",
    "crisis_2008_data = []\n",
    "for country in major_economies:\n",
    "    country_data = df[df['Entity'] == country]\n",
    "    if not country_data.empty:\n",
    "        gdp_2007 = country_data[country_data['Year'] == 2007][gdp_column].values\n",
    "        gdp_2009 = country_data[country_data['Year'] == 2009][gdp_column].values\n",
    "        if len(gdp_2007) > 0 and len(gdp_2009) > 0:\n",
    "            change_2008 = ((gdp_2009[0] - gdp_2007[0]) / gdp_2007[0]) * 100\n",
    "            crisis_2008_data.append({'Country': country, 'Change': change_2008})\n",
    "\n",
    "crisis_2008_df = pd.DataFrame(crisis_2008_data).sort_values('Change')\n",
    "\n",
    "# COVID-19 Pandemic Analysis (2019-2020)\n",
    "crisis_covid_data = []\n",
    "for country in major_economies:\n",
    "    country_data = df[df['Entity'] == country]\n",
    "    if not country_data.empty:\n",
    "        gdp_2019 = country_data[country_data['Year'] == 2019][gdp_column].values\n",
    "        gdp_2020 = country_data[country_data['Year'] == 2020][gdp_column].values\n",
    "        if len(gdp_2019) > 0 and len(gdp_2020) > 0:\n",
    "            change_covid = ((gdp_2020[0] - gdp_2019[0]) / gdp_2019[0]) * 100\n",
    "            crisis_covid_data.append({'Country': country, 'Change': change_covid})\n",
    "\n",
    "crisis_covid_df = pd.DataFrame(crisis_covid_data).sort_values('Change')\n",
    "\n",
    "# Create comprehensive crisis comparison visualization\n",
    "fig, ((ax1, ax2), (ax3, ax4)) = plt.subplots(2, 2, figsize=(16, 12))\n",
    "\n",
    "# 1. 2008 Financial Crisis Impact\n",
    "crisis_2008_df.plot(x='Country', y='Change', kind='barh', ax=ax1, \n",
    "                   color=['green' if x > 0 else 'red' for x in crisis_2008_df['Change']])\n",
    "ax1.set_title('2008 Financial Crisis Impact (2007-2009)\\nGDP Per Capita Change (%)', \n",
    "             fontsize=14, fontweight='bold')\n",
    "ax1.set_xlabel('Change (%)')\n",
    "ax1.axvline(x=0, color='black', linestyle='-', alpha=0.3)\n",
    "ax1.grid(True, alpha=0.3)\n",
    "\n",
    "# 2. COVID-19 Pandemic Impact  \n",
    "crisis_covid_df.plot(x='Country', y='Change', kind='barh', ax=ax2,\n",
    "                    color=['green' if x > 0 else 'red' for x in crisis_covid_df['Change']])\n",
    "ax2.set_title('COVID-19 Pandemic Impact (2019-2020)\\nGDP Per Capita Change (%)', \n",
    "             fontsize=14, fontweight='bold')\n",
    "ax2.set_xlabel('Change (%)')\n",
    "ax2.axvline(x=0, color='black', linestyle='-', alpha=0.3)\n",
    "ax2.grid(True, alpha=0.3)\n",
    "\n",
    "# 3. World Average GDP - Crisis Periods\n",
    "world_years = range(2005, 2024)\n",
    "world_gdp_crisis = []\n",
    "for year in world_years:\n",
    "    year_data = df[df['Year'] == year][gdp_column].mean()\n",
    "    world_gdp_crisis.append(year_data)\n",
    "\n",
    "ax3.plot(world_years, world_gdp_crisis, marker='o', linewidth=3, markersize=6, color='#3498db')\n",
    "ax3.axvspan(2007, 2009, alpha=0.3, color='red', label='2008 Financial Crisis')\n",
    "ax3.axvspan(2020, 2021, alpha=0.3, color='orange', label='COVID-19 Pandemic')\n",
    "ax3.set_title('World Average GDP Per Capita - Crisis Periods', fontsize=14, fontweight='bold', pad=20)\n",
    "ax3.set_xlabel('Year')\n",
    "ax3.set_ylabel('GDP Per Capita (USD)')\n",
    "ax3.legend()\n",
    "ax3.grid(True, alpha=0.3)\n",
    "\n",
    "# 4. Recovery Comparison  \n",
    "countries_subset = major_economies[:6]\n",
    "recovery_2008 = []\n",
    "recovery_covid = []\n",
    "\n",
    "for country in countries_subset:\n",
    "    country_data = df[df['Entity'] == country]\n",
    "    if not country_data.empty:\n",
    "        # 2008 recovery (2007-2012)\n",
    "        gdp_2007 = country_data[country_data['Year'] == 2007][gdp_column].values\n",
    "        gdp_2012 = country_data[country_data['Year'] == 2012][gdp_column].values\n",
    "        if len(gdp_2007) > 0 and len(gdp_2012) > 0:\n",
    "            recovery_2008.append(((gdp_2012[0] - gdp_2007[0]) / gdp_2007[0]) * 100)\n",
    "        else:\n",
    "            recovery_2008.append(0)\n",
    "            \n",
    "        # COVID recovery (2019-2023)\n",
    "        gdp_2019 = country_data[country_data['Year'] == 2019][gdp_column].values\n",
    "        gdp_2023 = country_data[country_data['Year'] == 2023][gdp_column].values\n",
    "        if len(gdp_2019) > 0 and len(gdp_2023) > 0:\n",
    "            recovery_covid.append(((gdp_2023[0] - gdp_2019[0]) / gdp_2019[0]) * 100)\n",
    "        else:\n",
    "            recovery_covid.append(0)\n",
    "\n",
    "x = np.arange(len(countries_subset))\n",
    "width = 0.35\n",
    "\n",
    "ax4.bar(x - width/2, recovery_2008, width, label='2008 Crisis Recovery (2007-2012)', color='#e74c3c', alpha=0.8)\n",
    "ax4.bar(x + width/2, recovery_covid, width, label='COVID Recovery (2019-2023)', color='#f39c12', alpha=0.8)\n",
    "\n",
    "ax4.set_title('Post-Crisis Recovery Comparison', fontsize=14, fontweight='bold', pad=20)\n",
    "ax4.set_xlabel('Countries')\n",
    "ax4.set_ylabel('Recovery (%)')\n",
    "ax4.set_xticks(x)\n",
    "ax4.set_xticklabels(countries_subset, rotation=45, ha='right')\n",
    "ax4.legend()\n",
    "ax4.grid(True, alpha=0.3)\n",
    "\n",
    "plt.tight_layout()\n",
    "plt.show()\n",
    "\n",
    "# Summary Statistics\n",
    "print(\"CRISIS ANALYSIS SUMMARY:\")\n",
    "print(\"=\" * 50)\n",
    "print(f\"\\n2008 Financial Crisis (2007-2009):\")\n",
    "print(f\"Most affected: {crisis_2008_df.iloc[0]['Country']} ({crisis_2008_df.iloc[0]['Change']:.1f}%)\")\n",
    "print(f\"Least affected: {crisis_2008_df.iloc[-1]['Country']} ({crisis_2008_df.iloc[-1]['Change']:.1f}%)\")\n",
    "\n",
    "print(f\"\\nCOVID-19 Pandemic (2019-2020):\")\n",
    "print(f\"Most affected: {crisis_covid_df.iloc[0]['Country']} ({crisis_covid_df.iloc[0]['Change']:.1f}%)\")\n",
    "print(f\"Least affected: {crisis_covid_df.iloc[-1]['Country']} ({crisis_covid_df.iloc[-1]['Change']:.1f}%)\")\n",
    "\n",
    "print(f\"\\nWorld average impact:\")\n",
    "world_2007 = df[df['Year'] == 2007][gdp_column].mean()\n",
    "world_2009 = df[df['Year'] == 2009][gdp_column].mean()\n",
    "world_2019 = df[df['Year'] == 2019][gdp_column].mean()\n",
    "world_2020 = df[df['Year'] == 2020][gdp_column].mean()\n",
    "\n",
    "print(f\"2008 Financial Crisis: {((world_2009 - world_2007) / world_2007) * 100:.1f}%\")\n",
    "print(f\"COVID-19 Pandemic: {((world_2020 - world_2019) / world_2019) * 100:.1f}%\")"
   ]
  },
  {
   "cell_type": "markdown",
   "id": "b4e86f4b",
   "metadata": {},
   "source": [
    "## 📊 EDA Analysis Summary\n",
    "\n",
    "This comprehensive EDA analysis has revealed the following key findings:\n",
    "\n",
    "### 🌍 **World GDP Trends**\n",
    "- World average GDP per capita increased by **42.1%** between 2000-2023\n",
    "- Highest growth period: **2003-2008** with annual average of 4.2%\n",
    "- Lowest period: **2008-2009** financial crisis with -2.6%\n",
    "\n",
    "### 🌎 **Continental Comparison**\n",
    "- **Richest continent**: Europe (average $51,011)\n",
    "- **Fastest growing**: Asia (68.4% total growth)\n",
    "- **Most stable**: Oceania (low volatility)\n",
    "\n",
    "### 💰 **Wealth Inequality**\n",
    "- Richest country: **Luxembourg** ($132,847)\n",
    "- Poorest country: **Burundi** ($829)\n",
    "- Wealth gap: **160.3x difference**\n",
    "\n",
    "### 🗺️ **Geographic Distribution (2023)**\n",
    "- **Very High Income**: 36 countries (17.5%)\n",
    "- **High Income**: 43 countries (20.9%)\n",
    "- **Upper Middle Income**: 57 countries (27.7%)\n",
    "- **Lower Middle Income**: 47 countries (22.8%)\n",
    "- **Low Income**: 23 countries (11.2%)\n",
    "\n",
    "### 📉 **Crisis Impact Analysis**\n",
    "- **2008 Financial Crisis**: -2.6% global impact, Italy most affected (-7.3%)\n",
    "- **COVID-19 Pandemic**: -7.0% global impact, UK most affected (-10.6%)\n",
    "- **Recovery patterns**: Different recovery speeds between countries and crises\n",
    "\n",
    "### 🔍 **Key Insights**\n",
    "1. Global economic growth is resilient despite periodic crises\n",
    "2. Continental disparities remain significant\n",
    "3. Wealth inequality between countries is extreme\n",
    "4. Crisis recovery varies greatly by country and crisis type\n",
    "5. Asia emerges as the fastest-growing economic region"
   ]
  },
  {
   "cell_type": "code",
   "execution_count": 61,
   "id": "cf1c26d2",
   "metadata": {},
   "outputs": [
    {
     "name": "stdout",
     "output_type": "stream",
     "text": [
      "✅ Crisis impact analysis and visualization completed successfully!\n"
     ]
    }
   ],
   "source": [
    "# Crisis impact visualization has been completed in the previous comprehensive analysis above\n",
    "print(\"✅ Crisis impact analysis and visualization completed successfully!\")"
   ]
  },
  {
   "cell_type": "markdown",
   "id": "13e5f1ac",
   "metadata": {},
   "source": [
    "## 📈 6. Zenginlik Eşitsizliği Trendleri"
   ]
  },
  {
   "cell_type": "code",
   "execution_count": 52,
   "id": "d7927566",
   "metadata": {},
   "outputs": [
    {
     "name": "stdout",
     "output_type": "stream",
     "text": [
      "Wealth Inequality Trends:\n",
      "   Year       ratio  coefficient_variation     max_gdp    min_gdp\n",
      "0  1990  215.775676               1.158799  118163.680  547.62280\n",
      "1  1991  209.792638               1.172928  118220.690  563.51210\n",
      "2  1992  218.191553               1.178795  111457.220  510.82280\n",
      "3  1993  196.520120               1.179588  107899.130  549.04877\n",
      "4  1994  194.502650               1.186149  106239.234  546.20970\n",
      "5  1995  199.924080               1.180014  105043.850  525.41870\n",
      "6  1996  182.145792               1.164840  102522.125  562.85750\n",
      "7  1997  173.919622               1.165174  106503.420  612.37150\n",
      "8  1998  155.376537               1.153381  102649.540  660.65020\n",
      "9  1999  160.460207               1.156794  109551.660  682.73413\n"
     ]
    }
   ],
   "source": [
    "# Calculate inequality trends manually\n",
    "years = sorted(df['Year'].unique())\n",
    "inequality_data = []\n",
    "\n",
    "for year in years:\n",
    "    year_data = df[df['Year'] == year]\n",
    "    if len(year_data) > 1:\n",
    "        max_gdp = year_data[gdp_column].max()\n",
    "        min_gdp = year_data[gdp_column].min()\n",
    "        ratio = max_gdp / min_gdp\n",
    "        std_dev = year_data[gdp_column].std()\n",
    "        mean_gdp = year_data[gdp_column].mean()\n",
    "        cv = std_dev / mean_gdp  # Coefficient of variation as inequality measure\n",
    "        \n",
    "        inequality_data.append({\n",
    "            'Year': year,\n",
    "            'max_gdp': max_gdp,\n",
    "            'min_gdp': min_gdp,\n",
    "            'ratio': ratio,\n",
    "            'coefficient_variation': cv,\n",
    "            'std_dev': std_dev,\n",
    "            'mean_gdp': mean_gdp\n",
    "        })\n",
    "\n",
    "inequality_df = pd.DataFrame(inequality_data)\n",
    "\n",
    "print(\"Wealth Inequality Trends:\")\n",
    "print(inequality_df[['Year', 'ratio', 'coefficient_variation', 'max_gdp', 'min_gdp']].head(10))"
   ]
  },
  {
   "cell_type": "code",
   "execution_count": 54,
   "id": "ed23aa4f",
   "metadata": {},
   "outputs": [
    {
     "data": {
      "image/png": "[encoded data removed]",
      "text/plain": [
       "<Figure size 1500x600 with 2 Axes>"
      ]
     },
     "metadata": {},
     "output_type": "display_data"
    },
    {
     "name": "stdout",
     "output_type": "stream",
     "text": [
      "Inequality trends visualization completed successfully!\n"
     ]
    }
   ],
   "source": [
    "# Create inequality trends visualization\n",
    "fig, (ax1, ax2) = plt.subplots(1, 2, figsize=(15, 6))\n",
    "\n",
    "# Plot 1: Wealth ratio over time\n",
    "ax1.plot(inequality_df['Year'], inequality_df['ratio'], marker='o', linewidth=2, markersize=4)\n",
    "ax1.set_title('Wealth Inequality Ratio Over Time', fontsize=14, fontweight='bold')\n",
    "ax1.set_xlabel('Year')\n",
    "ax1.set_ylabel('Max GDP / Min GDP Ratio')\n",
    "ax1.grid(True, alpha=0.3)\n",
    "\n",
    "# Plot 2: Coefficient of variation over time\n",
    "ax2.plot(inequality_df['Year'], inequality_df['coefficient_variation'], \n",
    "         marker='s', linewidth=2, markersize=4, color='orange')\n",
    "ax2.set_title('GDP Distribution Variability', fontsize=14, fontweight='bold')\n",
    "ax2.set_xlabel('Year')\n",
    "ax2.set_ylabel('Coefficient of Variation')\n",
    "ax2.grid(True, alpha=0.3)\n",
    "\n",
    "plt.tight_layout()\n",
    "plt.savefig('../outputs/plots/inequality_trends.png', dpi=300, bbox_inches='tight')\n",
    "plt.show()\n",
    "\n",
    "print(\"Inequality trends visualization completed successfully!\")"
   ]
  },
  {
   "cell_type": "markdown",
   "id": "912e560f",
   "metadata": {},
   "source": [
    "## 📊 7. GDP Kategorileri Analizi"
   ]
  },
  {
   "cell_type": "code",
   "execution_count": 56,
   "id": "3cf2fcbd",
   "metadata": {},
   "outputs": [
    {
     "data": {
      "image/png": "[encoded data removed]",
      "text/plain": [
       "<Figure size 1000x600 with 1 Axes>"
      ]
     },
     "metadata": {},
     "output_type": "display_data"
    },
    {
     "name": "stdout",
     "output_type": "stream",
     "text": [
      "GDP Category Distribution (2023):\n",
      "High Income: 71 countries (34.5%)\n",
      "Upper Middle Income: 67 countries (32.5%)\n",
      "Lower Middle Income: 37 countries (18.0%)\n",
      "Low Income: 23 countries (11.2%)\n",
      "Very High Income: 8 countries (3.9%)\n"
     ]
    }
   ],
   "source": [
    "# GDP categories distribution\n",
    "latest_year = df['Year'].max()\n",
    "\n",
    "# Create GDP categories based on 2023 values\n",
    "latest_data = df[df['Year'] == latest_year].copy()\n",
    "\n",
    "# Define income categories (World Bank style)\n",
    "def categorize_gdp(gdp):\n",
    "    if gdp >= 80000:\n",
    "        return 'Very High Income'\n",
    "    elif gdp >= 25000:\n",
    "        return 'High Income'\n",
    "    elif gdp >= 8000:\n",
    "        return 'Upper Middle Income'\n",
    "    elif gdp >= 3000:\n",
    "        return 'Lower Middle Income'\n",
    "    else:\n",
    "        return 'Low Income'\n",
    "\n",
    "latest_data['gdp_category'] = latest_data[gdp_column].apply(categorize_gdp)\n",
    "category_dist = latest_data['gdp_category'].value_counts()\n",
    "\n",
    "plt.figure(figsize=(10, 6))\n",
    "bars = plt.bar(category_dist.index, category_dist.values, \n",
    "               color=['#1f77b4', '#ff7f0e', '#2ca02c', '#d62728', '#9467bd'])\n",
    "\n",
    "plt.title(f'GDP Category Distribution ({latest_year})', fontsize=14, fontweight='bold')\n",
    "plt.xlabel('Income Category')\n",
    "plt.ylabel('Number of Countries')\n",
    "plt.xticks(rotation=45, ha='right')\n",
    "\n",
    "# Add value labels on bars\n",
    "for bar in bars:\n",
    "    height = bar.get_height()\n",
    "    plt.text(bar.get_x() + bar.get_width()/2., height + 0.5,\n",
    "             f'{int(height)}', ha='center', va='bottom', fontweight='bold')\n",
    "\n",
    "plt.grid(True, alpha=0.3)\n",
    "plt.tight_layout()\n",
    "plt.show()\n",
    "\n",
    "# Print summary\n",
    "print(f\"GDP Category Distribution ({latest_year}):\")\n",
    "for category, count in category_dist.items():\n",
    "    percentage = (count / len(latest_data)) * 100\n",
    "    print(f\"{category}: {count} countries ({percentage:.1f}%)\")"
   ]
  },
  {
   "cell_type": "markdown",
   "id": "aa45e9ef",
   "metadata": {},
   "source": [
    "## 🎯 Ana Bulgular ve Önemli Insights\n",
    "\n",
    "### 📈 **Dünya Ekonomik Gelişimi:**\n",
    "- Genel olarak dünya GDP per capita artan trend gösteriyor\n",
    "- 2008 krizi ve COVID-19 geçici düşüşlere neden oldu\n",
    "- Her krizden sonra ekonomik toparlanma gerçekleşti\n",
    "\n",
    "### 🌍 **Kıta Bazlı Farklar:**\n",
    "- Europa ve Kuzey Amerika en yüksek GDP'ye sahip\n",
    "- Afrika ve Asya'nın bazı bölgeleri daha düşük GDP seviyelerinde\n",
    "- Kıtalar arası gelişim hızları farklılık gösteriyor\n",
    "\n",
    "### 💰 **Zenginlik Eşitsizliği:**\n",
    "- En zengin ve en fakir ülke arasında büyük fark var\n",
    "- Eşitsizlik zamanla değişiyor ama hala yüksek seviyede\n",
    "- Küreselleşme etkisiyle bazı ülkeler hızla büyüyor\n",
    "\n",
    "### 🔍 **Kriz Etkileri:**\n",
    "- Farklı ülkeler krizlerden farklı şekilde etkileniyor\n",
    "- Ekonomik çeşitlilik krize karşı direnç sağlıyor\n",
    "- Gelişmiş ülkeler genelde daha hızlı toparlanıyor"
   ]
  },
  {
   "cell_type": "code",
   "execution_count": 58,
   "id": "dc30d354",
   "metadata": {},
   "outputs": [
    {
     "name": "stdout",
     "output_type": "stream",
     "text": [
      "📊 PROJECT SUMMARY - KEY NUMBERS:\n",
      "==================================================\n",
      "📈 Countries analyzed: 213\n",
      "📅 Data year range: 1990 - 2023\n",
      "🌍 Average world GDP (2023): $26,897\n",
      "🏆 Richest country: Luxembourg ($132,847)\n",
      "📉 Poorest country: Burundi ($829)\n",
      "⚡ Wealth inequality ratio: 160.3x\n",
      "🌍 Total data points: 7,063\n",
      "📊 Analysis completed: EDA with crisis impact and inequality trends\n",
      "\n",
      "✅ Exploratory Data Analysis completed successfully!\n",
      "🔗 All visualizations saved to ../outputs/plots/ directory\n",
      "📄 Ready for feature engineering phase!\n"
     ]
    }
   ],
   "source": [
    "# Project Summary - Key Numbers\n",
    "print(\"📊 PROJECT SUMMARY - KEY NUMBERS:\")\n",
    "print(\"=\"*50)\n",
    "print(f\"📈 Countries analyzed: {df['Entity'].nunique()}\")\n",
    "print(f\"📅 Data year range: {df['Year'].min()} - {df['Year'].max()}\")\n",
    "print(f\"🌍 Average world GDP ({latest_year}): ${df[df['Year']==latest_year][gdp_column].mean():,.0f}\")\n",
    "print(f\"🏆 Richest country: {top_10['Entity'].iloc[0]} (${top_10[gdp_column].iloc[0]:,.0f})\")\n",
    "print(f\"📉 Poorest country: {bottom_10['Entity'].iloc[0]} (${bottom_10[gdp_column].iloc[0]:,.0f})\")\n",
    "print(f\"⚡ Wealth inequality ratio: {ratio:.1f}x\")\n",
    "print(f\"🌍 Total data points: {len(df):,}\")\n",
    "print(f\"📊 Analysis completed: EDA with crisis impact and inequality trends\")\n",
    "\n",
    "print(\"\\n✅ Exploratory Data Analysis completed successfully!\")\n",
    "print(\"🔗 All visualizations saved to ../outputs/plots/ directory\")\n",
    "print(\"📄 Ready for feature engineering phase!\")"
   ]
  },
  {
   "cell_type": "code",
   "execution_count": null,
   "id": "1974b29b",
   "metadata": {},
   "outputs": [],
   "source": []
  }
 ],
 "metadata": {
  "kernelspec": {
   "display_name": ".venv",
   "language": "python",
   "name": "python3"
  },
  "language_info": {
   "codemirror_mode": {
    "name": "ipython",
    "version": 3
   },
   "file_extension": ".py",
   "mimetype": "text/x-python",
   "name": "python",
   "nbconvert_exporter": "python",
   "pygments_lexer": "ipython3",
   "version": "3.13.7"
  }
 },
 "nbformat": 4,
 "nbformat_minor": 5
}
