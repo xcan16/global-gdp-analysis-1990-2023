{
 "cells": [
  {
   "cell_type": "markdown",
   "id": "eca93d84",
   "metadata": {},
   "source": [
    "# 📊 GDP Per Capita Data Exploration & Cleaning\n",
    "\n",
    "In this notebook, we will explore and clean the World Bank GDP per capita dataset.\n",
    "\n",
    "## 🎯 Objectives:\n",
    "- Understand the structure of the dataset\n",
    "- Analyze missing values\n",
    "- Basic statistical properties\n",
    "- Data cleaning procedures"
   ]
  },
  {
   "cell_type": "code",
   "execution_count": 23,
   "id": "c90953b0",
   "metadata": {},
   "outputs": [
    {
     "name": "stdout",
     "output_type": "stream",
     "text": [
      "✅ Libraries loaded successfully!\n"
     ]
    }
   ],
   "source": [
    "# Import required libraries\n",
    "import pandas as pd\n",
    "import numpy as np\n",
    "import matplotlib.pyplot as plt\n",
    "import seaborn as sns\n",
    "import warnings\n",
    "\n",
    "# Visualization settings\n",
    "plt.style.use('seaborn-v0_8')\n",
    "sns.set_palette(\"husl\")\n",
    "warnings.filterwarnings('ignore')\n",
    "\n",
    "# Display settings\n",
    "pd.set_option('display.max_columns', None)\n",
    "pd.set_option('display.max_rows', 100)\n",
    "\n",
    "print(\"✅ Libraries loaded successfully!\")"
   ]
  },
  {
   "cell_type": "code",
   "execution_count": 9,
   "id": "546f9e9b",
   "metadata": {},
   "outputs": [
    {
     "name": "stdout",
     "output_type": "stream",
     "text": [
      "📈 Veri seti başarıyla yüklendi!\n",
      "📊 Boyut: 7063 satır x 4 sütun\n"
     ]
    }
   ],
   "source": [
    "# Load the dataset (using relative path - suitable for GitHub)\n",
    "df = pd.read_csv('../data/gdp-per-capita-worldbank.csv')\n",
    "\n",
    "print(f\"📈 Dataset loaded successfully!\")\n",
    "print(f\"📊 Dimensions: {df.shape[0]} rows x {df.shape[1]} columns\")"
   ]
  },
  {
   "cell_type": "markdown",
   "id": "3b181297",
   "metadata": {},
   "source": [
    "## 🔍 Dataset Structure Analysis"
   ]
  },
  {
   "cell_type": "code",
   "execution_count": null,
   "id": "3da38757",
   "metadata": {},
   "outputs": [
    {
     "name": "stdout",
     "output_type": "stream",
     "text": [
      "📋 İlk 5 satır:\n"
     ]
    },
    {
     "data": {
      "text/html": [
       "<div>\n",
       "<style scoped>\n",
       "    .dataframe tbody tr th:only-of-type {\n",
       "        vertical-align: middle;\n",
       "    }\n",
       "\n",
       "    .dataframe tbody tr th {\n",
       "        vertical-align: top;\n",
       "    }\n",
       "\n",
       "    .dataframe thead th {\n",
       "        text-align: right;\n",
       "    }\n",
       "</style>\n",
       "<table border=\"1\" class=\"dataframe\">\n",
       "  <thead>\n",
       "    <tr style=\"text-align: right;\">\n",
       "      <th></th>\n",
       "      <th>Entity</th>\n",
       "      <th>Code</th>\n",
       "      <th>Year</th>\n",
       "      <th>GDP per capita, PPP (constant 2021 international $)</th>\n",
       "    </tr>\n",
       "  </thead>\n",
       "  <tbody>\n",
       "    <tr>\n",
       "      <th>0</th>\n",
       "      <td>Afghanistan</td>\n",
       "      <td>AFG</td>\n",
       "      <td>2000</td>\n",
       "      <td>1617.8264</td>\n",
       "    </tr>\n",
       "    <tr>\n",
       "      <th>1</th>\n",
       "      <td>Afghanistan</td>\n",
       "      <td>AFG</td>\n",
       "      <td>2001</td>\n",
       "      <td>1454.1108</td>\n",
       "    </tr>\n",
       "    <tr>\n",
       "      <th>2</th>\n",
       "      <td>Afghanistan</td>\n",
       "      <td>AFG</td>\n",
       "      <td>2002</td>\n",
       "      <td>1774.3087</td>\n",
       "    </tr>\n",
       "    <tr>\n",
       "      <th>3</th>\n",
       "      <td>Afghanistan</td>\n",
       "      <td>AFG</td>\n",
       "      <td>2003</td>\n",
       "      <td>1815.9282</td>\n",
       "    </tr>\n",
       "    <tr>\n",
       "      <th>4</th>\n",
       "      <td>Afghanistan</td>\n",
       "      <td>AFG</td>\n",
       "      <td>2004</td>\n",
       "      <td>1776.9182</td>\n",
       "    </tr>\n",
       "  </tbody>\n",
       "</table>\n",
       "</div>"
      ],
      "text/plain": [
       "        Entity Code  Year  GDP per capita, PPP (constant 2021 international $)\n",
       "0  Afghanistan  AFG  2000                                          1617.8264  \n",
       "1  Afghanistan  AFG  2001                                          1454.1108  \n",
       "2  Afghanistan  AFG  2002                                          1774.3087  \n",
       "3  Afghanistan  AFG  2003                                          1815.9282  \n",
       "4  Afghanistan  AFG  2004                                          1776.9182  "
      ]
     },
     "metadata": {},
     "output_type": "display_data"
    }
   ],
   "source": [
    "# Display first 5 rows\n",
    "print(\"📋 First 5 rows:\")\n",
    "display(df.head())"
   ]
  },
  {
   "cell_type": "code",
   "execution_count": null,
   "id": "f0413f9d",
   "metadata": {},
   "outputs": [
    {
     "name": "stdout",
     "output_type": "stream",
     "text": [
      "📄 Sütun Bilgileri:\n",
      "<class 'pandas.core.frame.DataFrame'>\n",
      "RangeIndex: 7063 entries, 0 to 7062\n",
      "Data columns (total 4 columns):\n",
      " #   Column                                               Non-Null Count  Dtype  \n",
      "---  ------                                               --------------  -----  \n",
      " 0   Entity                                               7063 non-null   object \n",
      " 1   Code                                                 6605 non-null   object \n",
      " 2   Year                                                 7063 non-null   int64  \n",
      " 3   GDP per capita, PPP (constant 2021 international $)  7063 non-null   float64\n",
      "dtypes: float64(1), int64(1), object(2)\n",
      "memory usage: 220.8+ KB\n",
      "None\n"
     ]
    }
   ],
   "source": [
    "# Column information\n",
    "print(\"📄 Column Information:\")\n",
    "print(df.info())"
   ]
  },
  {
   "cell_type": "code",
   "execution_count": null,
   "id": "9d1feedb",
   "metadata": {},
   "outputs": [
    {
     "name": "stdout",
     "output_type": "stream",
     "text": [
      "📝 Sütun İsimleri:\n",
      "1. Entity\n",
      "2. Code\n",
      "3. Year\n",
      "4. GDP per capita, PPP (constant 2021 international $)\n"
     ]
    }
   ],
   "source": [
    "# Check column names\n",
    "print(\"📝 Column Names:\")\n",
    "for i, col in enumerate(df.columns, 1):\n",
    "    print(f\"{i}. {col}\")"
   ]
  },
  {
   "cell_type": "code",
   "execution_count": null,
   "id": "fd76b504",
   "metadata": {},
   "outputs": [
    {
     "name": "stdout",
     "output_type": "stream",
     "text": [
      "🌍 Toplam ülke/bölge sayısı: 213\n",
      "📅 Yıl aralığı: 1990 - 2023\n",
      "📊 Toplam veri noktası: 7063\n"
     ]
    }
   ],
   "source": [
    "# Number of unique countries\n",
    "print(f\"🌍 Total number of countries/regions: {df['Entity'].nunique()}\")\n",
    "print(f\"📅 Year range: {df['Year'].min()} - {df['Year'].max()}\")\n",
    "print(f\"📊 Total data points: {len(df)}\")"
   ]
  },
  {
   "cell_type": "markdown",
   "id": "95c76606",
   "metadata": {},
   "source": [
    "## 🔎 Missing Values Analysis"
   ]
  },
  {
   "cell_type": "code",
   "execution_count": null,
   "id": "6956b56a",
   "metadata": {},
   "outputs": [
    {
     "name": "stdout",
     "output_type": "stream",
     "text": [
      "❌ Missing Values Analizi:\n"
     ]
    },
    {
     "data": {
      "text/html": [
       "<div>\n",
       "<style scoped>\n",
       "    .dataframe tbody tr th:only-of-type {\n",
       "        vertical-align: middle;\n",
       "    }\n",
       "\n",
       "    .dataframe tbody tr th {\n",
       "        vertical-align: top;\n",
       "    }\n",
       "\n",
       "    .dataframe thead th {\n",
       "        text-align: right;\n",
       "    }\n",
       "</style>\n",
       "<table border=\"1\" class=\"dataframe\">\n",
       "  <thead>\n",
       "    <tr style=\"text-align: right;\">\n",
       "      <th></th>\n",
       "      <th>Missing Count</th>\n",
       "      <th>Missing Percentage</th>\n",
       "    </tr>\n",
       "  </thead>\n",
       "  <tbody>\n",
       "    <tr>\n",
       "      <th>Code</th>\n",
       "      <td>458</td>\n",
       "      <td>6.484497</td>\n",
       "    </tr>\n",
       "  </tbody>\n",
       "</table>\n",
       "</div>"
      ],
      "text/plain": [
       "      Missing Count  Missing Percentage\n",
       "Code            458            6.484497"
      ]
     },
     "metadata": {},
     "output_type": "display_data"
    }
   ],
   "source": [
    "# Missing values check\n",
    "print(\"❌ Missing Values Analysis:\")\n",
    "missing_data = df.isnull().sum()\n",
    "missing_percent = (df.isnull().sum() / len(df)) * 100\n",
    "\n",
    "missing_df = pd.DataFrame({\n",
    "    'Missing Count': missing_data,\n",
    "    'Missing Percentage': missing_percent\n",
    "})\n",
    "\n",
    "display(missing_df[missing_df['Missing Count'] > 0])"
   ]
  },
  {
   "cell_type": "code",
   "execution_count": null,
   "id": "ea5a13b4",
   "metadata": {},
   "outputs": [
    {
     "name": "stdout",
     "output_type": "stream",
     "text": [
      "💰 GDP sütunu: GDP per capita, PPP (constant 2021 international $)\n",
      "\n",
      "❌ GDP verisi olmayan kayıt sayısı: 0\n"
     ]
    }
   ],
   "source": [
    "# Use the actual GDP column name\n",
    "gdp_column = [col for col in df.columns if 'GDP' in col or 'capita' in col or col not in ['Entity', 'Code', 'Year']][0]\n",
    "print(f\"💰 GDP column: {gdp_column}\")\n",
    "\n",
    "# Countries with missing GDP values\n",
    "missing_gdp = df[df[gdp_column].isnull()]\n",
    "print(f\"\\n❌ Number of records without GDP data: {len(missing_gdp)}\")\n",
    "\n",
    "if len(missing_gdp) > 0:\n",
    "    print(\"\\n🔍 Some countries with missing GDP data:\")\n",
    "    print(missing_gdp[['Entity', 'Year']].head(10))"
   ]
  },
  {
   "cell_type": "markdown",
   "id": "a01c0122",
   "metadata": {},
   "source": [
    "## 📊 Basic Statistical Analysis"
   ]
  },
  {
   "cell_type": "code",
   "execution_count": null,
   "id": "126fa622",
   "metadata": {},
   "outputs": [
    {
     "name": "stdout",
     "output_type": "stream",
     "text": [
      "📈 GDP Per Capita Temel İstatistikleri:\n"
     ]
    },
    {
     "data": {
      "text/plain": [
       "count      7063.000000\n",
       "mean      21567.903487\n",
       "std       23684.139939\n",
       "min         510.822800\n",
       "25%        4350.824950\n",
       "50%       12562.891000\n",
       "75%       31977.909000\n",
       "max      174339.080000\n",
       "Name: GDP per capita, PPP (constant 2021 international $), dtype: float64"
      ]
     },
     "metadata": {},
     "output_type": "display_data"
    }
   ],
   "source": [
    "# Basic statistics\n",
    "print(\"📈 GDP Per Capita Basic Statistics:\")\n",
    "display(df[gdp_column].describe())"
   ]
  },
  {
   "cell_type": "code",
   "execution_count": null,
   "id": "12a156a2",
   "metadata": {},
   "outputs": [
    {
     "data": {
      "image/png": "[encoded data removed]",
      "text/plain": [
       "<Figure size 1500x500 with 2 Axes>"
      ]
     },
     "metadata": {},
     "output_type": "display_data"
    },
    {
     "name": "stdout",
     "output_type": "stream",
     "text": [
      "\n",
      "🔍 Outlier sayısı: 267 (3.8%)\n"
     ]
    }
   ],
   "source": [
    "# Visualize GDP distribution\n",
    "fig, axes = plt.subplots(1, 2, figsize=(15, 5))\n",
    "\n",
    "# Histogram\n",
    "axes[0].hist(df[gdp_column].dropna(), bins=50, alpha=0.7, color='skyblue', edgecolor='black')\n",
    "axes[0].set_title('GDP Per Capita Distribution', fontsize=14, fontweight='bold')\n",
    "axes[0].set_xlabel('GDP Per Capita (USD)')\n",
    "axes[0].set_ylabel('Frequency')\n",
    "axes[0].grid(True, alpha=0.3)\n",
    "\n",
    "# Box plot\n",
    "axes[1].boxplot(df[gdp_column].dropna(), vert=True)\n",
    "axes[1].set_title('GDP Per Capita Box Plot', fontsize=14, fontweight='bold')\n",
    "axes[1].set_ylabel('GDP Per Capita (USD)')\n",
    "axes[1].grid(True, alpha=0.3)\n",
    "\n",
    "plt.tight_layout()\n",
    "plt.show()\n",
    "\n",
    "# Outlier analysis\n",
    "Q1 = df[gdp_column].quantile(0.25)\n",
    "Q3 = df[gdp_column].quantile(0.75)\n",
    "IQR = Q3 - Q1\n",
    "lower_bound = Q1 - 1.5 * IQR\n",
    "upper_bound = Q3 + 1.5 * IQR\n",
    "\n",
    "outliers = df[(df[gdp_column] < lower_bound) | (df[gdp_column] > upper_bound)]\n",
    "print(f\"\\n🔍 Number of outliers: {len(outliers)} ({len(outliers)/len(df)*100:.1f}%)\")"
   ]
  },
  {
   "cell_type": "markdown",
   "id": "ec91e63b",
   "metadata": {},
   "source": [
    "## 🌍 Countries and Years Analysis"
   ]
  },
  {
   "cell_type": "code",
   "execution_count": null,
   "id": "767cb7e1",
   "metadata": {},
   "outputs": [
    {
     "name": "stdout",
     "output_type": "stream",
     "text": [
      "🏆 En çok veri noktası olan ülkeler:\n",
      "Entity\n",
      "Albania                34\n",
      "Andorra                34\n",
      "Algeria                34\n",
      "Angola                 34\n",
      "Antigua and Barbuda    34\n",
      "Bahrain                34\n",
      "Argentina              34\n",
      "Armenia                34\n",
      "Aruba                  34\n",
      "Australia              34\n",
      "dtype: int64\n",
      "\n",
      "⚠️ En az veri noktası olan ülkeler:\n",
      "Entity\n",
      "San Marino                      26\n",
      "Afghanistan                     24\n",
      "Curacao                         24\n",
      "United States Virgin Islands    21\n",
      "Cayman Islands                  18\n",
      "Faeroe Islands                  16\n",
      "Kosovo                          16\n",
      "Sint Maarten (Dutch part)       15\n",
      "Turks and Caicos Islands        13\n",
      "Djibouti                        11\n",
      "dtype: int64\n"
     ]
    }
   ],
   "source": [
    "# Countries with most and least data points\n",
    "country_data_count = df.groupby('Entity').size().sort_values(ascending=False)\n",
    "\n",
    "print(\"🏆 Countries with most data points:\")\n",
    "print(country_data_count.head(10))\n",
    "\n",
    "print(\"\\n⚠️ Countries with least data points:\")\n",
    "print(country_data_count.tail(10))"
   ]
  },
  {
   "cell_type": "code",
   "execution_count": null,
   "id": "7216d3c0",
   "metadata": {},
   "outputs": [
    {
     "data": {
      "image/png": "[encoded data removed]",
      "text/plain": [
       "<Figure size 1200x600 with 1 Axes>"
      ]
     },
     "metadata": {},
     "output_type": "display_data"
    },
    {
     "name": "stdout",
     "output_type": "stream",
     "text": [
      "📊 En çok veri olan yıl: 2013 (213 ülke)\n",
      "📊 En az veri olan yıl: 1990 (199 ülke)\n"
     ]
    }
   ],
   "source": [
    "# Number of data points by year\n",
    "yearly_count = df.groupby('Year').size()\n",
    "\n",
    "plt.figure(figsize=(12, 6))\n",
    "yearly_count.plot(kind='line', marker='o', linewidth=2, markersize=4)\n",
    "plt.title('Number of Data Points by Year', fontsize=14, fontweight='bold')\n",
    "plt.xlabel('Year')\n",
    "plt.ylabel('Number of Data Points')\n",
    "plt.grid(True, alpha=0.3)\n",
    "plt.xticks(rotation=45)\n",
    "plt.tight_layout()\n",
    "plt.show()\n",
    "\n",
    "print(f\"📊 Year with most data: {yearly_count.idxmax()} ({yearly_count.max()} countries)\")\n",
    "print(f\"📊 Year with least data: {yearly_count.idxmin()} ({yearly_count.min()} countries)\")"
   ]
  },
  {
   "cell_type": "markdown",
   "id": "bdeab351",
   "metadata": {},
   "source": [
    "## 🧹 Data Cleaning"
   ]
  },
  {
   "cell_type": "code",
   "execution_count": null,
   "id": "080f313f",
   "metadata": {},
   "outputs": [
    {
     "name": "stdout",
     "output_type": "stream",
     "text": [
      "🔢 Temizleme öncesi veri boyutu: (7063, 4)\n",
      "✅ Missing GDP değerleri kaldırıldı: (7063, 4)\n",
      "✅ Negatif GDP değeri bulunamadı\n",
      "\n",
      "🎉 Final temiz veri boyutu: (7063, 4)\n",
      "📉 Kaldırılan kayıt oranı: 0.0%\n"
     ]
    }
   ],
   "source": [
    "# Data size before cleaning\n",
    "print(f\"🔢 Data size before cleaning: {df.shape}\")\n",
    "\n",
    "# 1. Remove missing GDP values\n",
    "df_clean = df.dropna(subset=[gdp_column]).copy()\n",
    "print(f\"✅ Missing GDP values removed: {df_clean.shape}\")\n",
    "\n",
    "# 2. Check for negative GDP values\n",
    "negative_gdp = df_clean[df_clean[gdp_column] < 0]\n",
    "if len(negative_gdp) > 0:\n",
    "    print(f\"⚠️ Records with negative GDP: {len(negative_gdp)}\")\n",
    "    df_clean = df_clean[df_clean[gdp_column] >= 0]\n",
    "    print(f\"✅ Negative values removed: {df_clean.shape}\")\n",
    "else:\n",
    "    print(\"✅ No negative GDP values found\")\n",
    "\n",
    "# 3. Check for extreme outliers (very high values)\n",
    "extreme_outliers = df_clean[df_clean[gdp_column] > 200000]  # Above 200k USD\n",
    "if len(extreme_outliers) > 0:\n",
    "    print(f\"\\n🔍 Extremely high GDP values ({len(extreme_outliers)} records):\")\n",
    "    print(extreme_outliers[['Entity', 'Year', gdp_column]].head())\n",
    "\n",
    "print(f\"\\n🎉 Final cleaned data size: {df_clean.shape}\")\n",
    "print(f\"📉 Percentage of removed records: {((len(df) - len(df_clean)) / len(df) * 100):.1f}%\")"
   ]
  },
  {
   "cell_type": "code",
   "execution_count": null,
   "id": "95ece468",
   "metadata": {},
   "outputs": [
    {
     "name": "stdout",
     "output_type": "stream",
     "text": [
      "📊 Temizlenmiş Veri Özeti:\n",
      "🌍 Ülke sayısı: 213\n",
      "📅 Yıl aralığı: 1990 - 2023\n",
      "💰 GDP aralığı: $511 - $174,339\n",
      "📈 Ortalama GDP: $21,568\n",
      "📊 Medyan GDP: $12,563\n"
     ]
    }
   ],
   "source": [
    "# Summary of cleaned data\n",
    "print(\"📊 Cleaned Data Summary:\")\n",
    "print(f\"🌍 Number of countries: {df_clean['Entity'].nunique()}\")\n",
    "print(f\"📅 Year range: {df_clean['Year'].min()} - {df_clean['Year'].max()}\")\n",
    "print(f\"💰 GDP range: ${df_clean[gdp_column].min():,.0f} - ${df_clean[gdp_column].max():,.0f}\")\n",
    "print(f\"📈 Average GDP: ${df_clean[gdp_column].mean():,.0f}\")\n",
    "print(f\"📊 Median GDP: ${df_clean[gdp_column].median():,.0f}\")"
   ]
  },
  {
   "cell_type": "code",
   "execution_count": 22,
   "id": "76a52efc",
   "metadata": {},
   "outputs": [
    {
     "name": "stdout",
     "output_type": "stream",
     "text": [
      "📊 Cleaned dataset size: (7063, 4)\n",
      "📈 Average GDP: $21,568\n",
      "📊 Median GDP: $12,563\n",
      "💾 Cleaned data saved as '../data/gdp_cleaned.csv'!\n",
      "\n",
      "🔧 GDP column name: GDP per capita, PPP (constant 2021 international $)\n",
      "✅ Data exploration and cleaning completed!\n"
     ]
    }
   ],
   "source": [
    "# Create cleaned dataset by removing missing GDP values\n",
    "df_clean = df.dropna(subset=[gdp_column]).copy()\n",
    "\n",
    "# Remove negative GDP values if any\n",
    "df_clean = df_clean[df_clean[gdp_column] >= 0]\n",
    "\n",
    "print(f\"📊 Cleaned dataset size: {df_clean.shape}\")\n",
    "print(f\"📈 Average GDP: ${df_clean[gdp_column].mean():,.0f}\")\n",
    "print(f\"📊 Median GDP: ${df_clean[gdp_column].median():,.0f}\")\n",
    "\n",
    "# Save cleaned dataset\n",
    "df_clean.to_csv('../data/gdp_cleaned.csv', index=False)\n",
    "print(\"💾 Cleaned data saved as '../data/gdp_cleaned.csv'!\")\n",
    "\n",
    "# Set global variable for usage\n",
    "GDP_COLUMN = gdp_column\n",
    "print(f\"\\n🔧 GDP column name: {GDP_COLUMN}\")\n",
    "print(\"✅ Data exploration and cleaning completed!\")"
   ]
  }
 ],
 "metadata": {
  "kernelspec": {
   "display_name": ".venv",
   "language": "python",
   "name": "python3"
  },
  "language_info": {
   "codemirror_mode": {
    "name": "ipython",
    "version": 3
   },
   "file_extension": ".py",
   "mimetype": "text/x-python",
   "name": "python",
   "nbconvert_exporter": "python",
   "pygments_lexer": "ipython3",
   "version": "3.13.7"
  }
 },
 "nbformat": 4,
 "nbformat_minor": 5
}
