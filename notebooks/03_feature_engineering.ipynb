{
 "cells": [
  {
   "cell_type": "markdown",
   "id": "5378293e",
   "metadata": {},
   "source": [
    "# 🔧 Feature Engineering: GDP Per Capita Analysis (1990-2023)\n",
    "\n",
    "**Author**: Portfolio Project for Global Analysis  \n",
    "**Dataset**: World Bank GDP Per Capita Data (1990-2023)  \n",
    "**Objective**: Create advanced features for economic analysis including growth rates, volatility measures, and economic cycle indicators\n",
    "\n",
    "---\n",
    "\n",
    "## 📋 Feature Engineering Plan\n",
    "\n",
    "1. **Growth Rate Analysis** - YoY, compound annual growth rates\n",
    "2. **Moving Averages & Trends** - 3, 5, 10-year moving averages\n",
    "3. **Volatility Measures** - Standard deviation, coefficient of variation\n",
    "4. **Economic Cycles** - Recession detection, recovery periods\n",
    "5. **Relative Performance** - Country vs world average\n",
    "6. **Advanced Metrics** - GDP momentum, acceleration indicators"
   ]
  },
  {
   "cell_type": "code",
   "execution_count": 10,
   "id": "d0aff76d",
   "metadata": {},
   "outputs": [
    {
     "name": "stdout",
     "output_type": "stream",
     "text": [
      "✅ Libraries imported successfully!\n",
      "📊 Pandas version: 2.3.2\n",
      "🔢 NumPy version: 2.3.3\n"
     ]
    }
   ],
   "source": [
    "# Import Required Libraries\n",
    "import pandas as pd\n",
    "import numpy as np\n",
    "import matplotlib.pyplot as plt\n",
    "import seaborn as sns\n",
    "import plotly.express as px\n",
    "import plotly.graph_objects as go\n",
    "from plotly.subplots import make_subplots\n",
    "import warnings\n",
    "warnings.filterwarnings('ignore')\n",
    "\n",
    "# Set style for visualizations\n",
    "plt.style.use('seaborn-v0_8')\n",
    "sns.set_palette(\"husl\")\n",
    "\n",
    "# Display settings\n",
    "pd.set_option('display.max_columns', None)\n",
    "pd.set_option('display.max_rows', 100)\n",
    "\n",
    "print(\"✅ Libraries imported successfully!\")\n",
    "print(f\"📊 Pandas version: {pd.__version__}\")\n",
    "print(f\"🔢 NumPy version: {np.__version__}\")"
   ]
  },
  {
   "cell_type": "markdown",
   "id": "67d86e3c",
   "metadata": {},
   "source": [
    "## 📁 Data Loading and Preparation"
   ]
  },
  {
   "cell_type": "code",
   "execution_count": 11,
   "id": "1f918e6d",
   "metadata": {},
   "outputs": [
    {
     "name": "stdout",
     "output_type": "stream",
     "text": [
      "📈 Dataset shape: (7063, 5)\n",
      "📅 Year range: 1990 - 2023\n",
      "🌍 Number of countries: 213\n",
      "🌎 Countries with continent mapping: 6160\n"
     ]
    }
   ],
   "source": [
    "# Load the dataset\n",
    "df = pd.read_csv('../data/gdp-per-capita-worldbank.csv')\n",
    "\n",
    "# Add continent mapping\n",
    "import sys\n",
    "sys.path.append('../src')\n",
    "from utils import get_continent_mapping\n",
    "\n",
    "continent_mapping = get_continent_mapping()\n",
    "df['Continent'] = df['Entity'].map(continent_mapping)\n",
    "\n",
    "# Basic info\n",
    "gdp_column = 'GDP per capita, PPP (constant 2021 international $)'\n",
    "print(f\"📈 Dataset shape: {df.shape}\")\n",
    "print(f\"📅 Year range: {df['Year'].min()} - {df['Year'].max()}\")\n",
    "print(f\"🌍 Number of countries: {df['Entity'].nunique()}\")\n",
    "print(f\"🌎 Countries with continent mapping: {df['Continent'].notna().sum()}\")"
   ]
  },
  {
   "cell_type": "code",
   "execution_count": 12,
   "id": "73df5bc2",
   "metadata": {},
   "outputs": [
    {
     "name": "stdout",
     "output_type": "stream",
     "text": [
      "🔍 Column names:\n",
      "['Entity', 'Code', 'Year', 'GDP per capita, PPP (constant 2021 international $)', 'Continent']\n",
      "\n",
      "💰 GDP column being used: 'GDP per capita, PPP (constant 2021 international $)'\n"
     ]
    }
   ],
   "source": [
    "# Check the exact column names\n",
    "print(\"🔍 Column names:\")\n",
    "print(df.columns.tolist())\n",
    "print(f\"\\n💰 GDP column being used: '{gdp_column}'\")"
   ]
  },
  {
   "cell_type": "markdown",
   "id": "f21c314f",
   "metadata": {},
   "source": [
    "## 🚀 Feature Engineering Implementation\n",
    "\n",
    "### 1. Growth Rate Features"
   ]
  },
  {
   "cell_type": "code",
   "execution_count": 13,
   "id": "796ea7b4",
   "metadata": {},
   "outputs": [
    {
     "name": "stdout",
     "output_type": "stream",
     "text": [
      "✅ Growth rate features calculated!\n",
      "📊 New features added: yoy_growth, growth_3y, growth_5y, growth_10y, cagr_5y\n",
      "📈 Sample data shape: (7063, 10)\n",
      "\n",
      "📋 Sample growth features for United States (last 10 years):\n",
      "      Year  GDP per capita, PPP (constant 2021 international $)  yoy_growth  \\\n",
      "6760  2014                                           63191.25          1.77   \n",
      "6761  2015                                           64575.41          2.19   \n",
      "6762  2016                                           65275.57          1.08   \n",
      "6763  2017                                           66458.02          1.81   \n",
      "6764  2018                                           68070.21          2.43   \n",
      "6765  2019                                           69511.77          2.12   \n",
      "6766  2020                                           67352.39         -3.11   \n",
      "6767  2021                                           71318.30          5.89   \n",
      "6768  2022                                           72841.92          2.14   \n",
      "6769  2023                                           74577.51          2.38   \n",
      "\n",
      "      growth_5y  cagr_5y  \n",
      "6760       7.62     1.48  \n",
      "6761       7.99     1.55  \n",
      "6762       8.26     1.60  \n",
      "6763       8.55     1.65  \n",
      "6764       9.63     1.86  \n",
      "6765      10.00     1.92  \n",
      "6766       4.30     0.85  \n",
      "6767       9.26     1.79  \n",
      "6768       9.61     1.85  \n",
      "6769       9.56     1.84  \n"
     ]
    }
   ],
   "source": [
    "def calculate_growth_features(df, entity_col='Entity', year_col='Year', value_col=None):\n",
    "    \"\"\"\n",
    "    Calculate various growth rate features for time series data\n",
    "    \"\"\"\n",
    "    if value_col is None:\n",
    "        value_col = gdp_column\n",
    "    \n",
    "    df_features = df.copy()\n",
    "    df_features = df_features.sort_values([entity_col, year_col])\n",
    "    \n",
    "    # Year-over-Year Growth Rate\n",
    "    df_features['yoy_growth'] = df_features.groupby(entity_col)[value_col].pct_change() * 100\n",
    "    \n",
    "    # 3-Year Growth Rate\n",
    "    df_features['growth_3y'] = df_features.groupby(entity_col)[value_col].pct_change(periods=3) * 100\n",
    "    \n",
    "    # 5-Year Growth Rate\n",
    "    df_features['growth_5y'] = df_features.groupby(entity_col)[value_col].pct_change(periods=5) * 100\n",
    "    \n",
    "    # 10-Year Growth Rate\n",
    "    df_features['growth_10y'] = df_features.groupby(entity_col)[value_col].pct_change(periods=10) * 100\n",
    "    \n",
    "    # Simplified CAGR calculation\n",
    "    def calculate_cagr_simple(group, periods=5):\n",
    "        cagr_values = []\n",
    "        for i in range(len(group)):\n",
    "            if i < periods:\n",
    "                cagr_values.append(np.nan)\n",
    "            else:\n",
    "                start_value = group.iloc[i - periods]\n",
    "                end_value = group.iloc[i]\n",
    "                if start_value > 0 and end_value > 0:\n",
    "                    cagr = ((end_value / start_value) ** (1/periods) - 1) * 100\n",
    "                    cagr_values.append(cagr)\n",
    "                else:\n",
    "                    cagr_values.append(np.nan)\n",
    "        return cagr_values\n",
    "    \n",
    "    # Apply CAGR calculation by group\n",
    "    cagr_results = []\n",
    "    for entity in df_features[entity_col].unique():\n",
    "        entity_data = df_features[df_features[entity_col] == entity].copy()\n",
    "        entity_data = entity_data.sort_values(year_col)\n",
    "        cagr_vals = calculate_cagr_simple(entity_data[value_col], periods=5)\n",
    "        \n",
    "        for idx, val in zip(entity_data.index, cagr_vals):\n",
    "            cagr_results.append({'index': idx, 'cagr_5y': val})\n",
    "    \n",
    "    # Create CAGR dataframe and merge\n",
    "    cagr_df = pd.DataFrame(cagr_results).set_index('index')\n",
    "    df_features['cagr_5y'] = cagr_df['cagr_5y']\n",
    "    \n",
    "    return df_features\n",
    "\n",
    "# Apply growth feature calculation\n",
    "df_with_growth = calculate_growth_features(df)\n",
    "\n",
    "print(\"✅ Growth rate features calculated!\")\n",
    "print(f\"📊 New features added: yoy_growth, growth_3y, growth_5y, growth_10y, cagr_5y\")\n",
    "print(f\"📈 Sample data shape: {df_with_growth.shape}\")\n",
    "\n",
    "# Display sample\n",
    "sample_country = 'United States'\n",
    "sample_data = df_with_growth[df_with_growth['Entity'] == sample_country].tail(10)\n",
    "print(f\"\\n📋 Sample growth features for {sample_country} (last 10 years):\")\n",
    "display_cols = ['Year', gdp_column, 'yoy_growth', 'growth_5y', 'cagr_5y']\n",
    "print(sample_data[display_cols].round(2))"
   ]
  },
  {
   "cell_type": "markdown",
   "id": "d12bce49",
   "metadata": {},
   "source": [
    "### 2. Moving Averages and Trend Features"
   ]
  },
  {
   "cell_type": "code",
   "execution_count": 17,
   "id": "b61157e0",
   "metadata": {},
   "outputs": [
    {
     "name": "stdout",
     "output_type": "stream",
     "text": [
      "✅ Trend features calculated!\n",
      "📊 New features: ma_3y, ma_5y, ma_10y, trend_vs_ma3, trend_vs_ma5, trend_vs_ma10, ma5_slope\n"
     ]
    },
    {
     "data": {
      "application/vnd.plotly.v1+json": {
       "config": {
        "plotlyServerURL": "https://plot.ly"
       },
       "data": [
        {
         "line": {
          "color": "#2E86AB",
          "width": 3
         },
         "mode": "lines+markers",
         "name": "GDP Per Capita",
         "type": "scatter",
         "x": {
          "bdata": "0AfRB9IH0wfUB9UH1gfXB9gH2QfaB9sH3AfdB94H3wfgB+EH4gfjB+QH5QfmB+cH",
          "dtype": "i2"
         },
         "y": {
          "bdata": "ppvEIEiR6EAUrkfhdu3oQLpJDAIz1OhATDeJQQSv6EBvEoPA2vnoQHWTGAQmNulA3SQGgZE26kBaZDvfvwHrQD0K16P4TetAKVyPwh3b6UAxCKwcKvjqQKRwPQqngexAMzMzM4OW7ECamZmZwZ7sQClcj8KRHu1A8tJNYnRY7UAGgZVDD8ftQJHtfD/leO5A3SQGgVG47kBmZmZmHvTuQPp+arxoqe1A3SQGgcG87kBI4XoUPu/uQK5H4XpEC+9A",
          "dtype": "f8"
         }
        },
        {
         "line": {
          "color": "#A23B72",
          "dash": "dash",
          "width": 2
         },
         "mode": "lines",
         "name": "5-Year Moving Average",
         "type": "scatter",
         "x": {
          "bdata": "0AfRB9IH0wfUB9UH1gfXB9gH2QfaB9sH3AfdB94H3wfgB+EH4gfjB+QH5QfmB+cH",
          "dtype": "i2"
         },
         "y": {
          "bdata": "IUHxY0x850DOO07RLfXnQP2H9NtLVehAnYAmwoaV6EA9LNSa9svoQMxdS8jv7OhAW0I+6MEu6UCuR+F6RJ7pQKs+V1t1JOpAnYAmwoJR6kD2l92Tg6vqQB2n6EjuIOtASp2AJuJx60D2udqKPbXrQCrtDb5UXOxAG3xhMv3V7EAwTKYKEhftQHZxGw2Md+1AHVpkOw/j7UCQwvUo+EDuQF1LyAcpUe5AVp+rrUyC7kBGA3gL+JnuQKNwPQqPqu5A",
          "dtype": "f8"
         }
        },
        {
         "line": {
          "color": "#F18F01",
          "dash": "dot",
          "width": 2
         },
         "mode": "lines",
         "name": "10-Year Moving Average",
         "type": "scatter",
         "x": {
          "bdata": "0AfRB9IH0wfUB9UH1gfXB9gH2QfaB9sH3AfdB94H3wfgB+EH4gfjB+QH5QfmB+cH",
          "dtype": "i2"
         },
         "y": {
          "bdata": "iGNd3AK85kBnRGlvxA3nQLmNBvAWVudAcPCFydSj50Dbiv1loeznQHZPHhaeNOhAFD/G3PeR6EDW52oryPnoQKXfvg7+XOlAbVZ9rryO6UDiehSuOczpQL10kxjYJ+pAe/KwUBOI6kBQ/Bhz2ezqQOM2GsDrVutACoofY8DA60CmeccpABzsQGAHzhm3dOxACIofYybM7EDd14Fzpk7tQL3jFB2Tk+1AwvUoXK/M7UBeukkMwgjuQGLl0CLPRu5A",
          "dtype": "f8"
         }
        }
       ],
       "layout": {
        "height": 500,
        "hovermode": "x unified",
        "template": {
         "data": {
          "bar": [
           {
            "error_x": {
             "color": "#2a3f5f"
            },
            "error_y": {
             "color": "#2a3f5f"
            },
            "marker": {
             "line": {
              "color": "#E5ECF6",
              "width": 0.5
             },
             "pattern": {
              "fillmode": "overlay",
              "size": 10,
              "solidity": 0.2
             }
            },
            "type": "bar"
           }
          ],
          "barpolar": [
           {
            "marker": {
             "line": {
              "color": "#E5ECF6",
              "width": 0.5
             },
             "pattern": {
              "fillmode": "overlay",
              "size": 10,
              "solidity": 0.2
             }
            },
            "type": "barpolar"
           }
          ],
          "carpet": [
           {
            "aaxis": {
             "endlinecolor": "#2a3f5f",
             "gridcolor": "white",
             "linecolor": "white",
             "minorgridcolor": "white",
             "startlinecolor": "#2a3f5f"
            },
            "baxis": {
             "endlinecolor": "#2a3f5f",
             "gridcolor": "white",
             "linecolor": "white",
             "minorgridcolor": "white",
             "startlinecolor": "#2a3f5f"
            },
            "type": "carpet"
           }
          ],
          "choropleth": [
           {
            "colorbar": {
             "outlinewidth": 0,
             "ticks": ""
            },
            "type": "choropleth"
           }
          ],
          "contour": [
           {
            "colorbar": {
             "outlinewidth": 0,
             "ticks": ""
            },
            "colorscale": [
             [
              0,
              "#0d0887"
             ],
             [
              0.1111111111111111,
              "#46039f"
             ],
             [
              0.2222222222222222,
              "#7201a8"
             ],
             [
              0.3333333333333333,
              "#9c179e"
             ],
             [
              0.4444444444444444,
              "#bd3786"
             ],
             [
              0.5555555555555556,
              "#d8576b"
             ],
             [
              0.6666666666666666,
              "#ed7953"
             ],
             [
              0.7777777777777778,
              "#fb9f3a"
             ],
             [
              0.8888888888888888,
              "#fdca26"
             ],
             [
              1,
              "#f0f921"
             ]
            ],
            "type": "contour"
           }
          ],
          "contourcarpet": [
           {
            "colorbar": {
             "outlinewidth": 0,
             "ticks": ""
            },
            "type": "contourcarpet"
           }
          ],
          "heatmap": [
           {
            "colorbar": {
             "outlinewidth": 0,
             "ticks": ""
            },
            "colorscale": [
             [
              0,
              "#0d0887"
             ],
             [
              0.1111111111111111,
              "#46039f"
             ],
             [
              0.2222222222222222,
              "#7201a8"
             ],
             [
              0.3333333333333333,
              "#9c179e"
             ],
             [
              0.4444444444444444,
              "#bd3786"
             ],
             [
              0.5555555555555556,
              "#d8576b"
             ],
             [
              0.6666666666666666,
              "#ed7953"
             ],
             [
              0.7777777777777778,
              "#fb9f3a"
             ],
             [
              0.8888888888888888,
              "#fdca26"
             ],
             [
              1,
              "#f0f921"
             ]
            ],
            "type": "heatmap"
           }
          ],
          "histogram": [
           {
            "marker": {
             "pattern": {
              "fillmode": "overlay",
              "size": 10,
              "solidity": 0.2
             }
            },
            "type": "histogram"
           }
          ],
          "histogram2d": [
           {
            "colorbar": {
             "outlinewidth": 0,
             "ticks": ""
            },
            "colorscale": [
             [
              0,
              "#0d0887"
             ],
             [
              0.1111111111111111,
              "#46039f"
             ],
             [
              0.2222222222222222,
              "#7201a8"
             ],
             [
              0.3333333333333333,
              "#9c179e"
             ],
             [
              0.4444444444444444,
              "#bd3786"
             ],
             [
              0.5555555555555556,
              "#d8576b"
             ],
             [
              0.6666666666666666,
              "#ed7953"
             ],
             [
              0.7777777777777778,
              "#fb9f3a"
             ],
             [
              0.8888888888888888,
              "#fdca26"
             ],
             [
              1,
              "#f0f921"
             ]
            ],
            "type": "histogram2d"
           }
          ],
          "histogram2dcontour": [
           {
            "colorbar": {
             "outlinewidth": 0,
             "ticks": ""
            },
            "colorscale": [
             [
              0,
              "#0d0887"
             ],
             [
              0.1111111111111111,
              "#46039f"
             ],
             [
              0.2222222222222222,
              "#7201a8"
             ],
             [
              0.3333333333333333,
              "#9c179e"
             ],
             [
              0.4444444444444444,
              "#bd3786"
             ],
             [
              0.5555555555555556,
              "#d8576b"
             ],
             [
              0.6666666666666666,
              "#ed7953"
             ],
             [
              0.7777777777777778,
              "#fb9f3a"
             ],
             [
              0.8888888888888888,
              "#fdca26"
             ],
             [
              1,
              "#f0f921"
             ]
            ],
            "type": "histogram2dcontour"
           }
          ],
          "mesh3d": [
           {
            "colorbar": {
             "outlinewidth": 0,
             "ticks": ""
            },
            "type": "mesh3d"
           }
          ],
          "parcoords": [
           {
            "line": {
             "colorbar": {
              "outlinewidth": 0,
              "ticks": ""
             }
            },
            "type": "parcoords"
           }
          ],
          "pie": [
           {
            "automargin": true,
            "type": "pie"
           }
          ],
          "scatter": [
           {
            "fillpattern": {
             "fillmode": "overlay",
             "size": 10,
             "solidity": 0.2
            },
            "type": "scatter"
           }
          ],
          "scatter3d": [
           {
            "line": {
             "colorbar": {
              "outlinewidth": 0,
              "ticks": ""
             }
            },
            "marker": {
             "colorbar": {
              "outlinewidth": 0,
              "ticks": ""
             }
            },
            "type": "scatter3d"
           }
          ],
          "scattercarpet": [
           {
            "marker": {
             "colorbar": {
              "outlinewidth": 0,
              "ticks": ""
             }
            },
            "type": "scattercarpet"
           }
          ],
          "scattergeo": [
           {
            "marker": {
             "colorbar": {
              "outlinewidth": 0,
              "ticks": ""
             }
            },
            "type": "scattergeo"
           }
          ],
          "scattergl": [
           {
            "marker": {
             "colorbar": {
              "outlinewidth": 0,
              "ticks": ""
             }
            },
            "type": "scattergl"
           }
          ],
          "scattermap": [
           {
            "marker": {
             "colorbar": {
              "outlinewidth": 0,
              "ticks": ""
             }
            },
            "type": "scattermap"
           }
          ],
          "scattermapbox": [
           {
            "marker": {
             "colorbar": {
              "outlinewidth": 0,
              "ticks": ""
             }
            },
            "type": "scattermapbox"
           }
          ],
          "scatterpolar": [
           {
            "marker": {
             "colorbar": {
              "outlinewidth": 0,
              "ticks": ""
             }
            },
            "type": "scatterpolar"
           }
          ],
          "scatterpolargl": [
           {
            "marker": {
             "colorbar": {
              "outlinewidth": 0,
              "ticks": ""
             }
            },
            "type": "scatterpolargl"
           }
          ],
          "scatterternary": [
           {
            "marker": {
             "colorbar": {
              "outlinewidth": 0,
              "ticks": ""
             }
            },
            "type": "scatterternary"
           }
          ],
          "surface": [
           {
            "colorbar": {
             "outlinewidth": 0,
             "ticks": ""
            },
            "colorscale": [
             [
              0,
              "#0d0887"
             ],
             [
              0.1111111111111111,
              "#46039f"
             ],
             [
              0.2222222222222222,
              "#7201a8"
             ],
             [
              0.3333333333333333,
              "#9c179e"
             ],
             [
              0.4444444444444444,
              "#bd3786"
             ],
             [
              0.5555555555555556,
              "#d8576b"
             ],
             [
              0.6666666666666666,
              "#ed7953"
             ],
             [
              0.7777777777777778,
              "#fb9f3a"
             ],
             [
              0.8888888888888888,
              "#fdca26"
             ],
             [
              1,
              "#f0f921"
             ]
            ],
            "type": "surface"
           }
          ],
          "table": [
           {
            "cells": {
             "fill": {
              "color": "#EBF0F8"
             },
             "line": {
              "color": "white"
             }
            },
            "header": {
             "fill": {
              "color": "#C8D4E3"
             },
             "line": {
              "color": "white"
             }
            },
            "type": "table"
           }
          ]
         },
         "layout": {
          "annotationdefaults": {
           "arrowcolor": "#2a3f5f",
           "arrowhead": 0,
           "arrowwidth": 1
          },
          "autotypenumbers": "strict",
          "coloraxis": {
           "colorbar": {
            "outlinewidth": 0,
            "ticks": ""
           }
          },
          "colorscale": {
           "diverging": [
            [
             0,
             "#8e0152"
            ],
            [
             0.1,
             "#c51b7d"
            ],
            [
             0.2,
             "#de77ae"
            ],
            [
             0.3,
             "#f1b6da"
            ],
            [
             0.4,
             "#fde0ef"
            ],
            [
             0.5,
             "#f7f7f7"
            ],
            [
             0.6,
             "#e6f5d0"
            ],
            [
             0.7,
             "#b8e186"
            ],
            [
             0.8,
             "#7fbc41"
            ],
            [
             0.9,
             "#4d9221"
            ],
            [
             1,
             "#276419"
            ]
           ],
           "sequential": [
            [
             0,
             "#0d0887"
            ],
            [
             0.1111111111111111,
             "#46039f"
            ],
            [
             0.2222222222222222,
             "#7201a8"
            ],
            [
             0.3333333333333333,
             "#9c179e"
            ],
            [
             0.4444444444444444,
             "#bd3786"
            ],
            [
             0.5555555555555556,
             "#d8576b"
            ],
            [
             0.6666666666666666,
             "#ed7953"
            ],
            [
             0.7777777777777778,
             "#fb9f3a"
            ],
            [
             0.8888888888888888,
             "#fdca26"
            ],
            [
             1,
             "#f0f921"
            ]
           ],
           "sequentialminus": [
            [
             0,
             "#0d0887"
            ],
            [
             0.1111111111111111,
             "#46039f"
            ],
            [
             0.2222222222222222,
             "#7201a8"
            ],
            [
             0.3333333333333333,
             "#9c179e"
            ],
            [
             0.4444444444444444,
             "#bd3786"
            ],
            [
             0.5555555555555556,
             "#d8576b"
            ],
            [
             0.6666666666666666,
             "#ed7953"
            ],
            [
             0.7777777777777778,
             "#fb9f3a"
            ],
            [
             0.8888888888888888,
             "#fdca26"
            ],
            [
             1,
             "#f0f921"
            ]
           ]
          },
          "colorway": [
           "#636efa",
           "#EF553B",
           "#00cc96",
           "#ab63fa",
           "#FFA15A",
           "#19d3f3",
           "#FF6692",
           "#B6E880",
           "#FF97FF",
           "#FECB52"
          ],
          "font": {
           "color": "#2a3f5f"
          },
          "geo": {
           "bgcolor": "white",
           "lakecolor": "white",
           "landcolor": "#E5ECF6",
           "showlakes": true,
           "showland": true,
           "subunitcolor": "white"
          },
          "hoverlabel": {
           "align": "left"
          },
          "hovermode": "closest",
          "mapbox": {
           "style": "light"
          },
          "paper_bgcolor": "white",
          "plot_bgcolor": "#E5ECF6",
          "polar": {
           "angularaxis": {
            "gridcolor": "white",
            "linecolor": "white",
            "ticks": ""
           },
           "bgcolor": "#E5ECF6",
           "radialaxis": {
            "gridcolor": "white",
            "linecolor": "white",
            "ticks": ""
           }
          },
          "scene": {
           "xaxis": {
            "backgroundcolor": "#E5ECF6",
            "gridcolor": "white",
            "gridwidth": 2,
            "linecolor": "white",
            "showbackground": true,
            "ticks": "",
            "zerolinecolor": "white"
           },
           "yaxis": {
            "backgroundcolor": "#E5ECF6",
            "gridcolor": "white",
            "gridwidth": 2,
            "linecolor": "white",
            "showbackground": true,
            "ticks": "",
            "zerolinecolor": "white"
           },
           "zaxis": {
            "backgroundcolor": "#E5ECF6",
            "gridcolor": "white",
            "gridwidth": 2,
            "linecolor": "white",
            "showbackground": true,
            "ticks": "",
            "zerolinecolor": "white"
           }
          },
          "shapedefaults": {
           "line": {
            "color": "#2a3f5f"
           }
          },
          "ternary": {
           "aaxis": {
            "gridcolor": "white",
            "linecolor": "white",
            "ticks": ""
           },
           "baxis": {
            "gridcolor": "white",
            "linecolor": "white",
            "ticks": ""
           },
           "bgcolor": "#E5ECF6",
           "caxis": {
            "gridcolor": "white",
            "linecolor": "white",
            "ticks": ""
           }
          },
          "title": {
           "x": 0.05
          },
          "xaxis": {
           "automargin": true,
           "gridcolor": "white",
           "linecolor": "white",
           "ticks": "",
           "title": {
            "standoff": 15
           },
           "zerolinecolor": "white",
           "zerolinewidth": 2
          },
          "yaxis": {
           "automargin": true,
           "gridcolor": "white",
           "linecolor": "white",
           "ticks": "",
           "title": {
            "standoff": 15
           },
           "zerolinecolor": "white",
           "zerolinewidth": 2
          }
         }
        },
        "title": {
         "text": "GDP Per Capita Trends - Germany (2000-2023)"
        },
        "xaxis": {
         "title": {
          "text": "Year"
         }
        },
        "yaxis": {
         "title": {
          "text": "GDP Per Capita (USD)"
         }
        }
       }
      }
     },
     "metadata": {},
     "output_type": "display_data"
    }
   ],
   "source": [
    "def calculate_trend_features(df, entity_col='Entity', year_col='Year', value_col=None):\n",
    "    \"\"\"\n",
    "    Calculate moving averages and trend indicators\n",
    "    \"\"\"\n",
    "    if value_col is None:\n",
    "        value_col = gdp_column\n",
    "    \n",
    "    df_trend = df.copy()\n",
    "    df_trend = df_trend.sort_values([entity_col, year_col])\n",
    "    \n",
    "    # Moving Averages\n",
    "    df_trend['ma_3y'] = df_trend.groupby(entity_col)[value_col].rolling(window=3, min_periods=1).mean().reset_index(0, drop=True)\n",
    "    df_trend['ma_5y'] = df_trend.groupby(entity_col)[value_col].rolling(window=5, min_periods=1).mean().reset_index(0, drop=True)\n",
    "    df_trend['ma_10y'] = df_trend.groupby(entity_col)[value_col].rolling(window=10, min_periods=1).mean().reset_index(0, drop=True)\n",
    "    \n",
    "    # Trend indicators (current value vs moving average)\n",
    "    df_trend['trend_vs_ma3'] = ((df_trend[value_col] - df_trend['ma_3y']) / df_trend['ma_3y']) * 100\n",
    "    df_trend['trend_vs_ma5'] = ((df_trend[value_col] - df_trend['ma_5y']) / df_trend['ma_5y']) * 100\n",
    "    df_trend['trend_vs_ma10'] = ((df_trend[value_col] - df_trend['ma_10y']) / df_trend['ma_10y']) * 100\n",
    "    \n",
    "    # Simple slope calculation (simplified to avoid complex index issues)\n",
    "    def calculate_simple_slope(group):\n",
    "        slopes = []\n",
    "        for i in range(len(group)):\n",
    "            if i < 2:  # Need at least 3 points for slope\n",
    "                slopes.append(np.nan)\n",
    "            else:\n",
    "                # Calculate slope using last 3 points\n",
    "                y_vals = group.iloc[i-2:i+1].values\n",
    "                x_vals = np.array([0, 1, 2])\n",
    "                if not np.isnan(y_vals).any():\n",
    "                    slope = np.polyfit(x_vals, y_vals, 1)[0]\n",
    "                    slopes.append(slope)\n",
    "                else:\n",
    "                    slopes.append(np.nan)\n",
    "        return slopes\n",
    "    \n",
    "    # Apply slope calculation to each entity\n",
    "    slope_results = []\n",
    "    for entity in df_trend[entity_col].unique():\n",
    "        entity_data = df_trend[df_trend[entity_col] == entity].copy()\n",
    "        entity_data = entity_data.sort_values(year_col)\n",
    "        slopes = calculate_simple_slope(entity_data['ma_5y'])\n",
    "        \n",
    "        for idx, slope in zip(entity_data.index, slopes):\n",
    "            slope_results.append({'index': idx, 'ma5_slope': slope})\n",
    "    \n",
    "    # Create slope dataframe and merge\n",
    "    slope_df = pd.DataFrame(slope_results).set_index('index')\n",
    "    df_trend['ma5_slope'] = slope_df['ma5_slope']\n",
    "    \n",
    "    return df_trend\n",
    "\n",
    "# Apply trend feature calculation\n",
    "df_with_trends = calculate_trend_features(df_with_growth)\n",
    "\n",
    "print(\"✅ Trend features calculated!\")\n",
    "print(f\"📊 New features: ma_3y, ma_5y, ma_10y, trend_vs_ma3, trend_vs_ma5, trend_vs_ma10, ma5_slope\")\n",
    "\n",
    "# Sample visualization\n",
    "sample_country = 'Germany'\n",
    "sample_data = df_with_trends[(df_with_trends['Entity'] == sample_country) & (df_with_trends['Year'] >= 2000)]\n",
    "\n",
    "fig = go.Figure()\n",
    "\n",
    "# Original GDP\n",
    "fig.add_trace(go.Scatter(\n",
    "    x=sample_data['Year'],\n",
    "    y=sample_data[gdp_column],\n",
    "    mode='lines+markers',\n",
    "    name='GDP Per Capita',\n",
    "    line=dict(color='#2E86AB', width=3)\n",
    "))\n",
    "\n",
    "# Moving averages\n",
    "fig.add_trace(go.Scatter(\n",
    "    x=sample_data['Year'],\n",
    "    y=sample_data['ma_5y'],\n",
    "    mode='lines',\n",
    "    name='5-Year Moving Average',\n",
    "    line=dict(color='#A23B72', width=2, dash='dash')\n",
    "))\n",
    "\n",
    "fig.add_trace(go.Scatter(\n",
    "    x=sample_data['Year'],\n",
    "    y=sample_data['ma_10y'],\n",
    "    mode='lines',\n",
    "    name='10-Year Moving Average',\n",
    "    line=dict(color='#F18F01', width=2, dash='dot')\n",
    "))\n",
    "\n",
    "fig.update_layout(\n",
    "    title=f'GDP Per Capita Trends - {sample_country} (2000-2023)',\n",
    "    xaxis_title='Year',\n",
    "    yaxis_title='GDP Per Capita (USD)',\n",
    "    height=500,\n",
    "    hovermode='x unified'\n",
    ")\n",
    "\n",
    "fig.show()"
   ]
  },
  {
   "cell_type": "markdown",
   "id": "7487511a",
   "metadata": {},
   "source": [
    "### 3. Volatility and Risk Features"
   ]
  },
  {
   "cell_type": "code",
   "execution_count": 19,
   "id": "6a8f7ec2",
   "metadata": {},
   "outputs": [
    {
     "name": "stdout",
     "output_type": "stream",
     "text": [
      "✅ Volatility features calculated!\n",
      "📊 New features: volatility_5y, cv_growth_5y, gdp_volatility_5y, risk_adjusted_performance, max_drawdown_5y\n",
      "\n",
      "📊 Volatility Analysis for Major Economies (2023):\n",
      "              Entity  volatility_5y  cv_growth_5y  risk_adjusted_performance  \\\n",
      "1298           China           2.49         51.30                       1.95   \n",
      "3149           Japan           2.72        548.01                       0.18   \n",
      "2369         Germany           2.80       1158.94                       0.09   \n",
      "6769   United States           3.21        170.59                       0.59   \n",
      "1110          Canada           4.05       3122.79                      -0.03   \n",
      "2233          France           5.20        789.76                       0.13   \n",
      "3081           Italy           6.60        399.00                       0.25   \n",
      "6735  United Kingdom           7.10       1564.47                       0.06   \n",
      "\n",
      "      max_drawdown_5y  \n",
      "1298           -16.59  \n",
      "3149            -6.32  \n",
      "2369            -4.45  \n",
      "6769            -9.69  \n",
      "1110            -6.33  \n",
      "2233            -8.71  \n",
      "3081           -13.55  \n",
      "6735           -11.22  \n"
     ]
    }
   ],
   "source": [
    "def calculate_volatility_features(df, entity_col='Entity', year_col='Year', value_col=None, window=5):\n",
    "    \"\"\"\n",
    "    Calculate volatility and risk measures\n",
    "    \"\"\"\n",
    "    if value_col is None:\n",
    "        value_col = gdp_column\n",
    "    \n",
    "    df_vol = df.copy()\n",
    "    df_vol = df_vol.sort_values([entity_col, year_col])\n",
    "    \n",
    "    # Rolling standard deviation of growth rates\n",
    "    df_vol['volatility_5y'] = df_vol.groupby(entity_col)['yoy_growth'].rolling(window=window, min_periods=2).std().reset_index(0, drop=True)\n",
    "    \n",
    "    # Coefficient of variation (CV) - volatility relative to mean\n",
    "    def calculate_cv(group, window=5):\n",
    "        rolling_mean = group.rolling(window=window, min_periods=2).mean()\n",
    "        rolling_std = group.rolling(window=window, min_periods=2).std()\n",
    "        cv = (rolling_std / rolling_mean.abs()) * 100\n",
    "        return cv\n",
    "    \n",
    "    df_vol['cv_growth_5y'] = df_vol.groupby(entity_col)['yoy_growth'].apply(calculate_cv).reset_index(0, drop=True)\n",
    "    \n",
    "    # GDP level volatility (coefficient of variation of GDP levels)\n",
    "    df_vol['gdp_volatility_5y'] = df_vol.groupby(entity_col)[value_col].rolling(window=window, min_periods=2).std().reset_index(0, drop=True)\n",
    "    \n",
    "    # Risk-adjusted performance (average growth / volatility)\n",
    "    avg_growth_5y = df_vol.groupby(entity_col)['yoy_growth'].rolling(window=window, min_periods=2).mean().reset_index(0, drop=True)\n",
    "    df_vol['risk_adjusted_performance'] = avg_growth_5y / (df_vol['volatility_5y'] + 0.001)  # Add small constant to avoid division by zero\n",
    "    \n",
    "    # Maximum drawdown calculation (simplified)\n",
    "    def calculate_simple_drawdown(group, window=5):\n",
    "        drawdowns = []\n",
    "        for i in range(len(group)):\n",
    "            if i < window - 1:\n",
    "                drawdowns.append(np.nan)\n",
    "            else:\n",
    "                window_data = group.iloc[i-window+1:i+1]\n",
    "                peak = window_data.max()\n",
    "                trough = window_data.min()\n",
    "                if peak > 0:\n",
    "                    drawdown = ((trough - peak) / peak) * 100\n",
    "                    drawdowns.append(drawdown)\n",
    "                else:\n",
    "                    drawdowns.append(np.nan)\n",
    "        return drawdowns\n",
    "    \n",
    "    # Apply drawdown calculation to each entity\n",
    "    drawdown_results = []\n",
    "    for entity in df_vol[entity_col].unique():\n",
    "        entity_data = df_vol[df_vol[entity_col] == entity].copy()\n",
    "        entity_data = entity_data.sort_values(year_col)\n",
    "        drawdowns = calculate_simple_drawdown(entity_data[value_col], window)\n",
    "        \n",
    "        for idx, drawdown in zip(entity_data.index, drawdowns):\n",
    "            drawdown_results.append({'index': idx, 'max_drawdown_5y': drawdown})\n",
    "    \n",
    "    # Create drawdown dataframe and merge\n",
    "    drawdown_df = pd.DataFrame(drawdown_results).set_index('index')\n",
    "    df_vol['max_drawdown_5y'] = drawdown_df['max_drawdown_5y']\n",
    "    \n",
    "    return df_vol\n",
    "\n",
    "# Apply volatility feature calculation\n",
    "df_with_volatility = calculate_volatility_features(df_with_trends)\n",
    "\n",
    "print(\"✅ Volatility features calculated!\")\n",
    "print(f\"📊 New features: volatility_5y, cv_growth_5y, gdp_volatility_5y, risk_adjusted_performance, max_drawdown_5y\")\n",
    "\n",
    "# Volatility analysis for major economies\n",
    "major_economies = ['United States', 'China', 'Japan', 'Germany', 'United Kingdom', 'France', 'Italy', 'Canada']\n",
    "latest_year = df_with_volatility['Year'].max()\n",
    "volatility_analysis = df_with_volatility[\n",
    "    (df_with_volatility['Entity'].isin(major_economies)) & \n",
    "    (df_with_volatility['Year'] == latest_year)\n",
    "][['Entity', 'volatility_5y', 'cv_growth_5y', 'risk_adjusted_performance', 'max_drawdown_5y']]\n",
    "\n",
    "volatility_analysis = volatility_analysis.dropna().round(2)\n",
    "volatility_analysis = volatility_analysis.sort_values('volatility_5y')\n",
    "\n",
    "print(f\"\\n📊 Volatility Analysis for Major Economies ({latest_year}):\")\n",
    "print(volatility_analysis)"
   ]
  },
  {
   "cell_type": "markdown",
   "id": "69090260",
   "metadata": {},
   "source": [
    "### 4. Economic Cycle and Crisis Detection Features"
   ]
  },
  {
   "cell_type": "code",
   "execution_count": null,
   "id": "7b0ddd01",
   "metadata": {},
   "outputs": [],
   "source": [
    "def calculate_cycle_features(df, entity_col='Entity', year_col='Year', value_col=None):\n",
    "    \"\"\"\n",
    "    Calculate economic cycle and crisis detection features\n",
    "    \"\"\"\n",
    "    if value_col is None:\n",
    "        value_col = gdp_column\n",
    "    \n",
    "    df_cycle = df.copy()\n",
    "    df_cycle = df_cycle.sort_values([entity_col, year_col])\n",
    "    \n",
    "    # Recession detection (2 consecutive years of negative growth)\n",
    "    def detect_recession(group):\n",
    "        recession_flags = []\n",
    "        for i in range(len(group)):\n",
    "            if i == 0:\n",
    "                recession_flags.append(False)\n",
    "            else:\n",
    "                current_growth = group.iloc[i]\n",
    "                prev_growth = group.iloc[i-1]\n",
    "                \n",
    "                # Recession: current year negative AND previous year negative\n",
    "                if current_growth < 0 and prev_growth < 0:\n",
    "                    recession_flags.append(True)\n",
    "                else:\n",
    "                    recession_flags.append(False)\n",
    "        \n",
    "        return pd.Series(recession_flags, index=group.index)\n",
    "    \n",
    "    df_cycle['in_recession'] = df_cycle.groupby(entity_col)['yoy_growth'].apply(detect_recession)\n",
    "    \n",
    "    # Recovery detection (first positive growth after recession)\n",
    "    def detect_recovery(group, recession_group):\n",
    "        recovery_flags = []\n",
    "        in_recession_sequence = False\n",
    "        \n",
    "        for i in range(len(group)):\n",
    "            current_growth = group.iloc[i]\n",
    "            current_recession = recession_group.iloc[i]\n",
    "            \n",
    "            # Mark recovery if: was in recession and now positive growth\n",
    "            if in_recession_sequence and current_growth > 0 and not current_recession:\n",
    "                recovery_flags.append(True)\n",
    "                in_recession_sequence = False\n",
    "            else:\n",
    "                recovery_flags.append(False)\n",
    "                \n",
    "            # Update recession sequence tracker\n",
    "            if current_recession or current_growth < 0:\n",
    "                in_recession_sequence = True\n",
    "        \n",
    "        return pd.Series(recovery_flags, index=group.index)\n",
    "    \n",
    "    # Apply recovery detection by group\n",
    "    recovery_list = []\n",
    "    for entity in df_cycle[entity_col].unique():\n",
    "        entity_data = df_cycle[df_cycle[entity_col] == entity].copy()\n",
    "        entity_data = entity_data.sort_values(year_col)\n",
    "        \n",
    "        recovery_flags = detect_recovery(\n",
    "            entity_data['yoy_growth'], \n",
    "            entity_data['in_recession']\n",
    "        )\n",
    "        \n",
    "        for idx, flag in zip(entity_data.index, recovery_flags):\n",
    "            recovery_list.append({'index': idx, 'in_recovery': flag})\n",
    "    \n",
    "    recovery_df = pd.DataFrame(recovery_list).set_index('index')\n",
    "    df_cycle['in_recovery'] = recovery_df['in_recovery']\n",
    "    \n",
    "    # Economic phase classification\n",
    "    def classify_economic_phase(row):\n",
    "        if row['in_recession']:\n",
    "            return 'Recession'\n",
    "        elif row['in_recovery']:\n",
    "            return 'Recovery'\n",
    "        elif row['yoy_growth'] > 3:  # Strong growth threshold\n",
    "            return 'Expansion'\n",
    "        elif row['yoy_growth'] > 0:\n",
    "            return 'Moderate Growth'\n",
    "        else:\n",
    "            return 'Contraction'\n",
    "    \n",
    "    df_cycle['economic_phase'] = df_cycle.apply(classify_economic_phase, axis=1)\n",
    "    \n",
    "    # Crisis year flags (specific years)\n",
    "    crisis_years = [2008, 2009, 2020]  # Financial crisis and COVID\n",
    "    df_cycle['crisis_year'] = df_cycle[year_col].isin(crisis_years)\n",
    "    \n",
    "    # Years since last recession\n",
    "    def years_since_recession(group, year_group):\n",
    "        years_since = []\n",
    "        last_recession_year = None\n",
    "        \n",
    "        for i in range(len(group)):\n",
    "            current_year = year_group.iloc[i]\n",
    "            current_recession = group.iloc[i]\n",
    "            \n",
    "            if current_recession:\n",
    "                last_recession_year = current_year\n",
    "                years_since.append(0)\n",
    "            else:\n",
    "                if last_recession_year is not None:\n",
    "                    years_since.append(current_year - last_recession_year)\n",
    "                else:\n",
    "                    years_since.append(np.nan)\n",
    "        \n",
    "        return pd.Series(years_since, index=group.index)\n",
    "    \n",
    "    # Apply years since recession calculation\n",
    "    years_since_list = []\n",
    "    for entity in df_cycle[entity_col].unique():\n",
    "        entity_data = df_cycle[df_cycle[entity_col] == entity].copy()\n",
    "        entity_data = entity_data.sort_values(year_col)\n",
    "        \n",
    "        years_since = years_since_recession(\n",
    "            entity_data['in_recession'],\n",
    "            entity_data[year_col]\n",
    "        )\n",
    "        \n",
    "        for idx, years in zip(entity_data.index, years_since):\n",
    "            years_since_list.append({'index': idx, 'years_since_recession': years})\n",
    "    \n",
    "    years_since_df = pd.DataFrame(years_since_list).set_index('index')\n",
    "    df_cycle['years_since_recession'] = years_since_df['years_since_recession']\n",
    "    \n",
    "    return df_cycle\n",
    "\n",
    "# Apply cycle feature calculation\n",
    "df_with_cycles = calculate_cycle_features(df_with_volatility)\n",
    "\n",
    "print(\"✅ Economic cycle features calculated!\")\n",
    "print(f\"📊 New features: in_recession, in_recovery, economic_phase, crisis_year, years_since_recession\")\n",
    "\n",
    "# Economic phase distribution for latest year\n",
    "latest_year = df_with_cycles['Year'].max()\n",
    "phase_distribution = df_with_cycles[\n",
    "    (df_with_cycles['Year'] == latest_year) & \n",
    "    (df_with_cycles['Continent'].notna())\n",
    "]['economic_phase'].value_counts()\n",
    "\n",
    "print(f\"\\n📊 Economic Phase Distribution ({latest_year}):\")\n",
    "for phase, count in phase_distribution.items():\n",
    "    percentage = (count / phase_distribution.sum()) * 100\n",
    "    print(f\"{phase}: {count} countries ({percentage:.1f}%)\")"
   ]
  },
  {
   "cell_type": "markdown",
   "id": "d5b2e836",
   "metadata": {},
   "source": [
    "### 5. Relative Performance Features"
   ]
  },
  {
   "cell_type": "code",
   "execution_count": null,
   "id": "f8292b5a",
   "metadata": {},
   "outputs": [],
   "source": [
    "def calculate_relative_features(df, entity_col='Entity', year_col='Year', value_col=None):\n",
    "    \"\"\"\n",
    "    Calculate relative performance features vs world and continent averages\n",
    "    \"\"\"\n",
    "    if value_col is None:\n",
    "        value_col = gdp_column\n",
    "    \n",
    "    df_rel = df.copy()\n",
    "    \n",
    "    # World average by year\n",
    "    world_avg = df_rel.groupby(year_col)[value_col].mean().to_dict()\n",
    "    df_rel['world_avg_gdp'] = df_rel[year_col].map(world_avg)\n",
    "    \n",
    "    # Continent average by year\n",
    "    continent_avg = df_rel.groupby([year_col, 'Continent'])[value_col].mean().reset_index()\n",
    "    continent_avg_dict = {}\n",
    "    for _, row in continent_avg.iterrows():\n",
    "        key = (row[year_col], row['Continent'])\n",
    "        continent_avg_dict[key] = row[value_col]\n",
    "    \n",
    "    df_rel['continent_avg_gdp'] = df_rel.apply(\n",
    "        lambda row: continent_avg_dict.get((row[year_col], row['Continent']), np.nan), axis=1\n",
    "    )\n",
    "    \n",
    "    # Relative performance vs world\n",
    "    df_rel['gdp_vs_world'] = ((df_rel[value_col] - df_rel['world_avg_gdp']) / df_rel['world_avg_gdp']) * 100\n",
    "    \n",
    "    # Relative performance vs continent\n",
    "    df_rel['gdp_vs_continent'] = ((df_rel[value_col] - df_rel['continent_avg_gdp']) / df_rel['continent_avg_gdp']) * 100\n",
    "    \n",
    "    # World growth rate\n",
    "    world_growth = df_rel.groupby(year_col)['yoy_growth'].mean().to_dict()\n",
    "    df_rel['world_avg_growth'] = df_rel[year_col].map(world_growth)\n",
    "    \n",
    "    # Relative growth performance\n",
    "    df_rel['growth_vs_world'] = df_rel['yoy_growth'] - df_rel['world_avg_growth']\n",
    "    \n",
    "    # GDP per capita percentile rank within world\n",
    "    def calculate_percentile_rank(group):\n",
    "        return group.rank(pct=True) * 100\n",
    "    \n",
    "    df_rel['world_percentile'] = df_rel.groupby(year_col)[value_col].apply(calculate_percentile_rank).reset_index(0, drop=True)\n",
    "    \n",
    "    # Continent percentile rank\n",
    "    df_rel['continent_percentile'] = df_rel.groupby([year_col, 'Continent'])[value_col].apply(calculate_percentile_rank).reset_index([0,1], drop=True)\n",
    "    \n",
    "    # Income classification based on World Bank thresholds (2023)\n",
    "    def classify_income_level(gdp):\n",
    "        if pd.isna(gdp):\n",
    "            return 'Unknown'\n",
    "        elif gdp >= 50000:\n",
    "            return 'Very High Income'\n",
    "        elif gdp >= 25000:\n",
    "            return 'High Income'\n",
    "        elif gdp >= 10000:\n",
    "            return 'Upper Middle Income'\n",
    "        elif gdp >= 3000:\n",
    "            return 'Lower Middle Income'\n",
    "        else:\n",
    "            return 'Low Income'\n",
    "    \n",
    "    df_rel['income_classification'] = df_rel[value_col].apply(classify_income_level)\n",
    "    \n",
    "    return df_rel\n",
    "\n",
    "# Apply relative performance calculation\n",
    "df_final = calculate_relative_features(df_with_cycles)\n",
    "\n",
    "print(\"✅ Relative performance features calculated!\")\n",
    "print(f\"📊 New features: world_avg_gdp, continent_avg_gdp, gdp_vs_world, gdp_vs_continent, growth_vs_world, world_percentile, continent_percentile, income_classification\")\n",
    "\n",
    "# Final dataset summary\n",
    "print(f\"\\n📈 Final Dataset Summary:\")\n",
    "print(f\"📊 Total rows: {len(df_final):,}\")\n",
    "print(f\"📋 Total features: {len(df_final.columns)}\")\n",
    "print(f\"🌍 Countries: {df_final['Entity'].nunique()}\")\n",
    "print(f\"📅 Years: {df_final['Year'].min()} - {df_final['Year'].max()}\")\n",
    "\n",
    "# Feature list\n",
    "all_features = [\n",
    "    'yoy_growth', 'growth_3y', 'growth_5y', 'growth_10y', 'cagr_5y',\n",
    "    'ma_3y', 'ma_5y', 'ma_10y', 'trend_vs_ma3', 'trend_vs_ma5', 'trend_vs_ma10', 'ma5_slope',\n",
    "    'volatility_5y', 'cv_growth_5y', 'gdp_volatility_5y', 'risk_adjusted_performance', 'max_drawdown_5y',\n",
    "    'in_recession', 'in_recovery', 'economic_phase', 'crisis_year', 'years_since_recession',\n",
    "    'gdp_vs_world', 'gdp_vs_continent', 'growth_vs_world', 'world_percentile', 'continent_percentile', 'income_classification'\n",
    "]\n",
    "\n",
    "print(f\"\\n🔧 Engineered Features ({len(all_features)} total):\")\n",
    "for i, feature in enumerate(all_features, 1):\n",
    "    print(f\"{i:2}. {feature}\")"
   ]
  },
  {
   "cell_type": "markdown",
   "id": "a16325dc",
   "metadata": {},
   "source": [
    "## 📊 Feature Engineering Validation and Insights"
   ]
  },
  {
   "cell_type": "code",
   "execution_count": null,
   "id": "bb7b9b84",
   "metadata": {},
   "outputs": [],
   "source": [
    "# Create comprehensive feature validation dashboard\n",
    "fig = make_subplots(\n",
    "    rows=2, cols=2,\n",
    "    subplot_titles=[\n",
    "        'Growth Rate Distribution (2023)',\n",
    "        'Volatility vs Performance',\n",
    "        'Economic Phases Over Time',\n",
    "        'World GDP Percentile Distribution'\n",
    "    ],\n",
    "    specs=[[{\"secondary_y\": False}, {\"secondary_y\": False}],\n",
    "           [{\"secondary_y\": False}, {\"secondary_y\": False}]]\n",
    ")\n",
    "\n",
    "# 1. Growth rate distribution for latest year\n",
    "latest_data = df_final[(df_final['Year'] == df_final['Year'].max()) & (df_final['yoy_growth'].notna())]\n",
    "\n",
    "fig.add_trace(\n",
    "    go.Histogram(\n",
    "        x=latest_data['yoy_growth'],\n",
    "        nbinsx=20,\n",
    "        name='Growth Rate Distribution',\n",
    "        marker_color='lightblue',\n",
    "        opacity=0.7\n",
    "    ),\n",
    "    row=1, col=1\n",
    ")\n",
    "\n",
    "# 2. Volatility vs Performance scatter\n",
    "scatter_data = latest_data[(latest_data['volatility_5y'].notna()) & (latest_data['cagr_5y'].notna())]\n",
    "\n",
    "fig.add_trace(\n",
    "    go.Scatter(\n",
    "        x=scatter_data['volatility_5y'],\n",
    "        y=scatter_data['cagr_5y'],\n",
    "        mode='markers',\n",
    "        text=scatter_data['Entity'],\n",
    "        name='Countries',\n",
    "        marker=dict(\n",
    "            size=8,\n",
    "            color=scatter_data['world_percentile'],\n",
    "            colorscale='Viridis',\n",
    "            showscale=True,\n",
    "            colorbar=dict(title=\"World Percentile\")\n",
    "        )\n",
    "    ),\n",
    "    row=1, col=2\n",
    ")\n",
    "\n",
    "# 3. Economic phases over time (world aggregate)\n",
    "phase_timeline = df_final.groupby(['Year', 'economic_phase']).size().unstack(fill_value=0)\n",
    "phase_timeline_pct = phase_timeline.div(phase_timeline.sum(axis=1), axis=0) * 100\n",
    "\n",
    "for phase in phase_timeline_pct.columns:\n",
    "    fig.add_trace(\n",
    "        go.Scatter(\n",
    "            x=phase_timeline_pct.index,\n",
    "            y=phase_timeline_pct[phase],\n",
    "            mode='lines',\n",
    "            name=f'{phase}',\n",
    "            stackgroup='one'\n",
    "        ),\n",
    "        row=2, col=1\n",
    "    )\n",
    "\n",
    "# 4. World percentile distribution by continent\n",
    "continent_percentiles = latest_data.groupby('Continent')['world_percentile'].mean().sort_values(ascending=True)\n",
    "\n",
    "fig.add_trace(\n",
    "    go.Bar(\n",
    "        x=continent_percentiles.values,\n",
    "        y=continent_percentiles.index,\n",
    "        orientation='h',\n",
    "        name='Avg World Percentile',\n",
    "        marker_color='lightcoral'\n",
    "    ),\n",
    "    row=2, col=2\n",
    ")\n",
    "\n",
    "fig.update_layout(\n",
    "    height=800,\n",
    "    title_text=\"Feature Engineering Validation Dashboard\",\n",
    "    showlegend=False\n",
    ")\n",
    "\n",
    "# Update subplot titles\n",
    "fig.update_xaxes(title_text=\"Growth Rate (%)\", row=1, col=1)\n",
    "fig.update_xaxes(title_text=\"Volatility (5Y)\", row=1, col=2)\n",
    "fig.update_xaxes(title_text=\"Year\", row=2, col=1)\n",
    "fig.update_xaxes(title_text=\"World Percentile\", row=2, col=2)\n",
    "\n",
    "fig.update_yaxes(title_text=\"Frequency\", row=1, col=1)\n",
    "fig.update_yaxes(title_text=\"CAGR 5Y (%)\", row=1, col=2)\n",
    "fig.update_yaxes(title_text=\"Percentage of Countries\", row=2, col=1)\n",
    "fig.update_yaxes(title_text=\"Continent\", row=2, col=2)\n",
    "\n",
    "fig.show()"
   ]
  },
  {
   "cell_type": "markdown",
   "id": "9f2fe856",
   "metadata": {},
   "source": [
    "## 💾 Export Enhanced Dataset"
   ]
  },
  {
   "cell_type": "code",
   "execution_count": null,
   "id": "2fd83306",
   "metadata": {},
   "outputs": [],
   "source": [
    "# Clean and prepare final dataset for export\n",
    "df_export = df_final.copy()\n",
    "\n",
    "# Round numerical columns for cleaner output\n",
    "numeric_columns = df_export.select_dtypes(include=[np.number]).columns\n",
    "df_export[numeric_columns] = df_export[numeric_columns].round(3)\n",
    "\n",
    "# Export to CSV\n",
    "output_path = '../outputs/gdp_with_features.csv'\n",
    "df_export.to_csv(output_path, index=False)\n",
    "\n",
    "print(f\"✅ Enhanced dataset exported to: {output_path}\")\n",
    "print(f\"📊 Dataset dimensions: {df_export.shape}\")\n",
    "\n",
    "# Create feature summary\n",
    "feature_summary = {\n",
    "    'Growth Features': ['yoy_growth', 'growth_3y', 'growth_5y', 'growth_10y', 'cagr_5y'],\n",
    "    'Trend Features': ['ma_3y', 'ma_5y', 'ma_10y', 'trend_vs_ma3', 'trend_vs_ma5', 'trend_vs_ma10', 'ma5_slope'],\n",
    "    'Volatility Features': ['volatility_5y', 'cv_growth_5y', 'gdp_volatility_5y', 'risk_adjusted_performance', 'max_drawdown_5y'],\n",
    "    'Cycle Features': ['in_recession', 'in_recovery', 'economic_phase', 'crisis_year', 'years_since_recession'],\n",
    "    'Relative Features': ['gdp_vs_world', 'gdp_vs_continent', 'growth_vs_world', 'world_percentile', 'continent_percentile', 'income_classification']\n",
    "}\n",
    "\n",
    "# Export feature documentation\n",
    "feature_doc = []\n",
    "for category, features in feature_summary.items():\n",
    "    for feature in features:\n",
    "        feature_doc.append({\n",
    "            'Category': category,\n",
    "            'Feature': feature,\n",
    "            'Description': f'Engineered feature in {category.lower()}'\n",
    "        })\n",
    "\n",
    "feature_df = pd.DataFrame(feature_doc)\n",
    "feature_df.to_csv('../outputs/feature_documentation.csv', index=False)\n",
    "\n",
    "print(f\"✅ Feature documentation exported to: ../outputs/feature_documentation.csv\")\n",
    "\n",
    "# Sample of final dataset\n",
    "print(f\"\\n📋 Sample of Enhanced Dataset:\")\n",
    "sample_cols = ['Entity', 'Year', gdp_column, 'yoy_growth', 'volatility_5y', 'economic_phase', 'world_percentile']\n",
    "print(df_export[sample_cols].tail(10))"
   ]
  },
  {
   "cell_type": "markdown",
   "id": "ca6a5b27",
   "metadata": {},
   "source": [
    "## 📈 Feature Engineering Summary\n",
    "\n",
    "### 🎯 **Objectives Achieved**\n",
    "\n",
    "✅ **Growth Analysis**: Created YoY, 3Y, 5Y, 10Y growth rates and CAGR metrics  \n",
    "✅ **Trend Detection**: Implemented moving averages and trend indicators  \n",
    "✅ **Risk Assessment**: Calculated volatility, max drawdown, and risk-adjusted performance  \n",
    "✅ **Economic Cycles**: Built recession detection and economic phase classification  \n",
    "✅ **Relative Performance**: Created world and continent benchmarking features  \n",
    "\n",
    "### 📊 **Key Features Created (26 total)**\n",
    "\n",
    "1. **Growth Features (5)**: YoY growth, multi-year growth rates, CAGR\n",
    "2. **Trend Features (7)**: Moving averages, trend indicators, slope analysis\n",
    "3. **Volatility Features (5)**: Risk measures, drawdown analysis, performance ratios\n",
    "4. **Cycle Features (5)**: Recession detection, economic phases, crisis indicators\n",
    "5. **Relative Features (6)**: World/continent benchmarks, percentile rankings\n",
    "\n",
    "### 🔍 **Key Insights from Feature Engineering**\n",
    "\n",
    "- **Economic Phases**: Automated classification of expansion, recession, recovery periods\n",
    "- **Risk-Return Profile**: Countries can be ranked by risk-adjusted performance\n",
    "- **Relative Positioning**: Each country's performance vs global and regional benchmarks\n",
    "- **Crisis Detection**: Automated identification of economic crisis periods\n",
    "- **Trend Analysis**: Multi-timeframe trend detection and momentum indicators\n",
    "\n",
    "### 📁 **Outputs**\n",
    "\n",
    "- `../outputs/gdp_with_features.csv` - Enhanced dataset with all engineered features\n",
    "- `../outputs/feature_documentation.csv` - Complete feature documentation\n",
    "\n",
    "---\n",
    "\n",
    "**🚀 Next Steps**: Use these features for advanced economic analysis, country clustering, predictive modeling, and investment decision-making frameworks."
   ]
  }
 ],
 "metadata": {
  "kernelspec": {
   "display_name": ".venv",
   "language": "python",
   "name": "python3"
  },
  "language_info": {
   "codemirror_mode": {
    "name": "ipython",
    "version": 3
   },
   "file_extension": ".py",
   "mimetype": "text/x-python",
   "name": "python",
   "nbconvert_exporter": "python",
   "pygments_lexer": "ipython3",
   "version": "3.13.7"
  }
 },
 "nbformat": 4,
 "nbformat_minor": 5
}
